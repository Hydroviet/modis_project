{
 "cells": [
  {
   "cell_type": "code",
   "execution_count": 1,
   "metadata": {},
   "outputs": [],
   "source": [
    "import os\n",
    "import sys\n",
    "import numpy as np\n",
    "import json\n",
    "from scipy import misc\n",
    "from matplotlib import pyplot as plt\n",
    "sys.path.append('..')"
   ]
  },
  {
   "cell_type": "code",
   "execution_count": 2,
   "metadata": {},
   "outputs": [],
   "source": [
    "from modis_utils.misc import get_im\n",
    "from modis_utils.misc import cache_data, restore_data"
   ]
  },
  {
   "cell_type": "markdown",
   "metadata": {},
   "source": [
    "# Changeable parameters"
   ]
  },
  {
   "cell_type": "code",
   "execution_count": 3,
   "metadata": {},
   "outputs": [],
   "source": [
    "modis_product = 'ALL'\n",
    "\n",
    "year_range=(2002, 2017)\n",
    "reservoir_id = 0\n",
    "data_dir = '../raw_data/' + modis_product\n",
    "\n",
    "#used_band = 'blue'\n",
    "used_band = 'NDVI'\n",
    "\n",
    "preprocessed_dir = 'preprocessed_data/'"
   ]
  },
  {
   "cell_type": "code",
   "execution_count": 4,
   "metadata": {},
   "outputs": [],
   "source": [
    "if modis_product == 'ALL':\n",
    "    day_period = 8\n",
    "else:\n",
    "    day_period = 16\n",
    "    \n",
    "n_data_per_year = 365//day_period + 1"
   ]
  },
  {
   "cell_type": "markdown",
   "metadata": {},
   "source": [
    "# Change fill value to -2001"
   ]
  },
  {
   "cell_type": "code",
   "execution_count": 5,
   "metadata": {},
   "outputs": [],
   "source": [
    "dest_dir = os.path.join(preprocessed_dir, modis_product, 'change_fill_value')"
   ]
  },
  {
   "cell_type": "code",
   "execution_count": 6,
   "metadata": {},
   "outputs": [
    {
     "name": "stdout",
     "output_type": "stream",
     "text": [
      "boundary_method  model_parallelism_tf  modis_utils  raw_data\r\n"
     ]
    }
   ],
   "source": [
    "!ls .."
   ]
  },
  {
   "cell_type": "code",
   "execution_count": 7,
   "metadata": {},
   "outputs": [],
   "source": [
    "for reservoir_index in [reservoir_id]:\n",
    "    data_dir_1 = os.path.join(data_dir, str(reservoir_index))\n",
    "    for year in range(year_range[0], year_range[1] + 1):\n",
    "        for d in range(n_data_per_year):\n",
    "            day = d*day_period + 1\n",
    "            current_dir = os.path.join(data_dir_1, str(year), str(year) + str(day).zfill(3))\n",
    "            try:\n",
    "                img_dir = list(filter(lambda x: used_band in x, os.listdir(current_dir)))[0]\n",
    "                path = os.path.join(current_dir, img_dir)\n",
    "                img = get_im(path)\n",
    "\n",
    "                img[img == -3000] = -2001\n",
    "                cur_dest_dir = os.path.join(dest_dir, str(reservoir_index), str(year),\n",
    "                                            str(year) + str(day).zfill(3))\n",
    "                try:\n",
    "                    os.makedirs(cur_dest_dir)\n",
    "                except:\n",
    "                    pass\n",
    "                cache_data(img, os.path.join(cur_dest_dir, img_dir[:-4] + '.dat'))\n",
    "            except:\n",
    "                pass"
   ]
  },
  {
   "cell_type": "markdown",
   "metadata": {},
   "source": [
    "# Min-max scaler (Scale to 0-1)"
   ]
  },
  {
   "cell_type": "code",
   "execution_count": 10,
   "metadata": {},
   "outputs": [],
   "source": [
    "data_dir = os.path.join(preprocessed_dir, modis_product, 'change_fill_value')\n",
    "dest_dir = os.path.join(preprocessed_dir, modis_product, 'zero_one')"
   ]
  },
  {
   "cell_type": "code",
   "execution_count": 11,
   "metadata": {},
   "outputs": [],
   "source": [
    "min_val = -2001\n",
    "max_val = 10000"
   ]
  },
  {
   "cell_type": "code",
   "execution_count": 12,
   "metadata": {},
   "outputs": [],
   "source": [
    "for reservoir_index in [reservoir_id]:\n",
    "    data_dir_1 = os.path.join(data_dir, str(reservoir_index))\n",
    "    for year in range(year_range[0], year_range[1] + 1):\n",
    "        for d in range(n_data_per_year):\n",
    "            day = d*day_period + 1\n",
    "            current_dir = os.path.join(data_dir_1, str(year), str(year) + str(day).zfill(3))\n",
    "            try:\n",
    "                img_dir = list(filter(lambda x: used_band in x, os.listdir(current_dir)))[0]\n",
    "                path = os.path.join(current_dir, img_dir)\n",
    "                img = restore_data(path)\n",
    "\n",
    "                normalized_img = (img - min_val)*1.0 / (max_val - min_val)\n",
    "                cur_dest_dir = os.path.join(dest_dir, str(reservoir_index), str(year),\n",
    "                                            str(year) + str(day).zfill(3))\n",
    "                try:\n",
    "                    os.makedirs(cur_dest_dir)\n",
    "                except:\n",
    "                    pass\n",
    "                cache_data(normalized_img, os.path.join(cur_dest_dir, img_dir))\n",
    "            except:\n",
    "                #print(reservoir_index, year, day)\n",
    "                pass"
   ]
  },
  {
   "cell_type": "markdown",
   "metadata": {},
   "source": [
    "# Z-Score normalization"
   ]
  },
  {
   "cell_type": "code",
   "execution_count": 13,
   "metadata": {},
   "outputs": [],
   "source": [
    "train_year_range = (2002, 2015)"
   ]
  },
  {
   "cell_type": "code",
   "execution_count": 14,
   "metadata": {},
   "outputs": [],
   "source": [
    "data_dir = os.path.join(preprocessed_dir, modis_product, 'zero_one')\n",
    "dest_dir = os.path.join(preprocessed_dir, modis_product, 'normalized')"
   ]
  },
  {
   "cell_type": "markdown",
   "metadata": {},
   "source": [
    "# Find mean, std of train set"
   ]
  },
  {
   "cell_type": "code",
   "execution_count": 15,
   "metadata": {},
   "outputs": [],
   "source": [
    "list_imgs = []\n",
    "for reservoir_index in [reservoir_id]:\n",
    "    data_dir_1 = os.path.join(data_dir, str(reservoir_index))\n",
    "    for year in range(train_year_range[0], train_year_range[1] + 1):\n",
    "        for d in range(n_data_per_year):\n",
    "            day = d*day_period + 1\n",
    "            current_dir = os.path.join(data_dir_1, str(year), str(year) + str(day).zfill(3))\n",
    "            try:\n",
    "                img_dir = list(filter(lambda x: used_band in x, os.listdir(current_dir)))[0]\n",
    "                path = os.path.join(current_dir, img_dir)\n",
    "                img = restore_data(path)\n",
    "                img = np.expand_dims(img, axis=0)\n",
    "                list_imgs.append(img)\n",
    "            except:\n",
    "                pass\n",
    "imgs = np.vstack(list_imgs)\n",
    "assert imgs.min() == 0\n",
    "assert imgs.max() < 1\n",
    "mean = imgs.mean()\n",
    "std = imgs.std()"
   ]
  },
  {
   "cell_type": "code",
   "execution_count": 16,
   "metadata": {},
   "outputs": [
    {
     "name": "stdout",
     "output_type": "stream",
     "text": [
      "0.5133767592612672 0.2699482407312094\n"
     ]
    }
   ],
   "source": [
    "print(mean, std)"
   ]
  },
  {
   "cell_type": "code",
   "execution_count": 17,
   "metadata": {},
   "outputs": [],
   "source": [
    "cache_data((mean, std), 'mean_std.dat')"
   ]
  },
  {
   "cell_type": "code",
   "execution_count": 18,
   "metadata": {},
   "outputs": [],
   "source": [
    "if not os.path.exists(dest_dir):\n",
    "    os.makedirs(dest_dir)"
   ]
  },
  {
   "cell_type": "code",
   "execution_count": 19,
   "metadata": {},
   "outputs": [],
   "source": [
    "for reservoir_index in [reservoir_id]:\n",
    "    data_dir_1 = os.path.join(data_dir, str(reservoir_index))\n",
    "    for year in range(year_range[0], year_range[1] + 1):\n",
    "        for d in range(n_data_per_year):\n",
    "            day = d*day_period + 1\n",
    "            current_dir = os.path.join(data_dir_1, str(year), str(year) + str(day).zfill(3))\n",
    "            try:\n",
    "                img_dir = list(filter(lambda x: used_band in x, os.listdir(current_dir)))[0]\n",
    "                path = os.path.join(current_dir, img_dir)\n",
    "                img = restore_data(path)\n",
    "\n",
    "                normalized_img = (img - mean) / std\n",
    "                out_path = os.path.join(dest_dir, str(reservoir_index), '{}{:03}.dat'.format(year, day))\n",
    "                cache_data(normalized_img, out_path)\n",
    "            except:\n",
    "                #print(reservoir_index, year, day)\n",
    "                pass"
   ]
  },
  {
   "cell_type": "code",
   "execution_count": 20,
   "metadata": {},
   "outputs": [
    {
     "name": "stdout",
     "output_type": "stream",
     "text": [
      "-1.9017599739516085 1.8014191678510223\n",
      "-5.6648648225275966e-15 1.0000000000000042\n"
     ]
    }
   ],
   "source": [
    "list_imgs = []\n",
    "for reservoir_index in [reservoir_id]:\n",
    "    data_dir_1 = os.path.join(dest_dir, str(reservoir_index))\n",
    "    for year in range(train_year_range[0], train_year_range[1] + 1):\n",
    "        for d in range(n_data_per_year):\n",
    "            day = d*day_period + 1\n",
    "            path = os.path.join(dest_dir, str(reservoir_index), '{}{:03}.dat'.format(year, day))\n",
    "            if os.path.isfile(path):\n",
    "                img = restore_data(path)\n",
    "                img = np.expand_dims(img, axis=0)\n",
    "                list_imgs.append(img)\n",
    "imgs = np.vstack(list_imgs)\n",
    "mean_1 = imgs.mean()\n",
    "std_1 = imgs.std()\n",
    "print(imgs.min(), imgs.max())\n",
    "print(mean_1, std_1)"
   ]
  },
  {
   "cell_type": "code",
   "execution_count": null,
   "metadata": {},
   "outputs": [],
   "source": []
  }
 ],
 "metadata": {
  "kernelspec": {
   "display_name": "Python 3",
   "language": "python",
   "name": "python3"
  },
  "language_info": {
   "codemirror_mode": {
    "name": "ipython",
    "version": 3
   },
   "file_extension": ".py",
   "mimetype": "text/x-python",
   "name": "python",
   "nbconvert_exporter": "python",
   "pygments_lexer": "ipython3",
   "version": "3.6.8"
  }
 },
 "nbformat": 4,
 "nbformat_minor": 2
}
