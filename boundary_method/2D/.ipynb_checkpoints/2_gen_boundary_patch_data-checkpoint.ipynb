{
 "cells": [
  {
   "cell_type": "code",
   "execution_count": 1,
   "metadata": {},
   "outputs": [],
   "source": [
    "import os\n",
    "import sys\n",
    "import numpy as np\n",
    "import multiprocessing as mp\n",
    "from skimage.segmentation import find_boundaries\n",
    "\n",
    "import matplotlib.pyplot as plt\n",
    "from descartes import PolygonPatch\n",
    "from shapely.geometry import shape, Polygon\n",
    "from matplotlib.collections import PatchCollection\n",
    "\n",
    "sys.path.append('../..')"
   ]
  },
  {
   "cell_type": "code",
   "execution_count": null,
   "metadata": {},
   "outputs": [],
   "source": [
    "from modis_utils.misc import cache_data, restore_data\n",
    "from modis_utils.image_processing import mask_lake_img"
   ]
  },
  {
   "cell_type": "code",
   "execution_count": null,
   "metadata": {},
   "outputs": [],
   "source": [
    "n_cores = 24\n",
    "patch_size = 32"
   ]
  },
  {
   "cell_type": "code",
   "execution_count": null,
   "metadata": {},
   "outputs": [],
   "source": [
    "water_threshold = (0.1 + 0.2001)/1.2001\n",
    "percentile = restore_data('percentile/0.dat')\n",
    "center_point_xs = np.arange(16, 513, 32)\n",
    "center_point_xs"
   ]
  },
  {
   "cell_type": "code",
   "execution_count": null,
   "metadata": {},
   "outputs": [],
   "source": [
    "permanent_water_area = np.where(percentile > 0.8, 1, 0)"
   ]
  },
  {
   "cell_type": "markdown",
   "metadata": {},
   "source": [
    "# Utils functions"
   ]
  },
  {
   "cell_type": "code",
   "execution_count": null,
   "metadata": {},
   "outputs": [],
   "source": [
    "def find_boundaries_mask_lake(x, water_threshold):\n",
    "    x1 = mask_lake_img(x, offset=water_threshold)\n",
    "    return find_boundaries(x1)"
   ]
  },
  {
   "cell_type": "code",
   "execution_count": null,
   "metadata": {},
   "outputs": [],
   "source": [
    "def find_boundaries_mask_lake(x, water_threshold):\n",
    "    x1 = mask_lake_img(x, offset=water_threshold)\n",
    "    x1 = np.logical_or(x1, permanent_water_area)\n",
    "    return find_boundaries(x1)"
   ]
  },
  {
   "cell_type": "code",
   "execution_count": null,
   "metadata": {},
   "outputs": [],
   "source": [
    "def get_pos(boundaries_img, center_point_xs):\n",
    "    a = np.where(boundaries_img)\n",
    "    res = []\n",
    "    for x in center_point_xs:\n",
    "        b = np.where(a[1] == x)[0]\n",
    "        if len(b) > 1:\n",
    "            choose_x1 = b[0]\n",
    "            choose_x2 = b[-1]\n",
    "            res.append((a[0][choose_x1], a[1][choose_x1]))\n",
    "            res.append((a[0][choose_x2], a[1][choose_x2]))\n",
    "    return res"
   ]
  },
  {
   "cell_type": "code",
   "execution_count": null,
   "metadata": {},
   "outputs": [],
   "source": [
    "def get_patch_coor(center_pos, sz):\n",
    "    sz /= 2\n",
    "    res = (center_pos[0] - sz, center_pos[0] + sz - 1, center_pos[1] - sz, center_pos[1] + sz - 1)\n",
    "    return list(map(lambda x: int(x), res))"
   ]
  },
  {
   "cell_type": "code",
   "execution_count": null,
   "metadata": {},
   "outputs": [],
   "source": [
    "def get_polygon(c):\n",
    "    y1, y2, x1, x2 = get_patch_coor(c, 32)\n",
    "    return Polygon(((x1, y1), (x1, y2), (x2, y2), (x2, y1)))"
   ]
  },
  {
   "cell_type": "code",
   "execution_count": null,
   "metadata": {},
   "outputs": [],
   "source": [
    "def visualize_choose_patch(x, c):\n",
    "    fig, ax = plt.subplots(1, 1, figsize=(10, 10))\n",
    "    ax.imshow(x)\n",
    "    patches = []\n",
    "    \n",
    "    for x in c:\n",
    "        p = get_polygon(x)\n",
    "        patches.append(PolygonPatch(p, ec='red', fc='red', zorder=1))\n",
    "    p = PatchCollection(patches, match_original=True)\n",
    "    ax.add_collection(p)\n",
    "    ax.axis('off')\n",
    "    plt.show()"
   ]
  },
  {
   "cell_type": "code",
   "execution_count": null,
   "metadata": {},
   "outputs": [],
   "source": [
    "def gen_data_1(sequence_data, water_threshold, patch_size):\n",
    "    inputs, targets, inputs_pw, targets_pw = sequence_data\n",
    "    last_inputs_pw = inputs[-1]\n",
    "    a = find_boundaries_mask_lake(last_inputs_pw, water_threshold)\n",
    "    list_center_pos = get_pos(a, center_point_xs)\n",
    "    \n",
    "    patches_inputs = []\n",
    "    patches_targets = []\n",
    "    patches_inputs_pw = []\n",
    "    patches_targets_pw = []\n",
    "    patch_size = 32\n",
    "    \n",
    "    outputs = [patches_inputs, patches_targets, patches_inputs_pw, patches_targets_pw]\n",
    "    \n",
    "    def padding(x, sz):\n",
    "        res = np.zeros((x.shape[0], sz, sz))\n",
    "        res[:, :x.shape[1], :x.shape[2]] = x\n",
    "        return res\n",
    "    \n",
    "    for center_pos in list_center_pos:\n",
    "        if len(center_pos) < 2:\n",
    "            continue\n",
    "        x1, x2, y1, y2 = get_patch_coor(center_pos, patch_size)\n",
    "        for origin, patches in zip(sequence_data, outputs):\n",
    "            patch = origin[:, x1 : x2+1, y1 : y2+1]\n",
    "            if patch.shape[0] < patch_size - 1 or patch.shape[1] < patch_size - 1:\n",
    "                patch = padding(patch, patch_size)\n",
    "            patches.append(np.expand_dims(patch, axis=0))\n",
    "    res = []\n",
    "    for patches in outputs:\n",
    "        res.append(np.vstack(patches))\n",
    "    return res"
   ]
  },
  {
   "cell_type": "code",
   "execution_count": null,
   "metadata": {},
   "outputs": [],
   "source": [
    "def gen_data_2(data_dir, list_filenames, permanent_water_area, water_threshold, patch_size, output_dir):\n",
    "    for filename in list_filenames:\n",
    "        output_path = os.path.join(output_dir, filename)\n",
    "        input_path = os.path.join(data_dir, filename)\n",
    "        sequence_data = restore_data(input_path)\n",
    "        res = gen_data_1(sequence_data, water_threshold, patch_size)\n",
    "        cache_data(res, output_path)"
   ]
  },
  {
   "cell_type": "code",
   "execution_count": null,
   "metadata": {},
   "outputs": [],
   "source": [
    "def gen_data(data_dir, permanent_water_area, water_threshold, patch_size, output_dir):\n",
    "    for data_type in ('train', 'val', 'test'):\n",
    "        processes = []\n",
    "        input_data_type_dir = os.path.join(data_dir, data_type)\n",
    "        output_data_type_dir = os.path.join(output_dir, data_type)\n",
    "        if not os.path.exists(output_data_type_dir):\n",
    "            os.makedirs(output_data_type_dir)\n",
    "        list_filenames = os.listdir(input_data_type_dir)\n",
    "        n = len(list_filenames)\n",
    "        print(n)\n",
    "\n",
    "        m = n // n_cores\n",
    "        r = n % n_cores\n",
    "        start_pos = 0\n",
    "        for i in range(n_cores):\n",
    "            q = m + 1 if i < r else m\n",
    "            p = mp.Process(target=gen_data_2, args=(input_data_type_dir, \n",
    "                                                    list_filenames[start_pos : start_pos + q],\n",
    "                                                    permanent_water_area, water_threshold, patch_size,\n",
    "                                                    output_data_type_dir))\n",
    "            processes.append(p)\n",
    "            start_pos += q\n",
    "\n",
    "        for p in processes:\n",
    "            p.start()\n",
    "        for p in processes:\n",
    "            p.join()"
   ]
  },
  {
   "cell_type": "markdown",
   "metadata": {},
   "source": [
    "# Example"
   ]
  },
  {
   "cell_type": "code",
   "execution_count": null,
   "metadata": {},
   "outputs": [],
   "source": [
    "path = 'multiple_output/12/sequence_data/train/0.dat'\n",
    "sequence_data = restore_data(path)\n",
    "inputs, targets, inputs_pw, targets_pw = sequence_data\n",
    "last_inputs_pw = inputs[-1]\n",
    "a = find_boundaries_mask_lake(last_inputs_pw, water_threshold)\n",
    "list_center_pos = get_pos(a, center_point_xs)"
   ]
  },
  {
   "cell_type": "code",
   "execution_count": null,
   "metadata": {},
   "outputs": [],
   "source": [
    "visualize_choose_patch(last_inputs_pw, list_center_pos)"
   ]
  },
  {
   "cell_type": "markdown",
   "metadata": {},
   "source": [
    "# One output"
   ]
  },
  {
   "cell_type": "code",
   "execution_count": null,
   "metadata": {},
   "outputs": [],
   "source": [
    "data_dir = 'one_output/sequence_data'\n",
    "output_dir = 'one_output/sequence_patch_data'"
   ]
  },
  {
   "cell_type": "code",
   "execution_count": null,
   "metadata": {},
   "outputs": [],
   "source": [
    "sample_shape = [x.shape for x in restore_data(os.path.join(data_dir, 'train', '0.dat'))]\n",
    "sample_shape"
   ]
  },
  {
   "cell_type": "code",
   "execution_count": null,
   "metadata": {},
   "outputs": [],
   "source": [
    "gen_data(data_dir, permanent_water_area, water_threshold, patch_size, output_dir)"
   ]
  },
  {
   "cell_type": "code",
   "execution_count": null,
   "metadata": {},
   "outputs": [],
   "source": [
    "path = os.path.join(output_dir, 'train', '0.dat')\n",
    "a = restore_data(path)\n",
    "for x in a:\n",
    "    print(x.shape)"
   ]
  },
  {
   "cell_type": "code",
   "execution_count": null,
   "metadata": {},
   "outputs": [],
   "source": []
  },
  {
   "cell_type": "markdown",
   "metadata": {},
   "source": [
    "# Multiple output: 12"
   ]
  },
  {
   "cell_type": "code",
   "execution_count": null,
   "metadata": {},
   "outputs": [],
   "source": [
    "data_dir = 'multiple_output/12/sequence_data'\n",
    "output_dir = 'multiple_output/12/sequence_patch_data'"
   ]
  },
  {
   "cell_type": "code",
   "execution_count": null,
   "metadata": {},
   "outputs": [],
   "source": [
    "sample_shape = [x.shape for x in restore_data(os.path.join(data_dir, 'train', '0.dat'))]\n",
    "sample_shape"
   ]
  },
  {
   "cell_type": "code",
   "execution_count": null,
   "metadata": {},
   "outputs": [],
   "source": [
    "gen_data(data_dir, permanent_water_area, water_threshold, patch_size, output_dir)"
   ]
  },
  {
   "cell_type": "code",
   "execution_count": null,
   "metadata": {},
   "outputs": [],
   "source": [
    "path = os.path.join(output_dir, 'train', '0.dat')\n",
    "a = restore_data(path)\n",
    "for x in a:\n",
    "    print(x.shape)"
   ]
  },
  {
   "cell_type": "code",
   "execution_count": null,
   "metadata": {},
   "outputs": [],
   "source": []
  }
 ],
 "metadata": {
  "kernelspec": {
   "display_name": "Python 3",
   "language": "python",
   "name": "python3"
  },
  "language_info": {
   "codemirror_mode": {
    "name": "ipython",
    "version": 3
   },
   "file_extension": ".py",
   "mimetype": "text/x-python",
   "name": "python",
   "nbconvert_exporter": "python",
   "pygments_lexer": "ipython3",
   "version": "3.6.8"
  }
 },
 "nbformat": 4,
 "nbformat_minor": 2
}
