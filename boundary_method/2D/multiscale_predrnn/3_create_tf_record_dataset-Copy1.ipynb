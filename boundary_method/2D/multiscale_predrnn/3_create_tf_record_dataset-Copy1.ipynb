{
 "cells": [
  {
   "cell_type": "code",
   "execution_count": 1,
   "metadata": {},
   "outputs": [],
   "source": [
    "import os\n",
    "import sys\n",
    "import pickle\n",
    "import numpy as np\n",
    "import tensorflow as tf\n",
    "sys.path.append('../../')"
   ]
  },
  {
   "cell_type": "code",
   "execution_count": 2,
   "metadata": {},
   "outputs": [],
   "source": [
    "from modis_utils.misc import restore_data, cache_data"
   ]
  },
  {
   "cell_type": "markdown",
   "metadata": {},
   "source": [
    "# Utils functions"
   ]
  },
  {
   "cell_type": "code",
   "execution_count": 3,
   "metadata": {},
   "outputs": [],
   "source": [
    "def _float_feature(value):\n",
    "    return tf.train.Feature(float_list=tf.train.FloatList(value=value))"
   ]
  },
  {
   "cell_type": "code",
   "execution_count": 4,
   "metadata": {},
   "outputs": [],
   "source": [
    "def convert_to_tfrecord(input_files, output_file, resize=None):\n",
    "    \"\"\"Converts a file to TFRecords.\"\"\"\n",
    "    print('Generating %s' % output_file)\n",
    "    with tf.python_io.TFRecordWriter(output_file) as record_writer:\n",
    "        for input_file in input_files:\n",
    "            inputs, labels = restore_data(input_file)\n",
    "            example = tf.train.Example(features=tf.train.Features(\n",
    "                feature={\n",
    "                    'inputs': _float_feature(inputs.flatten().tolist()),\n",
    "                    'labels': _float_feature(labels.flatten().tolist())\n",
    "                }))\n",
    "            record_writer.write(example.SerializeToString())"
   ]
  },
  {
   "cell_type": "code",
   "execution_count": 9,
   "metadata": {},
   "outputs": [],
   "source": [
    "def create_dataset(data_dir, output_dir, f):\n",
    "    for subset in ('val', 'test', 'train'):\n",
    "        input_dir = os.path.join(data_dir, subset)\n",
    "        input_files = [os.path.join(input_dir, filename) for filename in os.listdir(input_dir)]\n",
    "        output_file = os.path.join(output_dir, subset + '.tfrecords')\n",
    "        try:\n",
    "            os.remove(output_file)\n",
    "        except OSError:\n",
    "            pass\n",
    "        # Convert to tf.train.Example and write the to TFRecords.\n",
    "        f(input_files, output_file)\n",
    "        print('Done {}!'.format(subset))"
   ]
  },
  {
   "cell_type": "code",
   "execution_count": null,
   "metadata": {},
   "outputs": [],
   "source": []
  },
  {
   "cell_type": "code",
   "execution_count": 10,
   "metadata": {},
   "outputs": [
    {
     "name": "stdout",
     "output_type": "stream",
     "text": [
      "Generating multiple_output/12/data/val.tfrecords\n",
      "Done val!\n",
      "Generating multiple_output/12/data/test.tfrecords\n",
      "Done test!\n",
      "Generating multiple_output/12/data/train.tfrecords\n",
      "Done train!\n"
     ]
    }
   ],
   "source": [
    "data_dir = 'multiple_output/12/sequence_data'\n",
    "output_dir = 'multiple_output/12/data'\n",
    "if not os.path.exists(output_dir):\n",
    "    os.makedirs(output_dir)\n",
    "f = lambda x, y: convert_to_tfrecord(x, y, True)\n",
    "create_dataset(data_dir, output_dir, f)"
   ]
  },
  {
   "cell_type": "code",
   "execution_count": null,
   "metadata": {},
   "outputs": [],
   "source": []
  }
 ],
 "metadata": {
  "kernelspec": {
   "display_name": "Python 3",
   "language": "python",
   "name": "python3"
  },
  "language_info": {
   "codemirror_mode": {
    "name": "ipython",
    "version": 3
   },
   "file_extension": ".py",
   "mimetype": "text/x-python",
   "name": "python",
   "nbconvert_exporter": "python",
   "pygments_lexer": "ipython3",
   "version": "3.6.8"
  }
 },
 "nbformat": 4,
 "nbformat_minor": 2
}
