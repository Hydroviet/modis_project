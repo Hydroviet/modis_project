{
 "cells": [
  {
   "cell_type": "code",
   "execution_count": 1,
   "metadata": {},
   "outputs": [],
   "source": [
    "import os\n",
    "import argparse\n",
    "import functools\n",
    "import numpy as np\n",
    "import tensorflow as tf\n",
    "from pathlib import Path\n",
    "import matplotlib.pyplot as plt\n",
    "\n",
    "import utils\n",
    "import dataset_utils\n",
    "import convlstm_model"
   ]
  },
  {
   "cell_type": "code",
   "execution_count": 2,
   "metadata": {},
   "outputs": [],
   "source": [
    "os.environ[\"CUDA_VISIBLE_DEVICES\"] = \"0\""
   ]
  },
  {
   "cell_type": "code",
   "execution_count": 3,
   "metadata": {},
   "outputs": [],
   "source": [
    "def input_fn(data_dir, subset, batch_size,\n",
    "             use_distortion_for_training=True):\n",
    "    use_distortion = subset == 'train' and use_distortion_for_training\n",
    "    dataset = dataset_utils.ConvLSTMDataSet(data_dir, subset, use_distortion)\n",
    "    return dataset.make_batch(batch_size)"
   ]
  },
  {
   "cell_type": "code",
   "execution_count": 4,
   "metadata": {},
   "outputs": [],
   "source": [
    "data_dir = '../data_patch'\n",
    "batch_size = 32\n",
    "epochs = 20"
   ]
  },
  {
   "cell_type": "code",
   "execution_count": 5,
   "metadata": {},
   "outputs": [],
   "source": [
    "import tensorflow as tf\n",
    "from tensorflow.python.keras.layers import Input, ConvLSTM2D, Activation, BatchNormalization\n",
    "from tensorflow.python.keras.models import Model\n",
    "from tensorflow.python.keras.callbacks import Callback\n",
    "from tensorflow.python.keras import backend as K"
   ]
  },
  {
   "cell_type": "code",
   "execution_count": 6,
   "metadata": {},
   "outputs": [],
   "source": [
    "def create_model(input_tensor):\n",
    "    inputs = Input(tensor=input_tensor)\n",
    "    x = inputs\n",
    "    x = ConvLSTM2D(filters=128, kernel_size=(3,3), padding='same', return_sequences=True)(x)\n",
    "    x = BatchNormalization()(x)\n",
    "    x = ConvLSTM2D(filters=64, kernel_size=(3,3), padding='same', return_sequences=True)(x)\n",
    "    x = BatchNormalization()(x)\n",
    "    x = ConvLSTM2D(filters=64, kernel_size=(3,3), padding='same', return_sequences=True)(x)\n",
    "    x = BatchNormalization()(x)\n",
    "    x = ConvLSTM2D(filters=1, kernel_size=(3,3), padding='same', return_sequences=False)(x)\n",
    "    x = BatchNormalization()(x)\n",
    "    model = Model(inputs=inputs, outputs=x)\n",
    "    return model"
   ]
  },
  {
   "cell_type": "code",
   "execution_count": 13,
   "metadata": {},
   "outputs": [],
   "source": [
    "def loss(y_true, y_pred):\n",
    "    y_true = tf.squeeze(y_true)\n",
    "    y_pred = tf.squeeze(y_pred)\n",
    "    return tf.losses.mean_squared_error(y_true, y_pred)"
   ]
  },
  {
   "cell_type": "code",
   "execution_count": 16,
   "metadata": {},
   "outputs": [
    {
     "name": "stdout",
     "output_type": "stream",
     "text": [
      "shuffle dataset\n"
     ]
    }
   ],
   "source": [
    "K.clear_session()\n",
    "TRAIN_STEPS_PER_EPOCH = dataset_utils.ConvLSTMDataSet.num_examples_per_epoch('train') // batch_size\n",
    "VAL_STEPS_PER_EPOCH = dataset_utils.ConvLSTMDataSet.num_examples_per_epoch('val') // batch_size\n",
    "\n",
    "#Get your datatensors\n",
    "train_inputs, train_labels = input_fn(data_dir, 'train', batch_size)\n",
    "val_inputs, val_labels = input_fn(data_dir, 'val', batch_size)"
   ]
  },
  {
   "cell_type": "code",
   "execution_count": 17,
   "metadata": {},
   "outputs": [
    {
     "name": "stdout",
     "output_type": "stream",
     "text": [
      "_________________________________________________________________\n",
      "Layer (type)                 Output Shape              Param #   \n",
      "=================================================================\n",
      "input_1 (InputLayer)         (None, 14, 32, 32, 1)     0         \n",
      "_________________________________________________________________\n",
      "conv_lst_m2d (ConvLSTM2D)    (None, 14, 32, 32, 128)   594944    \n",
      "_________________________________________________________________\n",
      "batch_normalization (BatchNo (None, 14, 32, 32, 128)   512       \n",
      "_________________________________________________________________\n",
      "conv_lst_m2d_1 (ConvLSTM2D)  (None, 14, 32, 32, 64)    442624    \n",
      "_________________________________________________________________\n",
      "batch_normalization_1 (Batch (None, 14, 32, 32, 64)    256       \n",
      "_________________________________________________________________\n",
      "conv_lst_m2d_2 (ConvLSTM2D)  (None, 14, 32, 32, 64)    295168    \n",
      "_________________________________________________________________\n",
      "batch_normalization_2 (Batch (None, 14, 32, 32, 64)    256       \n",
      "_________________________________________________________________\n",
      "conv_lst_m2d_3 (ConvLSTM2D)  (None, 32, 32, 1)         2344      \n",
      "_________________________________________________________________\n",
      "batch_normalization_3 (Batch (None, 32, 32, 1)         4         \n",
      "=================================================================\n",
      "Total params: 1,336,108\n",
      "Trainable params: 1,335,594\n",
      "Non-trainable params: 514\n",
      "_________________________________________________________________\n"
     ]
    }
   ],
   "source": [
    "train_model = create_model(train_inputs)\n",
    "train_model.compile(optimizer='adam',\n",
    "                    loss=loss,\n",
    "                    metrics=[loss],\n",
    "                    target_tensors=[train_labels])\n",
    "train_model.summary()"
   ]
  },
  {
   "cell_type": "code",
   "execution_count": 19,
   "metadata": {},
   "outputs": [
    {
     "name": "stdout",
     "output_type": "stream",
     "text": [
      "_________________________________________________________________\n",
      "Layer (type)                 Output Shape              Param #   \n",
      "=================================================================\n",
      "input_3 (InputLayer)         (None, 14, 32, 32, 1)     0         \n",
      "_________________________________________________________________\n",
      "conv_lst_m2d_8 (ConvLSTM2D)  (None, 14, 32, 32, 128)   594944    \n",
      "_________________________________________________________________\n",
      "batch_normalization_8 (Batch (None, 14, 32, 32, 128)   512       \n",
      "_________________________________________________________________\n",
      "conv_lst_m2d_9 (ConvLSTM2D)  (None, 14, 32, 32, 64)    442624    \n",
      "_________________________________________________________________\n",
      "batch_normalization_9 (Batch (None, 14, 32, 32, 64)    256       \n",
      "_________________________________________________________________\n",
      "conv_lst_m2d_10 (ConvLSTM2D) (None, 14, 32, 32, 64)    295168    \n",
      "_________________________________________________________________\n",
      "batch_normalization_10 (Batc (None, 14, 32, 32, 64)    256       \n",
      "_________________________________________________________________\n",
      "conv_lst_m2d_11 (ConvLSTM2D) (None, 32, 32, 1)         2344      \n",
      "_________________________________________________________________\n",
      "batch_normalization_11 (Batc (None, 32, 32, 1)         4         \n",
      "=================================================================\n",
      "Total params: 1,336,108\n",
      "Trainable params: 1,335,594\n",
      "Non-trainable params: 514\n",
      "_________________________________________________________________\n"
     ]
    }
   ],
   "source": [
    "val_model = create_model(val_inputs)\n",
    "val_model.compile(optimizer='adam',\n",
    "                  loss=loss,\n",
    "                  metrics=[loss],\n",
    "                  target_tensors=[val_labels])\n",
    "val_model.summary()"
   ]
  },
  {
   "cell_type": "code",
   "execution_count": 20,
   "metadata": {},
   "outputs": [],
   "source": [
    "class EvaluateInputTensor(Callback):\n",
    "\n",
    "    def __init__(self, model, steps, metrics_prefix='val', verbose=1):\n",
    "        # parameter of callbacks passed during initialization\n",
    "        # pass evalation mode directly\n",
    "        super(EvaluateInputTensor, self).__init__()\n",
    "        self.val_model = model\n",
    "        self.num_steps = steps\n",
    "        self.verbose = verbose\n",
    "        self.metrics_prefix = metrics_prefix\n",
    "\n",
    "    def on_epoch_end(self, epoch, logs={}):\n",
    "        self.val_model.set_weights(self.model.get_weights())\n",
    "        results = self.val_model.evaluate(None, None, steps=int(self.num_steps),\n",
    "                                          verbose=self.verbose)\n",
    "        metrics_str = '\\n'\n",
    "        for result, name in zip(results, self.val_model.metrics_names):\n",
    "            metric_name = self.metrics_prefix + '_' + name\n",
    "            logs[metric_name] = result\n",
    "            if self.verbose > 0:\n",
    "                metrics_str = metrics_str + metric_name + ': ' + str(result) + ' '\n",
    "\n",
    "        if self.verbose > 0:\n",
    "            print(metrics_str)"
   ]
  },
  {
   "cell_type": "code",
   "execution_count": 21,
   "metadata": {},
   "outputs": [],
   "source": [
    "sess = K.get_session()"
   ]
  },
  {
   "cell_type": "code",
   "execution_count": 22,
   "metadata": {},
   "outputs": [
    {
     "name": "stdout",
     "output_type": "stream",
     "text": [
      "Epoch 1/20\n",
      "43/43 [==============================] - 10s 232ms/step\n",
      "\n",
      "val_loss: 0.11000205489785173 val_loss_1: 0.11000205489785173 \n",
      "628/628 [==============================] - 426s 678ms/step - loss: 0.1784 - loss_1: 0.1784\n",
      "Epoch 2/20\n",
      "43/43 [==============================] - 9s 213ms/step\n",
      "\n",
      "val_loss: 0.10727929930354274 val_loss_1: 0.10727929930354274 \n",
      "628/628 [==============================] - 419s 668ms/step - loss: 0.1038 - loss_1: 0.1038\n",
      "Epoch 3/20\n",
      "43/43 [==============================] - 9s 212ms/step\n",
      "\n",
      "val_loss: 0.10733788235242976 val_loss_1: 0.10733788235242976 \n",
      "628/628 [==============================] - 419s 667ms/step - loss: 0.1034 - loss_1: 0.1034\n",
      "Epoch 4/20\n",
      "43/43 [==============================] - 9s 212ms/step\n",
      "\n",
      "val_loss: 0.10738845238851946 val_loss_1: 0.10738845238851946 \n",
      "628/628 [==============================] - 418s 666ms/step - loss: 0.1039 - loss_1: 0.1039\n",
      "Epoch 5/20\n",
      "43/43 [==============================] - 9s 212ms/step\n",
      "\n",
      "val_loss: 0.10728309216887452 val_loss_1: 0.10728309216887452 \n",
      "628/628 [==============================] - 418s 666ms/step - loss: 0.1037 - loss_1: 0.1037\n",
      "Epoch 6/20\n",
      "43/43 [==============================] - 9s 212ms/step\n",
      "\n",
      "val_loss: 0.10735268526992132 val_loss_1: 0.10735268526992132 \n",
      "628/628 [==============================] - 418s 666ms/step - loss: 0.1037 - loss_1: 0.1037\n",
      "Epoch 7/20\n",
      "43/43 [==============================] - 9s 212ms/step\n",
      "\n",
      "val_loss: 0.10732174647408863 val_loss_1: 0.10732174647408863 \n",
      "628/628 [==============================] - 418s 666ms/step - loss: 0.1036 - loss_1: 0.1036\n",
      "Epoch 8/20\n",
      "43/43 [==============================] - 9s 211ms/step\n",
      "\n",
      "val_loss: 0.10729015861139742 val_loss_1: 0.10729015861139742 \n",
      "628/628 [==============================] - 418s 665ms/step - loss: 0.1035 - loss_1: 0.1035\n",
      "Epoch 9/20\n",
      "43/43 [==============================] - 9s 212ms/step\n",
      "\n",
      "val_loss: 0.10750073731638664 val_loss_1: 0.10750073731638664 \n",
      "628/628 [==============================] - 418s 666ms/step - loss: 0.1036 - loss_1: 0.1036\n",
      "Epoch 10/20\n",
      "43/43 [==============================] - 9s 212ms/step\n",
      "\n",
      "val_loss: 0.10757608139930769 val_loss_1: 0.10757608139930769 \n",
      "628/628 [==============================] - 418s 665ms/step - loss: 0.1038 - loss_1: 0.1038\n",
      "Epoch 11/20\n",
      "43/43 [==============================] - 9s 212ms/step\n",
      "\n",
      "val_loss: 0.1075534439364145 val_loss_1: 0.1075534439364145 \n",
      "628/628 [==============================] - 418s 665ms/step - loss: 0.1037 - loss_1: 0.1037\n",
      "Epoch 12/20\n",
      "43/43 [==============================] - 9s 212ms/step\n",
      "\n",
      "val_loss: 0.10742305149865705 val_loss_1: 0.10742305149865705 \n",
      "628/628 [==============================] - 418s 666ms/step - loss: 0.1035 - loss_1: 0.1035\n",
      "Epoch 13/20\n",
      "43/43 [==============================] - 9s 212ms/step\n",
      "\n",
      "val_loss: 0.10763216027340224 val_loss_1: 0.10763216027340224 \n",
      "628/628 [==============================] - 418s 666ms/step - loss: 0.1037 - loss_1: 0.1037\n",
      "Epoch 14/20\n",
      "43/43 [==============================] - 9s 212ms/step\n",
      "\n",
      "val_loss: 0.10737849182860795 val_loss_1: 0.10737849182860795 \n",
      "628/628 [==============================] - 418s 666ms/step - loss: 0.1036 - loss_1: 0.1036\n",
      "Epoch 15/20\n",
      "43/43 [==============================] - 9s 212ms/step\n",
      "\n",
      "val_loss: 0.1076700203987055 val_loss_1: 0.1076700203987055 \n",
      "628/628 [==============================] - 418s 666ms/step - loss: 0.1038 - loss_1: 0.1038\n",
      "Epoch 16/20\n",
      "43/43 [==============================] - 9s 212ms/step\n",
      "\n",
      "val_loss: 0.10750727130230082 val_loss_1: 0.10750727130230082 \n",
      "628/628 [==============================] - 418s 666ms/step - loss: 0.1034 - loss_1: 0.1034\n",
      "Epoch 17/20\n",
      "43/43 [==============================] - 9s 211ms/step\n",
      "\n",
      "val_loss: 0.10735571973545607 val_loss_1: 0.10735571973545607 \n",
      "628/628 [==============================] - 418s 665ms/step - loss: 0.1038 - loss_1: 0.1038\n",
      "Epoch 18/20\n",
      "43/43 [==============================] - 9s 212ms/step\n",
      "\n",
      "val_loss: 0.10754001123267551 val_loss_1: 0.10754001123267551 \n",
      "628/628 [==============================] - 418s 666ms/step - loss: 0.1037 - loss_1: 0.1037\n",
      "Epoch 19/20\n",
      "43/43 [==============================] - 9s 212ms/step\n",
      "\n",
      "val_loss: 0.10762464566979298 val_loss_1: 0.10762464566979298 \n",
      "628/628 [==============================] - 418s 666ms/step - loss: 0.1036 - loss_1: 0.1036\n",
      "Epoch 20/20\n",
      "43/43 [==============================] - 9s 212ms/step\n",
      "\n",
      "val_loss: 0.10746096733004548 val_loss_1: 0.10746096733004548 \n",
      "628/628 [==============================] - 418s 666ms/step - loss: 0.1034 - loss_1: 0.1034\n"
     ]
    }
   ],
   "source": [
    "history = train_model.fit(\n",
    "    epochs=epochs,\n",
    "    steps_per_epoch=TRAIN_STEPS_PER_EPOCH,\n",
    "    callbacks=[EvaluateInputTensor(val_model, steps=VAL_STEPS_PER_EPOCH)])"
   ]
  },
  {
   "cell_type": "code",
   "execution_count": 23,
   "metadata": {},
   "outputs": [
    {
     "data": {
      "text/plain": [
       "[<matplotlib.lines.Line2D at 0x7f1baabfcbe0>]"
      ]
     },
     "execution_count": 23,
     "metadata": {},
     "output_type": "execute_result"
    },
    {
     "data": {
      "image/png": "[encoded data removed]",
      "text/plain": [
       "<Figure size 432x288 with 1 Axes>"
      ]
     },
     "metadata": {
      "needs_background": "light"
     },
     "output_type": "display_data"
    }
   ],
   "source": [
    "plt.plot(history.history['loss'], color='r', label='train_loss')\n",
    "plt.plot(history.history['val_loss'], color='b', label='val_loss')"
   ]
  },
  {
   "cell_type": "code",
   "execution_count": null,
   "metadata": {},
   "outputs": [],
   "source": []
  }
 ],
 "metadata": {
  "kernelspec": {
   "display_name": "Python 3",
   "language": "python",
   "name": "python3"
  },
  "language_info": {
   "codemirror_mode": {
    "name": "ipython",
    "version": 3
   },
   "file_extension": ".py",
   "mimetype": "text/x-python",
   "name": "python",
   "nbconvert_exporter": "python",
   "pygments_lexer": "ipython3",
   "version": "3.6.8"
  }
 },
 "nbformat": 4,
 "nbformat_minor": 2
}
