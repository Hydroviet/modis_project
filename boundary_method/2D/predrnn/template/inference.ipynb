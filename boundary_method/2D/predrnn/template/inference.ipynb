{
 "cells": [
  {
   "cell_type": "code",
   "execution_count": 1,
   "metadata": {},
   "outputs": [],
   "source": [
    "import os\n",
    "import os.path\n",
    "import time\n",
    "import numpy as np\n",
    "import tensorflow as tf\n",
    "import cv2\n",
    "import sys\n",
    "import random\n",
    "import functools\n",
    "from tqdm import tqdm\n",
    "from pathlib import Path\n",
    "from skimage.measure import compare_ssim\n",
    "import matplotlib.pyplot as plt\n",
    "\n",
    "import predrnn_pp\n",
    "import dataset_utils\n",
    "from nets import models_factory\n",
    "from data_provider import datasets_factory\n",
    "from utils import preprocess\n",
    "from utils import metrics"
   ]
  },
  {
   "cell_type": "code",
   "execution_count": 11,
   "metadata": {},
   "outputs": [],
   "source": [
    "sys.path.append('../../../')"
   ]
  },
  {
   "cell_type": "code",
   "execution_count": 13,
   "metadata": {},
   "outputs": [],
   "source": [
    "from modis_utils.misc import cache_data, restore_data"
   ]
  },
  {
   "cell_type": "code",
   "execution_count": 14,
   "metadata": {},
   "outputs": [],
   "source": [
    "os.environ['CUDA_VISIBLE_DEVICES'] = \"2\""
   ]
  },
  {
   "cell_type": "code",
   "execution_count": 15,
   "metadata": {},
   "outputs": [],
   "source": [
    "data_dir = '../one_output/data_patch'\n",
    "model_name = 'predrnn_pp'\n",
    "save_dir = 'results/predrnn_pp'\n",
    "input_length = 14\n",
    "output_length = 1\n",
    "img_width = 32\n",
    "img_channel = 1\n",
    "stride = 1\n",
    "filter_size = 5\n",
    "num_hidden = [128, 64, 64, 1]\n",
    "num_layers = len(num_hidden)\n",
    "patch_size = 4\n",
    "layer_norm = True\n",
    "lr = 0.001\n",
    "reverse_input = False\n",
    "batch_size = 8\n",
    "max_iterations = 80000\n",
    "display_interval = 1\n",
    "test_interval = 2000\n",
    "snapshot_interval = 10000\n",
    "\n",
    "save_checkpoints_steps = 100"
   ]
  },
  {
   "cell_type": "code",
   "execution_count": 16,
   "metadata": {},
   "outputs": [],
   "source": [
    "params = {\n",
    "    \"data_dir\" : data_dir,\n",
    "    \"model_name\" :  model_name,\n",
    "    \"save_dir\" : save_dir,\n",
    "    \"input_length\" : input_length,\n",
    "    \"output_length\" : output_length,\n",
    "    \"seq_length\" : input_length + output_length,\n",
    "    \"img_width\" : img_width,\n",
    "    \"img_channel\" : img_channel,\n",
    "    \"stride\" : stride,\n",
    "    \"filter_size\" : filter_size,\n",
    "    \"num_hidden\" : num_hidden,\n",
    "    \"num_layers\" : num_layers,\n",
    "    \"patch_size\" : patch_size,\n",
    "    \"layer_norm\" : layer_norm,\n",
    "    \"lr\" : lr,\n",
    "    \"reverse_input\" : reverse_input,\n",
    "    \"batch_size\" : batch_size,\n",
    "    \"max_iterations\" : max_iterations,\n",
    "    \"display_interval\" : display_interval,\n",
    "    \"test_interval\" : test_interval,\n",
    "    \"snapshot_interval\" : snapshot_interval\n",
    "}"
   ]
  },
  {
   "cell_type": "code",
   "execution_count": 17,
   "metadata": {},
   "outputs": [],
   "source": [
    "def model_fn(features, labels, mode, params):\n",
    "    is_training = (mode == tf.estimator.ModeKeys.TRAIN)\n",
    "    predictions = predrnn_pp.rnn(features, params[\"num_layers\"], params[\"num_hidden\"], params[\"filter_size\"],\n",
    "                                 params[\"stride\"], params[\"seq_length\"], params[\"input_length\"], \n",
    "                                 params[\"layer_norm\"])\n",
    "    predictions = predictions[:, params[\"input_length\"]-1:]\n",
    "    print(\"predictions.shape =\", predictions.shape)\n",
    "\n",
    "    if mode == tf.estimator.ModeKeys.PREDICT:\n",
    "        return tf.estimator.EstimatorSpec(mode, predictions=predictions)\n",
    "    else:\n",
    "        loss = tf.losses.mean_squared_error(labels=labels, predictions=predictions)\n",
    "        tensors_to_log = {'loss': loss}\n",
    "        logging_hook = tf.train.LoggingTensorHook(\n",
    "            tensors=tensors_to_log, every_n_iter=100)\n",
    "        train_hooks = [logging_hook]\n",
    "        \n",
    "        metrics = {\n",
    "            'mse': tf.metrics.mean_squared_error(labels=labels, predictions=predictions)\n",
    "        }\n",
    "\n",
    "        if mode == tf.estimator.ModeKeys.EVAL:\n",
    "            return tf.estimator.EstimatorSpec(mode, loss=loss, eval_metric_ops=metrics)\n",
    "\n",
    "        elif mode == tf.estimator.ModeKeys.TRAIN:\n",
    "            train_op = tf.train.AdamOptimizer(learning_rate=params[\"lr\"])\\\n",
    "                .minimize(loss, global_step=tf.train.get_global_step())\n",
    "            return tf.estimator.EstimatorSpec(mode, loss=loss, train_op=train_op)\n",
    "        else:\n",
    "            raise NotImplementedError()"
   ]
  },
  {
   "cell_type": "code",
   "execution_count": 18,
   "metadata": {},
   "outputs": [],
   "source": [
    "def input_fn(data_dir, subset, batch_size,\n",
    "             use_distortion_for_training=True):\n",
    "    use_distortion = subset == 'train' and use_distortion_for_training\n",
    "    dataset = dataset_utils.ConvLSTMDataSet(data_dir, subset, use_distortion)\n",
    "    return dataset.make_batch(batch_size)"
   ]
  },
  {
   "cell_type": "code",
   "execution_count": 19,
   "metadata": {},
   "outputs": [
    {
     "name": "stdout",
     "output_type": "stream",
     "text": [
      "INFO:tensorflow:Using config: {'_model_dir': 'results/predrnn_pp', '_tf_random_seed': None, '_save_summary_steps': 100, '_save_checkpoints_steps': 100, '_save_checkpoints_secs': None, '_session_config': allow_soft_placement: true\n",
      "graph_options {\n",
      "  rewrite_options {\n",
      "    meta_optimizer_iterations: ONE\n",
      "  }\n",
      "}\n",
      ", '_keep_checkpoint_max': 5, '_keep_checkpoint_every_n_hours': 10000, '_log_step_count_steps': 100, '_train_distribute': None, '_device_fn': None, '_protocol': None, '_eval_distribute': None, '_experimental_distribute': None, '_service': None, '_cluster_spec': <tensorflow.python.training.server_lib.ClusterSpec object at 0x7f36b42a50f0>, '_task_type': 'worker', '_task_id': 0, '_global_id_in_cluster': 0, '_master': '', '_evaluation_master': '', '_is_chief': True, '_num_ps_replicas': 0, '_num_worker_replicas': 1}\n"
     ]
    }
   ],
   "source": [
    "test_inpf = functools.partial(input_fn, data_dir, 'test', batch_size)\n",
    "val_inpf = functools.partial(input_fn, data_dir, 'val', batch_size)\n",
    "train_inpf = functools.partial(input_fn, data_dir, 'train', batch_size)\n",
    "\n",
    "cfg = tf.estimator.RunConfig(save_checkpoints_steps=save_checkpoints_steps)\n",
    "estimator = tf.estimator.Estimator(model_fn, save_dir, cfg, params)\n",
    "\n",
    "tf.logging.set_verbosity(tf.logging.INFO)"
   ]
  },
  {
   "cell_type": "code",
   "execution_count": 21,
   "metadata": {},
   "outputs": [
    {
     "name": "stdout",
     "output_type": "stream",
     "text": [
      "INFO:tensorflow:Calling model_fn.\n",
      "predictions.shape = (8, 1, 32, 32, 1)\n",
      "INFO:tensorflow:Done calling model_fn.\n",
      "INFO:tensorflow:Starting evaluation at 2019-05-28-09:31:41\n",
      "INFO:tensorflow:Graph was finalized.\n",
      "INFO:tensorflow:Restoring parameters from results/predrnn_pp/model.ckpt-21300\n",
      "INFO:tensorflow:Running local_init_op.\n",
      "INFO:tensorflow:Done running local_init_op.\n",
      "INFO:tensorflow:Evaluation [17/172]\n",
      "INFO:tensorflow:Evaluation [34/172]\n",
      "INFO:tensorflow:Evaluation [51/172]\n",
      "INFO:tensorflow:Evaluation [68/172]\n",
      "INFO:tensorflow:Evaluation [85/172]\n",
      "INFO:tensorflow:Evaluation [102/172]\n",
      "INFO:tensorflow:Evaluation [119/172]\n",
      "INFO:tensorflow:Evaluation [136/172]\n",
      "INFO:tensorflow:Evaluation [153/172]\n",
      "INFO:tensorflow:Evaluation [170/172]\n",
      "INFO:tensorflow:Evaluation [172/172]\n",
      "INFO:tensorflow:Finished evaluation at 2019-05-28-09:32:54\n",
      "INFO:tensorflow:Saving dict for global step 21300: global_step = 21300, loss = 0.012188795, mse = 0.012188795\n",
      "INFO:tensorflow:Saving 'checkpoint_path' summary for global step 21300: results/predrnn_pp/model.ckpt-21300\n"
     ]
    }
   ],
   "source": [
    "result_test = estimator.evaluate(test_inpf,\n",
    "    steps=dataset_utils.ConvLSTMDataSet.num_examples_per_epoch('test')//batch_size)"
   ]
  },
  {
   "cell_type": "code",
   "execution_count": 22,
   "metadata": {},
   "outputs": [
    {
     "data": {
      "text/plain": [
       "{'loss': 0.012188795, 'mse': 0.012188795, 'global_step': 21300}"
      ]
     },
     "execution_count": 22,
     "metadata": {},
     "output_type": "execute_result"
    }
   ],
   "source": [
    "result_test"
   ]
  },
  {
   "cell_type": "code",
   "execution_count": 23,
   "metadata": {
    "scrolled": true
   },
   "outputs": [
    {
     "name": "stdout",
     "output_type": "stream",
     "text": [
      "INFO:tensorflow:Calling model_fn.\n",
      "predictions.shape = (8, 1, 32, 32, 1)\n",
      "INFO:tensorflow:Done calling model_fn.\n",
      "INFO:tensorflow:Graph was finalized.\n",
      "INFO:tensorflow:Restoring parameters from results/predrnn_pp/model.ckpt-21300\n",
      "INFO:tensorflow:Running local_init_op.\n",
      "INFO:tensorflow:Done running local_init_op.\n",
      "0\n",
      "100\n",
      "200\n",
      "300\n",
      "400\n",
      "500\n",
      "600\n",
      "700\n",
      "800\n",
      "900\n",
      "1000\n",
      "1100\n",
      "1200\n",
      "1300\n",
      "1400\n",
      "1500\n",
      "1600\n",
      "1700\n",
      "1800\n",
      "1900\n",
      "2000\n",
      "2100\n",
      "2200\n",
      "2300\n",
      "2400\n",
      "2500\n",
      "2600\n",
      "2700\n"
     ]
    }
   ],
   "source": [
    "results = estimator.predict(test_inpf)\n",
    "inferences = []\n",
    "i = 0\n",
    "for result in results:\n",
    "    if i % 100 == 0:\n",
    "        print(i)\n",
    "    inferences.append(result)\n",
    "    i += 1\n",
    "    if i == dataset_utils.ConvLSTMDataSet.num_examples_per_epoch('test'):\n",
    "        break"
   ]
  },
  {
   "cell_type": "code",
   "execution_count": 24,
   "metadata": {},
   "outputs": [],
   "source": [
    "inferences = np.vstack(inferences)"
   ]
  },
  {
   "cell_type": "code",
   "execution_count": 33,
   "metadata": {},
   "outputs": [],
   "source": [
    "if not os.path.exists('inferences'):\n",
    "    os.makedirs('inferences')\n",
    "cache_data(inferences, 'inferences/test.dat')"
   ]
  },
  {
   "cell_type": "code",
   "execution_count": 85,
   "metadata": {},
   "outputs": [
    {
     "data": {
      "text/plain": [
       "(2786, 32, 32, 1)"
      ]
     },
     "execution_count": 85,
     "metadata": {},
     "output_type": "execute_result"
    }
   ],
   "source": [
    "a = restore_data('inferences/test.dat')\n",
    "a.shape"
   ]
  },
  {
   "cell_type": "code",
   "execution_count": 25,
   "metadata": {},
   "outputs": [
    {
     "name": "stdout",
     "output_type": "stream",
     "text": [
      "INFO:tensorflow:Calling model_fn.\n",
      "predictions.shape = (8, 1, 32, 32, 1)\n",
      "INFO:tensorflow:Done calling model_fn.\n",
      "INFO:tensorflow:Starting evaluation at 2019-05-28-09:35:32\n",
      "INFO:tensorflow:Graph was finalized.\n",
      "INFO:tensorflow:Restoring parameters from results/predrnn_pp/model.ckpt-21300\n",
      "INFO:tensorflow:Running local_init_op.\n",
      "INFO:tensorflow:Done running local_init_op.\n",
      "INFO:tensorflow:Evaluation [17/172]\n",
      "INFO:tensorflow:Evaluation [34/172]\n",
      "INFO:tensorflow:Evaluation [51/172]\n",
      "INFO:tensorflow:Evaluation [68/172]\n",
      "INFO:tensorflow:Evaluation [85/172]\n",
      "INFO:tensorflow:Evaluation [102/172]\n",
      "INFO:tensorflow:Evaluation [119/172]\n",
      "INFO:tensorflow:Evaluation [136/172]\n",
      "INFO:tensorflow:Evaluation [153/172]\n",
      "INFO:tensorflow:Evaluation [170/172]\n",
      "INFO:tensorflow:Evaluation [172/172]\n",
      "INFO:tensorflow:Finished evaluation at 2019-05-28-09:36:45\n",
      "INFO:tensorflow:Saving dict for global step 21300: global_step = 21300, loss = 0.009067808, mse = 0.009067808\n",
      "INFO:tensorflow:Saving 'checkpoint_path' summary for global step 21300: results/predrnn_pp/model.ckpt-21300\n"
     ]
    },
    {
     "data": {
      "text/plain": [
       "{'loss': 0.009067808, 'mse': 0.009067808, 'global_step': 21300}"
      ]
     },
     "execution_count": 25,
     "metadata": {},
     "output_type": "execute_result"
    }
   ],
   "source": [
    "result_val = estimator.evaluate(val_inpf,\n",
    "    steps=dataset_utils.ConvLSTMDataSet.num_examples_per_epoch('val')//batch_size)\n",
    "result_val"
   ]
  },
  {
   "cell_type": "code",
   "execution_count": 26,
   "metadata": {},
   "outputs": [
    {
     "name": "stdout",
     "output_type": "stream",
     "text": [
      "shuffle dataset\n",
      "INFO:tensorflow:Calling model_fn.\n",
      "predictions.shape = (8, 1, 32, 32, 1)\n",
      "INFO:tensorflow:Done calling model_fn.\n",
      "INFO:tensorflow:Starting evaluation at 2019-05-28-09:36:53\n",
      "INFO:tensorflow:Graph was finalized.\n",
      "INFO:tensorflow:Restoring parameters from results/predrnn_pp/model.ckpt-21300\n",
      "INFO:tensorflow:Running local_init_op.\n",
      "INFO:tensorflow:Done running local_init_op.\n",
      "INFO:tensorflow:Evaluation [201/2012]\n",
      "INFO:tensorflow:Evaluation [402/2012]\n",
      "INFO:tensorflow:Evaluation [603/2012]\n",
      "INFO:tensorflow:Evaluation [804/2012]\n",
      "INFO:tensorflow:Evaluation [1005/2012]\n",
      "INFO:tensorflow:Evaluation [1206/2012]\n",
      "INFO:tensorflow:Evaluation [1407/2012]\n",
      "INFO:tensorflow:Evaluation [1608/2012]\n",
      "INFO:tensorflow:Evaluation [1809/2012]\n",
      "INFO:tensorflow:Evaluation [2010/2012]\n",
      "INFO:tensorflow:Evaluation [2012/2012]\n",
      "INFO:tensorflow:Finished evaluation at 2019-05-28-09:49:47\n",
      "INFO:tensorflow:Saving dict for global step 21300: global_step = 21300, loss = 0.010196711, mse = 0.010196711\n",
      "INFO:tensorflow:Saving 'checkpoint_path' summary for global step 21300: results/predrnn_pp/model.ckpt-21300\n"
     ]
    },
    {
     "data": {
      "text/plain": [
       "{'loss': 0.010196711, 'mse': 0.010196711, 'global_step': 21300}"
      ]
     },
     "execution_count": 26,
     "metadata": {},
     "output_type": "execute_result"
    }
   ],
   "source": [
    "result_train = estimator.evaluate(train_inpf,\n",
    "    steps=dataset_utils.ConvLSTMDataSet.num_examples_per_epoch('train')//batch_size)\n",
    "result_train"
   ]
  },
  {
   "cell_type": "code",
   "execution_count": null,
   "metadata": {},
   "outputs": [],
   "source": []
  },
  {
   "cell_type": "code",
   "execution_count": 27,
   "metadata": {},
   "outputs": [],
   "source": [
    "a = inferences[0]"
   ]
  },
  {
   "cell_type": "code",
   "execution_count": 28,
   "metadata": {},
   "outputs": [
    {
     "data": {
      "text/plain": [
       "2786"
      ]
     },
     "execution_count": 28,
     "metadata": {},
     "output_type": "execute_result"
    }
   ],
   "source": [
    "len(inferences)"
   ]
  },
  {
   "cell_type": "code",
   "execution_count": 29,
   "metadata": {},
   "outputs": [
    {
     "data": {
      "text/plain": [
       "(32, 32, 1)"
      ]
     },
     "execution_count": 29,
     "metadata": {},
     "output_type": "execute_result"
    }
   ],
   "source": [
    "a.shape"
   ]
  },
  {
   "cell_type": "code",
   "execution_count": 30,
   "metadata": {},
   "outputs": [
    {
     "data": {
      "text/plain": [
       "<matplotlib.image.AxesImage at 0x7f34e379b3c8>"
      ]
     },
     "execution_count": 30,
     "metadata": {},
     "output_type": "execute_result"
    },
    {
     "data": {
      "image/png": "[encoded data removed]",
      "text/plain": [
       "<Figure size 432x288 with 1 Axes>"
      ]
     },
     "metadata": {
      "needs_background": "light"
     },
     "output_type": "display_data"
    }
   ],
   "source": [
    "plt.imshow(a.squeeze())"
   ]
  },
  {
   "cell_type": "code",
   "execution_count": 34,
   "metadata": {},
   "outputs": [
    {
     "data": {
      "text/plain": [
       "((30, 14, 32, 32), (30, 1, 32, 32))"
      ]
     },
     "execution_count": 34,
     "metadata": {},
     "output_type": "execute_result"
    }
   ],
   "source": [
    "sample_test_path = '../one_output/sequence_patch_data/test/0.dat'\n",
    "sample_test = restore_data(sample_test_path)\n",
    "sample_inputs = sample_test[0]\n",
    "sample_labels = sample_test[1]\n",
    "sample_inputs.shape, sample_labels.shape"
   ]
  },
  {
   "cell_type": "code",
   "execution_count": 76,
   "metadata": {},
   "outputs": [],
   "source": [
    "def _float_feature(value):\n",
    "    return tf.train.Feature(float_list=tf.train.FloatList(value=value))\n",
    "\n",
    "def convert_to_tfrecord(inputs):\n",
    "    r = np.random.randint(1000000)\n",
    "    path = '.{}'.format(r)\n",
    "    with tf.python_io.TFRecordWriter(path) as record_writer:\n",
    "        num_entries_in_batch = len(inputs)\n",
    "        for i in range(num_entries_in_batch):\n",
    "            example = tf.train.Example(features=tf.train.Features(\n",
    "                feature={\n",
    "                    'inputs': _float_feature(inputs[i].flatten().tolist()),\n",
    "                }))\n",
    "            record_writer.write(example.SerializeToString())\n",
    "    return path\n",
    "        \n",
    "def parser(serialized_example, single_example_shape):\n",
    "    features = tf.parse_single_example(\n",
    "        serialized_example,\n",
    "        features={\n",
    "            'inputs': tf.FixedLenFeature(\n",
    "                [single_example_shape[0] * single_example_shape[1] * single_example_shape[2]],\n",
    "                tf.float32),\n",
    "        })\n",
    "    inputs = tf.reshape(features['inputs'], single_example_shape)\n",
    "    return inputs"
   ]
  },
  {
   "cell_type": "code",
   "execution_count": 82,
   "metadata": {},
   "outputs": [],
   "source": [
    "def inference_from_np_array(estimator, inputs_np):\n",
    "    tfrecord_path = convert_to_tfrecord(inputs_np)\n",
    "    shape = inputs_np.shape\n",
    "    single_example_shape = shape[1:] + (1,)\n",
    "    def np_input_fn():\n",
    "        dataset = tf.data.TFRecordDataset(tfrecord_path)\n",
    "        dataset = dataset.map(\n",
    "            functools.partial(\n",
    "                parser, \n",
    "                single_example_shape=single_example_shape))\n",
    "        dataset = dataset.batch(1, drop_remainder=True)\n",
    "        iterator = dataset.make_one_shot_iterator()\n",
    "        inputs = iterator.get_next()\n",
    "        return inputs\n",
    "    \n",
    "    result = estimator.predict(np_input_fn)\n",
    "    res1 = []\n",
    "    for res in result:\n",
    "        res1.append(res)\n",
    "    os.remove(tfrecord_path)\n",
    "    return np.vstack(res1).squeeze()"
   ]
  },
  {
   "cell_type": "code",
   "execution_count": 83,
   "metadata": {},
   "outputs": [
    {
     "name": "stdout",
     "output_type": "stream",
     "text": [
      "INFO:tensorflow:Calling model_fn.\n",
      "predictions.shape = (1, 1, 32, 32, 1)\n",
      "INFO:tensorflow:Done calling model_fn.\n",
      "INFO:tensorflow:Graph was finalized.\n",
      "INFO:tensorflow:Restoring parameters from results/predrnn_pp/model.ckpt-21300\n",
      "INFO:tensorflow:Running local_init_op.\n",
      "INFO:tensorflow:Done running local_init_op.\n"
     ]
    }
   ],
   "source": [
    "res = inference_from_np_array(estimator, sample_inputs)"
   ]
  },
  {
   "cell_type": "code",
   "execution_count": 84,
   "metadata": {},
   "outputs": [
    {
     "data": {
      "text/plain": [
       "(30, 32, 32)"
      ]
     },
     "execution_count": 84,
     "metadata": {},
     "output_type": "execute_result"
    }
   ],
   "source": [
    "res.shape"
   ]
  },
  {
   "cell_type": "code",
   "execution_count": null,
   "metadata": {},
   "outputs": [],
   "source": []
  }
 ],
 "metadata": {
  "kernelspec": {
   "display_name": "Python 3",
   "language": "python",
   "name": "python3"
  },
  "language_info": {
   "codemirror_mode": {
    "name": "ipython",
    "version": 3
   },
   "file_extension": ".py",
   "mimetype": "text/x-python",
   "name": "python",
   "nbconvert_exporter": "python",
   "pygments_lexer": "ipython3",
   "version": "3.6.8"
  }
 },
 "nbformat": 4,
 "nbformat_minor": 2
}
