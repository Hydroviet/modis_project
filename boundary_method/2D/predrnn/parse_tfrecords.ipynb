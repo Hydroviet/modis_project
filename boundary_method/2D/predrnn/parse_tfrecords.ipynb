{
 "cells": [
  {
   "cell_type": "code",
   "execution_count": 1,
   "metadata": {},
   "outputs": [],
   "source": [
    "import os\n",
    "import os.path\n",
    "import time\n",
    "import numpy as np\n",
    "import tensorflow as tf\n",
    "import cv2\n",
    "import sys\n",
    "import random\n",
    "import functools\n",
    "from tqdm import tqdm\n",
    "from pathlib import Path\n",
    "from skimage.measure import compare_ssim\n",
    "import matplotlib.pyplot as plt\n",
    "\n",
    "import predrnn_pp\n",
    "import dataset_utils\n",
    "from nets import models_factory\n",
    "from data_provider import datasets_factory\n",
    "from utils import preprocess\n",
    "from utils import metrics"
   ]
  },
  {
   "cell_type": "code",
   "execution_count": 20,
   "metadata": {},
   "outputs": [],
   "source": [
    "sys.path.append('../../../')\n",
    "from modis_utils.misc import cache_data, restore_data"
   ]
  },
  {
   "cell_type": "code",
   "execution_count": 3,
   "metadata": {},
   "outputs": [],
   "source": [
    "data_dir = '../one_output/data_patch'"
   ]
  },
  {
   "cell_type": "code",
   "execution_count": 6,
   "metadata": {},
   "outputs": [],
   "source": [
    "in_steps = 14\n",
    "out_steps = 1\n",
    "HEIGHT = 32\n",
    "WIDTH = 32\n",
    "DEPTH = 1\n",
    "\n",
    "def parser(serialized_example):\n",
    "    features = tf.parse_single_example(\n",
    "        serialized_example,\n",
    "        features={\n",
    "            'inputs': tf.FixedLenFeature([in_steps * DEPTH * HEIGHT * WIDTH], tf.float32),\n",
    "            'labels': tf.FixedLenFeature([out_steps * DEPTH * HEIGHT * WIDTH], tf.float32),\n",
    "        })\n",
    "\n",
    "    # Reshape from [in_steps * depth * height * width] to [in_steps, height, width, depth].\n",
    "    inputs = tf.reshape(features['inputs'], [in_steps, HEIGHT, WIDTH, DEPTH])\n",
    "    labels = tf.reshape(features['labels'], [out_steps, HEIGHT, WIDTH, DEPTH])\n",
    "\n",
    "    return inputs, labels"
   ]
  },
  {
   "cell_type": "code",
   "execution_count": 12,
   "metadata": {},
   "outputs": [],
   "source": [
    "dataset = tf.data.TFRecordDataset(os.path.join(data_dir, 'test.tfrecords'))\n",
    "dataset = dataset.map(parser)\n",
    "iterator = dataset.make_one_shot_iterator()\n",
    "next_element = iterator.get_next()"
   ]
  },
  {
   "cell_type": "code",
   "execution_count": 13,
   "metadata": {},
   "outputs": [],
   "source": [
    "inputs = []\n",
    "labels = []"
   ]
  },
  {
   "cell_type": "code",
   "execution_count": 14,
   "metadata": {},
   "outputs": [],
   "source": [
    "with tf.Session() as sess:\n",
    "    try:\n",
    "        while True:\n",
    "            input_, label_ = sess.run(next_element)\n",
    "            inputs.append(np.expand_dims(input_, axis=0))\n",
    "            labels.append(label_)\n",
    "    except:\n",
    "        pass"
   ]
  },
  {
   "cell_type": "code",
   "execution_count": 15,
   "metadata": {},
   "outputs": [],
   "source": [
    "inputs = np.vstack(inputs)\n",
    "labels = np.vstack(labels)"
   ]
  },
  {
   "cell_type": "code",
   "execution_count": 16,
   "metadata": {},
   "outputs": [
    {
     "data": {
      "text/plain": [
       "((2786, 14, 32, 32, 1), (2786, 32, 32, 1))"
      ]
     },
     "execution_count": 16,
     "metadata": {},
     "output_type": "execute_result"
    }
   ],
   "source": [
    "inputs.shape, labels.shape"
   ]
  },
  {
   "cell_type": "code",
   "execution_count": 26,
   "metadata": {},
   "outputs": [],
   "source": [
    "def get_inputs_labels_from_tfrecords(tfrecords_path):\n",
    "    dataset = tf.data.TFRecordDataset(tfrecords_path)\n",
    "    dataset = dataset.map(parser)\n",
    "    iterator = dataset.make_one_shot_iterator()\n",
    "    next_element = iterator.get_next()\n",
    "    inputs = []\n",
    "    labels = []\n",
    "    with tf.Session() as sess:\n",
    "        try:\n",
    "            while True:\n",
    "                input_, label_ = sess.run(next_element)\n",
    "                inputs.append(np.expand_dims(input_, axis=0))\n",
    "                labels.append(label_)\n",
    "        except:\n",
    "            pass\n",
    "    inputs = np.vstack(inputs)\n",
    "    labels = np.vstack(labels)\n",
    "    return inputs, labels"
   ]
  },
  {
   "cell_type": "code",
   "execution_count": 27,
   "metadata": {},
   "outputs": [],
   "source": [
    "if not os.path.exists('data'):\n",
    "    os.makedirs('data')\n",
    "for type_ in ('train', 'val', 'test'):\n",
    "    inputs, labels = get_inputs_labels_from_tfrecords(\n",
    "        os.path.join(data_dir, '{}.tfrecords'.format(type_)))\n",
    "    cache_data((inputs, labels), os.path.join('data', '{}.dat'.format(type_)))"
   ]
  },
  {
   "cell_type": "code",
   "execution_count": 28,
   "metadata": {},
   "outputs": [],
   "source": [
    "a = restore_data('data/train.dat')"
   ]
  },
  {
   "cell_type": "code",
   "execution_count": 29,
   "metadata": {},
   "outputs": [
    {
     "data": {
      "text/plain": [
       "((16096, 14, 32, 32, 1), (16096, 32, 32, 1))"
      ]
     },
     "execution_count": 29,
     "metadata": {},
     "output_type": "execute_result"
    }
   ],
   "source": [
    "a[0].shape, a[1].shape"
   ]
  },
  {
   "cell_type": "code",
   "execution_count": 30,
   "metadata": {},
   "outputs": [],
   "source": [
    "inferences = restore_data('inferences/test.dat')"
   ]
  },
  {
   "cell_type": "code",
   "execution_count": 31,
   "metadata": {},
   "outputs": [],
   "source": [
    "groundtruths = restore_data('data/test.dat')[1]"
   ]
  },
  {
   "cell_type": "code",
   "execution_count": 32,
   "metadata": {},
   "outputs": [
    {
     "data": {
      "text/plain": [
       "((2786, 32, 32, 1), (2786, 32, 32, 1))"
      ]
     },
     "execution_count": 32,
     "metadata": {},
     "output_type": "execute_result"
    }
   ],
   "source": [
    "inferences.shape, groundtruths.shape"
   ]
  },
  {
   "cell_type": "code",
   "execution_count": 36,
   "metadata": {},
   "outputs": [
    {
     "data": {
      "image/png": "[encoded data removed]",
      "text/plain": [
       "<Figure size 1440x720 with 4 Axes>"
      ]
     },
     "metadata": {
      "needs_background": "light"
     },
     "output_type": "display_data"
    }
   ],
   "source": [
    "n_tests = 2\n",
    "fig, axes = plt.subplots(2, n_tests, figsize=(20, 10))\n",
    "for inference, groundtruth, ax_0, ax_1 in \\\n",
    "        zip(inferences[:n_tests], groundtruths[:n_tests], axes[0, :], axes[1, :]):\n",
    "    ax_0.imshow(groundtruth.squeeze())\n",
    "    ax_1.imshow(inference.squeeze())\n",
    "plt.show()"
   ]
  },
  {
   "cell_type": "code",
   "execution_count": null,
   "metadata": {},
   "outputs": [],
   "source": []
  }
 ],
 "metadata": {
  "kernelspec": {
   "display_name": "Python 3",
   "language": "python",
   "name": "python3"
  },
  "language_info": {
   "codemirror_mode": {
    "name": "ipython",
    "version": 3
   },
   "file_extension": ".py",
   "mimetype": "text/x-python",
   "name": "python",
   "nbconvert_exporter": "python",
   "pygments_lexer": "ipython3",
   "version": "3.6.8"
  }
 },
 "nbformat": 4,
 "nbformat_minor": 2
}
