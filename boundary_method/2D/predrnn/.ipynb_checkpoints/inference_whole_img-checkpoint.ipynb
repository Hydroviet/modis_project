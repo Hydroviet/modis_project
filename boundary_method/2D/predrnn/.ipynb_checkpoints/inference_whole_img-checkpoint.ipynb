{
 "cells": [
  {
   "cell_type": "code",
   "execution_count": 1,
   "metadata": {},
   "outputs": [],
   "source": [
    "import os\n",
    "import os.path\n",
    "import time\n",
    "import numpy as np\n",
    "import tensorflow as tf\n",
    "import cv2\n",
    "import sys\n",
    "import random\n",
    "import functools\n",
    "from tqdm import tqdm\n",
    "from pathlib import Path\n",
    "from skimage.measure import compare_ssim\n",
    "import matplotlib.pyplot as plt\n",
    "\n",
    "import predrnn_pp\n",
    "import dataset_utils\n",
    "from nets import models_factory\n",
    "from data_provider import datasets_factory\n",
    "from utils import preprocess\n",
    "from utils import metrics\n",
    "\n",
    "from inference_whole_img_utils import InferencePredRNNWholeImg\n",
    "from gen_data_inference_utils import gen_boundary_patch, select_data"
   ]
  },
  {
   "cell_type": "code",
   "execution_count": 2,
   "metadata": {},
   "outputs": [],
   "source": [
    "sys.path.append('../../../')"
   ]
  },
  {
   "cell_type": "code",
   "execution_count": 3,
   "metadata": {},
   "outputs": [],
   "source": [
    "from modis_utils.misc import cache_data, restore_data"
   ]
  },
  {
   "cell_type": "code",
   "execution_count": 4,
   "metadata": {},
   "outputs": [],
   "source": [
    "os.environ['CUDA_VISIBLE_DEVICES'] = \"2\""
   ]
  },
  {
   "cell_type": "code",
   "execution_count": 5,
   "metadata": {},
   "outputs": [],
   "source": [
    "data_dir = '../one_output/data_patch'\n",
    "model_name = 'predrnn_pp'\n",
    "save_dir = 'results/predrnn_pp'\n",
    "input_length = 14\n",
    "output_length = 1\n",
    "img_width = 32\n",
    "img_channel = 1\n",
    "stride = 1\n",
    "filter_size = 5\n",
    "num_hidden = [128, 64, 64, 1]\n",
    "num_layers = len(num_hidden)\n",
    "patch_size = 4\n",
    "layer_norm = True\n",
    "lr = 0.001\n",
    "reverse_input = False\n",
    "batch_size = 8\n",
    "max_iterations = 80000\n",
    "display_interval = 1\n",
    "test_interval = 2000\n",
    "snapshot_interval = 10000\n",
    "\n",
    "save_checkpoints_steps = 100\n",
    "whole_img_width = 513"
   ]
  },
  {
   "cell_type": "code",
   "execution_count": 6,
   "metadata": {},
   "outputs": [],
   "source": [
    "params = {\n",
    "    \"data_dir\" : data_dir,\n",
    "    \"model_name\" :  model_name,\n",
    "    \"save_dir\" : save_dir,\n",
    "    \"input_length\" : input_length,\n",
    "    \"output_length\" : output_length,\n",
    "    \"seq_length\" : input_length + output_length,\n",
    "    \"img_width\" : img_width,\n",
    "    \"img_channel\" : img_channel,\n",
    "    \"stride\" : stride,\n",
    "    \"filter_size\" : filter_size,\n",
    "    \"num_hidden\" : num_hidden,\n",
    "    \"num_layers\" : num_layers,\n",
    "    \"patch_size\" : patch_size,\n",
    "    \"layer_norm\" : layer_norm,\n",
    "    \"lr\" : lr,\n",
    "    \"reverse_input\" : reverse_input,\n",
    "    \"batch_size\" : batch_size,\n",
    "    \"max_iterations\" : max_iterations,\n",
    "    \"display_interval\" : display_interval,\n",
    "    \"test_interval\" : test_interval,\n",
    "    \"snapshot_interval\" : snapshot_interval,\n",
    "    \"whole_img_width\" : whole_img_width\n",
    "}"
   ]
  },
  {
   "cell_type": "code",
   "execution_count": 9,
   "metadata": {},
   "outputs": [],
   "source": [
    "timesteps = 47"
   ]
  },
  {
   "cell_type": "code",
   "execution_count": null,
   "metadata": {},
   "outputs": [],
   "source": []
  },
  {
   "cell_type": "code",
   "execution_count": 7,
   "metadata": {},
   "outputs": [
    {
     "data": {
      "text/plain": [
       "(48, 513, 513)"
      ]
     },
     "execution_count": 7,
     "metadata": {},
     "output_type": "execute_result"
    }
   ],
   "source": [
    "inputs_np_whole_img = restore_data('../multiscale_predrnn/data/sequence_data/test/0.dat')[0]\n",
    "inputs_np_whole_img.shape"
   ]
  },
  {
   "cell_type": "code",
   "execution_count": 8,
   "metadata": {},
   "outputs": [
    {
     "name": "stdout",
     "output_type": "stream",
     "text": [
      "INFO:tensorflow:Using config: {'_model_dir': 'results/predrnn_pp', '_tf_random_seed': None, '_save_summary_steps': 100, '_save_checkpoints_steps': None, '_save_checkpoints_secs': 600, '_session_config': allow_soft_placement: true\n",
      "graph_options {\n",
      "  rewrite_options {\n",
      "    meta_optimizer_iterations: ONE\n",
      "  }\n",
      "}\n",
      ", '_keep_checkpoint_max': 5, '_keep_checkpoint_every_n_hours': 10000, '_log_step_count_steps': 100, '_train_distribute': None, '_device_fn': None, '_protocol': None, '_eval_distribute': None, '_experimental_distribute': None, '_service': None, '_cluster_spec': <tensorflow.python.training.server_lib.ClusterSpec object at 0x7f032928c940>, '_task_type': 'worker', '_task_id': 0, '_global_id_in_cluster': 0, '_master': '', '_evaluation_master': '', '_is_chief': True, '_num_ps_replicas': 0, '_num_worker_replicas': 1}\n",
      "INFO:tensorflow:Calling model_fn.\n",
      "predictions.shape = (8, 1, 32, 32, 1)\n",
      "INFO:tensorflow:Done calling model_fn.\n",
      "INFO:tensorflow:Signatures INCLUDED in export for Classify: None\n",
      "INFO:tensorflow:Signatures INCLUDED in export for Regress: None\n",
      "INFO:tensorflow:Signatures INCLUDED in export for Predict: ['serving_default']\n",
      "INFO:tensorflow:Signatures INCLUDED in export for Train: None\n",
      "INFO:tensorflow:Signatures INCLUDED in export for Eval: None\n",
      "INFO:tensorflow:Restoring parameters from results/predrnn_pp/model.ckpt-21300\n",
      "WARNING:tensorflow:From /home/anhkhoa/anaconda3/envs/pytf/lib/python3.6/site-packages/tensorflow/python/estimator/estimator.py:1044: calling SavedModelBuilder.add_meta_graph_and_variables (from tensorflow.python.saved_model.builder_impl) with legacy_init_op is deprecated and will be removed in a future version.\n",
      "Instructions for updating:\n",
      "Pass your op to the equivalent parameter main_op instead.\n",
      "INFO:tensorflow:Assets added to graph.\n",
      "INFO:tensorflow:No assets to write.\n",
      "INFO:tensorflow:SavedModel written to: saved_model/temp-b'1559135295'/saved_model.pb\n",
      "INFO:tensorflow:Restoring parameters from saved_model/1559135295/variables/variables\n"
     ]
    }
   ],
   "source": [
    "inference_predrnn_whole_img = InferencePredRNNWholeImg(params)"
   ]
  },
  {
   "cell_type": "code",
   "execution_count": 16,
   "metadata": {},
   "outputs": [
    {
     "name": "stderr",
     "output_type": "stream",
     "text": [
      "\n",
      "  0%|          | 0/13 [00:00<?, ?it/s]\u001b[A\n",
      "  8%|▊         | 1/13 [02:19<27:52, 139.35s/it]\u001b[A\n",
      " 15%|█▌        | 2/13 [04:39<25:34, 139.51s/it]\u001b[A\n",
      " 23%|██▎       | 3/13 [06:58<23:14, 139.42s/it]\u001b[A\n",
      " 31%|███       | 4/13 [09:17<20:53, 139.30s/it]\u001b[A\n",
      " 38%|███▊      | 5/13 [11:36<18:33, 139.20s/it]\u001b[A\n",
      " 46%|████▌     | 6/13 [13:55<16:14, 139.23s/it]\u001b[A\n",
      " 54%|█████▍    | 7/13 [16:14<13:55, 139.20s/it]\u001b[A\n",
      " 62%|██████▏   | 8/13 [18:34<11:35, 139.18s/it]\u001b[A\n",
      " 69%|██████▉   | 9/13 [20:52<09:15, 138.98s/it]\u001b[A\n",
      " 77%|███████▋  | 10/13 [23:11<06:57, 139.08s/it]\u001b[A\n",
      " 85%|████████▍ | 11/13 [25:30<04:38, 139.05s/it]\u001b[A\n",
      " 92%|█████████▏| 12/13 [27:50<02:19, 139.14s/it]\u001b[A\n",
      "100%|██████████| 13/13 [30:09<00:00, 139.20s/it]\u001b[A\n",
      "  0%|          | 0/46 [00:00<?, ?it/s]\u001b[A\n",
      "  2%|▏         | 1/46 [02:17<1:43:00, 137.35s/it]\u001b[A\n",
      "  4%|▍         | 2/46 [04:28<1:39:21, 135.49s/it]\u001b[A\n",
      "  7%|▋         | 3/46 [06:38<1:35:59, 133.95s/it]\u001b[A\n",
      "  9%|▊         | 4/46 [08:48<1:32:52, 132.68s/it]\u001b[A\n",
      " 11%|█         | 5/46 [10:58<1:30:02, 131.76s/it]\u001b[A\n",
      " 13%|█▎        | 6/46 [13:15<1:28:52, 133.32s/it]\u001b[A\n",
      " 15%|█▌        | 7/46 [15:32<1:27:31, 134.66s/it]\u001b[A\n",
      " 17%|█▋        | 8/46 [17:50<1:25:54, 135.66s/it]\u001b[A\n",
      " 20%|█▉        | 9/46 [20:09<1:24:08, 136.45s/it]\u001b[A\n",
      " 22%|██▏       | 10/46 [22:27<1:22:09, 136.92s/it]\u001b[A\n",
      " 24%|██▍       | 11/46 [24:46<1:20:17, 137.65s/it]\u001b[A\n",
      " 26%|██▌       | 12/46 [27:04<1:18:02, 137.72s/it]\u001b[A\n",
      " 28%|██▊       | 13/46 [29:22<1:15:52, 137.95s/it]\u001b[A\n",
      " 30%|███       | 14/46 [31:41<1:13:38, 138.07s/it]\u001b[A\n",
      " 33%|███▎      | 15/46 [33:59<1:11:25, 138.25s/it]\u001b[A\n",
      " 35%|███▍      | 16/46 [36:18<1:09:13, 138.46s/it]\u001b[A\n",
      " 37%|███▋      | 17/46 [38:32<1:06:14, 137.05s/it]\u001b[A\n",
      " 39%|███▉      | 18/46 [40:43<1:03:03, 135.14s/it]\u001b[A\n",
      " 41%|████▏     | 19/46 [42:55<1:00:20, 134.09s/it]\u001b[A\n",
      " 43%|████▎     | 20/46 [45:06<57:45, 133.30s/it]  \u001b[A\n",
      " 46%|████▌     | 21/46 [47:20<55:34, 133.40s/it]\u001b[A\n",
      " 48%|████▊     | 22/46 [49:37<53:49, 134.55s/it]\u001b[A\n",
      " 50%|█████     | 23/46 [51:56<52:03, 135.82s/it]\u001b[A\n",
      " 52%|█████▏    | 24/46 [54:14<50:02, 136.47s/it]\u001b[A\n",
      " 54%|█████▍    | 25/46 [56:32<47:57, 137.04s/it]\u001b[A\n",
      " 57%|█████▋    | 26/46 [58:49<45:43, 137.18s/it]\u001b[A\n",
      " 59%|█████▊    | 27/46 [1:01:08<43:33, 137.57s/it]\u001b[A\n",
      " 61%|██████    | 28/46 [1:03:23<41:05, 136.96s/it]\u001b[A\n",
      " 63%|██████▎   | 29/46 [1:05:34<38:17, 135.12s/it]\u001b[A\n",
      " 65%|██████▌   | 30/46 [1:07:45<35:39, 133.75s/it]\u001b[A\n",
      " 67%|██████▋   | 31/46 [1:09:55<33:11, 132.76s/it]\u001b[A\n",
      " 70%|██████▉   | 32/46 [1:12:05<30:45, 131.79s/it]\u001b[A\n",
      " 72%|███████▏  | 33/46 [1:14:14<28:23, 131.08s/it]\u001b[A\n",
      " 74%|███████▍  | 34/46 [1:16:23<26:05, 130.48s/it]\u001b[A\n",
      " 76%|███████▌  | 35/46 [1:18:33<23:50, 130.08s/it]\u001b[A\n",
      " 78%|███████▊  | 36/46 [1:20:41<21:37, 129.75s/it]\u001b[A\n",
      " 80%|████████  | 37/46 [1:22:51<19:25, 129.55s/it]\u001b[A\n",
      " 83%|████████▎ | 38/46 [1:25:00<17:15, 129.41s/it]\u001b[A\n",
      " 85%|████████▍ | 39/46 [1:27:09<15:05, 129.31s/it]\u001b[A\n",
      " 87%|████████▋ | 40/46 [1:29:18<12:55, 129.19s/it]\u001b[A\n",
      " 89%|████████▉ | 41/46 [1:31:27<10:45, 129.15s/it]\u001b[A\n",
      " 91%|█████████▏| 42/46 [1:33:36<08:36, 129.08s/it]\u001b[A\n",
      " 93%|█████████▎| 43/46 [1:35:45<06:27, 129.10s/it]\u001b[A\n",
      " 96%|█████████▌| 44/46 [1:37:54<04:18, 129.17s/it]\u001b[A\n",
      " 98%|█████████▊| 45/46 [1:40:03<02:09, 129.20s/it]\u001b[A\n",
      "100%|██████████| 46/46 [1:42:12<00:00, 129.16s/it]\u001b[A"
     ]
    },
    {
     "ename": "OverflowError",
     "evalue": "cannot serialize a bytes object larger than 4 GiB",
     "output_type": "error",
     "traceback": [
      "\u001b[0;31m---------------------------------------------------------------------------\u001b[0m",
      "\u001b[0;31mOverflowError\u001b[0m                             Traceback (most recent call last)",
      "\u001b[0;32m<ipython-input-16-3d42de89b9a4>\u001b[0m in \u001b[0;36m<module>\u001b[0;34m\u001b[0m\n\u001b[1;32m     13\u001b[0m         \u001b[0mres1\u001b[0m\u001b[0;34m.\u001b[0m\u001b[0mappend\u001b[0m\u001b[0;34m(\u001b[0m\u001b[0mres\u001b[0m\u001b[0;34m)\u001b[0m\u001b[0;34m\u001b[0m\u001b[0;34m\u001b[0m\u001b[0m\n\u001b[1;32m     14\u001b[0m     \u001b[0minferences_np\u001b[0m\u001b[0;34m[\u001b[0m\u001b[0msubset\u001b[0m\u001b[0;34m]\u001b[0m \u001b[0;34m=\u001b[0m \u001b[0mnp\u001b[0m\u001b[0;34m.\u001b[0m\u001b[0masarray\u001b[0m\u001b[0;34m(\u001b[0m\u001b[0mres1\u001b[0m\u001b[0;34m)\u001b[0m\u001b[0;34m\u001b[0m\u001b[0;34m\u001b[0m\u001b[0m\n\u001b[0;32m---> 15\u001b[0;31m \u001b[0mcache_data\u001b[0m\u001b[0;34m(\u001b[0m\u001b[0minferences_np\u001b[0m\u001b[0;34m,\u001b[0m \u001b[0;34m'inferences/predrnn_whole_img.dat'\u001b[0m\u001b[0;34m)\u001b[0m\u001b[0;34m\u001b[0m\u001b[0;34m\u001b[0m\u001b[0m\n\u001b[0m",
      "\u001b[0;32m~/Tan_working/modis_utils/misc.py\u001b[0m in \u001b[0;36mcache_data\u001b[0;34m(data, path)\u001b[0m\n\u001b[1;32m     75\u001b[0m     \u001b[0;32melse\u001b[0m\u001b[0;34m:\u001b[0m\u001b[0;34m\u001b[0m\u001b[0;34m\u001b[0m\u001b[0m\n\u001b[1;32m     76\u001b[0m         \u001b[0mfile\u001b[0m \u001b[0;34m=\u001b[0m \u001b[0mopen\u001b[0m\u001b[0;34m(\u001b[0m\u001b[0mpath\u001b[0m\u001b[0;34m,\u001b[0m \u001b[0;34m'wb'\u001b[0m\u001b[0;34m)\u001b[0m\u001b[0;34m\u001b[0m\u001b[0;34m\u001b[0m\u001b[0m\n\u001b[0;32m---> 77\u001b[0;31m         \u001b[0mpickle\u001b[0m\u001b[0;34m.\u001b[0m\u001b[0mdump\u001b[0m\u001b[0;34m(\u001b[0m\u001b[0mdata\u001b[0m\u001b[0;34m,\u001b[0m \u001b[0mfile\u001b[0m\u001b[0;34m)\u001b[0m\u001b[0;34m\u001b[0m\u001b[0;34m\u001b[0m\u001b[0m\n\u001b[0m\u001b[1;32m     78\u001b[0m         \u001b[0mfile\u001b[0m\u001b[0;34m.\u001b[0m\u001b[0mclose\u001b[0m\u001b[0;34m(\u001b[0m\u001b[0;34m)\u001b[0m\u001b[0;34m\u001b[0m\u001b[0;34m\u001b[0m\u001b[0m\n\u001b[1;32m     79\u001b[0m \u001b[0;34m\u001b[0m\u001b[0m\n",
      "\u001b[0;31mOverflowError\u001b[0m: cannot serialize a bytes object larger than 4 GiB"
     ]
    }
   ],
   "source": [
    "inferences_np = {}\n",
    "np_input_dir = '../multiscale_predrnn/data/sequence_data'\n",
    "steps_ahead = 80\n",
    "\n",
    "for subset in ('test', 'val'):\n",
    "    np_input_dir_subset = os.path.join(np_input_dir, subset)\n",
    "    n = len(os.listdir(np_input_dir_subset)) if subset == 'val' else 92 - steps_ahead + 1\n",
    "    res1 = []\n",
    "    for i in tqdm(range(n)):\n",
    "        inputs_np = restore_data(os.path.join(np_input_dir_subset, '{}.dat'.format(i)))[0]\n",
    "        inputs_np = inputs_np[-timesteps:]\n",
    "        res = inference_predrnn_whole_img.get_inference_from_np_array(inputs_np, steps_ahead)\n",
    "        res1.append(res)\n",
    "    inferences_np[subset] = np.asarray(res1)   "
   ]
  },
  {
   "cell_type": "code",
   "execution_count": null,
   "metadata": {},
   "outputs": [],
   "source": []
  },
  {
   "cell_type": "code",
   "execution_count": 17,
   "metadata": {},
   "outputs": [],
   "source": [
    "cache_data(inferences_np['test'], 'inferences/predrnn_whole_img_test.dat')\n",
    "cache_data(inferences_np['val'], 'inferences/predrnn_whole_img_val.dat')"
   ]
  },
  {
   "cell_type": "code",
   "execution_count": null,
   "metadata": {},
   "outputs": [],
   "source": []
  }
 ],
 "metadata": {
  "kernelspec": {
   "display_name": "Python 3",
   "language": "python",
   "name": "python3"
  },
  "language_info": {
   "codemirror_mode": {
    "name": "ipython",
    "version": 3
   },
   "file_extension": ".py",
   "mimetype": "text/x-python",
   "name": "python",
   "nbconvert_exporter": "python",
   "pygments_lexer": "ipython3",
   "version": "3.6.8"
  }
 },
 "nbformat": 4,
 "nbformat_minor": 2
}
