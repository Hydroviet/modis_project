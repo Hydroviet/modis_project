{
 "cells": [
  {
   "cell_type": "code",
   "execution_count": 1,
   "metadata": {},
   "outputs": [],
   "source": [
    "import os\n",
    "import argparse\n",
    "import functools\n",
    "import numpy as np\n",
    "import tensorflow as tf\n",
    "from pathlib import Path\n",
    "\n",
    "import utils\n",
    "import dataset_utils\n",
    "import convlstm_model"
   ]
  },
  {
   "cell_type": "code",
   "execution_count": 6,
   "metadata": {},
   "outputs": [],
   "source": [
    "os.environ[\"CUDA_VISIBLE_DEVICES\"] = \"0,1\""
   ]
  },
  {
   "cell_type": "code",
   "execution_count": 2,
   "metadata": {},
   "outputs": [],
   "source": [
    "def model_fn(features, labels, mode, params):\n",
    "    is_training = (mode == tf.estimator.ModeKeys.TRAIN)\n",
    "    model = convlstm_model.ConvLSTM(\n",
    "                is_training=is_training,\n",
    "                data_format='channels_last',\n",
    "                batch_norm_decay=params[\"batch_norm_decay\"],\n",
    "                batch_norm_epsilon=params[\"batch_norm_epsilon\"])\n",
    "    predictions = model.forward_pass(features)\n",
    "\n",
    "    if mode == tf.estimator.ModeKeys.PREDICT:\n",
    "        return tf.estimator.EstimatorSpec(mode, predictions=predictions)\n",
    "    else:\n",
    "        loss = tf.losses.mean_squared_error(labels=labels, predictions=predictions)\n",
    "        metrics = {\n",
    "            'mse': tf.metrics.mean_squared_error(labels=labels, predictions=predictions)\n",
    "        }\n",
    "\n",
    "        if mode == tf.estimator.ModeKeys.EVAL:\n",
    "            return tf.estimator.EstimatorSpec(mode, loss=loss, eval_metric_ops=metrics)\n",
    "\n",
    "        elif mode == tf.estimator.ModeKeys.TRAIN:\n",
    "            tensor_to_log = {'loss': loss, 'global_step': tf.train.get_global_step()}\n",
    "            logging_hook = tf.train.LoggingTensorHook(tensors=tensor_to_log, every_n_iter=10)\n",
    "            train_op = tf.train.AdamOptimizer(learning_rate=params[\"starter_learning_rate\"])\\\n",
    "                .minimize(loss, global_step=tf.train.get_global_step())\n",
    "            return tf.estimator.EstimatorSpec(mode, loss=loss, train_op=train_op, training_hooks=[logging_hook])\n",
    "        else:\n",
    "            raise NotImplementedError()\n"
   ]
  },
  {
   "cell_type": "code",
   "execution_count": 3,
   "metadata": {},
   "outputs": [],
   "source": [
    "def input_fn(data_dir, subset, batch_size,\n",
    "             use_distortion_for_training=True, shuffle=False):\n",
    "    use_distortion = subset == 'train' and use_distortion_for_training\n",
    "    dataset = dataset_utils.ConvLSTMDataSet(data_dir, subset, use_distortion)\n",
    "    return dataset.make_batch(batch_size, shuffle)"
   ]
  },
  {
   "cell_type": "code",
   "execution_count": 10,
   "metadata": {},
   "outputs": [],
   "source": [
    "def main(data_dir, batch_size, use_distortion_for_training,\n",
    "         save_checkpoints_steps, checkpoint_dir, **params):\n",
    "    train_inpf = functools.partial(input_fn, data_dir, 'train', batch_size, shuffle=True)\n",
    "    eval_inpf = functools.partial(input_fn, data_dir, 'test', batch_size)\n",
    "\n",
    "    cfg = tf.estimator.RunConfig(save_checkpoints_steps=save_checkpoints_steps)\n",
    "    estimator = tf.estimator.Estimator(model_fn, checkpoint_dir, cfg, params)\n",
    "\n",
    "    tf.logging.set_verbosity(tf.logging.INFO)\n",
    "\n",
    "    Path(estimator.eval_dir()).mkdir(parents=True, exist_ok=True)\n",
    "    hook = tf.contrib.estimator.stop_if_no_increase_hook(\n",
    "        estimator, 'mse', 5000, min_steps=10000, run_every_secs=600)\n",
    "    train_spec = tf.estimator.TrainSpec(input_fn=train_inpf, hooks=[hook])\n",
    "    eval_spec = tf.estimator.EvalSpec(input_fn=eval_inpf, throttle_secs=60)"
   ]
  },
  {
   "cell_type": "code",
   "execution_count": 11,
   "metadata": {},
   "outputs": [],
   "source": [
    "args = {\n",
    "    \"data_dir\": \"../data-patch\",\n",
    "    \"batch_size\": 32,\n",
    "    \"use_distortion_for_training\": False,\n",
    "    \"save_checkpoint_steps\": 5000,\n",
    "    \"checkpoint_dir\": \"result/model\",\n",
    "    \"starter_learning_rate\": 0.001,\n",
    "    \"batch_norm_decay\": 0.997,\n",
    "    \"batch_norm_epsilon\": 1e-5\n",
    "}"
   ]
  },
  {
   "cell_type": "code",
   "execution_count": 12,
   "metadata": {},
   "outputs": [
    {
     "ename": "TypeError",
     "evalue": "main() takes 5 positional arguments but 8 were given",
     "output_type": "error",
     "traceback": [
      "\u001b[0;31m---------------------------------------------------------------------------\u001b[0m",
      "\u001b[0;31mTypeError\u001b[0m                                 Traceback (most recent call last)",
      "\u001b[0;32m<ipython-input-12-29abc15a66dc>\u001b[0m in \u001b[0;36m<module>\u001b[0;34m\u001b[0m\n\u001b[0;32m----> 1\u001b[0;31m \u001b[0mmain\u001b[0m\u001b[0;34m(\u001b[0m\u001b[0;34m*\u001b[0m\u001b[0margs\u001b[0m\u001b[0;34m)\u001b[0m\u001b[0;34m\u001b[0m\u001b[0;34m\u001b[0m\u001b[0m\n\u001b[0m",
      "\u001b[0;31mTypeError\u001b[0m: main() takes 5 positional arguments but 8 were given"
     ]
    }
   ],
   "source": [
    "main(*args)"
   ]
  },
  {
   "cell_type": "code",
   "execution_count": null,
   "metadata": {},
   "outputs": [],
   "source": []
  }
 ],
 "metadata": {
  "kernelspec": {
   "display_name": "Python 3",
   "language": "python",
   "name": "python3"
  },
  "language_info": {
   "codemirror_mode": {
    "name": "ipython",
    "version": 3
   },
   "file_extension": ".py",
   "mimetype": "text/x-python",
   "name": "python",
   "nbconvert_exporter": "python",
   "pygments_lexer": "ipython3",
   "version": "3.6.8"
  }
 },
 "nbformat": 4,
 "nbformat_minor": 2
}
