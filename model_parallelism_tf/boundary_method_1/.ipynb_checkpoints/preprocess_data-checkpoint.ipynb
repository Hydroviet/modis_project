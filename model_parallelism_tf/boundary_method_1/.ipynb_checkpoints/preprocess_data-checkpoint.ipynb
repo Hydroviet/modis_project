{
 "cells": [
  {
   "cell_type": "code",
   "execution_count": 1,
   "metadata": {},
   "outputs": [],
   "source": [
    "import os\n",
    "import sys\n",
    "import numpy as np\n",
    "import json\n",
    "from scipy import misc\n",
    "from matplotlib import pyplot as plt\n",
    "sys.path.append('~/Tan_working')"
   ]
  },
  {
   "cell_type": "code",
   "execution_count": 2,
   "metadata": {},
   "outputs": [],
   "source": [
    "from modis_utils.misc import get_im\n",
    "from modis_utils.misc import cache_data, restore_data"
   ]
  },
  {
   "cell_type": "markdown",
   "metadata": {},
   "source": [
    "# Changeable parameters"
   ]
  },
  {
   "cell_type": "code",
   "execution_count": 6,
   "metadata": {},
   "outputs": [],
   "source": [
    "#modis_product = 'MOD13Q1'\n",
    "modis_product = 'ALL'\n",
    "\n",
    "year_range=(2002, 2017)\n",
    "reservoir_id = 0\n",
    "data_dir = '../raw_data/' + modis_product\n",
    "\n",
    "#used_band = 'blue'\n",
    "used_band = 'NDVI'\n",
    "\n",
    "preprocessed_dir = 'preprocessed_data/'"
   ]
  },
  {
   "cell_type": "code",
   "execution_count": 7,
   "metadata": {},
   "outputs": [],
   "source": [
    "if modis_product == 'ALL':\n",
    "    day_period = 8\n",
    "else:\n",
    "    day_period = 16\n",
    "    \n",
    "n_data_per_year = 365//day_period + 1"
   ]
  },
  {
   "cell_type": "markdown",
   "metadata": {},
   "source": [
    "# Change fill value to -2001"
   ]
  },
  {
   "cell_type": "code",
   "execution_count": 5,
   "metadata": {},
   "outputs": [
    {
     "data": {
      "text/plain": [
       "'preprocessed_data/ALL/change_fill_value'"
      ]
     },
     "execution_count": 5,
     "metadata": {},
     "output_type": "execute_result"
    }
   ],
   "source": [
    "dest_dir = os.path.join(preprocessed_dir, modis_product, 'change_fill_value')"
   ]
  },
  {
   "cell_type": "code",
   "execution_count": 14,
   "metadata": {},
   "outputs": [
    {
     "name": "stdout",
     "output_type": "stream",
     "text": [
      "1_Preprocessing_Data.ipynb  data_file\t\t\traw_data\r\n",
      "Chief_Worker.ipynb\t    eclm_model.py\t\traw_data.zip\r\n",
      "Evaluate.ipynb\t\t    gen_data.py\t\t\treadme.md\r\n",
      "Evaluate_Multi_Steps.ipynb  graphs\t\t\trun_servers.py\r\n",
      "Evaluate_all_methods.ipynb  graphs_1\t\t\trun_train.sh\r\n",
      "Helper_Server.ipynb\t    helper_server.py\t\tsequence_data\r\n",
      "Untitled.ipynb\t\t    inference\t\t\ttest_model.py\r\n",
      "__pycache__\t\t    inference.py\t\ttrain.py\r\n",
      "backup_helper_server.py     inference_helper_server.py\ttrain_keras.py\r\n",
      "backup_inference.py\t    mean_std.dat\t\ttry_distributed\r\n",
      "backup_run_servers.sh\t    modis_utils\t\t\tutils.py\r\n",
      "backup_train.py\t\t    o365_utils.py\t\tvim\r\n",
      "backup_train_1.py\t    percentile\t\t\tvisualize\r\n",
      "boundary_method\t\t    pixel_weights\r\n",
      "checkpoint\t\t    preprocessed_data\r\n"
     ]
    }
   ],
   "source": [
    "!ls .."
   ]
  },
  {
   "cell_type": "code",
   "execution_count": 17,
   "metadata": {},
   "outputs": [
    {
     "name": "stdout",
     "output_type": "stream",
     "text": [
      "0 2001 1\n",
      "0 2001 9\n",
      "0 2001 17\n",
      "0 2001 25\n",
      "0 2001 33\n",
      "0 2001 41\n",
      "0 2001 49\n",
      "0 2001 57\n",
      "0 2001 65\n",
      "0 2001 73\n",
      "0 2001 81\n",
      "0 2001 89\n",
      "0 2001 97\n",
      "0 2001 105\n",
      "0 2001 113\n",
      "0 2001 121\n",
      "0 2001 129\n",
      "0 2001 137\n",
      "0 2001 145\n",
      "0 2001 153\n",
      "0 2001 161\n",
      "0 2001 169\n",
      "0 2001 177\n",
      "0 2001 185\n",
      "0 2001 193\n",
      "0 2001 201\n",
      "0 2001 209\n",
      "0 2001 217\n",
      "0 2001 225\n",
      "0 2001 233\n",
      "0 2001 241\n",
      "0 2001 249\n",
      "0 2001 257\n",
      "0 2001 265\n",
      "0 2001 273\n",
      "0 2001 281\n",
      "0 2001 289\n",
      "0 2001 297\n",
      "0 2001 305\n",
      "0 2001 313\n",
      "0 2001 321\n",
      "0 2001 329\n",
      "0 2001 337\n",
      "0 2001 345\n",
      "0 2001 353\n",
      "0 2001 361\n",
      "0 2002 1\n",
      "0 2002 9\n",
      "0 2002 17\n",
      "0 2002 25\n",
      "0 2002 33\n",
      "0 2002 41\n",
      "0 2002 49\n",
      "0 2002 57\n",
      "0 2002 65\n",
      "0 2002 73\n",
      "0 2002 81\n",
      "0 2002 89\n",
      "0 2002 97\n",
      "0 2002 105\n",
      "0 2002 113\n",
      "0 2002 121\n",
      "0 2002 129\n",
      "0 2002 137\n",
      "0 2002 145\n",
      "0 2002 153\n",
      "0 2002 161\n",
      "0 2002 169\n"
     ]
    }
   ],
   "source": [
    "for reservoir_index in [reservoir_id]:\n",
    "    data_dir_1 = os.path.join(data_dir, str(reservoir_index))\n",
    "    for year in range(year_range[0], year_range[1] + 1):\n",
    "        for d in range(n_data_per_year):\n",
    "            day = d*day_period + 1\n",
    "            current_dir = os.path.join(data_dir_1, str(year), str(year) + str(day).zfill(3))\n",
    "            try:\n",
    "                img_dir = list(filter(lambda x: used_band in x, os.listdir(current_dir)))[0]\n",
    "                path = os.path.join(current_dir, img_dir)\n",
    "                img = get_im(path)\n",
    "\n",
    "                img[img == -3000] = -2001\n",
    "                cur_dest_dir = os.path.join(dest_dir, str(reservoir_index), str(year),\n",
    "                                            str(year) + str(day).zfill(3))\n",
    "                try:\n",
    "                    os.makedirs(cur_dest_dir)\n",
    "                except:\n",
    "                    pass\n",
    "                cache_data(img, os.path.join(cur_dest_dir, img_dir[:-4] + '.dat'))\n",
    "            except:\n",
    "                print(reservoir_index, year, day)\n",
    "                pass"
   ]
  },
  {
   "cell_type": "markdown",
   "metadata": {},
   "source": [
    "# Normalize data: (img - mean)/std"
   ]
  },
  {
   "cell_type": "code",
   "execution_count": 16,
   "metadata": {},
   "outputs": [],
   "source": [
    "data_dir = preprocessed_dir + 'change_fill_value/' + modis_product\n",
    "dest_dir = preprocessed_dir + 'normalized/' + modis_product"
   ]
  },
  {
   "cell_type": "markdown",
   "metadata": {},
   "source": [
    "## Calculate mean and std"
   ]
  },
  {
   "cell_type": "code",
   "execution_count": 17,
   "metadata": {},
   "outputs": [],
   "source": [
    "mean_std_dict = {}\n",
    "for reservoir_index in range(n_reservoirs):\n",
    "    total_img = []\n",
    "    for year in range(year_range[0], year_range[0] + 1):\n",
    "        for d in range(1):\n",
    "            day = d*day_period + 1\n",
    "            img_dir = find_img_name(data_dir=data_dir,\n",
    "                                    reservoir_index=reservoir_index,\n",
    "                                    band_find=used_band,\n",
    "                                    year=year, day=day)\n",
    "            img = restore_data(os.path.join(img_dir))\n",
    "            total_img.append(img)\n",
    "    total_img = np.vstack(total_img)\n",
    "    mean_std_dict[reservoir_index] = {'mean': np.mean(total_img),\n",
    "                                      'std': np.std(total_img)}"
   ]
  },
  {
   "cell_type": "code",
   "execution_count": 18,
   "metadata": {},
   "outputs": [],
   "source": [
    "mean_std_dir = os.path.join('mean_std', data_dir)\n",
    "try:\n",
    "    os.makedirs(mean_std_dir)\n",
    "except:\n",
    "    pass\n",
    "\n",
    "cache_data(mean_std_dict, os.path.join(mean_std_dir, 'mean_std.dat'))"
   ]
  },
  {
   "cell_type": "code",
   "execution_count": 19,
   "metadata": {},
   "outputs": [
    {
     "data": {
      "text/plain": [
       "{0: {'mean': 4451.6206, 'std': 2728.1873},\n",
       " 1: {'mean': 4861.3423, 'std': 2400.249},\n",
       " 2: {'mean': 6645.236, 'std': 2422.827},\n",
       " 3: {'mean': 3869.2444, 'std': 1798.6421},\n",
       " 4: {'mean': 4162.976, 'std': 1522.1868},\n",
       " 5: {'mean': 4263.289, 'std': 1863.2147},\n",
       " 6: {'mean': 6382.211, 'std': 1288.4972},\n",
       " 7: {'mean': 3887.5776, 'std': 2072.7852},\n",
       " 8: {'mean': 4164.7646, 'std': 1830.4982},\n",
       " 9: {'mean': 5707.8745, 'std': 1810.8042},\n",
       " 10: {'mean': 4088.6785, 'std': 1249.143},\n",
       " 11: {'mean': 3927.2249, 'std': 1705.9479},\n",
       " 12: {'mean': 3306.905, 'std': 1941.948},\n",
       " 13: {'mean': 3971.859, 'std': 2198.2883},\n",
       " 14: {'mean': 3486.9578, 'std': 1823.9814},\n",
       " 15: {'mean': 5199.7905, 'std': 1689.0787},\n",
       " 16: {'mean': 3832.5652, 'std': 1456.273},\n",
       " 17: {'mean': 4541.2236, 'std': 1382.1403},\n",
       " 18: {'mean': 6119.65, 'std': 2288.0142},\n",
       " 19: {'mean': 2909.4187, 'std': 1848.3088},\n",
       " 20: {'mean': 4181.6343, 'std': 1707.2988},\n",
       " 21: {'mean': 4927.366, 'std': 2069.0547},\n",
       " 22: {'mean': 4354.4624, 'std': 2515.2427},\n",
       " 23: {'mean': 4355.203, 'std': 3146.2612},\n",
       " 24: {'mean': 5341.615, 'std': 2363.8481},\n",
       " 25: {'mean': 3741.6985, 'std': 1815.9374},\n",
       " 26: {'mean': 4605.075, 'std': 3116.2405},\n",
       " 27: {'mean': 3794.7231, 'std': 3191.2434},\n",
       " 28: {'mean': 3682.5461, 'std': 1941.1947},\n",
       " 29: {'mean': 3086.5657, 'std': 3461.3027},\n",
       " 30: {'mean': 3214.0327, 'std': 2648.1863},\n",
       " 31: {'mean': 3156.5657, 'std': 2826.3567},\n",
       " 32: {'mean': 2222.6633, 'std': 2197.033},\n",
       " 33: {'mean': 2514.2305, 'std': 3106.6196},\n",
       " 34: {'mean': 1877.5564, 'std': 2216.2034},\n",
       " 35: {'mean': 2156.9675, 'std': 1711.5885},\n",
       " 36: {'mean': 2616.1482, 'std': 2081.782},\n",
       " 37: {'mean': 3457.4604, 'std': 2477.4155},\n",
       " 38: {'mean': -12.408631, 'std': 726.48083},\n",
       " 39: {'mean': 903.2032, 'std': 1164.0431}}"
      ]
     },
     "execution_count": 19,
     "metadata": {},
     "output_type": "execute_result"
    }
   ],
   "source": [
    "mean_std_dict"
   ]
  },
  {
   "cell_type": "markdown",
   "metadata": {},
   "source": [
    "## Create normalized images"
   ]
  },
  {
   "cell_type": "code",
   "execution_count": 18,
   "metadata": {},
   "outputs": [],
   "source": [
    "mean_std = restore_data('../mean_std.dat_std.dat')"
   ]
  },
  {
   "cell_type": "code",
   "execution_count": null,
   "metadata": {},
   "outputs": [],
   "source": [
    "for reservoir_index in [reservoir_id]:\n",
    "    mean = mean_std_dict[reservoir_index]['mean']\n",
    "    std = mean_std_dict[reservoir_index]['std']\n",
    "    for year in range(year_range[0], year_range[1] + 1):\n",
    "        for d in range(n_data_per_year):\n",
    "            day = d*day_period + 1\n",
    "            prefix = os.path.join(str(reservoir_index), str(year),\n",
    "                                  str(year) + str(day).zfill(3))\n",
    "            dir_prefix = os.path.join(data_dir, prefix)\n",
    "            try:\n",
    "                img_dir = find_img_name_1(data_dir=data_dir,\n",
    "                                          reservoir_index=reservoir_index,\n",
    "                                          band_find=used_band,\n",
    "                                          year=year, day=day)\n",
    "                img = restore_data(os.path.join(dir_prefix, img_dir))\n",
    "\n",
    "                normalized_img = (img - mean)/std\n",
    "                cur_dest_dir = os.path.join(dest_dir, str(reservoir_index), str(year),\n",
    "                                            str(year) + str(day).zfill(3))\n",
    "                try:\n",
    "                    os.makedirs(cur_dest_dir)\n",
    "                except:\n",
    "                    pass\n",
    "                cache_data(normalized_img, os.path.join(cur_dest_dir, img_dir))\n",
    "            except:\n",
    "                #print(reservoir_index, year, day)\n",
    "                pass"
   ]
  },
  {
   "cell_type": "code",
   "execution_count": null,
   "metadata": {},
   "outputs": [],
   "source": []
  },
  {
   "cell_type": "markdown",
   "metadata": {},
   "source": [
    "# Min-max scaler (Scale to 0-1)"
   ]
  },
  {
   "cell_type": "code",
   "execution_count": 19,
   "metadata": {},
   "outputs": [],
   "source": [
    "data_dir = os.path.join(preprocessed_dir, modis_product, 'change_fill_value')\n",
    "dest_dir = os.path.join(preprocessed_dir, modis_product, 'zero_one')"
   ]
  },
  {
   "cell_type": "code",
   "execution_count": 20,
   "metadata": {},
   "outputs": [],
   "source": [
    "min_val = -2001\n",
    "max_val = 10000"
   ]
  },
  {
   "cell_type": "code",
   "execution_count": 21,
   "metadata": {},
   "outputs": [],
   "source": [
    "for reservoir_index in [reservoir_id]:\n",
    "    data_dir_1 = os.path.join(data_dir, str(reservoir_index))\n",
    "    for year in range(year_range[0], year_range[1] + 1):\n",
    "        for d in range(n_data_per_year):\n",
    "            day = d*day_period + 1\n",
    "            current_dir = os.path.join(data_dir_1, str(year), str(year) + str(day).zfill(3))\n",
    "            try:\n",
    "                img_dir = list(filter(lambda x: used_band in x, os.listdir(current_dir)))[0]\n",
    "                path = os.path.join(current_dir, img_dir)\n",
    "                img = restore_data(path)\n",
    "\n",
    "                normalized_img = (img - min_val)*1.0 / (max_val - min_val)\n",
    "                cur_dest_dir = os.path.join(dest_dir, str(reservoir_index), str(year),\n",
    "                                            str(year) + str(day).zfill(3))\n",
    "                try:\n",
    "                    os.makedirs(cur_dest_dir)\n",
    "                except:\n",
    "                    pass\n",
    "                cache_data(normalized_img, os.path.join(cur_dest_dir, img_dir))\n",
    "            except:\n",
    "                #print(reservoir_index, year, day)\n",
    "                pass"
   ]
  },
  {
   "cell_type": "markdown",
   "metadata": {},
   "source": [
    "# Z-Score normalization"
   ]
  },
  {
   "cell_type": "code",
   "execution_count": 22,
   "metadata": {},
   "outputs": [],
   "source": [
    "train_year_range = (2002, 2015)"
   ]
  },
  {
   "cell_type": "code",
   "execution_count": null,
   "metadata": {},
   "outputs": [],
   "source": []
  }
 ],
 "metadata": {
  "kernelspec": {
   "display_name": "Python 3",
   "language": "python",
   "name": "python3"
  },
  "language_info": {
   "codemirror_mode": {
    "name": "ipython",
    "version": 3
   },
   "file_extension": ".py",
   "mimetype": "text/x-python",
   "name": "python",
   "nbconvert_exporter": "python",
   "pygments_lexer": "ipython3",
   "version": "3.6.8"
  }
 },
 "nbformat": 4,
 "nbformat_minor": 2
}
