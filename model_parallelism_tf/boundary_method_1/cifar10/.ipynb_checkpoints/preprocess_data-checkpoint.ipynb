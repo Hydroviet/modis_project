{
 "cells": [
  {
   "cell_type": "code",
   "execution_count": 1,
   "metadata": {},
   "outputs": [],
   "source": [
    "import os\n",
    "import sys\n",
    "import numpy as np\n",
    "import json\n",
    "from scipy import misc\n",
    "from matplotlib import pyplot as plt\n",
    "sys.path.append('~/Tan_working')"
   ]
  },
  {
   "cell_type": "code",
   "execution_count": null,
   "metadata": {},
   "outputs": [],
   "source": [
    "from modis_utils.preprocessing.image_processing import mask_cloud_and_water\n",
    "from modis_utils.misc import get_im, find_img_name, find_img_name_1\n",
    "from modis_utils.misc import cache_data, restore_data"
   ]
  },
  {
   "cell_type": "markdown",
   "metadata": {},
   "source": [
    "# Changeable parameters"
   ]
  },
  {
   "cell_type": "code",
   "execution_count": 15,
   "metadata": {},
   "outputs": [],
   "source": [
    "modis_product = 'MOD13Q1'\n",
    "#modis_product = 'ALL'\n",
    "\n",
    "year_range=(2002, 2018)\n",
    "n_reservoirs = 40\n",
    "data_dir = 'raw_data/' + modis_product\n",
    "mask_data_dir = 'mask_data/' + modis_product\n",
    "\n",
    "#used_band = 'blue'\n",
    "used_band = 'NDVI'\n",
    "\n",
    "preprocessed_dir = 'preprocessed_data/mask_cloud/'"
   ]
  },
  {
   "cell_type": "code",
   "execution_count": 3,
   "metadata": {},
   "outputs": [],
   "source": [
    "if modis_product == 'ALL':\n",
    "    day_period = 8\n",
    "else:\n",
    "    day_period = 16\n",
    "    \n",
    "n_data_per_year = 365//day_period + 1"
   ]
  },
  {
   "cell_type": "markdown",
   "metadata": {},
   "source": [
    "# Create water/land/cloud mask"
   ]
  },
  {
   "cell_type": "code",
   "execution_count": 5,
   "metadata": {},
   "outputs": [],
   "source": [
    "if used_band == 'NDVI':\n",
    "    for reservoir_index in range(n_reservoirs):\n",
    "        for year in range(year_range[0], year_range[1] + 1):\n",
    "            for d in range(n_data_per_year):\n",
    "                day = d*day_period + 1\n",
    "                prefix = os.path.join(str(reservoir_index), str(year),\n",
    "                                      str(year) + str(day).zfill(3))\n",
    "                dir_prefix = os.path.join(data_dir, prefix)\n",
    "                try:\n",
    "                    water_cloud_mask = mask_cloud_and_water(dir_prefix, used_band)\n",
    "                    cur_mask_data_dir = os.path.join(mask_data_dir, prefix)\n",
    "                    try:\n",
    "                        os.makedirs(cur_mask_data_dir)\n",
    "                    except:\n",
    "                        pass\n",
    "                    cache_data(water_cloud_mask, os.path.join(cur_mask_data_dir, 'masked.dat'))\n",
    "                except:\n",
    "                    #print(reservoir_index, year, day)\n",
    "                    pass"
   ]
  },
  {
   "cell_type": "markdown",
   "metadata": {},
   "source": [
    "# Change fill value to -2001"
   ]
  },
  {
   "cell_type": "code",
   "execution_count": 5,
   "metadata": {},
   "outputs": [],
   "source": [
    "dest_dir = preprocessed_dir + 'change_fill_value/' + modis_product"
   ]
  },
  {
   "cell_type": "code",
   "execution_count": 6,
   "metadata": {},
   "outputs": [],
   "source": [
    "for reservoir_index in range(n_reservoirs):\n",
    "    for year in range(year_range[0] - 1, year_range[1] + 1):\n",
    "        for d in range(n_data_per_year):\n",
    "            day = d*day_period + 1\n",
    "            prefix = os.path.join(str(reservoir_index), str(year),\n",
    "                                  str(year) + str(day).zfill(3))\n",
    "            dir_prefix = os.path.join(data_dir, prefix)\n",
    "            try:\n",
    "                img_dir = find_img_name_1(data_dir=data_dir,\n",
    "                                          reservoir_index=reservoir_index,\n",
    "                                          band_find=used_band,\n",
    "                                          year=year, day=day)\n",
    "                img = get_im(os.path.join(dir_prefix, img_dir))\n",
    "\n",
    "                img[img == -3000] = -2001\n",
    "                cur_dest_dir = os.path.join(dest_dir, str(reservoir_index), str(year),\n",
    "                                            str(year) + str(day).zfill(3))\n",
    "                try:\n",
    "                    os.makedirs(cur_dest_dir)\n",
    "                except:\n",
    "                    pass\n",
    "                cache_data(img, os.path.join(cur_dest_dir, img_dir[:-4] + '.dat'))\n",
    "            except:\n",
    "                #print(reservoir_index, year, day)\n",
    "                pass"
   ]
  },
  {
   "cell_type": "markdown",
   "metadata": {},
   "source": [
    "# Normalize data: (img - mean)/std"
   ]
  },
  {
   "cell_type": "code",
   "execution_count": 16,
   "metadata": {},
   "outputs": [],
   "source": [
    "data_dir = preprocessed_dir + 'change_fill_value/' + modis_product\n",
    "dest_dir = preprocessed_dir + 'normalized/' + modis_product"
   ]
  },
  {
   "cell_type": "markdown",
   "metadata": {},
   "source": [
    "## Calculate mean and std"
   ]
  },
  {
   "cell_type": "code",
   "execution_count": 17,
   "metadata": {},
   "outputs": [],
   "source": [
    "mean_std_dict = {}\n",
    "for reservoir_index in range(n_reservoirs):\n",
    "    total_img = []\n",
    "    for year in range(year_range[0], year_range[0] + 1):\n",
    "        for d in range(1):\n",
    "            day = d*day_period + 1\n",
    "            img_dir = find_img_name(data_dir=data_dir,\n",
    "                                    reservoir_index=reservoir_index,\n",
    "                                    band_find=used_band,\n",
    "                                    year=year, day=day)\n",
    "            img = restore_data(os.path.join(img_dir))\n",
    "            total_img.append(img)\n",
    "    total_img = np.vstack(total_img)\n",
    "    mean_std_dict[reservoir_index] = {'mean': np.mean(total_img),\n",
    "                                      'std': np.std(total_img)}"
   ]
  },
  {
   "cell_type": "code",
   "execution_count": 18,
   "metadata": {},
   "outputs": [],
   "source": [
    "mean_std_dir = os.path.join('mean_std', data_dir)\n",
    "try:\n",
    "    os.makedirs(mean_std_dir)\n",
    "except:\n",
    "    pass\n",
    "\n",
    "cache_data(mean_std_dict, os.path.join(mean_std_dir, 'mean_std.dat'))"
   ]
  },
  {
   "cell_type": "code",
   "execution_count": 19,
   "metadata": {},
   "outputs": [
    {
     "data": {
      "text/plain": [
       "{0: {'mean': 4451.6206, 'std': 2728.1873},\n",
       " 1: {'mean': 4861.3423, 'std': 2400.249},\n",
       " 2: {'mean': 6645.236, 'std': 2422.827},\n",
       " 3: {'mean': 3869.2444, 'std': 1798.6421},\n",
       " 4: {'mean': 4162.976, 'std': 1522.1868},\n",
       " 5: {'mean': 4263.289, 'std': 1863.2147},\n",
       " 6: {'mean': 6382.211, 'std': 1288.4972},\n",
       " 7: {'mean': 3887.5776, 'std': 2072.7852},\n",
       " 8: {'mean': 4164.7646, 'std': 1830.4982},\n",
       " 9: {'mean': 5707.8745, 'std': 1810.8042},\n",
       " 10: {'mean': 4088.6785, 'std': 1249.143},\n",
       " 11: {'mean': 3927.2249, 'std': 1705.9479},\n",
       " 12: {'mean': 3306.905, 'std': 1941.948},\n",
       " 13: {'mean': 3971.859, 'std': 2198.2883},\n",
       " 14: {'mean': 3486.9578, 'std': 1823.9814},\n",
       " 15: {'mean': 5199.7905, 'std': 1689.0787},\n",
       " 16: {'mean': 3832.5652, 'std': 1456.273},\n",
       " 17: {'mean': 4541.2236, 'std': 1382.1403},\n",
       " 18: {'mean': 6119.65, 'std': 2288.0142},\n",
       " 19: {'mean': 2909.4187, 'std': 1848.3088},\n",
       " 20: {'mean': 4181.6343, 'std': 1707.2988},\n",
       " 21: {'mean': 4927.366, 'std': 2069.0547},\n",
       " 22: {'mean': 4354.4624, 'std': 2515.2427},\n",
       " 23: {'mean': 4355.203, 'std': 3146.2612},\n",
       " 24: {'mean': 5341.615, 'std': 2363.8481},\n",
       " 25: {'mean': 3741.6985, 'std': 1815.9374},\n",
       " 26: {'mean': 4605.075, 'std': 3116.2405},\n",
       " 27: {'mean': 3794.7231, 'std': 3191.2434},\n",
       " 28: {'mean': 3682.5461, 'std': 1941.1947},\n",
       " 29: {'mean': 3086.5657, 'std': 3461.3027},\n",
       " 30: {'mean': 3214.0327, 'std': 2648.1863},\n",
       " 31: {'mean': 3156.5657, 'std': 2826.3567},\n",
       " 32: {'mean': 2222.6633, 'std': 2197.033},\n",
       " 33: {'mean': 2514.2305, 'std': 3106.6196},\n",
       " 34: {'mean': 1877.5564, 'std': 2216.2034},\n",
       " 35: {'mean': 2156.9675, 'std': 1711.5885},\n",
       " 36: {'mean': 2616.1482, 'std': 2081.782},\n",
       " 37: {'mean': 3457.4604, 'std': 2477.4155},\n",
       " 38: {'mean': -12.408631, 'std': 726.48083},\n",
       " 39: {'mean': 903.2032, 'std': 1164.0431}}"
      ]
     },
     "execution_count": 19,
     "metadata": {},
     "output_type": "execute_result"
    }
   ],
   "source": [
    "mean_std_dict"
   ]
  },
  {
   "cell_type": "markdown",
   "metadata": {},
   "source": [
    "## Create normalized images"
   ]
  },
  {
   "cell_type": "code",
   "execution_count": null,
   "metadata": {},
   "outputs": [],
   "source": [
    "for reservoir_index in range(n_reservoirs):\n",
    "    mean = mean_std_dict[reservoir_index]['mean']\n",
    "    std = mean_std_dict[reservoir_index]['std']\n",
    "    for year in range(year_range[0], year_range[1] + 1):\n",
    "        for d in range(n_data_per_year):\n",
    "            day = d*day_period + 1\n",
    "            prefix = os.path.join(str(reservoir_index), str(year),\n",
    "                                  str(year) + str(day).zfill(3))\n",
    "            dir_prefix = os.path.join(data_dir, prefix)\n",
    "            try:\n",
    "                img_dir = find_img_name_1(data_dir=data_dir,\n",
    "                                          reservoir_index=reservoir_index,\n",
    "                                          band_find=used_band,\n",
    "                                          year=year, day=day)\n",
    "                img = restore_data(os.path.join(dir_prefix, img_dir))\n",
    "\n",
    "                normalized_img = (img - mean)/std\n",
    "                cur_dest_dir = os.path.join(dest_dir, str(reservoir_index), str(year),\n",
    "                                            str(year) + str(day).zfill(3))\n",
    "                try:\n",
    "                    os.makedirs(cur_dest_dir)\n",
    "                except:\n",
    "                    pass\n",
    "                cache_data(normalized_img, os.path.join(cur_dest_dir, img_dir))\n",
    "            except:\n",
    "                #print(reservoir_index, year, day)\n",
    "                pass"
   ]
  },
  {
   "cell_type": "markdown",
   "metadata": {},
   "source": [
    "## Create normalized images by division 10000"
   ]
  },
  {
   "cell_type": "code",
   "execution_count": null,
   "metadata": {},
   "outputs": [],
   "source": [
    "data_dir = preprocessed_dir + 'change_fill_value/' + modis_product\n",
    "dest_dir = preprocessed_dir + 'normalized_div/' + modis_product"
   ]
  },
  {
   "cell_type": "code",
   "execution_count": null,
   "metadata": {},
   "outputs": [],
   "source": [
    "for reservoir_index in range(4, n_reservoirs):\n",
    "    for year in range(year_range[0], year_range[1] + 1):\n",
    "        for d in range(n_data_per_year):\n",
    "            day = d*day_period + 1\n",
    "            prefix = os.path.join(str(reservoir_index), str(year),\n",
    "                                  str(year) + str(day).zfill(3))\n",
    "            dir_prefix = os.path.join(data_dir, prefix)\n",
    "            try:\n",
    "                img_dir = find_img_name_1(data_dir=data_dir,\n",
    "                                          reservoir_index=reservoir_index,\n",
    "                                          band_find=used_band,\n",
    "                                          year=year, day=day)\n",
    "                img = restore_data(os.path.join(dir_prefix, img_dir))\n",
    "\n",
    "                normalized_img = img/10000\n",
    "                cur_dest_dir = os.path.join(dest_dir, str(reservoir_index), str(year),\n",
    "                                            str(year) + str(day).zfill(3))\n",
    "                try:\n",
    "                    os.makedirs(cur_dest_dir)\n",
    "                except:\n",
    "                    pass\n",
    "                cache_data(normalized_img, os.path.join(cur_dest_dir, img_dir))\n",
    "            except:\n",
    "                #print(reservoir_index, year, day)\n",
    "                pass"
   ]
  },
  {
   "cell_type": "code",
   "execution_count": 39,
   "metadata": {},
   "outputs": [],
   "source": [
    "data_dir = 'preprocessed_data/non_mask_cloud/normalized/' + modis_product"
   ]
  },
  {
   "cell_type": "code",
   "execution_count": 40,
   "metadata": {},
   "outputs": [],
   "source": [
    "min_max_dict = {}\n",
    "for reservoir_index in range(n_reservoirs):\n",
    "    total_img = []\n",
    "    for year in range(year_range[0], year_range[0] + 1):\n",
    "        for d in range(1):\n",
    "            day = d*day_period + 1\n",
    "            img_dir = find_img_name(data_dir=data_dir,\n",
    "                                    reservoir_index=reservoir_index,\n",
    "                                    band_find=used_band,\n",
    "                                    year=year, day=day)\n",
    "            img = restore_data(os.path.join(img_dir))\n",
    "            total_img.append(img)\n",
    "    total_img = np.vstack(total_img)\n",
    "    min_max_dict[reservoir_index] = {'min': np.min(total_img),\n",
    "                                     'max': np.max(total_img)}\n",
    "    \n",
    "min_max_dir = os.path.join('min_max', data_dir)\n",
    "try:\n",
    "    os.makedirs(min_max_dir)\n",
    "except:\n",
    "    pass\n",
    "\n",
    "#cache_data(min_max_dict, os.path.join(min_max_dir, 'min_max.dat'))"
   ]
  },
  {
   "cell_type": "code",
   "execution_count": 41,
   "metadata": {},
   "outputs": [
    {
     "data": {
      "text/plain": [
       "{0: {'min': -1.8399645, 'max': 1.6867199},\n",
       " 1: {'min': -2.4132743, 'max': 1.6878362},\n",
       " 2: {'min': -3.249838, 'max': 1.2729893},\n",
       " 3: {'min': -3.040554, 'max': 2.4678233},\n",
       " 4: {'min': -3.9231975, 'max': 2.9116604},\n",
       " 5: {'min': -3.0478222, 'max': 2.3930225},\n",
       " 6: {'min': -6.7657175, 'max': 2.7251136},\n",
       " 7: {'min': -2.6247876, 'max': 1.9839951},\n",
       " 8: {'min': -3.3144531, 'max': 2.1920333},\n",
       " 9: {'min': -3.527634, 'max': 1.4317882},\n",
       " 10: {'min': -4.8750854, 'max': 3.3305411},\n",
       " 11: {'min': -3.4629521, 'max': 1.9214604},\n",
       " 12: {'min': -2.4016418, 'max': 1.7755479},\n",
       " 13: {'min': -2.674013, 'max': 2.5543497},\n",
       " 14: {'min': -2.8298082, 'max': 2.8262644},\n",
       " 15: {'min': -3.9777837, 'max': 1.8982002},\n",
       " 16: {'min': -4.0058184, 'max': 2.205929},\n",
       " 17: {'min': -4.4645166, 'max': 3.1125612},\n",
       " 18: {'min': -3.5196378, 'max': 1.5141374},\n",
       " 19: {'min': -2.422828, 'max': 1.7056148},\n",
       " 20: {'min': -3.474518, 'max': 2.098957},\n",
       " 21: {'min': -3.3399713, 'max': 1.3884627},\n",
       " 22: {'min': -2.526779, 'max': 1.4899309},\n",
       " 23: {'min': -1.9896839, 'max': 1.3739125},\n",
       " 24: {'min': -2.9864888, 'max': 1.4389241},\n",
       " 25: {'min': -2.842759, 'max': 1.6291382},\n",
       " 26: {'min': -1.8621143, 'max': 1.5409178},\n",
       " 27: {'min': -1.3327605, 'max': 1.6574571},\n",
       " 28: {'min': -2.8494296, 'max': 1.9820783},\n",
       " 29: {'min': -1.1365709, 'max': 1.477121},\n",
       " 30: {'min': -1.8807367, 'max': 1.9674252},\n",
       " 31: {'min': -1.6777142, 'max': 1.7388613},\n",
       " 32: {'min': -1.6761949, 'max': 2.2118387},\n",
       " 33: {'min': -1.1995305, 'max': 1.6994383},\n",
       " 34: {'min': -1.2442122, 'max': 2.1077862},\n",
       " 35: {'min': -1.8642868, 'max': 2.0135021},\n",
       " 36: {'min': -1.804928, 'max': 1.9921429},\n",
       " 37: {'min': -1.7979143, 'max': 1.391092},\n",
       " 38: {'min': -1.9958179, 'max': 4.193822},\n",
       " 39: {'min': -2.0914397, 'max': 2.4724238}}"
      ]
     },
     "execution_count": 41,
     "metadata": {},
     "output_type": "execute_result"
    }
   ],
   "source": [
    "min_max_dict"
   ]
  },
  {
   "cell_type": "code",
   "execution_count": null,
   "metadata": {},
   "outputs": [],
   "source": []
  }
 ],
 "metadata": {
  "kernelspec": {
   "display_name": "Python 3",
   "language": "python",
   "name": "python3"
  },
  "language_info": {
   "codemirror_mode": {
    "name": "ipython",
    "version": 3
   },
   "file_extension": ".py",
   "mimetype": "text/x-python",
   "name": "python",
   "nbconvert_exporter": "python",
   "pygments_lexer": "ipython3",
   "version": "3.6.8"
  }
 },
 "nbformat": 4,
 "nbformat_minor": 2
}
