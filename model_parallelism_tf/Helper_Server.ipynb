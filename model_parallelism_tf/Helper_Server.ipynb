{
 "cells": [
  {
   "cell_type": "code",
   "execution_count": 1,
   "metadata": {},
   "outputs": [
    {
     "name": "stderr",
     "output_type": "stream",
     "text": [
      "/usr/local/lib/python3.6/site-packages/h5py/__init__.py:36: FutureWarning: Conversion of the second argument of issubdtype from `float` to `np.floating` is deprecated. In future, it will be treated as `np.float64 == np.dtype(float).type`.\n",
      "  from ._conv import register_converters as _register_converters\n"
     ]
    }
   ],
   "source": [
    "import tensorflow as tf"
   ]
  },
  {
   "cell_type": "code",
   "execution_count": null,
   "metadata": {},
   "outputs": [],
   "source": [
    "# Define your list of IP address / port number combos\n",
    "IP_ADDRESS1='localhost'\n",
    "PORT1='2222'\n",
    "IP_ADDRESS2='localhost'\n",
    "PORT2='2224'\n",
    "\n",
    "# Define cluster\n",
    "cluster_spec = tf.train.ClusterSpec({'worker' : [(IP_ADDRESS1 + \":\" + PORT1), (IP_ADDRESS2 + \":\" + PORT2)]})\n",
    "\n",
    "# Task index (integer) should correspond to the IP address of the machine that you are running this notebook on...\n",
    "\n",
    "# For example, if you are running this notebook on (IP_ADDRESS2 + \":\" + PORT2), task_idx=1 because it is \n",
    "# responsible for the second task of the job:worker based on how you defined cluster_spec above\n",
    "\n",
    "# Define server for specific machine\n",
    "task_idx=1 #<--- This will be different for each non-chief machine you run this script on\n",
    "server = tf.train.Server(cluster_spec, job_name='worker', task_index=task_idx)\n",
    "\n",
    "# Server will run as long as the notebook is running\n",
    "server.join()"
   ]
  },
  {
   "cell_type": "code",
   "execution_count": null,
   "metadata": {},
   "outputs": [],
   "source": []
  }
 ],
 "metadata": {
  "kernelspec": {
   "display_name": "Python 3",
   "language": "python",
   "name": "python3"
  },
  "language_info": {
   "codemirror_mode": {
    "name": "ipython",
    "version": 3
   },
   "file_extension": ".py",
   "mimetype": "text/x-python",
   "name": "python",
   "nbconvert_exporter": "python",
   "pygments_lexer": "ipython3",
   "version": "3.6.5"
  }
 },
 "nbformat": 4,
 "nbformat_minor": 2
}
