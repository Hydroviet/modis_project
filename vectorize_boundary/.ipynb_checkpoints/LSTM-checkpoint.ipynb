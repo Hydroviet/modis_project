{
 "cells": [
  {
   "cell_type": "code",
   "execution_count": 428,
   "metadata": {},
   "outputs": [],
   "source": [
    "import os\n",
    "import sys\n",
    "import h5py\n",
    "import pickle\n",
    "import subprocess\n",
    "import numpy as np\n",
    "from time import time\n",
    "import matplotlib.pyplot as plt\n",
    "from shapely.geometry import Polygon\n",
    "from sklearn.preprocessing import MinMaxScaler\n",
    "\n",
    "import keras\n",
    "import keras.backend as K\n",
    "from keras.layers import Input, LSTM, BatchNormalization\n",
    "from keras.models import Model, load_model"
   ]
  },
  {
   "cell_type": "code",
   "execution_count": 2,
   "metadata": {},
   "outputs": [],
   "source": [
    "sys.path.append('..')"
   ]
  },
  {
   "cell_type": "code",
   "execution_count": 3,
   "metadata": {},
   "outputs": [],
   "source": [
    "from modis_utils.misc import cache_data, restore_data"
   ]
  },
  {
   "cell_type": "code",
   "execution_count": 4,
   "metadata": {},
   "outputs": [],
   "source": [
    "data = restore_data(os.path.join('cache', 'boundary_vectors_ALL_1.dat'))"
   ]
  },
  {
   "cell_type": "code",
   "execution_count": 5,
   "metadata": {},
   "outputs": [
    {
     "name": "stdout",
     "output_type": "stream",
     "text": [
      "(598, 1657, 2)\n",
      "(92, 1657, 2)\n"
     ]
    }
   ],
   "source": [
    "for x in data:\n",
    "    print(x.shape)"
   ]
  },
  {
   "cell_type": "code",
   "execution_count": 6,
   "metadata": {},
   "outputs": [],
   "source": [
    "train_boundary_vectors = data[0]\n",
    "test_boundary_vectors = data[1]"
   ]
  },
  {
   "cell_type": "code",
   "execution_count": 7,
   "metadata": {},
   "outputs": [
    {
     "data": {
      "text/plain": [
       "((598, 1657, 2), (92, 1657, 2))"
      ]
     },
     "execution_count": 7,
     "metadata": {},
     "output_type": "execute_result"
    }
   ],
   "source": [
    "train_boundary_vectors.shape, test_boundary_vectors.shape"
   ]
  },
  {
   "cell_type": "code",
   "execution_count": 8,
   "metadata": {},
   "outputs": [],
   "source": [
    "n_points = train_boundary_vectors.shape[1]"
   ]
  },
  {
   "cell_type": "code",
   "execution_count": 9,
   "metadata": {},
   "outputs": [
    {
     "data": {
      "text/plain": [
       "13"
      ]
     },
     "execution_count": 9,
     "metadata": {},
     "output_type": "execute_result"
    }
   ],
   "source": [
    "n_years = len(train_boundary_vectors)//46\n",
    "n_years"
   ]
  },
  {
   "cell_type": "code",
   "execution_count": 10,
   "metadata": {},
   "outputs": [
    {
     "name": "stdout",
     "output_type": "stream",
     "text": [
      "(506, 1657, 2)\n"
     ]
    }
   ],
   "source": [
    "data_train = train_boundary_vectors[:0].copy()\n",
    "data_test = test_boundary_vectors\n",
    "for i in range(n_years):\n",
    "    year = 2003 + i\n",
    "    if year != 2011 and year != 2013:\n",
    "        data_train = np.vstack([data_train, train_boundary_vectors[i*46 : (i + 1)*46]])\n",
    "print(data_train.shape)"
   ]
  },
  {
   "cell_type": "code",
   "execution_count": 13,
   "metadata": {},
   "outputs": [
    {
     "data": {
      "text/plain": [
       "(506, 3314)"
      ]
     },
     "execution_count": 13,
     "metadata": {},
     "output_type": "execute_result"
    }
   ],
   "source": [
    "data_train_1 = data_train.reshape(data_train.shape[0], -1)\n",
    "data_train_1.shape"
   ]
  },
  {
   "cell_type": "code",
   "execution_count": 15,
   "metadata": {},
   "outputs": [],
   "source": [
    "data_test_1 = data_test.reshape(data_test.shape[0], -1)"
   ]
  },
  {
   "cell_type": "code",
   "execution_count": null,
   "metadata": {},
   "outputs": [],
   "source": []
  },
  {
   "cell_type": "code",
   "execution_count": 16,
   "metadata": {},
   "outputs": [],
   "source": [
    "variants = []"
   ]
  },
  {
   "cell_type": "code",
   "execution_count": 17,
   "metadata": {},
   "outputs": [],
   "source": [
    "for i in range(data_train_1.shape[0]):\n",
    "    var = np.var(data_train_1[:, i])\n",
    "    variants.append((var, i))"
   ]
  },
  {
   "cell_type": "code",
   "execution_count": 20,
   "metadata": {},
   "outputs": [],
   "source": [
    "variants_1 = variants.copy()"
   ]
  },
  {
   "cell_type": "code",
   "execution_count": 21,
   "metadata": {},
   "outputs": [
    {
     "data": {
      "text/plain": [
       "array([[0.00000000e+00, 0.00000000e+00],\n",
       "       [1.59444805e+01, 1.00000000e+00],\n",
       "       [0.00000000e+00, 2.00000000e+00],\n",
       "       ...,\n",
       "       [7.57799684e-01, 5.03000000e+02],\n",
       "       [2.17207736e-01, 5.04000000e+02],\n",
       "       [1.55218797e+00, 5.05000000e+02]])"
      ]
     },
     "execution_count": 21,
     "metadata": {},
     "output_type": "execute_result"
    }
   ],
   "source": [
    "variants_2 = np.asarray(variants_1)\n",
    "variants_2"
   ]
  },
  {
   "cell_type": "code",
   "execution_count": 22,
   "metadata": {},
   "outputs": [
    {
     "data": {
      "text/plain": [
       "(array([  1,   3,   5,   7,   9,  11,  13,  15,  17,  19,  21,  23,  25,\n",
       "         27,  29,  31,  33,  35,  37,  39,  41,  43,  45,  47,  49,  51,\n",
       "         53,  55,  57,  59,  61,  63,  64,  65,  66,  67,  68,  69,  70,\n",
       "         71,  73,  75,  77,  78,  79,  80,  81,  82,  83,  84,  85,  86,\n",
       "         87,  88,  89,  90,  91,  92,  93,  94,  95,  96,  97, 157, 159,\n",
       "        161, 163, 165, 167, 168, 169, 170, 171, 172, 173, 174, 175, 176,\n",
       "        177, 178, 179, 180, 181, 182, 183, 184, 185, 186, 187, 188, 189,\n",
       "        190, 191, 192, 193, 194, 195, 196, 197, 198, 199, 200, 201, 202,\n",
       "        203, 204, 205, 206, 207, 208, 209, 210, 211, 212, 213, 214, 215,\n",
       "        216, 217, 218, 219, 229, 239, 241, 242, 243, 244, 245, 246, 247,\n",
       "        248, 249, 250, 251, 252, 253, 254, 255, 256, 257, 258, 259, 260,\n",
       "        261, 262, 263, 264, 265, 266, 267, 268, 269, 270, 271, 272, 273,\n",
       "        274, 275, 276, 277, 278, 279, 281, 282, 283, 285, 286, 287, 288,\n",
       "        289, 290, 291, 303, 305, 306, 307, 308, 309, 310, 311, 313, 314,\n",
       "        315, 317, 319, 321, 323, 325, 327, 329, 331, 333, 335, 337, 338,\n",
       "        339, 340, 341, 342, 343, 344, 345, 346, 347, 359, 360, 361, 362,\n",
       "        363, 364, 365, 366, 367, 368, 369, 370, 371, 372, 373, 374, 375,\n",
       "        377, 379, 381, 383, 385, 386, 387, 388, 389, 390, 391, 392, 393,\n",
       "        394, 395, 396, 397, 405, 410, 412, 413, 414, 415, 417, 421, 440,\n",
       "        441, 442, 443, 444, 445, 446, 447, 458, 459, 460, 461, 462, 463,\n",
       "        464, 485, 489, 490, 491, 492, 493, 494, 495, 496, 497, 501]),)"
      ]
     },
     "execution_count": 22,
     "metadata": {},
     "output_type": "execute_result"
    }
   ],
   "source": [
    "np.where(variants_2[:,0] > 2)"
   ]
  },
  {
   "cell_type": "code",
   "execution_count": 23,
   "metadata": {},
   "outputs": [],
   "source": [
    "list_idx = np.where(variants_2[:, 0] > 1)[0]"
   ]
  },
  {
   "cell_type": "code",
   "execution_count": 41,
   "metadata": {},
   "outputs": [
    {
     "data": {
      "text/plain": [
       "345"
      ]
     },
     "execution_count": 41,
     "metadata": {},
     "output_type": "execute_result"
    }
   ],
   "source": [
    "len(list_idx)"
   ]
  },
  {
   "cell_type": "code",
   "execution_count": 43,
   "metadata": {},
   "outputs": [
    {
     "data": {
      "text/plain": [
       "(506, 345)"
      ]
     },
     "execution_count": 43,
     "metadata": {},
     "output_type": "execute_result"
    }
   ],
   "source": [
    "data_train_2 = data_train_1[:, list_idx]\n",
    "data_train_2.shape"
   ]
  },
  {
   "cell_type": "code",
   "execution_count": 42,
   "metadata": {},
   "outputs": [
    {
     "data": {
      "text/plain": [
       "(92, 345)"
      ]
     },
     "execution_count": 42,
     "metadata": {},
     "output_type": "execute_result"
    }
   ],
   "source": [
    "data_test_2 = data_test_1[:, list_idx]\n",
    "data_test_2.shape"
   ]
  },
  {
   "cell_type": "code",
   "execution_count": 46,
   "metadata": {},
   "outputs": [
    {
     "name": "stderr",
     "output_type": "stream",
     "text": [
      "/home/anhkhoa/anaconda3/envs/pytf/lib/python3.6/site-packages/sklearn/utils/validation.py:595: DataConversionWarning: Data with input dtype int64 was converted to float64 by MinMaxScaler.\n",
      "  warnings.warn(msg, DataConversionWarning)\n"
     ]
    },
    {
     "data": {
      "text/plain": [
       "MinMaxScaler(copy=True, feature_range=(0, 1))"
      ]
     },
     "execution_count": 46,
     "metadata": {},
     "output_type": "execute_result"
    }
   ],
   "source": [
    "scaler = MinMaxScaler()\n",
    "scaler.fit(data_train_2)"
   ]
  },
  {
   "cell_type": "code",
   "execution_count": 47,
   "metadata": {},
   "outputs": [],
   "source": [
    "data_train_3 = scaler.transform(data_train_2)\n",
    "data_test_3 = scaler.transform(data_test_2)"
   ]
  },
  {
   "cell_type": "code",
   "execution_count": null,
   "metadata": {},
   "outputs": [],
   "source": []
  },
  {
   "cell_type": "code",
   "execution_count": 52,
   "metadata": {},
   "outputs": [],
   "source": [
    "def create_sequence_data(data_train, data_test, timesteps=12):\n",
    "    data_all = np.vstack([data_train, data_test])\n",
    "    len_val = 46\n",
    "    len_train = len(data_train) - timesteps - len_val\n",
    "    len_test = len(data_test)\n",
    "    \n",
    "    train_X = []\n",
    "    train_y = []\n",
    "    val_X = []\n",
    "    val_y = []\n",
    "    test_X = []\n",
    "    test_y = []\n",
    "    \n",
    "    for i in range(timesteps, timesteps + len_train):\n",
    "        X = np.expand_dims(data_all[i - timesteps : i], axis=0)\n",
    "        y = np.expand_dims(data_all[i], axis=0)\n",
    "        train_X.append(X)\n",
    "        train_y.append(y)\n",
    "        \n",
    "    for i in range(timesteps + len_train, timesteps + len_train + len_val):\n",
    "        X = np.expand_dims(data_all[i - timesteps : i], axis=0)\n",
    "        y = np.expand_dims(data_all[i], axis=0)\n",
    "        val_X.append(X)\n",
    "        val_y.append(y)\n",
    "        \n",
    "    for i in range(timesteps + len_train + len_val, timesteps + len_train + len_val + len_test):\n",
    "        X = np.expand_dims(data_all[i - timesteps : i], axis=0)\n",
    "        y = np.expand_dims(data_all[i], axis=0)\n",
    "        test_X.append(X)\n",
    "        test_y.append(y)\n",
    "        \n",
    "    return np.vstack(train_X), np.vstack(train_y), np.vstack(val_X), np.vstack(val_y), np.vstack(test_X), np.vstack(test_y)"
   ]
  },
  {
   "cell_type": "code",
   "execution_count": 53,
   "metadata": {},
   "outputs": [],
   "source": [
    "train_X, train_y, val_X, val_y, test_X, test_y = create_sequence_data(data_train_3, data_test_3)"
   ]
  },
  {
   "cell_type": "code",
   "execution_count": 54,
   "metadata": {},
   "outputs": [],
   "source": [
    "data = {}\n",
    "data['train_X'] = train_X\n",
    "data['train_y'] = train_y\n",
    "data['val_X'] = val_X\n",
    "data['val_y'] = val_y\n",
    "data['test_X'] = test_X\n",
    "data['test_y'] = test_y"
   ]
  },
  {
   "cell_type": "code",
   "execution_count": 55,
   "metadata": {},
   "outputs": [
    {
     "name": "stdout",
     "output_type": "stream",
     "text": [
      "0.0 1.0000000000000009\n",
      "0.0 1.0000000000000009\n",
      "0.0 1.0000000000000009\n",
      "0.0 1.0000000000000009\n",
      "0.0 1.0000000000000009\n",
      "0.0 1.0000000000000009\n"
     ]
    }
   ],
   "source": [
    "for k, v in data.items():\n",
    "    print(v.min(), v.max())"
   ]
  },
  {
   "cell_type": "code",
   "execution_count": null,
   "metadata": {},
   "outputs": [],
   "source": []
  },
  {
   "cell_type": "code",
   "execution_count": 25,
   "metadata": {},
   "outputs": [],
   "source": [
    "def save_data_pickle(data, path):\n",
    "    with open(path, 'wb') as f:\n",
    "        pickle.dump(data, f)\n",
    "\n",
    "def load_data_pickle(path):\n",
    "    with open(path, 'rb') as f:\n",
    "        return pickle.load(f)\n",
    "    \n",
    "def create_empty_list(n):\n",
    "    res = []\n",
    "    for _ in range(n):\n",
    "        res.append(None)\n",
    "    return res\n",
    "\n",
    "def mse(x, y):\n",
    "    return np.mean((x - y)**2)"
   ]
  },
  {
   "cell_type": "code",
   "execution_count": 217,
   "metadata": {},
   "outputs": [],
   "source": [
    "class LSTM_1:\n",
    "\n",
    "    def __init__(self, data, data_train_full, list_idx=None, scaler=None, mode='train'):\n",
    "        self.model_dir = 'lstm'\n",
    "        self.model_path = os.path.join(self.model_dir, 'lstm.h5')\n",
    "        self.mode = mode\n",
    "        self.model = None\n",
    "        \n",
    "        self.data = data\n",
    "        \n",
    "        self.units = data['train_X'].shape[2]\n",
    "        self.timesteps = data['train_X'].shape[1]\n",
    "        self.full_shape = data_train_full.shape[-1]\n",
    "        \n",
    "        if list_idx is None:\n",
    "            self.list_idx = np.arange(self.full_shape)\n",
    "        self.list_idx = list_idx\n",
    "\n",
    "        if not os.path.exists(self.model_dir):\n",
    "            os.makedirs(self.model_dir)\n",
    "            \n",
    "        if self.mode == 'inference':\n",
    "            self.model = self.load_model(self.model_dir)\n",
    "            \n",
    "        self.list_small_variant_idx = np.setdiff1d(np.arange(self.full_shape), self.list_idx)\n",
    "        self.default_values = {}\n",
    "        for i in self.list_small_variant_idx:\n",
    "            mean_value = np.mean(data_train_full[:, i])\n",
    "            self.default_values[i] = int(mean_value)\n",
    "            \n",
    "        self.scaler = scaler\n",
    "        \n",
    "\n",
    "    def load_model(self, model_dir=None):\n",
    "        if model_dir is None:\n",
    "            model_dir = self.model_dir\n",
    "        model_path = os.path.join(model_dir, 'lstm.h5')\n",
    "        return load_model(model_path)\n",
    "    \n",
    "    def _create_model(self):\n",
    "        input_shape = (self.timesteps, self.units)\n",
    "        inputs = Input(input_shape)\n",
    "        x = LSTM(self.units*2, return_sequences=True)(inputs)\n",
    "        x = LSTM(self.units)(x)\n",
    "        model = Model(inputs=inputs, outputs=x)\n",
    "        model.compile(loss='mse', optimizer='adam')\n",
    "        return model\n",
    "    \n",
    "    def train(self, epochs=1, batch_size=1):\n",
    "        K.clear_session()\n",
    "        self.model = self._create_model()\n",
    "        history = self.model.fit(self.data['train_X'], self.data['train_y'],\n",
    "                                 epochs=epochs, batch_size=batch_size,\n",
    "                                 validation_data=(data['val_X'], data['val_y']))\n",
    "        plt.plot(history.history['loss'], color='r', label='train loss')\n",
    "        plt.plot(history.history['val_loss'], color='b', label='val loss')\n",
    "        plt.legend()\n",
    "        self.model.save(self.model_path)\n",
    "        return self.model_path\n",
    "        \n",
    "    def inference(self, input_test, return_full=None, return_original_range=False):\n",
    "        if self.model is None:\n",
    "            self.model = self.load_model()\n",
    "        if len(input_test.shape) == 2:\n",
    "            input_test = np.expand_dims(input_test, axis=0)\n",
    "        inferences = self.model.predict(input_test, batch_size=64)\n",
    "        if return_full:\n",
    "            inferences = self.scaler.inverse_transform(inferences)\n",
    "            outputs = []\n",
    "            for idx, input_test_i in enumerate(input_test):\n",
    "                predictions = inferences[idx]\n",
    "                res = create_empty_list(self.full_shape)\n",
    "                for i, prediction in zip(self.list_idx, predictions):\n",
    "                    res[i] = prediction\n",
    "                for i, default_value in self.default_values.items():\n",
    "                    res[i] = default_value\n",
    "                outputs.append(np.asarray(res))\n",
    "            outputs = np.asarray(outputs)\n",
    "            return outputs\n",
    "        if return_original_range:\n",
    "            inferences = self.scaler.inverse_transform(inferences)\n",
    "        return inferences\n",
    "\n",
    "    def eval(self, inputs=None, groundtruths=None, return_original_range=False):\n",
    "        if inputs is None:\n",
    "            inputs = self.data['test_X']\n",
    "        if groundtruths is None:\n",
    "            groundtruths = self.data['test_y']\n",
    "        groundtruth_shape = groundtruths.shape[-1]\n",
    "        return_full = (groundtruth_shape == self.full_shape)\n",
    "        predictions = self.inference(inputs, return_full, return_original_range)\n",
    "        if return_original_range:\n",
    "            groundtruths = self.scaler.inverse_transform(groundtruths)\n",
    "        \n",
    "        loss = (groundtruths - predictions)**2\n",
    "        return loss, predictions"
   ]
  },
  {
   "cell_type": "code",
   "execution_count": null,
   "metadata": {},
   "outputs": [],
   "source": []
  },
  {
   "cell_type": "code",
   "execution_count": 108,
   "metadata": {},
   "outputs": [
    {
     "name": "stdout",
     "output_type": "stream",
     "text": [
      "Train on 448 samples, validate on 46 samples\n",
      "Epoch 1/20\n",
      "448/448 [==============================] - 2s 5ms/step - loss: 0.1404 - val_loss: 0.0747\n",
      "Epoch 2/20\n",
      "448/448 [==============================] - 0s 899us/step - loss: 0.0750 - val_loss: 0.0532\n",
      "Epoch 3/20\n",
      "448/448 [==============================] - 0s 898us/step - loss: 0.0634 - val_loss: 0.0436\n",
      "Epoch 4/20\n",
      "448/448 [==============================] - 0s 883us/step - loss: 0.0548 - val_loss: 0.0375\n",
      "Epoch 5/20\n",
      "448/448 [==============================] - 0s 850us/step - loss: 0.0514 - val_loss: 0.0365\n",
      "Epoch 6/20\n",
      "448/448 [==============================] - 0s 881us/step - loss: 0.0499 - val_loss: 0.0364\n",
      "Epoch 7/20\n",
      "448/448 [==============================] - 0s 901us/step - loss: 0.0491 - val_loss: 0.0372\n",
      "Epoch 8/20\n",
      "448/448 [==============================] - 0s 906us/step - loss: 0.0483 - val_loss: 0.0343\n",
      "Epoch 9/20\n",
      "448/448 [==============================] - 0s 877us/step - loss: 0.0473 - val_loss: 0.0340\n",
      "Epoch 10/20\n",
      "448/448 [==============================] - 0s 871us/step - loss: 0.0466 - val_loss: 0.0347\n",
      "Epoch 11/20\n",
      "448/448 [==============================] - 0s 879us/step - loss: 0.0460 - val_loss: 0.0327\n",
      "Epoch 12/20\n",
      "448/448 [==============================] - 0s 860us/step - loss: 0.0455 - val_loss: 0.0327\n",
      "Epoch 13/20\n",
      "448/448 [==============================] - 0s 868us/step - loss: 0.0449 - val_loss: 0.0326\n",
      "Epoch 14/20\n",
      "448/448 [==============================] - 0s 869us/step - loss: 0.0445 - val_loss: 0.0328\n",
      "Epoch 15/20\n",
      "448/448 [==============================] - 0s 869us/step - loss: 0.0443 - val_loss: 0.0327\n",
      "Epoch 16/20\n",
      "448/448 [==============================] - 0s 905us/step - loss: 0.0437 - val_loss: 0.0325\n",
      "Epoch 17/20\n",
      "448/448 [==============================] - 0s 900us/step - loss: 0.0437 - val_loss: 0.0329\n",
      "Epoch 18/20\n",
      "448/448 [==============================] - 0s 878us/step - loss: 0.0433 - val_loss: 0.0331\n",
      "Epoch 19/20\n",
      "448/448 [==============================] - 0s 876us/step - loss: 0.0429 - val_loss: 0.0329\n",
      "Epoch 20/20\n",
      "448/448 [==============================] - 0s 867us/step - loss: 0.0429 - val_loss: 0.0327\n"
     ]
    },
    {
     "data": {
      "image/png": "[encoded data removed]",
      "text/plain": [
       "<Figure size 432x288 with 1 Axes>"
      ]
     },
     "metadata": {
      "needs_background": "light"
     },
     "output_type": "display_data"
    }
   ],
   "source": [
    "lstm_1 = LSTM_1(data, data_train_1, list_idx, scaler, mode='train')\n",
    "model_path = lstm_1.train(epochs=20, batch_size=64)"
   ]
  },
  {
   "cell_type": "code",
   "execution_count": 152,
   "metadata": {},
   "outputs": [
    {
     "name": "stdout",
     "output_type": "stream",
     "text": [
      "[[1.58968952e+01 1.94145012e+01 2.83872900e+01 ... 3.44462385e+03\n",
      "  1.19460016e+01 1.05589297e+01]\n",
      " [8.66192728e+00 1.79969316e+01 1.60943770e+01 ... 4.61927241e+02\n",
      "  3.14897433e-01 5.26209269e-01]\n",
      " [8.30058162e+00 1.02576639e+01 1.51407626e+01 ... 3.58818476e+03\n",
      "  1.95378676e-01 1.63340069e+00]\n",
      " ...\n",
      " [4.22324575e-02 1.97922889e-01 4.74944128e+00 ... 1.17229126e+02\n",
      "  1.26370312e+00 2.90226572e-01]\n",
      " [2.82615796e-03 8.49567363e-02 1.15040812e+00 ... 1.45171318e+02\n",
      "  1.28727749e+00 3.11175213e-01]\n",
      " [8.00513778e-01 7.43937836e-01 2.67571304e-03 ... 1.47017105e+02\n",
      "  1.45618782e+00 2.64392049e-01]]\n",
      "40.897616972849356\n"
     ]
    }
   ],
   "source": [
    "lstm_1 = LSTM_1(data, data_train_1, list_idx, scaler, mode='inference')\n",
    "losses, predictions = lstm_1.eval(return_original_range=True)\n",
    "print(losses)\n",
    "print(losses.mean())"
   ]
  },
  {
   "cell_type": "code",
   "execution_count": 134,
   "metadata": {},
   "outputs": [],
   "source": [
    "inference_dir = 'inference'\n",
    "if not os.path.exists(inference_dir):\n",
    "    os.makedir(inference_dir)\n",
    "cache_data(predictions, os.path.join(inference_dir, 'lstm.dat'))"
   ]
  },
  {
   "cell_type": "code",
   "execution_count": 135,
   "metadata": {},
   "outputs": [
    {
     "data": {
      "text/plain": [
       "((1, 12, 345), (1, 345))"
      ]
     },
     "execution_count": 135,
     "metadata": {},
     "output_type": "execute_result"
    }
   ],
   "source": [
    "inputs = lstm_1.data['test_X'][:1]\n",
    "groundtruths = lstm_1.data['test_y'][:1]\n",
    "inputs.shape, groundtruths.shape"
   ]
  },
  {
   "cell_type": "code",
   "execution_count": 136,
   "metadata": {},
   "outputs": [
    {
     "data": {
      "text/plain": [
       "(92, 345)"
      ]
     },
     "execution_count": 136,
     "metadata": {},
     "output_type": "execute_result"
    }
   ],
   "source": [
    "predictions.shape"
   ]
  },
  {
   "cell_type": "code",
   "execution_count": 160,
   "metadata": {},
   "outputs": [],
   "source": [
    "def get_predictions_multi_steps(lstm_1, n_steps=1):\n",
    "    inputs = lstm_1.data['test_X'][:1]\n",
    "    outputs = []\n",
    "    for i in range(n_steps):\n",
    "        predict = lstm_1.inference(inputs, return_full=False)\n",
    "        outputs.append(predict)\n",
    "        inputs = np.concatenate([inputs[:, 1:, :], np.expand_dims(predict, axis=0)], axis=1)\n",
    "    return np.asarray(outputs)"
   ]
  },
  {
   "cell_type": "code",
   "execution_count": 218,
   "metadata": {},
   "outputs": [],
   "source": [
    "lstm_1 = LSTM_1(data, data_train_1, list_idx, scaler, mode='inference')\n",
    "predictions_multi_steps = get_predictions_multi_steps(lstm_1, 2)"
   ]
  },
  {
   "cell_type": "code",
   "execution_count": 422,
   "metadata": {},
   "outputs": [],
   "source": [
    "def get_full_shape_predictions_multi_steps(lstm_1, n_steps=1):\n",
    "    predictions = get_predictions_multi_steps(lstm_1, n_steps)\n",
    "    predictions = lstm_1.scaler.inverse_transform(predictions.squeeze())\n",
    "    res = np.zeros((predictions.shape[0], lstm_1.full_shape))\n",
    "    for i, idx in enumerate(lstm_1.list_idx):\n",
    "        res[:, idx] = predictions[:, i].astype(np.int)\n",
    "    for i, default_value in lstm_1.default_values.items():\n",
    "        res[:, i] = default_value\n",
    "    return res"
   ]
  },
  {
   "cell_type": "code",
   "execution_count": 423,
   "metadata": {},
   "outputs": [
    {
     "name": "stdout",
     "output_type": "stream",
     "text": [
      "(80, 3314)\n"
     ]
    }
   ],
   "source": [
    "full_shape_predictions_multi_steps = get_full_shape_predictions_multi_steps(lstm_1, 80)\n",
    "print(full_shape_predictions_multi_steps.shape)"
   ]
  },
  {
   "cell_type": "code",
   "execution_count": 424,
   "metadata": {},
   "outputs": [],
   "source": [
    "def reshape_to_point(x):\n",
    "    return x.reshape(x.shape[0], -1, 2)"
   ]
  },
  {
   "cell_type": "code",
   "execution_count": 425,
   "metadata": {},
   "outputs": [
    {
     "data": {
      "text/plain": [
       "(80, 1657, 2)"
      ]
     },
     "execution_count": 425,
     "metadata": {},
     "output_type": "execute_result"
    }
   ],
   "source": [
    "full_shape_predictions_multi_steps = reshape_to_point(full_shape_predictions_multi_steps)\n",
    "full_shape_predictions_multi_steps.shape"
   ]
  },
  {
   "cell_type": "code",
   "execution_count": 430,
   "metadata": {},
   "outputs": [],
   "source": [
    "def convert_boundaries_to_image(boundary, img_width, img_height):\n",
    "    img = np.zeros((img_width, img_height))\n",
    "    for i in range(boundary.shape[0]):\n",
    "        x = boundary[i][0].astype(np.int32)\n",
    "        y = boundary[i][1].astype(np.int32)\n",
    "        img[x, y] = 1\n",
    "    return img"
   ]
  },
  {
   "cell_type": "code",
   "execution_count": 431,
   "metadata": {},
   "outputs": [
    {
     "data": {
      "text/plain": [
       "<matplotlib.image.AxesImage at 0x7f360fa6b278>"
      ]
     },
     "execution_count": 431,
     "metadata": {},
     "output_type": "execute_result"
    },
    {
     "data": {
      "image/png": "[encoded data removed]",
      "text/plain": [
       "<Figure size 432x288 with 1 Axes>"
      ]
     },
     "metadata": {
      "needs_background": "light"
     },
     "output_type": "display_data"
    }
   ],
   "source": [
    "img1 = convert_boundaries_to_image(full_shape_predictions_multi_steps[0], 513, 513)\n",
    "plt.imshow(img1)"
   ]
  },
  {
   "cell_type": "markdown",
   "metadata": {},
   "source": [
    "# Calculate Polygon area"
   ]
  },
  {
   "cell_type": "code",
   "execution_count": 449,
   "metadata": {},
   "outputs": [
    {
     "data": {
      "text/plain": [
       "((80, 1657, 2), (92, 1657, 2))"
      ]
     },
     "execution_count": 449,
     "metadata": {},
     "output_type": "execute_result"
    }
   ],
   "source": [
    "full_shape_predictions_multi_steps.shape, data_test.shape"
   ]
  },
  {
   "cell_type": "code",
   "execution_count": 451,
   "metadata": {},
   "outputs": [],
   "source": [
    "def find_border(data_points):\n",
    "    x = data_points[:, 0]\n",
    "    y = data_points[:, 1]\n",
    "    return x.min(), y.min(), x.max(), y.max()\n",
    "\n",
    "class Line:\n",
    "    def __init__(self, x1, y1, x2, y2):\n",
    "        self.a = y1 - y2\n",
    "        self.b = x2 - x1\n",
    "        self.c = x1*y2 - x2*y1\n",
    "    def calc(self, x, y):\n",
    "        return self.a*x + self.b*y + self.c\n",
    "    \n",
    "def convert_boundary_vector_to_polygon(boundary_vector):\n",
    "    x1, y1, x2, y2 = find_border(boundary_vector)\n",
    "    line = Line(x1, y1, x2, y2)\n",
    "    score_point = [line.calc(x, y) for x, y in boundary_vector]\n",
    "    group_1 = []\n",
    "    group_2 = []\n",
    "    for i, p in enumerate(boundary_vector):\n",
    "        if score_point[i] < 0:\n",
    "            group_1.append(p)\n",
    "        else:\n",
    "            group_2.append(p)\n",
    "    group_1 = sorted(group_1, key=itemgetter(0,1))\n",
    "    group_2 = sorted(group_2, key=itemgetter(0,1), reverse=True)\n",
    "    group = np.vstack([group_1, group_2])\n",
    "    return Polygon(zip(group[:, 0], group[:, 1]))\n",
    "\n",
    "region = [(10, 10), (200, 10), (512, 400), (512, 512), (300, 512), (10, 100), (10, 10)]\n",
    "\n",
    "def check_point_in_region(p, lines, sample_scores):\n",
    "    for line, sample_score in zip(lines, sample_scores):\n",
    "        score = line.calc(p[0], p[1])\n",
    "        if score/sample_score < 0:\n",
    "            return False\n",
    "    return True\n",
    "\n",
    "def get_points_in_region(boundary, region):\n",
    "    lines = []\n",
    "    sample_point = (256, 256)\n",
    "    for i in range(len(region) - 1):\n",
    "        lines.append(Line(*(region[i] + region[i + 1])))\n",
    "    res = []\n",
    "    sample_scores = [line.calc(sample_point[0], sample_point[1]) for line in lines]\n",
    "    for p in boundary:\n",
    "        if check_point_in_region(p, lines, sample_scores):\n",
    "            res.append(p)\n",
    "    return np.vstack(res)\n",
    "\n",
    "def calc_area(points, region):\n",
    "    points = get_points_in_region(points, region)\n",
    "    p = convert_boundary_vector_to_polygon(points)\n",
    "    pp = p.buffer(0)\n",
    "    return pp.area"
   ]
  },
  {
   "cell_type": "code",
   "execution_count": 452,
   "metadata": {},
   "outputs": [
    {
     "name": "stdout",
     "output_type": "stream",
     "text": [
      "44311.290436174466\n",
      "44083.31550802139\n"
     ]
    }
   ],
   "source": [
    "print(calc_area(full_shape_predictions_multi_steps[0], region))\n",
    "print(calc_area(data_test[0], region))"
   ]
  },
  {
   "cell_type": "code",
   "execution_count": 453,
   "metadata": {},
   "outputs": [
    {
     "name": "stdout",
     "output_type": "stream",
     "text": [
      "44267.290436174466\n",
      "43810.010416666664\n"
     ]
    }
   ],
   "source": [
    "print(calc_area(full_shape_predictions_multi_steps[1], region))\n",
    "print(calc_area(data_test[1], region))"
   ]
  },
  {
   "cell_type": "code",
   "execution_count": 454,
   "metadata": {},
   "outputs": [
    {
     "data": {
      "text/plain": [
       "<matplotlib.legend.Legend at 0x7f360f9552b0>"
      ]
     },
     "execution_count": 454,
     "metadata": {},
     "output_type": "execute_result"
    },
    {
     "data": {
      "image/png": "[encoded data removed]",
      "text/plain": [
       "<Figure size 432x288 with 1 Axes>"
      ]
     },
     "metadata": {
      "needs_background": "light"
     },
     "output_type": "display_data"
    }
   ],
   "source": [
    "area_lstm = []\n",
    "for boundary_vector in full_shape_predictions_multi_steps:\n",
    "    area = calc_area(boundary_vector, region)\n",
    "    area_lstm.append(area)\n",
    "    \n",
    "area_test_truth = []\n",
    "for boundary_vector in data_test[:80]:\n",
    "    area = calc_area(boundary_vector, region)\n",
    "    area_test_truth.append(area)\n",
    "\n",
    "plt.plot(area_lstm, color='green', label='area_lstm')\n",
    "plt.plot(area_test_truth, color='r', label='area_test_truth')\n",
    "plt.legend()"
   ]
  },
  {
   "cell_type": "code",
   "execution_count": null,
   "metadata": {},
   "outputs": [],
   "source": []
  }
 ],
 "metadata": {
  "kernelspec": {
   "display_name": "Python 3",
   "language": "python",
   "name": "python3"
  },
  "language_info": {
   "codemirror_mode": {
    "name": "ipython",
    "version": 3
   },
   "file_extension": ".py",
   "mimetype": "text/x-python",
   "name": "python",
   "nbconvert_exporter": "python",
   "pygments_lexer": "ipython3",
   "version": "3.6.8"
  }
 },
 "nbformat": 4,
 "nbformat_minor": 2
}
