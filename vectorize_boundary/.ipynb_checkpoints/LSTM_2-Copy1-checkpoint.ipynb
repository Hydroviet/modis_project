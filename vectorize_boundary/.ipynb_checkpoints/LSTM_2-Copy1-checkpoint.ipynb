{
 "cells": [
  {
   "cell_type": "code",
   "execution_count": 68,
   "metadata": {},
   "outputs": [],
   "source": [
    "import os\n",
    "import sys\n",
    "import h5py\n",
    "import pickle\n",
    "import subprocess\n",
    "import numpy as np\n",
    "from time import time\n",
    "from tqdm import tqdm\n",
    "import matplotlib.pyplot as plt\n",
    "from multiprocessing import Pool\n",
    "from shapely.geometry import Polygon\n",
    "from sklearn.preprocessing import MinMaxScaler\n",
    "\n",
    "import keras\n",
    "import tensorflow as tf\n",
    "import keras.backend as K\n",
    "from keras.layers import Input, LSTM, BatchNormalization\n",
    "from keras.models import Model, load_model"
   ]
  },
  {
   "cell_type": "code",
   "execution_count": 2,
   "metadata": {},
   "outputs": [],
   "source": [
    "os.environ[\"CUDA_VISIBLE_DEVICES\"] = \"2,3\"\n",
    "sys.path.append('..')"
   ]
  },
  {
   "cell_type": "code",
   "execution_count": 3,
   "metadata": {},
   "outputs": [],
   "source": [
    "from modis_utils.misc import cache_data, restore_data"
   ]
  },
  {
   "cell_type": "code",
   "execution_count": 4,
   "metadata": {},
   "outputs": [],
   "source": [
    "data = restore_data(os.path.join('cache', 'boundary_vectors_ALL_1.dat'))"
   ]
  },
  {
   "cell_type": "code",
   "execution_count": 5,
   "metadata": {},
   "outputs": [
    {
     "name": "stdout",
     "output_type": "stream",
     "text": [
      "(598, 1657, 2)\n",
      "(92, 1657, 2)\n"
     ]
    }
   ],
   "source": [
    "for x in data:\n",
    "    print(x.shape)"
   ]
  },
  {
   "cell_type": "code",
   "execution_count": 6,
   "metadata": {},
   "outputs": [],
   "source": [
    "train_boundary_vectors = data[0]\n",
    "test_boundary_vectors = data[1]"
   ]
  },
  {
   "cell_type": "code",
   "execution_count": 7,
   "metadata": {},
   "outputs": [
    {
     "data": {
      "text/plain": [
       "((598, 1657, 2), (92, 1657, 2))"
      ]
     },
     "execution_count": 7,
     "metadata": {},
     "output_type": "execute_result"
    }
   ],
   "source": [
    "train_boundary_vectors.shape, test_boundary_vectors.shape"
   ]
  },
  {
   "cell_type": "code",
   "execution_count": 8,
   "metadata": {},
   "outputs": [],
   "source": [
    "n_points = train_boundary_vectors.shape[1]"
   ]
  },
  {
   "cell_type": "code",
   "execution_count": 9,
   "metadata": {},
   "outputs": [
    {
     "data": {
      "text/plain": [
       "13"
      ]
     },
     "execution_count": 9,
     "metadata": {},
     "output_type": "execute_result"
    }
   ],
   "source": [
    "n_years = len(train_boundary_vectors)//46\n",
    "n_years"
   ]
  },
  {
   "cell_type": "code",
   "execution_count": 10,
   "metadata": {},
   "outputs": [
    {
     "name": "stdout",
     "output_type": "stream",
     "text": [
      "(506, 1657, 2)\n"
     ]
    }
   ],
   "source": [
    "data_train = train_boundary_vectors[:0].copy()\n",
    "data_test = test_boundary_vectors\n",
    "for i in range(n_years):\n",
    "    year = 2003 + i\n",
    "    if year != 2011 and year != 2013:\n",
    "        data_train = np.vstack([data_train, train_boundary_vectors[i*46 : (i + 1)*46]])\n",
    "print(data_train.shape)"
   ]
  },
  {
   "cell_type": "code",
   "execution_count": 11,
   "metadata": {},
   "outputs": [
    {
     "data": {
      "text/plain": [
       "(506, 3314)"
      ]
     },
     "execution_count": 11,
     "metadata": {},
     "output_type": "execute_result"
    }
   ],
   "source": [
    "data_train_1 = data_train.reshape(data_train.shape[0], -1)\n",
    "data_train_1.shape"
   ]
  },
  {
   "cell_type": "code",
   "execution_count": 12,
   "metadata": {},
   "outputs": [],
   "source": [
    "data_test_1 = data_test.reshape(data_test.shape[0], -1)"
   ]
  },
  {
   "cell_type": "code",
   "execution_count": null,
   "metadata": {},
   "outputs": [],
   "source": []
  },
  {
   "cell_type": "code",
   "execution_count": 13,
   "metadata": {},
   "outputs": [],
   "source": [
    "variants = []\n",
    "for i in range(data_train_1.shape[1]):\n",
    "    var = np.var(data_train_1[:, i])\n",
    "    variants.append(var)"
   ]
  },
  {
   "cell_type": "code",
   "execution_count": 14,
   "metadata": {},
   "outputs": [],
   "source": [
    "variants_1 = variants.copy()"
   ]
  },
  {
   "cell_type": "code",
   "execution_count": 15,
   "metadata": {},
   "outputs": [
    {
     "data": {
      "text/plain": [
       "array([ 0.        , 15.94448046,  0.        , ..., 15.84455702,\n",
       "        0.        , 17.17262026])"
      ]
     },
     "execution_count": 15,
     "metadata": {},
     "output_type": "execute_result"
    }
   ],
   "source": [
    "variants_2 = np.asarray(variants_1)\n",
    "variants_2"
   ]
  },
  {
   "cell_type": "code",
   "execution_count": 16,
   "metadata": {},
   "outputs": [],
   "source": [
    "list_idx = np.where(variants_2 > 1)[0]"
   ]
  },
  {
   "cell_type": "code",
   "execution_count": 17,
   "metadata": {},
   "outputs": [
    {
     "data": {
      "text/plain": [
       "2285"
      ]
     },
     "execution_count": 17,
     "metadata": {},
     "output_type": "execute_result"
    }
   ],
   "source": [
    "len(list_idx)"
   ]
  },
  {
   "cell_type": "code",
   "execution_count": 18,
   "metadata": {},
   "outputs": [
    {
     "data": {
      "text/plain": [
       "(506, 2285)"
      ]
     },
     "execution_count": 18,
     "metadata": {},
     "output_type": "execute_result"
    }
   ],
   "source": [
    "data_train_2 = data_train_1[:, list_idx]\n",
    "data_train_2.shape"
   ]
  },
  {
   "cell_type": "code",
   "execution_count": 19,
   "metadata": {},
   "outputs": [
    {
     "data": {
      "text/plain": [
       "(92, 2285)"
      ]
     },
     "execution_count": 19,
     "metadata": {},
     "output_type": "execute_result"
    }
   ],
   "source": [
    "data_test_2 = data_test_1[:, list_idx]\n",
    "data_test_2.shape"
   ]
  },
  {
   "cell_type": "code",
   "execution_count": 20,
   "metadata": {},
   "outputs": [
    {
     "name": "stderr",
     "output_type": "stream",
     "text": [
      "/home/anhkhoa/anaconda3/envs/pytf/lib/python3.6/site-packages/sklearn/utils/validation.py:595: DataConversionWarning: Data with input dtype int64 was converted to float64 by MinMaxScaler.\n",
      "  warnings.warn(msg, DataConversionWarning)\n"
     ]
    },
    {
     "data": {
      "text/plain": [
       "MinMaxScaler(copy=True, feature_range=(0, 1))"
      ]
     },
     "execution_count": 20,
     "metadata": {},
     "output_type": "execute_result"
    }
   ],
   "source": [
    "scaler = MinMaxScaler()\n",
    "scaler.fit(data_train_2)"
   ]
  },
  {
   "cell_type": "code",
   "execution_count": 21,
   "metadata": {},
   "outputs": [],
   "source": [
    "data_train_3 = scaler.transform(data_train_2)\n",
    "data_test_3 = scaler.transform(data_test_2)"
   ]
  },
  {
   "cell_type": "code",
   "execution_count": null,
   "metadata": {},
   "outputs": [],
   "source": []
  },
  {
   "cell_type": "code",
   "execution_count": 22,
   "metadata": {},
   "outputs": [],
   "source": [
    "def create_sequence_data(data_train, data_test, timesteps=12):\n",
    "    data_all = np.vstack([data_train, data_test])\n",
    "    len_val = 46\n",
    "    len_train = len(data_train) - timesteps - len_val\n",
    "    len_test = len(data_test)\n",
    "    \n",
    "    train_X = []\n",
    "    train_y = []\n",
    "    val_X = []\n",
    "    val_y = []\n",
    "    test_X = []\n",
    "    test_y = []\n",
    "    \n",
    "    for i in range(timesteps, timesteps + len_train):\n",
    "        X = np.expand_dims(data_all[i - timesteps : i], axis=0)\n",
    "        y = np.expand_dims(data_all[i], axis=0)\n",
    "        train_X.append(X)\n",
    "        train_y.append(y)\n",
    "        \n",
    "    for i in range(timesteps + len_train, timesteps + len_train + len_val):\n",
    "        X = np.expand_dims(data_all[i - timesteps : i], axis=0)\n",
    "        y = np.expand_dims(data_all[i], axis=0)\n",
    "        val_X.append(X)\n",
    "        val_y.append(y)\n",
    "        \n",
    "    for i in range(timesteps + len_train + len_val, timesteps + len_train + len_val + len_test):\n",
    "        X = np.expand_dims(data_all[i - timesteps : i], axis=0)\n",
    "        y = np.expand_dims(data_all[i], axis=0)\n",
    "        test_X.append(X)\n",
    "        test_y.append(y)\n",
    "        \n",
    "    return np.vstack(train_X), np.vstack(train_y), np.vstack(val_X), np.vstack(val_y), np.vstack(test_X), np.vstack(test_y)"
   ]
  },
  {
   "cell_type": "code",
   "execution_count": 23,
   "metadata": {},
   "outputs": [],
   "source": [
    "train_X, train_y, val_X, val_y, test_X, test_y = create_sequence_data(data_train_3, data_test_3)"
   ]
  },
  {
   "cell_type": "code",
   "execution_count": 24,
   "metadata": {},
   "outputs": [],
   "source": [
    "data = {}\n",
    "data['train_X'] = train_X\n",
    "data['train_y'] = train_y\n",
    "data['val_X'] = val_X\n",
    "data['val_y'] = val_y\n",
    "data['test_X'] = test_X\n",
    "data['test_y'] = test_y"
   ]
  },
  {
   "cell_type": "code",
   "execution_count": 25,
   "metadata": {},
   "outputs": [
    {
     "name": "stdout",
     "output_type": "stream",
     "text": [
      "0.0 1.0000000000000142\n",
      "0.0 1.0000000000000142\n",
      "0.0 1.0000000000000142\n",
      "0.0 1.0000000000000142\n",
      "0.0 1.0000000000000142\n",
      "0.0 1.0000000000000142\n"
     ]
    }
   ],
   "source": [
    "for k, v in data.items():\n",
    "    print(v.min(), v.max())"
   ]
  },
  {
   "cell_type": "code",
   "execution_count": null,
   "metadata": {},
   "outputs": [],
   "source": []
  },
  {
   "cell_type": "code",
   "execution_count": 26,
   "metadata": {},
   "outputs": [],
   "source": [
    "def save_data_pickle(data, path):\n",
    "    with open(path, 'wb') as f:\n",
    "        pickle.dump(data, f)\n",
    "\n",
    "def load_data_pickle(path):\n",
    "    with open(path, 'rb') as f:\n",
    "        return pickle.load(f)\n",
    "    \n",
    "def create_empty_list(n):\n",
    "    res = []\n",
    "    for _ in range(n):\n",
    "        res.append(None)\n",
    "    return res\n",
    "\n",
    "def mse(x, y):\n",
    "    return np.mean((x - y)**2)"
   ]
  },
  {
   "cell_type": "code",
   "execution_count": 27,
   "metadata": {},
   "outputs": [],
   "source": [
    "training_fig_dir = 'visualize/lstm_2/training'\n",
    "if not os.path.exists(training_fig_dir):\n",
    "    os.makedirs(training_fig_dir)"
   ]
  },
  {
   "cell_type": "code",
   "execution_count": 66,
   "metadata": {},
   "outputs": [],
   "source": [
    "def f(i, lstm_2, input_test, steps, batch_size):\n",
    "    if i % 100 == 0:\n",
    "        print(i)\n",
    "    predict = lstm_2._predict_multisteps_single_point(input_test[:, :, i : i+1], i, steps, batch_size)\n",
    "    return predict.reshape(predict.shape[0], predict.shape[1], 1)\n",
    "\n",
    "class LSTM_2:\n",
    "\n",
    "    def __init__(self, data, data_train_full, list_idx=None, scaler=None, mode='train'):\n",
    "        self.model_dir = 'lstm'\n",
    "        self.mode = mode\n",
    "        self.model = None\n",
    "        self.n_cores = 16\n",
    "        \n",
    "        self.data = data\n",
    "        \n",
    "        self.units = data['train_X'].shape[2]\n",
    "        self.timesteps = data['train_X'].shape[1]\n",
    "        self.full_shape = data_train_full.shape[-1]\n",
    "        \n",
    "        if list_idx is None:\n",
    "            self.list_idx = np.arange(self.full_shape)\n",
    "        self.list_idx = list_idx\n",
    "\n",
    "        if not os.path.exists(self.model_dir):\n",
    "            os.makedirs(self.model_dir)\n",
    "            \n",
    "        if self.mode == 'inference':\n",
    "            self.model_paths = self.load_model(self.model_dir)\n",
    "            \n",
    "        self.list_small_variant_idx = np.setdiff1d(np.arange(self.full_shape), self.list_idx)\n",
    "        self.default_values = {}\n",
    "        for i in self.list_small_variant_idx:\n",
    "            mean_value = np.mean(data_train_full[:, i])\n",
    "            self.default_values[i] = int(mean_value)\n",
    "            \n",
    "        self.scaler = scaler\n",
    "        self.model_paths = None\n",
    "        \n",
    "    def load_model(self, model_dir=None):\n",
    "        if model_dir is None:\n",
    "            model_dir=self.model_dir\n",
    "        self.model_paths = {}\n",
    "        for i in range(len(self.list_idx)):\n",
    "            self.model_paths[i] = os.path.join(model_dir, '{}.dat'.format(i))\n",
    "        return self.model_paths\n",
    "    \n",
    "    def _create_model(self, units=None):\n",
    "        if units is None:\n",
    "            units = self.units\n",
    "        input_shape = (self.timesteps, units)\n",
    "        inputs = Input(input_shape)\n",
    "        x = LSTM(units*32, return_sequences=True)(inputs)\n",
    "        x = LSTM(units*16, return_sequences=True)(inputs)\n",
    "        x = LSTM(units*4, return_sequences=True)(inputs)\n",
    "        x = LSTM(units)(x)\n",
    "        model = Model(inputs=inputs, outputs=x)\n",
    "        model.compile(loss='mse', optimizer='adam')\n",
    "        return model\n",
    "    \n",
    "    def train(self, epochs=1, batch_size=1):\n",
    "        for i in tqdm(range(len(self.list_idx))):\n",
    "            self._train(i, epochs, batch_size)\n",
    "        self.model_paths = self.load_model(self.model_dir)\n",
    "        return self.model_paths\n",
    "\n",
    "    def _train(self, i, epochs, batch_size):\n",
    "        print('Training history feature {}'.format(i))\n",
    "        K.clear_session()\n",
    "        model_path = os.path.join(self.model_dir, '{}.dat'.format(i))\n",
    "        model = self._create_model(1)\n",
    "        history = model.fit(self.data['train_X'][:, :, i : i+1], self.data['train_y'][:, i : i+1],\n",
    "                            epochs=epochs, batch_size=batch_size, verbose=0,\n",
    "                            validation_data=(self.data['val_X'][:, :, i : i+1], self.data['val_y'][:, i : i+1]))\n",
    "        plt.figure()\n",
    "        plt.plot(history.history['loss'], color='r', label='train loss')\n",
    "        plt.plot(history.history['val_loss'], color='b', label='val loss')\n",
    "        plt.legend()\n",
    "        plt.title('Training history feature {}'.format(i))\n",
    "        plt.savefig(os.path.join(training_fig_dir, '{}.png'.format(i)))\n",
    "        model.save(model_path)\n",
    "        return model_path\n",
    "    \n",
    "    def _predict(self, input_test, batch_size):\n",
    "        inferences = []\n",
    "        def f(i):\n",
    "            if i % 100 == 0:\n",
    "                print(i)\n",
    "            with tf.device('/cpu:0'):\n",
    "                model = load_model(self.model_paths[i])\n",
    "                predict = model.predict(input_test[:, :, i : i+1], batch_size=batch_size)\n",
    "                return predict.reshape(-1, 1)\n",
    "        p = Pool(self.n_cores)\n",
    "        inferences = p.map(f, range(len(self.list_idx)))\n",
    "        return np.concatenate(inferences, axis=-1)\n",
    "    \n",
    "    def inference(self, input_test, return_full=None, return_original_range=False):\n",
    "        if self.model is None:\n",
    "            self.model = self.load_model()\n",
    "        if len(input_test.shape) == 2:\n",
    "            input_test = np.expand_dims(input_test, axis=0)\n",
    "        inferences = self._predict(input_test, batch_size=64)\n",
    "        if return_full:\n",
    "            inferences = self.scaler.inverse_transform(inferences)\n",
    "            outputs = np.zeros_like(inferences)\n",
    "            for i, idx in enumerate(self.list_idx):\n",
    "                outputs[:, idx] = inferences[:, i]\n",
    "            for idx, default_value in self.default_values.items():\n",
    "                outputs[:, idx] = default_value\n",
    "            return outputs\n",
    "        if return_original_range:\n",
    "            inferences = self.scaler.inverse_transform(inferences)\n",
    "        return inferences\n",
    "    \n",
    "    def _inverse_transform(self, x):\n",
    "        shape = x.shape\n",
    "        x = x.reshape(-1, shape[-1])\n",
    "        x = self.scaler.inverse_transform(x)\n",
    "        return x.reshape(shape)\n",
    "    \n",
    "    def _predict_multisteps(self, input_test, steps, batch_size=64):\n",
    "        g = partial(f, lstm_2=self, input_test=input_test, steps=steps, batch_size=batch_size)\n",
    "        p = Pool(self.n_cores)\n",
    "        inferences = p.map(g, range(len(self.list_idx)))\n",
    "        return np.concatenate(inferences, axis=-1)\n",
    "    \n",
    "    def _predict_multisteps_single_point(self, input_single_point, point_id, steps, batch_size):\n",
    "        with tf.device('/cpu:0'):\n",
    "            model = load_model(self.model_paths[point_id])\n",
    "            n_test = len(input_single_point)\n",
    "            res = np.zeros((n_test, steps))\n",
    "            inputs = input_single_point.copy()\n",
    "            for i in range(steps):\n",
    "                predict = model.predict(inputs, batch_size=batch_size)\n",
    "                inputs = np.concatenate([inputs[:, 1:, :], predict.reshape(-1, 1, 1)], axis=1)\n",
    "                res[:, i] = predict\n",
    "            return res\n",
    "    \n",
    "    def inference_multisteps(self, input_test, steps=1, return_full=None, return_original_range=False):\n",
    "        if self.model is None:\n",
    "            self.model = self.load_model()\n",
    "        if len(input_test.shape) == 2:\n",
    "            input_test = np.expand_dims(input_test, axis=0)\n",
    "        inferences = self._predict_multisteps(input_test, batch_size=64, steps=steps)\n",
    "        if return_full:\n",
    "            inferences = self._inverse_transform(inferences)\n",
    "            #inferences = (92x80x2285)\n",
    "            outputs = np.zeros((inferences.shape[:-1] + (self.full_shape,)))\n",
    "            for i, idx in enumerate(self.list_idx):\n",
    "                outputs[:, :, idx] = inferences[:, :, i]\n",
    "            for idx, default_value in self.default_values.items():\n",
    "                outputs[:, :, idx] = default_value\n",
    "            return outputs\n",
    "        if return_original_range:\n",
    "            inferences = self._inverse_transform(inferences)\n",
    "        return inferences\n",
    "\n",
    "    def eval(self, inputs=None, groundtruths=None, return_original_range=False):\n",
    "        if inputs is None:\n",
    "            inputs = self.data['test_X']\n",
    "        if groundtruths is None:\n",
    "            groundtruths = self.data['test_y']\n",
    "        groundtruth_shape = groundtruths.shape[-1]\n",
    "        return_full = (groundtruth_shape == self.full_shape)\n",
    "        predictions = self.inference(inputs, return_full, return_original_range)\n",
    "        if return_original_range:\n",
    "            groundtruths = self.scaler.inverse_transform(groundtruths)\n",
    "        \n",
    "        loss = (groundtruths - predictions)**2\n",
    "        return loss, predictions"
   ]
  },
  {
   "cell_type": "code",
   "execution_count": 62,
   "metadata": {},
   "outputs": [
    {
     "name": "stdout",
     "output_type": "stream",
     "text": [
      "Training history feature 0\n",
      "Training history feature 1\n",
      "Training history feature 2\n",
      "Training history feature 3\n",
      "Training history feature 4\n",
      "Training history feature 5\n",
      "ERROR:tensorflow:==================================\n",
      "Object was never used (type <class 'tensorflow.python.ops.tensor_array_ops.TensorArray'>):\n",
      "<tensorflow.python.ops.tensor_array_ops.TensorArray object at 0x7f5c701323c8>\n",
      "If you want to mark it as used call its \"mark_used()\" method.\n",
      "It was originally created here:\n",
      "  File \"/home/anhkhoa/anaconda3/envs/pytf/lib/python3.6/site-packages/IPython/core/interactiveshell.py\", line 3316, in run_code\n",
      "    return outflag  File \"<ipython-input-45-7ee6a9d77938>\", line 2, in <module>\n",
      "    model_path = lstm_2.train(epochs=50, batch_size=64)  File \"<ipython-input-43-070a9241ce08>\", line 56, in train\n",
      "    self._train(i, epochs, batch_size)  File \"<ipython-input-43-070a9241ce08>\", line 64, in _train\n",
      "    model = self._create_model(1)  File \"<ipython-input-43-070a9241ce08>\", line 47, in _create_model\n",
      "    x = LSTM(units*16, return_sequences=True)(inputs)  File \"/home/anhkhoa/anaconda3/envs/pytf/lib/python3.6/site-packages/keras/layers/recurrent.py\", line 532, in __call__\n",
      "    return super(RNN, self).__call__(inputs, **kwargs)  File \"/home/anhkhoa/anaconda3/envs/pytf/lib/python3.6/site-packages/keras/engine/base_layer.py\", line 507, in __call__\n",
      "    inputs=to_list(inputs))  File \"/home/anhkhoa/anaconda3/envs/pytf/lib/python3.6/site-packages/keras/layers/recurrent.py\", line 2194, in call\n",
      "    initial_state=initial_state)  File \"/home/anhkhoa/anaconda3/envs/pytf/lib/python3.6/site-packages/keras/layers/recurrent.py\", line 649, in call\n",
      "    input_length=timesteps)  File \"/home/anhkhoa/anaconda3/envs/pytf/lib/python3.6/site-packages/keras/backend/tensorflow_backend.py\", line 3011, in rnn\n",
      "    maximum_iterations=input_length)  File \"/home/anhkhoa/anaconda3/envs/pytf/lib/python3.6/site-packages/tensorflow/python/util/tf_should_use.py\", line 189, in wrapped\n",
      "    return _add_should_use_warning(fn(*args, **kwargs))\n",
      "==================================\n",
      "ERROR:tensorflow:==================================\n",
      "Object was never used (type <class 'tensorflow.python.ops.tensor_array_ops.TensorArray'>):\n",
      "<tensorflow.python.ops.tensor_array_ops.TensorArray object at 0x7f5c70132ef0>\n",
      "If you want to mark it as used call its \"mark_used()\" method.\n",
      "It was originally created here:\n",
      "  File \"/home/anhkhoa/anaconda3/envs/pytf/lib/python3.6/site-packages/IPython/core/interactiveshell.py\", line 3316, in run_code\n",
      "    return outflag  File \"<ipython-input-45-7ee6a9d77938>\", line 2, in <module>\n",
      "    model_path = lstm_2.train(epochs=50, batch_size=64)  File \"<ipython-input-43-070a9241ce08>\", line 56, in train\n",
      "    self._train(i, epochs, batch_size)  File \"<ipython-input-43-070a9241ce08>\", line 64, in _train\n",
      "    model = self._create_model(1)  File \"<ipython-input-43-070a9241ce08>\", line 47, in _create_model\n",
      "    x = LSTM(units*16, return_sequences=True)(inputs)  File \"/home/anhkhoa/anaconda3/envs/pytf/lib/python3.6/site-packages/keras/layers/recurrent.py\", line 532, in __call__\n",
      "    return super(RNN, self).__call__(inputs, **kwargs)  File \"/home/anhkhoa/anaconda3/envs/pytf/lib/python3.6/site-packages/keras/engine/base_layer.py\", line 507, in __call__\n",
      "    inputs=to_list(inputs))  File \"/home/anhkhoa/anaconda3/envs/pytf/lib/python3.6/site-packages/keras/layers/recurrent.py\", line 2194, in call\n",
      "    initial_state=initial_state)  File \"/home/anhkhoa/anaconda3/envs/pytf/lib/python3.6/site-packages/keras/layers/recurrent.py\", line 649, in call\n",
      "    input_length=timesteps)  File \"/home/anhkhoa/anaconda3/envs/pytf/lib/python3.6/site-packages/keras/backend/tensorflow_backend.py\", line 3011, in rnn\n",
      "    maximum_iterations=input_length)  File \"/home/anhkhoa/anaconda3/envs/pytf/lib/python3.6/site-packages/tensorflow/python/util/tf_should_use.py\", line 189, in wrapped\n",
      "    return _add_should_use_warning(fn(*args, **kwargs))  File \"/home/anhkhoa/anaconda3/envs/pytf/lib/python3.6/site-packages/tensorflow/python/ops/tensor_array_ops.py\", line 907, in unstack\n",
      "    return self._implementation.unstack(value, name=name)  File \"/home/anhkhoa/anaconda3/envs/pytf/lib/python3.6/site-packages/tensorflow/python/util/tf_should_use.py\", line 189, in wrapped\n",
      "    return _add_should_use_warning(fn(*args, **kwargs))\n",
      "==================================\n",
      "ERROR:tensorflow:==================================\n",
      "Object was never used (type <class 'tensorflow.python.ops.tensor_array_ops.TensorArray'>):\n",
      "<tensorflow.python.ops.tensor_array_ops.TensorArray object at 0x7f5c70132da0>\n",
      "If you want to mark it as used call its \"mark_used()\" method.\n",
      "It was originally created here:\n",
      "  File \"/home/anhkhoa/anaconda3/envs/pytf/lib/python3.6/site-packages/IPython/core/interactiveshell.py\", line 3316, in run_code\n",
      "    return outflag  File \"<ipython-input-45-7ee6a9d77938>\", line 2, in <module>\n",
      "    model_path = lstm_2.train(epochs=50, batch_size=64)  File \"<ipython-input-43-070a9241ce08>\", line 56, in train\n",
      "    self._train(i, epochs, batch_size)  File \"<ipython-input-43-070a9241ce08>\", line 64, in _train\n",
      "    model = self._create_model(1)  File \"<ipython-input-43-070a9241ce08>\", line 47, in _create_model\n",
      "    x = LSTM(units*16, return_sequences=True)(inputs)  File \"/home/anhkhoa/anaconda3/envs/pytf/lib/python3.6/site-packages/keras/layers/recurrent.py\", line 532, in __call__\n",
      "    return super(RNN, self).__call__(inputs, **kwargs)  File \"/home/anhkhoa/anaconda3/envs/pytf/lib/python3.6/site-packages/keras/engine/base_layer.py\", line 507, in __call__\n",
      "    inputs=to_list(inputs))  File \"/home/anhkhoa/anaconda3/envs/pytf/lib/python3.6/site-packages/keras/layers/recurrent.py\", line 2194, in call\n",
      "    initial_state=initial_state)  File \"/home/anhkhoa/anaconda3/envs/pytf/lib/python3.6/site-packages/keras/layers/recurrent.py\", line 649, in call\n",
      "    input_length=timesteps)  File \"/home/anhkhoa/anaconda3/envs/pytf/lib/python3.6/site-packages/keras/backend/tensorflow_backend.py\", line 3011, in rnn\n",
      "    maximum_iterations=input_length)  File \"/home/anhkhoa/anaconda3/envs/pytf/lib/python3.6/site-packages/tensorflow/python/util/tf_should_use.py\", line 189, in wrapped\n",
      "    return _add_should_use_warning(fn(*args, **kwargs))  File \"/home/anhkhoa/anaconda3/envs/pytf/lib/python3.6/site-packages/tensorflow/python/ops/tensor_array_ops.py\", line 907, in unstack\n",
      "    return self._implementation.unstack(value, name=name)  File \"/home/anhkhoa/anaconda3/envs/pytf/lib/python3.6/site-packages/tensorflow/python/util/tf_should_use.py\", line 189, in wrapped\n",
      "    return _add_should_use_warning(fn(*args, **kwargs))  File \"/home/anhkhoa/anaconda3/envs/pytf/lib/python3.6/site-packages/tensorflow/python/ops/tensor_array_ops.py\", line 331, in unstack\n",
      "    indices=math_ops.range(0, num_elements), value=value, name=name)  File \"/home/anhkhoa/anaconda3/envs/pytf/lib/python3.6/site-packages/tensorflow/python/util/tf_should_use.py\", line 189, in wrapped\n",
      "    return _add_should_use_warning(fn(*args, **kwargs))\n",
      "==================================\n"
     ]
    },
    {
     "ename": "KeyboardInterrupt",
     "evalue": "",
     "output_type": "error",
     "traceback": [
      "\u001b[0;31m---------------------------------------------------------------------------\u001b[0m",
      "\u001b[0;31mKeyboardInterrupt\u001b[0m                         Traceback (most recent call last)",
      "\u001b[0;32m<ipython-input-62-7ee6a9d77938>\u001b[0m in \u001b[0;36m<module>\u001b[0;34m\u001b[0m\n\u001b[1;32m      1\u001b[0m \u001b[0mlstm_2\u001b[0m \u001b[0;34m=\u001b[0m \u001b[0mLSTM_2\u001b[0m\u001b[0;34m(\u001b[0m\u001b[0mdata\u001b[0m\u001b[0;34m,\u001b[0m \u001b[0mdata_train_1\u001b[0m\u001b[0;34m,\u001b[0m \u001b[0mlist_idx\u001b[0m\u001b[0;34m,\u001b[0m \u001b[0mscaler\u001b[0m\u001b[0;34m,\u001b[0m \u001b[0mmode\u001b[0m\u001b[0;34m=\u001b[0m\u001b[0;34m'train'\u001b[0m\u001b[0;34m)\u001b[0m\u001b[0;34m\u001b[0m\u001b[0;34m\u001b[0m\u001b[0m\n\u001b[0;32m----> 2\u001b[0;31m \u001b[0mmodel_path\u001b[0m \u001b[0;34m=\u001b[0m \u001b[0mlstm_2\u001b[0m\u001b[0;34m.\u001b[0m\u001b[0mtrain\u001b[0m\u001b[0;34m(\u001b[0m\u001b[0mepochs\u001b[0m\u001b[0;34m=\u001b[0m\u001b[0;36m50\u001b[0m\u001b[0;34m,\u001b[0m \u001b[0mbatch_size\u001b[0m\u001b[0;34m=\u001b[0m\u001b[0;36m64\u001b[0m\u001b[0;34m)\u001b[0m\u001b[0;34m\u001b[0m\u001b[0;34m\u001b[0m\u001b[0m\n\u001b[0m",
      "\u001b[0;32m<ipython-input-61-070a9241ce08>\u001b[0m in \u001b[0;36mtrain\u001b[0;34m(self, epochs, batch_size)\u001b[0m\n\u001b[1;32m     54\u001b[0m     \u001b[0;32mdef\u001b[0m \u001b[0mtrain\u001b[0m\u001b[0;34m(\u001b[0m\u001b[0mself\u001b[0m\u001b[0;34m,\u001b[0m \u001b[0mepochs\u001b[0m\u001b[0;34m=\u001b[0m\u001b[0;36m1\u001b[0m\u001b[0;34m,\u001b[0m \u001b[0mbatch_size\u001b[0m\u001b[0;34m=\u001b[0m\u001b[0;36m1\u001b[0m\u001b[0;34m)\u001b[0m\u001b[0;34m:\u001b[0m\u001b[0;34m\u001b[0m\u001b[0;34m\u001b[0m\u001b[0m\n\u001b[1;32m     55\u001b[0m         \u001b[0;32mfor\u001b[0m \u001b[0mi\u001b[0m \u001b[0;32min\u001b[0m \u001b[0mrange\u001b[0m\u001b[0;34m(\u001b[0m\u001b[0mlen\u001b[0m\u001b[0;34m(\u001b[0m\u001b[0mself\u001b[0m\u001b[0;34m.\u001b[0m\u001b[0mlist_idx\u001b[0m\u001b[0;34m)\u001b[0m\u001b[0;34m)\u001b[0m\u001b[0;34m:\u001b[0m\u001b[0;34m\u001b[0m\u001b[0;34m\u001b[0m\u001b[0m\n\u001b[0;32m---> 56\u001b[0;31m             \u001b[0mself\u001b[0m\u001b[0;34m.\u001b[0m\u001b[0m_train\u001b[0m\u001b[0;34m(\u001b[0m\u001b[0mi\u001b[0m\u001b[0;34m,\u001b[0m \u001b[0mepochs\u001b[0m\u001b[0;34m,\u001b[0m \u001b[0mbatch_size\u001b[0m\u001b[0;34m)\u001b[0m\u001b[0;34m\u001b[0m\u001b[0;34m\u001b[0m\u001b[0m\n\u001b[0m\u001b[1;32m     57\u001b[0m         \u001b[0mself\u001b[0m\u001b[0;34m.\u001b[0m\u001b[0mload_model\u001b[0m\u001b[0;34m(\u001b[0m\u001b[0mself\u001b[0m\u001b[0;34m.\u001b[0m\u001b[0mmodel_dir\u001b[0m\u001b[0;34m)\u001b[0m\u001b[0;34m\u001b[0m\u001b[0;34m\u001b[0m\u001b[0m\n\u001b[1;32m     58\u001b[0m         \u001b[0;32mreturn\u001b[0m \u001b[0mself\u001b[0m\u001b[0;34m.\u001b[0m\u001b[0mmodel_paths\u001b[0m\u001b[0;34m\u001b[0m\u001b[0;34m\u001b[0m\u001b[0m\n",
      "\u001b[0;32m<ipython-input-61-070a9241ce08>\u001b[0m in \u001b[0;36m_train\u001b[0;34m(self, i, epochs, batch_size)\u001b[0m\n\u001b[1;32m     65\u001b[0m         history = model.fit(self.data['train_X'][:, :, i : i+1], self.data['train_y'][:, i : i+1],\n\u001b[1;32m     66\u001b[0m                             \u001b[0mepochs\u001b[0m\u001b[0;34m=\u001b[0m\u001b[0mepochs\u001b[0m\u001b[0;34m,\u001b[0m \u001b[0mbatch_size\u001b[0m\u001b[0;34m=\u001b[0m\u001b[0mbatch_size\u001b[0m\u001b[0;34m,\u001b[0m \u001b[0mverbose\u001b[0m\u001b[0;34m=\u001b[0m\u001b[0;36m0\u001b[0m\u001b[0;34m,\u001b[0m\u001b[0;34m\u001b[0m\u001b[0;34m\u001b[0m\u001b[0m\n\u001b[0;32m---> 67\u001b[0;31m                             validation_data=(self.data['val_X'][:, :, i : i+1], self.data['val_y'][:, i : i+1]))\n\u001b[0m\u001b[1;32m     68\u001b[0m         \u001b[0mplt\u001b[0m\u001b[0;34m.\u001b[0m\u001b[0mfigure\u001b[0m\u001b[0;34m(\u001b[0m\u001b[0;34m)\u001b[0m\u001b[0;34m\u001b[0m\u001b[0;34m\u001b[0m\u001b[0m\n\u001b[1;32m     69\u001b[0m         \u001b[0mplt\u001b[0m\u001b[0;34m.\u001b[0m\u001b[0mplot\u001b[0m\u001b[0;34m(\u001b[0m\u001b[0mhistory\u001b[0m\u001b[0;34m.\u001b[0m\u001b[0mhistory\u001b[0m\u001b[0;34m[\u001b[0m\u001b[0;34m'loss'\u001b[0m\u001b[0;34m]\u001b[0m\u001b[0;34m,\u001b[0m \u001b[0mcolor\u001b[0m\u001b[0;34m=\u001b[0m\u001b[0;34m'r'\u001b[0m\u001b[0;34m,\u001b[0m \u001b[0mlabel\u001b[0m\u001b[0;34m=\u001b[0m\u001b[0;34m'train loss'\u001b[0m\u001b[0;34m)\u001b[0m\u001b[0;34m\u001b[0m\u001b[0;34m\u001b[0m\u001b[0m\n",
      "\u001b[0;32m~/anaconda3/envs/pytf/lib/python3.6/site-packages/keras/engine/training.py\u001b[0m in \u001b[0;36mfit\u001b[0;34m(self, x, y, batch_size, epochs, verbose, callbacks, validation_split, validation_data, shuffle, class_weight, sample_weight, initial_epoch, steps_per_epoch, validation_steps, **kwargs)\u001b[0m\n\u001b[1;32m   1037\u001b[0m                                         \u001b[0minitial_epoch\u001b[0m\u001b[0;34m=\u001b[0m\u001b[0minitial_epoch\u001b[0m\u001b[0;34m,\u001b[0m\u001b[0;34m\u001b[0m\u001b[0;34m\u001b[0m\u001b[0m\n\u001b[1;32m   1038\u001b[0m                                         \u001b[0msteps_per_epoch\u001b[0m\u001b[0;34m=\u001b[0m\u001b[0msteps_per_epoch\u001b[0m\u001b[0;34m,\u001b[0m\u001b[0;34m\u001b[0m\u001b[0;34m\u001b[0m\u001b[0m\n\u001b[0;32m-> 1039\u001b[0;31m                                         validation_steps=validation_steps)\n\u001b[0m\u001b[1;32m   1040\u001b[0m \u001b[0;34m\u001b[0m\u001b[0m\n\u001b[1;32m   1041\u001b[0m     def evaluate(self, x=None, y=None,\n",
      "\u001b[0;32m~/anaconda3/envs/pytf/lib/python3.6/site-packages/keras/engine/training_arrays.py\u001b[0m in \u001b[0;36mfit_loop\u001b[0;34m(model, f, ins, out_labels, batch_size, epochs, verbose, callbacks, val_f, val_ins, shuffle, callback_metrics, initial_epoch, steps_per_epoch, validation_steps)\u001b[0m\n\u001b[1;32m    197\u001b[0m                     \u001b[0mins_batch\u001b[0m\u001b[0;34m[\u001b[0m\u001b[0mi\u001b[0m\u001b[0;34m]\u001b[0m \u001b[0;34m=\u001b[0m \u001b[0mins_batch\u001b[0m\u001b[0;34m[\u001b[0m\u001b[0mi\u001b[0m\u001b[0;34m]\u001b[0m\u001b[0;34m.\u001b[0m\u001b[0mtoarray\u001b[0m\u001b[0;34m(\u001b[0m\u001b[0;34m)\u001b[0m\u001b[0;34m\u001b[0m\u001b[0;34m\u001b[0m\u001b[0m\n\u001b[1;32m    198\u001b[0m \u001b[0;34m\u001b[0m\u001b[0m\n\u001b[0;32m--> 199\u001b[0;31m                 \u001b[0mouts\u001b[0m \u001b[0;34m=\u001b[0m \u001b[0mf\u001b[0m\u001b[0;34m(\u001b[0m\u001b[0mins_batch\u001b[0m\u001b[0;34m)\u001b[0m\u001b[0;34m\u001b[0m\u001b[0;34m\u001b[0m\u001b[0m\n\u001b[0m\u001b[1;32m    200\u001b[0m                 \u001b[0mouts\u001b[0m \u001b[0;34m=\u001b[0m \u001b[0mto_list\u001b[0m\u001b[0;34m(\u001b[0m\u001b[0mouts\u001b[0m\u001b[0;34m)\u001b[0m\u001b[0;34m\u001b[0m\u001b[0;34m\u001b[0m\u001b[0m\n\u001b[1;32m    201\u001b[0m                 \u001b[0;32mfor\u001b[0m \u001b[0ml\u001b[0m\u001b[0;34m,\u001b[0m \u001b[0mo\u001b[0m \u001b[0;32min\u001b[0m \u001b[0mzip\u001b[0m\u001b[0;34m(\u001b[0m\u001b[0mout_labels\u001b[0m\u001b[0;34m,\u001b[0m \u001b[0mouts\u001b[0m\u001b[0;34m)\u001b[0m\u001b[0;34m:\u001b[0m\u001b[0;34m\u001b[0m\u001b[0;34m\u001b[0m\u001b[0m\n",
      "\u001b[0;32m~/anaconda3/envs/pytf/lib/python3.6/site-packages/keras/backend/tensorflow_backend.py\u001b[0m in \u001b[0;36m__call__\u001b[0;34m(self, inputs)\u001b[0m\n\u001b[1;32m   2713\u001b[0m                 \u001b[0;32mreturn\u001b[0m \u001b[0mself\u001b[0m\u001b[0;34m.\u001b[0m\u001b[0m_legacy_call\u001b[0m\u001b[0;34m(\u001b[0m\u001b[0minputs\u001b[0m\u001b[0;34m)\u001b[0m\u001b[0;34m\u001b[0m\u001b[0;34m\u001b[0m\u001b[0m\n\u001b[1;32m   2714\u001b[0m \u001b[0;34m\u001b[0m\u001b[0m\n\u001b[0;32m-> 2715\u001b[0;31m             \u001b[0;32mreturn\u001b[0m \u001b[0mself\u001b[0m\u001b[0;34m.\u001b[0m\u001b[0m_call\u001b[0m\u001b[0;34m(\u001b[0m\u001b[0minputs\u001b[0m\u001b[0;34m)\u001b[0m\u001b[0;34m\u001b[0m\u001b[0;34m\u001b[0m\u001b[0m\n\u001b[0m\u001b[1;32m   2716\u001b[0m         \u001b[0;32melse\u001b[0m\u001b[0;34m:\u001b[0m\u001b[0;34m\u001b[0m\u001b[0;34m\u001b[0m\u001b[0m\n\u001b[1;32m   2717\u001b[0m             \u001b[0;32mif\u001b[0m \u001b[0mpy_any\u001b[0m\u001b[0;34m(\u001b[0m\u001b[0mis_tensor\u001b[0m\u001b[0;34m(\u001b[0m\u001b[0mx\u001b[0m\u001b[0;34m)\u001b[0m \u001b[0;32mfor\u001b[0m \u001b[0mx\u001b[0m \u001b[0;32min\u001b[0m \u001b[0minputs\u001b[0m\u001b[0;34m)\u001b[0m\u001b[0;34m:\u001b[0m\u001b[0;34m\u001b[0m\u001b[0;34m\u001b[0m\u001b[0m\n",
      "\u001b[0;32m~/anaconda3/envs/pytf/lib/python3.6/site-packages/keras/backend/tensorflow_backend.py\u001b[0m in \u001b[0;36m_call\u001b[0;34m(self, inputs)\u001b[0m\n\u001b[1;32m   2673\u001b[0m             \u001b[0mfetched\u001b[0m \u001b[0;34m=\u001b[0m \u001b[0mself\u001b[0m\u001b[0;34m.\u001b[0m\u001b[0m_callable_fn\u001b[0m\u001b[0;34m(\u001b[0m\u001b[0;34m*\u001b[0m\u001b[0marray_vals\u001b[0m\u001b[0;34m,\u001b[0m \u001b[0mrun_metadata\u001b[0m\u001b[0;34m=\u001b[0m\u001b[0mself\u001b[0m\u001b[0;34m.\u001b[0m\u001b[0mrun_metadata\u001b[0m\u001b[0;34m)\u001b[0m\u001b[0;34m\u001b[0m\u001b[0;34m\u001b[0m\u001b[0m\n\u001b[1;32m   2674\u001b[0m         \u001b[0;32melse\u001b[0m\u001b[0;34m:\u001b[0m\u001b[0;34m\u001b[0m\u001b[0;34m\u001b[0m\u001b[0m\n\u001b[0;32m-> 2675\u001b[0;31m             \u001b[0mfetched\u001b[0m \u001b[0;34m=\u001b[0m \u001b[0mself\u001b[0m\u001b[0;34m.\u001b[0m\u001b[0m_callable_fn\u001b[0m\u001b[0;34m(\u001b[0m\u001b[0;34m*\u001b[0m\u001b[0marray_vals\u001b[0m\u001b[0;34m)\u001b[0m\u001b[0;34m\u001b[0m\u001b[0;34m\u001b[0m\u001b[0m\n\u001b[0m\u001b[1;32m   2676\u001b[0m         \u001b[0;32mreturn\u001b[0m \u001b[0mfetched\u001b[0m\u001b[0;34m[\u001b[0m\u001b[0;34m:\u001b[0m\u001b[0mlen\u001b[0m\u001b[0;34m(\u001b[0m\u001b[0mself\u001b[0m\u001b[0;34m.\u001b[0m\u001b[0moutputs\u001b[0m\u001b[0;34m)\u001b[0m\u001b[0;34m]\u001b[0m\u001b[0;34m\u001b[0m\u001b[0;34m\u001b[0m\u001b[0m\n\u001b[1;32m   2677\u001b[0m \u001b[0;34m\u001b[0m\u001b[0m\n",
      "\u001b[0;32m~/anaconda3/envs/pytf/lib/python3.6/site-packages/tensorflow/python/client/session.py\u001b[0m in \u001b[0;36m__call__\u001b[0;34m(self, *args, **kwargs)\u001b[0m\n\u001b[1;32m   1437\u001b[0m           ret = tf_session.TF_SessionRunCallable(\n\u001b[1;32m   1438\u001b[0m               \u001b[0mself\u001b[0m\u001b[0;34m.\u001b[0m\u001b[0m_session\u001b[0m\u001b[0;34m.\u001b[0m\u001b[0m_session\u001b[0m\u001b[0;34m,\u001b[0m \u001b[0mself\u001b[0m\u001b[0;34m.\u001b[0m\u001b[0m_handle\u001b[0m\u001b[0;34m,\u001b[0m \u001b[0margs\u001b[0m\u001b[0;34m,\u001b[0m \u001b[0mstatus\u001b[0m\u001b[0;34m,\u001b[0m\u001b[0;34m\u001b[0m\u001b[0;34m\u001b[0m\u001b[0m\n\u001b[0;32m-> 1439\u001b[0;31m               run_metadata_ptr)\n\u001b[0m\u001b[1;32m   1440\u001b[0m         \u001b[0;32mif\u001b[0m \u001b[0mrun_metadata\u001b[0m\u001b[0;34m:\u001b[0m\u001b[0;34m\u001b[0m\u001b[0;34m\u001b[0m\u001b[0m\n\u001b[1;32m   1441\u001b[0m           \u001b[0mproto_data\u001b[0m \u001b[0;34m=\u001b[0m \u001b[0mtf_session\u001b[0m\u001b[0;34m.\u001b[0m\u001b[0mTF_GetBuffer\u001b[0m\u001b[0;34m(\u001b[0m\u001b[0mrun_metadata_ptr\u001b[0m\u001b[0;34m)\u001b[0m\u001b[0;34m\u001b[0m\u001b[0;34m\u001b[0m\u001b[0m\n",
      "\u001b[0;31mKeyboardInterrupt\u001b[0m: "
     ]
    },
    {
     "data": {
      "image/png": "[encoded data removed]",
      "text/plain": [
       "<Figure size 432x288 with 1 Axes>"
      ]
     },
     "metadata": {
      "needs_background": "light"
     },
     "output_type": "display_data"
    },
    {
     "data": {
      "image/png": "[encoded data removed]",
      "text/plain": [
       "<Figure size 432x288 with 1 Axes>"
      ]
     },
     "metadata": {
      "needs_background": "light"
     },
     "output_type": "display_data"
    },
    {
     "data": {
      "image/png": "[encoded data removed]",
      "text/plain": [
       "<Figure size 432x288 with 1 Axes>"
      ]
     },
     "metadata": {
      "needs_background": "light"
     },
     "output_type": "display_data"
    },
    {
     "data": {
      "image/png": "[encoded data removed]",
      "text/plain": [
       "<Figure size 432x288 with 1 Axes>"
      ]
     },
     "metadata": {
      "needs_background": "light"
     },
     "output_type": "display_data"
    },
    {
     "data": {
      "image/png": "[encoded data removed]",
      "text/plain": [
       "<Figure size 432x288 with 1 Axes>"
      ]
     },
     "metadata": {
      "needs_background": "light"
     },
     "output_type": "display_data"
    }
   ],
   "source": [
    "lstm_2 = LSTM_2(data, data_train_1, list_idx, scaler, mode='train')\n",
    "model_path = lstm_2.train(epochs=30, batch_size=64)"
   ]
  },
  {
   "cell_type": "code",
   "execution_count": 29,
   "metadata": {},
   "outputs": [
    {
     "name": "stderr",
     "output_type": "stream",
     "text": [
      "\r",
      "  0%|          | 0/2285 [00:00<?, ?it/s]"
     ]
    },
    {
     "name": "stdout",
     "output_type": "stream",
     "text": [
      "0\n"
     ]
    },
    {
     "name": "stderr",
     "output_type": "stream",
     "text": [
      "  4%|▍         | 100/2285 [05:07<1:47:33,  2.95s/it]"
     ]
    },
    {
     "name": "stdout",
     "output_type": "stream",
     "text": [
      "100\n"
     ]
    },
    {
     "name": "stderr",
     "output_type": "stream",
     "text": [
      "  9%|▉         | 200/2285 [10:07<1:44:19,  3.00s/it]"
     ]
    },
    {
     "name": "stdout",
     "output_type": "stream",
     "text": [
      "200\n"
     ]
    },
    {
     "name": "stderr",
     "output_type": "stream",
     "text": [
      " 13%|█▎        | 300/2285 [15:09<1:39:22,  3.00s/it]"
     ]
    },
    {
     "name": "stdout",
     "output_type": "stream",
     "text": [
      "300\n"
     ]
    },
    {
     "name": "stderr",
     "output_type": "stream",
     "text": [
      " 18%|█▊        | 400/2285 [20:11<1:36:08,  3.06s/it]"
     ]
    },
    {
     "name": "stdout",
     "output_type": "stream",
     "text": [
      "400\n"
     ]
    },
    {
     "name": "stderr",
     "output_type": "stream",
     "text": [
      " 22%|██▏       | 500/2285 [25:12<1:29:51,  3.02s/it]"
     ]
    },
    {
     "name": "stdout",
     "output_type": "stream",
     "text": [
      "500\n"
     ]
    },
    {
     "name": "stderr",
     "output_type": "stream",
     "text": [
      " 26%|██▋       | 600/2285 [30:15<1:24:53,  3.02s/it]"
     ]
    },
    {
     "name": "stdout",
     "output_type": "stream",
     "text": [
      "600\n"
     ]
    },
    {
     "name": "stderr",
     "output_type": "stream",
     "text": [
      " 31%|███       | 700/2285 [35:16<1:18:14,  2.96s/it]"
     ]
    },
    {
     "name": "stdout",
     "output_type": "stream",
     "text": [
      "700\n"
     ]
    },
    {
     "name": "stderr",
     "output_type": "stream",
     "text": [
      " 35%|███▌      | 800/2285 [40:17<1:14:56,  3.03s/it]"
     ]
    },
    {
     "name": "stdout",
     "output_type": "stream",
     "text": [
      "800\n"
     ]
    },
    {
     "name": "stderr",
     "output_type": "stream",
     "text": [
      " 39%|███▉      | 900/2285 [45:20<1:10:16,  3.04s/it]"
     ]
    },
    {
     "name": "stdout",
     "output_type": "stream",
     "text": [
      "900\n"
     ]
    },
    {
     "name": "stderr",
     "output_type": "stream",
     "text": [
      " 44%|████▍     | 1000/2285 [50:22<1:06:08,  3.09s/it]"
     ]
    },
    {
     "name": "stdout",
     "output_type": "stream",
     "text": [
      "1000\n"
     ]
    },
    {
     "name": "stderr",
     "output_type": "stream",
     "text": [
      " 48%|████▊     | 1100/2285 [55:24<59:48,  3.03s/it]  "
     ]
    },
    {
     "name": "stdout",
     "output_type": "stream",
     "text": [
      "1100\n"
     ]
    },
    {
     "name": "stderr",
     "output_type": "stream",
     "text": [
      " 53%|█████▎    | 1200/2285 [1:00:25<54:00,  2.99s/it]"
     ]
    },
    {
     "name": "stdout",
     "output_type": "stream",
     "text": [
      "1200\n"
     ]
    },
    {
     "name": "stderr",
     "output_type": "stream",
     "text": [
      " 57%|█████▋    | 1300/2285 [1:05:26<49:12,  3.00s/it]"
     ]
    },
    {
     "name": "stdout",
     "output_type": "stream",
     "text": [
      "1300\n"
     ]
    },
    {
     "name": "stderr",
     "output_type": "stream",
     "text": [
      " 61%|██████▏   | 1400/2285 [1:10:26<43:50,  2.97s/it]"
     ]
    },
    {
     "name": "stdout",
     "output_type": "stream",
     "text": [
      "1400\n"
     ]
    },
    {
     "name": "stderr",
     "output_type": "stream",
     "text": [
      " 66%|██████▌   | 1500/2285 [1:15:23<39:16,  3.00s/it]"
     ]
    },
    {
     "name": "stdout",
     "output_type": "stream",
     "text": [
      "1500\n"
     ]
    },
    {
     "name": "stderr",
     "output_type": "stream",
     "text": [
      " 70%|███████   | 1600/2285 [1:20:21<34:35,  3.03s/it]"
     ]
    },
    {
     "name": "stdout",
     "output_type": "stream",
     "text": [
      "1600\n"
     ]
    },
    {
     "name": "stderr",
     "output_type": "stream",
     "text": [
      " 74%|███████▍  | 1700/2285 [1:25:18<28:59,  2.97s/it]"
     ]
    },
    {
     "name": "stdout",
     "output_type": "stream",
     "text": [
      "1700\n"
     ]
    },
    {
     "name": "stderr",
     "output_type": "stream",
     "text": [
      " 79%|███████▉  | 1800/2285 [1:30:13<23:55,  2.96s/it]"
     ]
    },
    {
     "name": "stdout",
     "output_type": "stream",
     "text": [
      "1800\n"
     ]
    },
    {
     "name": "stderr",
     "output_type": "stream",
     "text": [
      " 83%|████████▎ | 1900/2285 [1:35:06<18:56,  2.95s/it]"
     ]
    },
    {
     "name": "stdout",
     "output_type": "stream",
     "text": [
      "1900\n"
     ]
    },
    {
     "name": "stderr",
     "output_type": "stream",
     "text": [
      " 88%|████████▊ | 2000/2285 [1:40:00<13:50,  2.91s/it]"
     ]
    },
    {
     "name": "stdout",
     "output_type": "stream",
     "text": [
      "2000\n"
     ]
    },
    {
     "name": "stderr",
     "output_type": "stream",
     "text": [
      " 92%|█████████▏| 2100/2285 [1:44:54<08:59,  2.92s/it]"
     ]
    },
    {
     "name": "stdout",
     "output_type": "stream",
     "text": [
      "2100\n"
     ]
    },
    {
     "name": "stderr",
     "output_type": "stream",
     "text": [
      " 96%|█████████▋| 2200/2285 [1:49:49<04:11,  2.95s/it]"
     ]
    },
    {
     "name": "stdout",
     "output_type": "stream",
     "text": [
      "2200\n"
     ]
    },
    {
     "name": "stderr",
     "output_type": "stream",
     "text": [
      "100%|██████████| 2285/2285 [1:53:59<00:00,  2.94s/it]"
     ]
    },
    {
     "name": "stdout",
     "output_type": "stream",
     "text": [
      "[[5.31158447e-02 1.21417963e+00 5.04946214e+00 ... 1.69481177e+00\n",
      "  5.52611509e-02 9.52489385e-02]\n",
      " [1.37765754e+00 1.23132236e+00 1.53575993e+00 ... 4.45204318e-01\n",
      "  2.91927175e+00 2.65651798e+00]\n",
      " [1.19936186e+00 1.30409040e-02 1.62662125e+00 ... 4.69974518e-01\n",
      "  6.88053501e+00 6.38422745e+00]\n",
      " ...\n",
      " [5.50490052e+00 9.35630255e+00 4.13056501e+00 ... 1.16304145e+01\n",
      "  7.02316427e-01 1.17237717e+00]\n",
      " [1.88450356e+00 9.37143093e+00 1.67438007e+01 ... 1.93231041e+00\n",
      "  3.45909142e+00 1.22361352e+00]\n",
      " [2.00674269e+00 9.39798180e+00 4.22951961e+00 ... 1.79542662e+00\n",
      "  1.37186088e-02 1.23572860e+00]]\n",
      "51.210754325762395\n"
     ]
    },
    {
     "name": "stderr",
     "output_type": "stream",
     "text": [
      "\n"
     ]
    }
   ],
   "source": [
    "lstm_2 = LSTM_2(data, data_train_1, list_idx, scaler, mode='inference')\n",
    "losses, predictions = lstm_2.eval(return_original_range=True)\n",
    "print(losses)\n",
    "print(losses.mean())"
   ]
  },
  {
   "cell_type": "code",
   "execution_count": 30,
   "metadata": {},
   "outputs": [],
   "source": [
    "inference_dir = 'inference'\n",
    "if not os.path.exists(inference_dir):\n",
    "    os.makedir(inference_dir)\n",
    "cache_data(predictions, os.path.join(inference_dir, 'lstm_2.dat'))"
   ]
  },
  {
   "cell_type": "code",
   "execution_count": 33,
   "metadata": {},
   "outputs": [
    {
     "data": {
      "text/plain": [
       "((1, 12, 2285), (1, 2285))"
      ]
     },
     "execution_count": 33,
     "metadata": {},
     "output_type": "execute_result"
    }
   ],
   "source": [
    "inputs = lstm_2.data['test_X'][:1]\n",
    "groundtruths = lstm_2.data['test_y'][:1]\n",
    "inputs.shape, groundtruths.shape"
   ]
  },
  {
   "cell_type": "code",
   "execution_count": 34,
   "metadata": {},
   "outputs": [
    {
     "data": {
      "text/plain": [
       "(92, 2285)"
      ]
     },
     "execution_count": 34,
     "metadata": {},
     "output_type": "execute_result"
    }
   ],
   "source": [
    "predictions.shape"
   ]
  },
  {
   "cell_type": "code",
   "execution_count": null,
   "metadata": {},
   "outputs": [],
   "source": [
    "def get_predictions_multi_steps(lstm_1, n_steps=1):\n",
    "    inputs = lstm_1.data['test_X'][:1]\n",
    "    outputs = []\n",
    "    for i in range(n_steps):\n",
    "        predict = lstm_1.inference(inputs, return_full=False)\n",
    "        outputs.append(predict)\n",
    "        inputs = np.concatenate([inputs[:, 1:, :], np.expand_dims(predict, axis=0)], axis=1)\n",
    "    return np.asarray(outputs)"
   ]
  },
  {
   "cell_type": "code",
   "execution_count": null,
   "metadata": {},
   "outputs": [],
   "source": [
    "#lstm_2 = LSTM_2(data, data_train_1, list_idx, scaler, mode='inference')\n",
    "#predictions_multi_steps = get_predictions_multi_steps(lstm_2, 2)"
   ]
  },
  {
   "cell_type": "code",
   "execution_count": null,
   "metadata": {},
   "outputs": [],
   "source": [
    "'''\n",
    "def get_full_shape_predictions_multi_steps(lstm_1, n_steps=1):\n",
    "    predictions = get_predictions_multi_steps(lstm_1, n_steps)\n",
    "    predictions = lstm_1.scaler.inverse_transform(predictions.squeeze())\n",
    "    res = np.zeros((predictions.shape[0], lstm_1.full_shape))\n",
    "    for i, idx in enumerate(lstm_1.list_idx):\n",
    "        res[:, idx] = predictions[:, i].astype(np.int)\n",
    "    for i, default_value in lstm_1.default_values.items():\n",
    "        res[:, i] = default_value\n",
    "    return res\n",
    "'''"
   ]
  },
  {
   "cell_type": "code",
   "execution_count": null,
   "metadata": {},
   "outputs": [
    {
     "name": "stdout",
     "output_type": "stream",
     "text": [
      "0\n"
     ]
    }
   ],
   "source": [
    "lstm_2 = LSTM_2(data, data_train_1, list_idx, scaler, mode='inference')\n",
    "full_shape_predictions_multi_steps = lstm_2.inference_multisteps(data['test_X'], 80, return_full=True)\n",
    "cache_data(os.path.join(full_shape_predictions_multi_steps, inference_dir, 'lstm_2_80_multisteps.dat'))"
   ]
  },
  {
   "cell_type": "code",
   "execution_count": null,
   "metadata": {},
   "outputs": [],
   "source": [
    "def reshape_to_point(x):\n",
    "    return x.reshape(x.shape[0], -1, 2)"
   ]
  },
  {
   "cell_type": "code",
   "execution_count": null,
   "metadata": {},
   "outputs": [],
   "source": [
    "full_shape_predictions_multi_steps = reshape_to_point(full_shape_predictions_multi_steps)\n",
    "full_shape_predictions_multi_steps.shape"
   ]
  },
  {
   "cell_type": "code",
   "execution_count": null,
   "metadata": {},
   "outputs": [],
   "source": [
    "def convert_boundaries_to_image(boundary, img_width, img_height):\n",
    "    img = np.zeros((img_width, img_height))\n",
    "    for i in range(boundary.shape[0]):\n",
    "        x = boundary[i][0].astype(np.int32)\n",
    "        y = boundary[i][1].astype(np.int32)\n",
    "        img[x, y] = 1\n",
    "    return img"
   ]
  },
  {
   "cell_type": "code",
   "execution_count": null,
   "metadata": {},
   "outputs": [],
   "source": [
    "img1 = convert_boundaries_to_image(full_shape_predictions_multi_steps[0], 513, 513)\n",
    "plt.imshow(img1)"
   ]
  },
  {
   "cell_type": "markdown",
   "metadata": {},
   "source": [
    "# Calculate Polygon area"
   ]
  },
  {
   "cell_type": "code",
   "execution_count": null,
   "metadata": {},
   "outputs": [],
   "source": [
    "full_shape_predictions_multi_steps.shape, data_test.shape"
   ]
  },
  {
   "cell_type": "code",
   "execution_count": null,
   "metadata": {},
   "outputs": [],
   "source": [
    "def find_border(data_points):\n",
    "    x = data_points[:, 0]\n",
    "    y = data_points[:, 1]\n",
    "    return x.min(), y.min(), x.max(), y.max()\n",
    "\n",
    "class Line:\n",
    "    def __init__(self, x1, y1, x2, y2):\n",
    "        self.a = y1 - y2\n",
    "        self.b = x2 - x1\n",
    "        self.c = x1*y2 - x2*y1\n",
    "    def calc(self, x, y):\n",
    "        return self.a*x + self.b*y + self.c\n",
    "    \n",
    "def convert_boundary_vector_to_polygon(boundary_vector):\n",
    "    x1, y1, x2, y2 = find_border(boundary_vector)\n",
    "    line = Line(x1, y1, x2, y2)\n",
    "    score_point = [line.calc(x, y) for x, y in boundary_vector]\n",
    "    group_1 = []\n",
    "    group_2 = []\n",
    "    for i, p in enumerate(boundary_vector):\n",
    "        if score_point[i] < 0:\n",
    "            group_1.append(p)\n",
    "        else:\n",
    "            group_2.append(p)\n",
    "    group_1 = sorted(group_1, key=itemgetter(0,1))\n",
    "    group_2 = sorted(group_2, key=itemgetter(0,1), reverse=True)\n",
    "    group = np.vstack([group_1, group_2])\n",
    "    return Polygon(zip(group[:, 0], group[:, 1]))\n",
    "\n",
    "region = [(10, 10), (200, 10), (512, 400), (512, 512), (300, 512), (10, 100), (10, 10)]\n",
    "\n",
    "def check_point_in_region(p, lines, sample_scores):\n",
    "    for line, sample_score in zip(lines, sample_scores):\n",
    "        score = line.calc(p[0], p[1])\n",
    "        if score/sample_score < 0:\n",
    "            return False\n",
    "    return True\n",
    "\n",
    "def get_points_in_region(boundary, region):\n",
    "    lines = []\n",
    "    sample_point = (256, 256)\n",
    "    for i in range(len(region) - 1):\n",
    "        lines.append(Line(*(region[i] + region[i + 1])))\n",
    "    res = []\n",
    "    sample_scores = [line.calc(sample_point[0], sample_point[1]) for line in lines]\n",
    "    for p in boundary:\n",
    "        if check_point_in_region(p, lines, sample_scores):\n",
    "            res.append(p)\n",
    "    return np.vstack(res)\n",
    "\n",
    "def calc_area(points, region):\n",
    "    points = get_points_in_region(points, region)\n",
    "    p = convert_boundary_vector_to_polygon(points)\n",
    "    pp = p.buffer(0)\n",
    "    return pp.area"
   ]
  },
  {
   "cell_type": "code",
   "execution_count": null,
   "metadata": {},
   "outputs": [],
   "source": [
    "print(calc_area(full_shape_predictions_multi_steps[0], region))\n",
    "print(calc_area(data_test[0], region))"
   ]
  },
  {
   "cell_type": "code",
   "execution_count": null,
   "metadata": {},
   "outputs": [],
   "source": [
    "print(calc_area(full_shape_predictions_multi_steps[1], region))\n",
    "print(calc_area(data_test[1], region))"
   ]
  },
  {
   "cell_type": "code",
   "execution_count": null,
   "metadata": {},
   "outputs": [],
   "source": [
    "area_lstm = []\n",
    "for boundary_vector in full_shape_predictions_multi_steps:\n",
    "    area = calc_area(boundary_vector, region)\n",
    "    area_lstm.append(area)\n",
    "    \n",
    "area_test_truth = []\n",
    "for boundary_vector in data_test[:80]:\n",
    "    area = calc_area(boundary_vector, region)\n",
    "    area_test_truth.append(area)\n",
    "\n",
    "plt.plot(area_lstm, color='green', label='area_lstm')\n",
    "plt.plot(area_test_truth, color='r', label='area_test_truth')\n",
    "plt.legend()"
   ]
  },
  {
   "cell_type": "code",
   "execution_count": null,
   "metadata": {},
   "outputs": [],
   "source": [
    "K.clear_session()\n",
    "model_path = os.path.join(lstm_2.model_dir, '{}.dat'.format(idx))\n",
    "model = lstm_2._create_model(1)\n",
    "history = model.fit(lstm_2.data['train_X'][:, :, idx : idx+1], lstm_2.data['train_y'][:, idx : idx+1],\n",
    "                    epochs=epochs, batch_size=batch_size, verbose=0,\n",
    "                    validation_data=(data['val_X'][:, :, idx : idx+1], lstm_2.data['val_y'][:, idx : idx+1]))"
   ]
  },
  {
   "cell_type": "code",
   "execution_count": null,
   "metadata": {},
   "outputs": [],
   "source": []
  },
  {
   "cell_type": "code",
   "execution_count": 48,
   "metadata": {},
   "outputs": [],
   "source": [
    "from functools import partial\n",
    "from multiprocessing import Pool"
   ]
  },
  {
   "cell_type": "code",
   "execution_count": 57,
   "metadata": {},
   "outputs": [],
   "source": [
    "def f(x, y):\n",
    "    print(x)\n",
    "    return np.arange(x*y).reshape((x, y))"
   ]
  },
  {
   "cell_type": "code",
   "execution_count": 60,
   "metadata": {},
   "outputs": [
    {
     "name": "stdout",
     "output_type": "stream",
     "text": [
      "1\n",
      "0\n",
      "2\n"
     ]
    }
   ],
   "source": [
    "p = Pool(5)\n",
    "f1 = partial(f, y=5)\n",
    "res = p.map(f1, range(3))"
   ]
  },
  {
   "cell_type": "code",
   "execution_count": 53,
   "metadata": {},
   "outputs": [
    {
     "data": {
      "text/plain": [
       "[array([[0, 1, 2, 3, 4]]), array([[0, 1, 2, 3, 4],\n",
       "        [5, 6, 7, 8, 9]]), array([[ 0,  1,  2,  3,  4],\n",
       "        [ 5,  6,  7,  8,  9],\n",
       "        [10, 11, 12, 13, 14]])]"
      ]
     },
     "execution_count": 53,
     "metadata": {},
     "output_type": "execute_result"
    }
   ],
   "source": [
    "res"
   ]
  },
  {
   "cell_type": "code",
   "execution_count": 54,
   "metadata": {},
   "outputs": [],
   "source": [
    "res1 = np.vstack(res)"
   ]
  },
  {
   "cell_type": "code",
   "execution_count": 55,
   "metadata": {},
   "outputs": [
    {
     "data": {
      "text/plain": [
       "array([[ 0,  1,  2,  3,  4],\n",
       "       [ 0,  1,  2,  3,  4],\n",
       "       [ 5,  6,  7,  8,  9],\n",
       "       [ 0,  1,  2,  3,  4],\n",
       "       [ 5,  6,  7,  8,  9],\n",
       "       [10, 11, 12, 13, 14]])"
      ]
     },
     "execution_count": 55,
     "metadata": {},
     "output_type": "execute_result"
    }
   ],
   "source": [
    "res1"
   ]
  },
  {
   "cell_type": "code",
   "execution_count": 56,
   "metadata": {},
   "outputs": [
    {
     "name": "stdout",
     "output_type": "stream",
     "text": [
      "[[0 1 2 3 4]]\n",
      "[[0 1 2 3 4]\n",
      " [5 6 7 8 9]]\n",
      "[[ 0  1  2  3  4]\n",
      " [ 5  6  7  8  9]\n",
      " [10 11 12 13 14]]\n"
     ]
    }
   ],
   "source": [
    "for x in res:\n",
    "    print(x)"
   ]
  },
  {
   "cell_type": "code",
   "execution_count": null,
   "metadata": {},
   "outputs": [],
   "source": []
  }
 ],
 "metadata": {
  "kernelspec": {
   "display_name": "Python 3",
   "language": "python",
   "name": "python3"
  },
  "language_info": {
   "codemirror_mode": {
    "name": "ipython",
    "version": 3
   },
   "file_extension": ".py",
   "mimetype": "text/x-python",
   "name": "python",
   "nbconvert_exporter": "python",
   "pygments_lexer": "ipython3",
   "version": "3.6.8"
  }
 },
 "nbformat": 4,
 "nbformat_minor": 2
}
