{
 "cells": [
  {
   "cell_type": "code",
   "execution_count": 1,
   "metadata": {},
   "outputs": [
    {
     "name": "stderr",
     "output_type": "stream",
     "text": [
      "/usr/local/lib/python3.6/site-packages/h5py/__init__.py:36: FutureWarning: Conversion of the second argument of issubdtype from `float` to `np.floating` is deprecated. In future, it will be treated as `np.float64 == np.dtype(float).type`.\n",
      "  from ._conv import register_converters as _register_converters\n"
     ]
    }
   ],
   "source": [
    "import os\n",
    "import h5py\n",
    "import numpy as np\n",
    "import rasterio as rio\n",
    "import matplotlib.pyplot as plt\n",
    "from skimage.segmentation import find_boundaries\n",
    "from matplotlib.collections import PatchCollection\n",
    "from descartes import PolygonPatch\n",
    "from shapely.geometry import shape, LineString\n",
    "from scipy.ndimage import measurements\n",
    "\n",
    "from modis_utils.misc import restore_data, cache_data"
   ]
  },
  {
   "cell_type": "code",
   "execution_count": 2,
   "metadata": {},
   "outputs": [],
   "source": [
    "data_dir = 'predict_boundary_samples'\n",
    "boundary_sample_train, boundary_sample_val, boundary_sample_test = restore_data(\n",
    "    os.path.join(data_dir, 'inference_boundary_sample.dat'))"
   ]
  },
  {
   "cell_type": "code",
   "execution_count": 3,
   "metadata": {},
   "outputs": [],
   "source": [
    "boundary_sample_train = boundary_sample_train.reshape(boundary_sample_train.shape[0], -1, 2)\n",
    "boundary_sample_val = boundary_sample_val.reshape(boundary_sample_val.shape[0], -1, 2)\n",
    "boundary_sample_test = boundary_sample_test.reshape(boundary_sample_test.shape[0], -1, 2)"
   ]
  },
  {
   "cell_type": "code",
   "execution_count": 4,
   "metadata": {},
   "outputs": [],
   "source": [
    "groundtruth_dir = 'boundaries_matrix'\n",
    "groundtruth_train = restore_data(os.path.join(groundtruth_dir, 'train.dat'))\n",
    "groundtruth_val = restore_data(os.path.join(groundtruth_dir, 'val.dat'))\n",
    "groundtruth_test = restore_data(os.path.join(groundtruth_dir, 'test.dat'))"
   ]
  },
  {
   "cell_type": "code",
   "execution_count": 5,
   "metadata": {},
   "outputs": [],
   "source": [
    "groundtruth_train = np.expand_dims(groundtruth_train, axis=-1)\n",
    "groundtruth_val = np.expand_dims(groundtruth_val, axis=-1)\n",
    "groundtruth_test = np.expand_dims(groundtruth_test, axis=-1)"
   ]
  },
  {
   "cell_type": "code",
   "execution_count": 6,
   "metadata": {},
   "outputs": [
    {
     "data": {
      "text/plain": [
       "((388, 1024, 2), (138, 1024, 2), (138, 1024, 2))"
      ]
     },
     "execution_count": 6,
     "metadata": {},
     "output_type": "execute_result"
    }
   ],
   "source": [
    "boundary_sample_train.shape, boundary_sample_val.shape, boundary_sample_test.shape"
   ]
  },
  {
   "cell_type": "code",
   "execution_count": 7,
   "metadata": {},
   "outputs": [
    {
     "data": {
      "text/plain": [
       "((438, 513, 513, 1), (138, 513, 513, 1), (138, 513, 513, 1))"
      ]
     },
     "execution_count": 7,
     "metadata": {},
     "output_type": "execute_result"
    }
   ],
   "source": [
    "groundtruth_train.shape, groundtruth_val.shape, groundtruth_test.shape"
   ]
  },
  {
   "cell_type": "code",
   "execution_count": 20,
   "metadata": {},
   "outputs": [],
   "source": [
    "from tensorflow.python.keras.models import Model\n",
    "from tensorflow.python.keras.layers import Input, Add, PReLU, Conv2DTranspose, Concatenate\n",
    "from tensorflow.python.keras.layers import MaxPooling2D, UpSampling2D, Dropout\n",
    "from tensorflow.python.keras.layers.convolutional import Conv2D\n",
    "from tensorflow.python.keras.layers.normalization import BatchNormalization\n",
    "from tensorflow.python.keras.callbacks import Callback\n",
    "from tensorflow.python.keras import backend as K\n",
    "import tensorflow as tf\n",
    "\n",
    "\n",
    "class L0Loss:\n",
    "    def __init__(self):\n",
    "        self.gamma = K.variable(2.)\n",
    "\n",
    "    def __call__(self):\n",
    "        def calc_loss(y_true, y_pred):\n",
    "            loss = K.pow(K.abs(y_true - y_pred) + 1e-8, self.gamma)\n",
    "            return loss\n",
    "        return calc_loss\n",
    "\n",
    "\n",
    "class UpdateAnnealingParameter(Callback):\n",
    "    def __init__(self, gamma, nb_epochs, verbose=0):\n",
    "        super(UpdateAnnealingParameter, self).__init__()\n",
    "        self.gamma = gamma\n",
    "        self.nb_epochs = nb_epochs\n",
    "        self.verbose = verbose\n",
    "\n",
    "    def on_epoch_begin(self, epoch, logs=None):\n",
    "        new_gamma = 2.0 * (self.nb_epochs - epoch) / self.nb_epochs\n",
    "        K.set_value(self.gamma, new_gamma)\n",
    "\n",
    "        if self.verbose > 0:\n",
    "            print('\\nEpoch %05d: UpdateAnnealingParameter reducing gamma to %s.' % (epoch + 1, new_gamma))\n",
    "\n",
    "\n",
    "def tf_log10(x):\n",
    "    numerator = tf.log(x)\n",
    "    denominator = tf.log(tf.constant(10, dtype=numerator.dtype))\n",
    "    return numerator / denominator\n",
    "\n",
    "\n",
    "def PSNR(y_true, y_pred):\n",
    "    max_pixel = 255.0\n",
    "    y_pred = K.clip(y_pred, 0.0, 255.0)\n",
    "    return 10.0 * tf_log10((max_pixel ** 2) / (K.mean(K.square(y_pred - y_true))))\n",
    "\n",
    "\n",
    "def get_model(input_shape, model_name=\"srresnet\"):\n",
    "    if model_name == \"srresnet\":\n",
    "        return get_srresnet_model(input_shape)\n",
    "    elif model_name == \"unet\":\n",
    "        return get_unet_model(input_shape)\n",
    "    else:\n",
    "        raise ValueError(\"model_name should be 'srresnet'or 'unet'\")\n",
    "\n",
    "\n",
    "# SRResNet\n",
    "def get_srresnet_model(input_shape, input_channel_num=1, feature_dim=64, resunit_num=16):\n",
    "    def _residual_block(inputs):\n",
    "        x = Conv2D(feature_dim, (3, 3), padding=\"same\", kernel_initializer=\"he_normal\")(inputs)\n",
    "        x = BatchNormalization()(x)\n",
    "        x = PReLU(shared_axes=[1, 2])(x)\n",
    "        x = Conv2D(feature_dim, (3, 3), padding=\"same\", kernel_initializer=\"he_normal\")(x)\n",
    "        x = BatchNormalization()(x)\n",
    "        m = Add()([x, inputs])\n",
    "\n",
    "        return m\n",
    "\n",
    "    inputs = Input(shape=(input_shape[0], input_shape[1], input_channel_num))\n",
    "    x = Conv2D(feature_dim, (3, 3), padding=\"same\", kernel_initializer=\"he_normal\")(inputs)\n",
    "    x = PReLU(shared_axes=[1, 2])(x)\n",
    "    x0 = x\n",
    "\n",
    "    for i in range(resunit_num):\n",
    "        x = _residual_block(x)\n",
    "\n",
    "    x = Conv2D(feature_dim, (3, 3), padding=\"same\", kernel_initializer=\"he_normal\")(x)\n",
    "    x = BatchNormalization()(x)\n",
    "    x = Add()([x, x0])\n",
    "    x = Conv2D(input_channel_num, (3, 3), padding=\"same\", kernel_initializer=\"he_normal\")(x)\n",
    "    x = Activation('sigmoid')(x)\n",
    "    model = Model(inputs=inputs, outputs=x)\n",
    "\n",
    "    return model\n",
    "\n",
    "\n",
    "# UNet: code from https://github.com/pietz/unet-keras\n",
    "def get_unet_model(input_shape, input_channel_num=1, out_ch=1, start_ch=64, depth=4, inc_rate=2., \n",
    "                   activation='relu', dropout=0.5, batchnorm=False, maxpool=True, upconv=True, residual=False):\n",
    "    def _conv_block(m, dim, acti, bn, res, do=0):\n",
    "        n = Conv2D(dim, 3, activation=acti, padding='same')(m)\n",
    "        n = BatchNormalization()(n) if bn else n\n",
    "        n = Dropout(do)(n) if do else n\n",
    "        n = Conv2D(dim, 3, activation=acti, padding='same')(n)\n",
    "        n = BatchNormalization()(n) if bn else n\n",
    "\n",
    "        return Concatenate()([m, n]) if res else n\n",
    "\n",
    "    def _level_block(m, dim, depth, inc, acti, do, bn, mp, up, res):\n",
    "        if depth > 0:\n",
    "            n = _conv_block(m, dim, acti, bn, res)\n",
    "            m = MaxPooling2D()(n) if mp else Conv2D(dim, 3, strides=2, padding='same')(n)\n",
    "            m = _level_block(m, int(inc * dim), depth - 1, inc, acti, do, bn, mp, up, res)\n",
    "            if up:\n",
    "                m = UpSampling2D()(m)\n",
    "                m = Conv2D(dim, 2, activation=acti, padding='same')(m)\n",
    "            else:\n",
    "                m = Conv2DTranspose(dim, 3, strides=2, activation=acti, padding='same')(m)\n",
    "            n = Concatenate()([n, m])\n",
    "            m = _conv_block(n, dim, acti, bn, res)\n",
    "        else:\n",
    "            m = _conv_block(m, dim, acti, bn, res, do)\n",
    "\n",
    "        return m\n",
    "\n",
    "    i = Input(shape=(input_shape[0], input_shape[1], input_channel_num))\n",
    "    o = _level_block(i, start_ch, depth, inc_rate, activation, dropout, batchnorm, maxpool, upconv, residual)\n",
    "    o = Conv2D(out_ch, 1)(o)\n",
    "    model = Model(inputs=i, outputs=o)\n",
    "\n",
    "    return model"
   ]
  },
  {
   "cell_type": "code",
   "execution_count": 21,
   "metadata": {},
   "outputs": [],
   "source": [
    "def boundary_loss(groundtruth, predict):\n",
    "    groundtruth = tf.to_float(groundtruth)\n",
    "    predict = tf.to_float(predict)\n",
    "    square_error = tf.multiply(groundtruth, (groundtruth - predict)**2)\n",
    "    square_error = tf.reduce_sum(square_error, axis=[1,2,3])\n",
    "    s = tf.reduce_sum(groundtruth, axis=[1,2,3])\n",
    "    return tf.divide(square_error, s)"
   ]
  },
  {
   "cell_type": "code",
   "execution_count": 22,
   "metadata": {},
   "outputs": [],
   "source": [
    "predict_dir = 'predict_boundary'"
   ]
  },
  {
   "cell_type": "code",
   "execution_count": 62,
   "metadata": {},
   "outputs": [
    {
     "data": {
      "text/plain": [
       "(0.0, 1.0)"
      ]
     },
     "execution_count": 62,
     "metadata": {},
     "output_type": "execute_result"
    }
   ],
   "source": [
    "boundary_sample_test.min(), boundary_sample_test.max()"
   ]
  },
  {
   "cell_type": "markdown",
   "metadata": {},
   "source": [
    "# Inference Phase. Only run one time. If runned, not runned again"
   ]
  },
  {
   "cell_type": "code",
   "execution_count": 12,
   "metadata": {},
   "outputs": [
    {
     "data": {
      "text/plain": [
       "True"
      ]
     },
     "execution_count": 12,
     "metadata": {},
     "output_type": "execute_result"
    }
   ],
   "source": [
    "os.path.isfile(os.path.join('data_boundary_matrix', 'test.dat'))"
   ]
  },
  {
   "cell_type": "code",
   "execution_count": 13,
   "metadata": {},
   "outputs": [],
   "source": [
    "data_dir = 'data_boundary_matrix'\n",
    "#data_train = restore_data(os.path.join(data_dir, 'train.dat'))\n",
    "#data_val = restore_data(os.path.join(data_dir, 'val.dat'))\n",
    "data_test = restore_data(os.path.join(data_dir, 'test.dat'))"
   ]
  },
  {
   "cell_type": "code",
   "execution_count": 14,
   "metadata": {},
   "outputs": [],
   "source": [
    "K.clear_session()\n",
    "model = get_model(input_shape=(513, 513))\n",
    "model.compile(loss=boundary_loss, optimizer='adam')"
   ]
  },
  {
   "cell_type": "code",
   "execution_count": 15,
   "metadata": {},
   "outputs": [],
   "source": [
    "model.load_weights('boundary_sample_to_image.h5')"
   ]
  },
  {
   "cell_type": "code",
   "execution_count": 17,
   "metadata": {},
   "outputs": [
    {
     "data": {
      "text/plain": [
       "(1, 513, 513, 1)"
      ]
     },
     "execution_count": 17,
     "metadata": {},
     "output_type": "execute_result"
    }
   ],
   "source": [
    "b = data_test[0:1]\n",
    "b.shape"
   ]
  },
  {
   "cell_type": "code",
   "execution_count": 114,
   "metadata": {},
   "outputs": [
    {
     "data": {
      "text/plain": [
       "Text(0.5,1,'groundtruth')"
      ]
     },
     "execution_count": 114,
     "metadata": {},
     "output_type": "execute_result"
    },
    {
     "data": {
      "image/png": "[encoded data removed]",
      "text/plain": [
       "<Figure size 576x1440 with 3 Axes>"
      ]
     },
     "metadata": {},
     "output_type": "display_data"
    }
   ],
   "source": [
    "idx = 0\n",
    "x = model.predict(data_test[idx:idx+1])\n",
    "fig, ax = plt.subplots(1,3, figsize=(8,20))\n",
    "\n",
    "data_X_0 = data_test[idx, :, :, 0]\n",
    "ax[0].imshow(data_X_0)\n",
    "ax[0].set_title('data')\n",
    "\n",
    "predict = x.squeeze(axis=0).squeeze(axis=-1)\n",
    "ax[1].imshow(predict)\n",
    "ax[1].set_title('predict')\n",
    "\n",
    "groundtruth = groundtruth_test[idx:idx+1].squeeze(axis=0).squeeze(axis=-1)\n",
    "ax[2].imshow(groundtruth)\n",
    "ax[2].set_title('groundtruth')"
   ]
  },
  {
   "cell_type": "code",
   "execution_count": 26,
   "metadata": {},
   "outputs": [],
   "source": [
    "def boundary_loss_np(groundtruth, predict):\n",
    "    groundtruth = groundtruth.astype(np.float)\n",
    "    predict = predict.astype(np.float)\n",
    "    square_error = (groundtruth - predict)**2\n",
    "    return np.sum(np.multiply(groundtruth, square_error)) / np.sum(groundtruth)"
   ]
  },
  {
   "cell_type": "code",
   "execution_count": 27,
   "metadata": {},
   "outputs": [
    {
     "data": {
      "text/plain": [
       "0.18692147210342044"
      ]
     },
     "execution_count": 27,
     "metadata": {},
     "output_type": "execute_result"
    }
   ],
   "source": [
    "boundary_loss_np(groundtruth, predict)"
   ]
  },
  {
   "cell_type": "code",
   "execution_count": 28,
   "metadata": {},
   "outputs": [
    {
     "data": {
      "text/plain": [
       "0.16843422117850723"
      ]
     },
     "execution_count": 28,
     "metadata": {},
     "output_type": "execute_result"
    }
   ],
   "source": [
    "np.mean((groundtruth - predict)**2)"
   ]
  },
  {
   "cell_type": "code",
   "execution_count": null,
   "metadata": {},
   "outputs": [],
   "source": []
  },
  {
   "cell_type": "code",
   "execution_count": 16,
   "metadata": {},
   "outputs": [],
   "source": [
    "if not os.path.exists(predict_dir):\n",
    "    os.makedirs(predict_dir)"
   ]
  },
  {
   "cell_type": "code",
   "execution_count": 57,
   "metadata": {},
   "outputs": [],
   "source": [
    "import pickle\n",
    "with open('scaler.dat', 'rb') as f:\n",
    "    scaler = pickle.load(f)"
   ]
  },
  {
   "cell_type": "code",
   "execution_count": 56,
   "metadata": {},
   "outputs": [],
   "source": [
    "def transform_to_int(boundary_sample_inference, scaler):\n",
    "    old_shape = boundary_sample_inference.shape\n",
    "    x = boundary_sample_inference.reshape(1, -1)\n",
    "    x = scaler.inverse_transform(x)\n",
    "    x = np.round(x).astype(np.int)\n",
    "    return x.reshape(old_shape)"
   ]
  },
  {
   "cell_type": "code",
   "execution_count": 58,
   "metadata": {},
   "outputs": [
    {
     "name": "stdout",
     "output_type": "stream",
     "text": [
      "(1024, 2)\n"
     ]
    }
   ],
   "source": [
    "x = boundary_sample_test[0]\n",
    "print(x.shape)\n",
    "a = transform_to_int(x, scaler)"
   ]
  },
  {
   "cell_type": "code",
   "execution_count": 59,
   "metadata": {},
   "outputs": [
    {
     "data": {
      "text/plain": [
       "array([[256, 304],\n",
       "       [256, 297],\n",
       "       [257, 298],\n",
       "       ...,\n",
       "       [255, 306],\n",
       "       [255, 297],\n",
       "       [255, 297]])"
      ]
     },
     "execution_count": 59,
     "metadata": {},
     "output_type": "execute_result"
    }
   ],
   "source": [
    "a"
   ]
  },
  {
   "cell_type": "code",
   "execution_count": null,
   "metadata": {},
   "outputs": [],
   "source": [
    "predict = model.predict(np.expand_dims(np.expand_dims(data_X, axis=0), axis=-1))"
   ]
  },
  {
   "cell_type": "code",
   "execution_count": 65,
   "metadata": {},
   "outputs": [],
   "source": [
    "def convert_boundaries_to_image(boundary, img_width, img_height):\n",
    "    img = np.zeros((img_width, img_height))\n",
    "    for i in range(boundary.shape[0]):\n",
    "        x = boundary[i][0].astype(np.uint8)\n",
    "        y = boundary[i][1].astype(np.uint8)\n",
    "        img[x, y] = 1\n",
    "    return img"
   ]
  },
  {
   "cell_type": "code",
   "execution_count": 115,
   "metadata": {},
   "outputs": [
    {
     "name": "stdout",
     "output_type": "stream",
     "text": [
      "(1024, 2)\n",
      "(1024, 2)\n",
      "(513, 513)\n"
     ]
    }
   ],
   "source": [
    "X = boundary_sample_test\n",
    "data_X = X[0] # shape = (1,1024,2)\n",
    "print(data_X.shape)\n",
    "data_X = transform_to_int(data_X, scaler) # shape = (1024,2)\n",
    "print(data_X.shape)\n",
    "data_X = convert_boundaries_to_image(data_X, 513, 513) # shape = (img_width, img_height)\n",
    "print(data_X.shape)"
   ]
  },
  {
   "cell_type": "code",
   "execution_count": 116,
   "metadata": {},
   "outputs": [
    {
     "data": {
      "text/plain": [
       "0.00544137037417021"
      ]
     },
     "execution_count": 116,
     "metadata": {},
     "output_type": "execute_result"
    }
   ],
   "source": [
    "np.mean((data_X - data_X_0)**2)"
   ]
  },
  {
   "cell_type": "code",
   "execution_count": 117,
   "metadata": {},
   "outputs": [
    {
     "data": {
      "text/plain": [
       "0.9046454767726161"
      ]
     },
     "execution_count": 117,
     "metadata": {},
     "output_type": "execute_result"
    }
   ],
   "source": [
    "boundary_loss_np(data_X_0, data_X)"
   ]
  },
  {
   "cell_type": "code",
   "execution_count": 69,
   "metadata": {},
   "outputs": [],
   "source": [
    "X = boundary_sample_test\n",
    "data_X = X[0 : 1] # shape = (1,1024,2)"
   ]
  },
  {
   "cell_type": "code",
   "execution_count": 78,
   "metadata": {},
   "outputs": [
    {
     "data": {
      "text/plain": [
       "<matplotlib.image.AxesImage at 0x7ff44f1ba6d8>"
      ]
     },
     "execution_count": 78,
     "metadata": {},
     "output_type": "execute_result"
    },
    {
     "data": {
      "image/png": "[encoded data removed]",
      "text/plain": [
       "<Figure size 432x288 with 1 Axes>"
      ]
     },
     "metadata": {},
     "output_type": "display_data"
    }
   ],
   "source": [
    "plt.imshow(data_X)"
   ]
  },
  {
   "cell_type": "code",
   "execution_count": 71,
   "metadata": {},
   "outputs": [],
   "source": [
    "data_X_1 = transform_to_int(data_X, scaler)"
   ]
  },
  {
   "cell_type": "code",
   "execution_count": 72,
   "metadata": {},
   "outputs": [
    {
     "data": {
      "text/plain": [
       "array([[[256, 304],\n",
       "        [256, 297],\n",
       "        [257, 298],\n",
       "        ...,\n",
       "        [255, 306],\n",
       "        [255, 297],\n",
       "        [255, 297]]])"
      ]
     },
     "execution_count": 72,
     "metadata": {},
     "output_type": "execute_result"
    }
   ],
   "source": [
    "data_X_1"
   ]
  },
  {
   "cell_type": "code",
   "execution_count": 73,
   "metadata": {},
   "outputs": [
    {
     "data": {
      "text/plain": [
       "1"
      ]
     },
     "execution_count": 73,
     "metadata": {},
     "output_type": "execute_result"
    }
   ],
   "source": [
    "len(data_X_1)"
   ]
  },
  {
   "cell_type": "code",
   "execution_count": 82,
   "metadata": {},
   "outputs": [],
   "source": [
    "def inference(X, Y, img_width, img_height, scaler, model):\n",
    "    test_inference = []\n",
    "    test_loss = []\n",
    "    for i in range(len(X)):\n",
    "        data_X = X[i] # shape = (1024,2)\n",
    "        data_X = transform_to_int(data_X, scaler) # shape = (1024,2)\n",
    "        data_X = convert_boundaries_to_image(data_X, img_width, img_height) # shape = (img_width, img_height)\n",
    "        data_Y = Y[i]\n",
    "        predict = model.predict(np.expand_dims(np.expand_dims(data_X, axis=0), axis=-1))\n",
    "        loss = boundary_loss_np(data_Y, predict)\n",
    "        test_inference.append(predict)\n",
    "        test_loss.append(loss)\n",
    "    test_inference = np.vstack(test_inference)\n",
    "    test_loss = np.vstack(test_loss)\n",
    "    return test_inference, test_loss"
   ]
  },
  {
   "cell_type": "code",
   "execution_count": 83,
   "metadata": {},
   "outputs": [],
   "source": [
    "test_inference, test_loss = inference(boundary_sample_test, groundtruth_test,  513, 513, scaler, model)\n",
    "train_inference, train_loss = inference(boundary_sample_train, groundtruth_train,  513, 513, scaler, model)\n",
    "val_inference, val_loss = inference(boundary_sample_val, groundtruth_val,  513, 513, scaler, model)"
   ]
  },
  {
   "cell_type": "code",
   "execution_count": 84,
   "metadata": {},
   "outputs": [],
   "source": [
    "cache_data((train_inference, val_inference, test_inference),\n",
    "           os.path.join(predict_dir, 'inference_boundary.dat'))\n",
    "cache_data((train_loss, val_loss, test_loss),\n",
    "           os.path.join(predict_dir, 'inference_boundary_loss.dat'))"
   ]
  },
  {
   "cell_type": "markdown",
   "metadata": {},
   "source": [
    "# End Inference Phase"
   ]
  },
  {
   "cell_type": "code",
   "execution_count": 85,
   "metadata": {},
   "outputs": [],
   "source": [
    "train_loss, val_loss, test_loss = restore_data(os.path.join(predict_dir, 'inference_boundary_loss.dat'))"
   ]
  },
  {
   "cell_type": "code",
   "execution_count": 86,
   "metadata": {},
   "outputs": [],
   "source": [
    "test_loss = np.asarray(test_loss)"
   ]
  },
  {
   "cell_type": "code",
   "execution_count": 87,
   "metadata": {},
   "outputs": [
    {
     "data": {
      "text/plain": [
       "0.42188564702652737"
      ]
     },
     "execution_count": 87,
     "metadata": {},
     "output_type": "execute_result"
    }
   ],
   "source": [
    "np.mean(test_loss)"
   ]
  },
  {
   "cell_type": "code",
   "execution_count": 88,
   "metadata": {},
   "outputs": [],
   "source": [
    "inference_boundary = restore_data(os.path.join(predict_dir, 'inference_boundary.dat'))"
   ]
  },
  {
   "cell_type": "code",
   "execution_count": 89,
   "metadata": {},
   "outputs": [],
   "source": [
    "train_inference, val_inference, test_inference = inference_boundary"
   ]
  },
  {
   "cell_type": "code",
   "execution_count": 90,
   "metadata": {},
   "outputs": [
    {
     "data": {
      "text/plain": [
       "(138, 513, 513, 1)"
      ]
     },
     "execution_count": 90,
     "metadata": {},
     "output_type": "execute_result"
    }
   ],
   "source": [
    "test_inference.shape"
   ]
  },
  {
   "cell_type": "code",
   "execution_count": 91,
   "metadata": {},
   "outputs": [
    {
     "data": {
      "text/plain": [
       "(-0.124027126, 1.4777223)"
      ]
     },
     "execution_count": 91,
     "metadata": {},
     "output_type": "execute_result"
    }
   ],
   "source": [
    "x = test_inference[0,:,:,0]\n",
    "x.min(), x.max()"
   ]
  },
  {
   "cell_type": "code",
   "execution_count": 93,
   "metadata": {},
   "outputs": [],
   "source": [
    "x = np.round(x)"
   ]
  },
  {
   "cell_type": "code",
   "execution_count": 96,
   "metadata": {},
   "outputs": [],
   "source": [
    "a = np.where(x > 0.5, 1, 0)"
   ]
  },
  {
   "cell_type": "code",
   "execution_count": 97,
   "metadata": {},
   "outputs": [
    {
     "data": {
      "text/plain": [
       "<matplotlib.image.AxesImage at 0x7ff43c169f60>"
      ]
     },
     "execution_count": 97,
     "metadata": {},
     "output_type": "execute_result"
    },
    {
     "data": {
      "image/png": "[encoded data removed]",
      "text/plain": [
       "<Figure size 432x288 with 1 Axes>"
      ]
     },
     "metadata": {},
     "output_type": "display_data"
    }
   ],
   "source": [
    "plt.imshow(a)"
   ]
  },
  {
   "cell_type": "markdown",
   "metadata": {},
   "source": [
    "# Visualize boundaries groundtruth and predict overlay"
   ]
  },
  {
   "cell_type": "code",
   "execution_count": 99,
   "metadata": {},
   "outputs": [],
   "source": [
    "visualize_dir = 'visualize/overlay_boundaries'\n",
    "if not os.path.exists(visualize_dir):\n",
    "    os.makedirs('visualize/overlay_boundaries')"
   ]
  },
  {
   "cell_type": "code",
   "execution_count": 109,
   "metadata": {},
   "outputs": [],
   "source": [
    "def overlay_predict_groundtruth(groundtruth_boundaries, predict_boundaries, test_index,\n",
    "                                cmap=plt.cm.Accent, alpha=0.5):\n",
    "    plt.figure(figsize=(10,10))\n",
    "    #predict_mask_lake = restore_data(os.path.join('mask_predict', '{}.dat'.format(test_index)))\n",
    "    #groundtruth_mask_lake = restore_data(os.path.join('mask_groundtruth', '{}.dat'.format(test_index)))\n",
    "    #predict_boundary = find_boundaries(predict_mask_lake).astype(np.uint8)\n",
    "    #groundtruth_boundary = find_boundaries(groundtruth_mask_lake, mode='outer').astype(np.uint8)*3\n",
    "    groundtruth_boundary = groundtruth_boundaries[test_index].astype(np.uint8)*3\n",
    "    predict_boundary = predict_boundaries[test_index]\n",
    "    if groundtruth_boundary.shape[-1] == 1:\n",
    "        groundtruth_boundary = groundtruth_boundary.squeeze(axis=-1)\n",
    "    if predict_boundary.shape[-1] == 1:\n",
    "        predict_boundary = predict_boundary.squeeze(axis=-1)\n",
    "    predict_boundary = np.round(predict_boundary).astype(np.uint8)\n",
    "    a = predict_boundary + groundtruth_boundary\n",
    "    print(a.min(), a.max())\n",
    "    \n",
    "    a[a==4] = 2\n",
    "    # mask some 'bad' data, in your case you would have: data == 0\n",
    "    a = np.ma.masked_where(a == 0, a)\n",
    "    cmap.set_bad(color='white')\n",
    "    plt.imshow(a, cmap=cmap)\n",
    "    plt.savefig(os.path.join('visualize/overlay_boundaries/{}.png'.format(test_index)))\n",
    "    \n",
    "    print(a.min(), a.max())\n",
    "    cbar = plt.colorbar()\n",
    "    cbar.set_ticks(ticks=np.arange(4))\n",
    "    cbar.set_ticklabels(['predict_only', 'predict_and_groundtruth', 'groundtruth_only'])"
   ]
  },
  {
   "cell_type": "code",
   "execution_count": 110,
   "metadata": {},
   "outputs": [
    {
     "name": "stdout",
     "output_type": "stream",
     "text": [
      "0 4\n",
      "1 3\n"
     ]
    },
    {
     "data": {
      "image/png": "[encoded data removed]",
      "text/plain": [
       "<Figure size 720x720 with 2 Axes>"
      ]
     },
     "metadata": {},
     "output_type": "display_data"
    }
   ],
   "source": [
    "overlay_predict_groundtruth(groundtruth_test, test_inference, 0, plt.cm.rainbow)"
   ]
  },
  {
   "cell_type": "code",
   "execution_count": 34,
   "metadata": {},
   "outputs": [],
   "source": [
    "groundtruth_boundary = groundtruth_test[0].astype(np.uint8)"
   ]
  },
  {
   "cell_type": "code",
   "execution_count": 36,
   "metadata": {},
   "outputs": [
    {
     "data": {
      "text/plain": [
       "<matplotlib.image.AxesImage at 0x7feb427cc748>"
      ]
     },
     "execution_count": 36,
     "metadata": {},
     "output_type": "execute_result"
    },
    {
     "data": {
      "image/png": "[encoded data removed]",
      "text/plain": [
       "<Figure size 432x288 with 1 Axes>"
      ]
     },
     "metadata": {},
     "output_type": "display_data"
    }
   ],
   "source": [
    "plt.imshow(groundtruth_boundary.squeeze(axis=-1))"
   ]
  },
  {
   "cell_type": "code",
   "execution_count": 81,
   "metadata": {},
   "outputs": [
    {
     "data": {
      "text/plain": [
       "<matplotlib.image.AxesImage at 0x7feb405a6780>"
      ]
     },
     "execution_count": 81,
     "metadata": {},
     "output_type": "execute_result"
    },
    {
     "data": {
      "image/png": "[encoded data removed]",
      "text/plain": [
       "<Figure size 432x288 with 1 Axes>"
      ]
     },
     "metadata": {},
     "output_type": "display_data"
    }
   ],
   "source": [
    "predict_boundary = test_inference[0].astype(np.uint8)\n",
    "plt.imshow(predict_boundary.squeeze(axis=-1))"
   ]
  },
  {
   "cell_type": "code",
   "execution_count": 42,
   "metadata": {},
   "outputs": [
    {
     "data": {
      "text/plain": [
       "256"
      ]
     },
     "execution_count": 42,
     "metadata": {},
     "output_type": "execute_result"
    }
   ],
   "source": [
    "\n"
   ]
  },
  {
   "cell_type": "code",
   "execution_count": null,
   "metadata": {},
   "outputs": [],
   "source": []
  }
 ],
 "metadata": {
  "kernelspec": {
   "display_name": "Python 3",
   "language": "python",
   "name": "python3"
  },
  "language_info": {
   "codemirror_mode": {
    "name": "ipython",
    "version": 3
   },
   "file_extension": ".py",
   "mimetype": "text/x-python",
   "name": "python",
   "nbconvert_exporter": "python",
   "pygments_lexer": "ipython3",
   "version": "3.6.5"
  }
 },
 "nbformat": 4,
 "nbformat_minor": 2
}
