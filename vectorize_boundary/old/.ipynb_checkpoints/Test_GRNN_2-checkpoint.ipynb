{
 "cells": [
  {
   "cell_type": "code",
   "execution_count": 1,
   "metadata": {
    "colab": {
     "base_uri": "https://localhost:8080/",
     "height": 34
    },
    "colab_type": "code",
    "id": "9-Nn0CsF1L44",
    "outputId": "39830814-9386-4ff9-ebe5-497abc9c37e7"
   },
   "outputs": [],
   "source": [
    "colab = False\n",
    "if colab:\n",
    "    from google.colab import drive\n",
    "    drive.mount('gdrive')\n",
    "    gdrive_dir = 'cache'"
   ]
  },
  {
   "cell_type": "code",
   "execution_count": 2,
   "metadata": {
    "colab": {
     "base_uri": "https://localhost:8080/",
     "height": 34
    },
    "colab_type": "code",
    "id": "-v0bglhavZ5B",
    "outputId": "216f7532-b027-442c-bc3b-523b5ea6ef8b"
   },
   "outputs": [
    {
     "data": {
      "text/plain": [
       "'/usr/local/bin/python3.6'"
      ]
     },
     "execution_count": 2,
     "metadata": {},
     "output_type": "execute_result"
    }
   ],
   "source": [
    "import sys\n",
    "sys.executable"
   ]
  },
  {
   "cell_type": "code",
   "execution_count": 3,
   "metadata": {
    "colab": {
     "base_uri": "https://localhost:8080/",
     "height": 34
    },
    "colab_type": "code",
    "id": "7KEwTwaYviYh",
    "outputId": "4b2b9e41-13db-4674-c92a-efb3838c802a"
   },
   "outputs": [
    {
     "name": "stdout",
     "output_type": "stream",
     "text": [
      "Python 3.6.7\r\n"
     ]
    }
   ],
   "source": [
    "!python --version"
   ]
  },
  {
   "cell_type": "code",
   "execution_count": 4,
   "metadata": {
    "colab": {},
    "colab_type": "code",
    "id": "9_sIeTMQ1JIa"
   },
   "outputs": [
    {
     "name": "stderr",
     "output_type": "stream",
     "text": [
      "/usr/local/lib/python3.6/site-packages/h5py/__init__.py:36: FutureWarning: Conversion of the second argument of issubdtype from `float` to `np.floating` is deprecated. In future, it will be treated as `np.float64 == np.dtype(float).type`.\n",
      "  from ._conv import register_converters as _register_converters\n"
     ]
    }
   ],
   "source": [
    "import os\n",
    "import h5py\n",
    "import numpy as np\n",
    "from scipy import misc\n",
    "import matplotlib.pyplot as plt\n",
    "from sklearn.preprocessing import MinMaxScaler"
   ]
  },
  {
   "cell_type": "code",
   "execution_count": 5,
   "metadata": {
    "colab": {
     "base_uri": "https://localhost:8080/",
     "height": 692
    },
    "colab_type": "code",
    "id": "a9nT_GEPkuR6",
    "outputId": "01a9a2f1-64f9-4c2a-a92f-45a3f19ef8c5"
   },
   "outputs": [
    {
     "name": "stdout",
     "output_type": "stream",
     "text": [
      "Requirement already satisfied: livelossplot in /usr/local/lib/python3.6/site-packages (0.3.3)\n",
      "Requirement already satisfied: notebook in /usr/local/lib/python3.6/site-packages (from livelossplot) (5.5.0)\n",
      "Requirement already satisfied: matplotlib in /usr/local/lib/python3.6/site-packages (from livelossplot) (2.2.2)\n",
      "Requirement already satisfied: terminado>=0.8.1 in /usr/local/lib/python3.6/site-packages (from notebook->livelossplot) (0.8.1)\n",
      "Requirement already satisfied: Send2Trash in /usr/local/lib/python3.6/site-packages (from notebook->livelossplot) (1.5.0)\n",
      "Requirement already satisfied: nbformat in /usr/local/lib/python3.6/site-packages (from notebook->livelossplot) (4.4.0)\n",
      "Requirement already satisfied: jupyter-core>=4.4.0 in /usr/local/lib/python3.6/site-packages (from notebook->livelossplot) (4.4.0)\n",
      "Requirement already satisfied: tornado>=4 in /usr/local/lib/python3.6/site-packages (from notebook->livelossplot) (5.0.2)\n",
      "Requirement already satisfied: pyzmq>=17 in /usr/local/lib/python3.6/site-packages (from notebook->livelossplot) (17.0.0)\n",
      "Requirement already satisfied: ipykernel in /usr/local/lib/python3.6/site-packages (from notebook->livelossplot) (4.8.2)\n",
      "Requirement already satisfied: traitlets>=4.2.1 in /usr/local/lib/python3.6/site-packages (from notebook->livelossplot) (4.3.2)\n",
      "Requirement already satisfied: nbconvert in /usr/local/lib/python3.6/site-packages (from notebook->livelossplot) (5.3.1)\n",
      "Requirement already satisfied: jinja2 in /usr/local/lib/python3.6/site-packages (from notebook->livelossplot) (2.10)\n",
      "Requirement already satisfied: ipython-genutils in /usr/local/lib/python3.6/site-packages (from notebook->livelossplot) (0.2.0)\n",
      "Requirement already satisfied: jupyter-client>=5.2.0 in /usr/local/lib/python3.6/site-packages (from notebook->livelossplot) (5.2.3)\n",
      "Requirement already satisfied: python-dateutil>=2.1 in /usr/local/lib/python3.6/site-packages (from matplotlib->livelossplot) (2.7.3)\n",
      "Requirement already satisfied: pytz in /usr/local/lib/python3.6/site-packages (from matplotlib->livelossplot) (2018.9)\n",
      "Requirement already satisfied: cycler>=0.10 in /usr/local/lib/python3.6/site-packages (from matplotlib->livelossplot) (0.10.0)\n",
      "Requirement already satisfied: kiwisolver>=1.0.1 in /usr/local/lib/python3.6/site-packages (from matplotlib->livelossplot) (1.0.1)\n",
      "Requirement already satisfied: six>=1.10 in /usr/local/lib/python3.6/site-packages (from matplotlib->livelossplot) (1.11.0)\n",
      "Requirement already satisfied: pyparsing!=2.0.4,!=2.1.2,!=2.1.6,>=2.0.1 in /usr/local/lib/python3.6/site-packages (from matplotlib->livelossplot) (2.2.0)\n",
      "Requirement already satisfied: numpy>=1.7.1 in /usr/local/lib/python3.6/site-packages (from matplotlib->livelossplot) (1.14.5)\n",
      "Requirement already satisfied: ptyprocess; os_name != \"nt\" in /usr/local/lib/python3.6/site-packages (from terminado>=0.8.1->notebook->livelossplot) (0.5.2)\n",
      "Requirement already satisfied: jsonschema!=2.5.0,>=2.4 in /usr/local/lib/python3.6/site-packages (from nbformat->notebook->livelossplot) (2.6.0)\n",
      "Requirement already satisfied: ipython>=4.0.0 in /usr/local/lib/python3.6/site-packages (from ipykernel->notebook->livelossplot) (6.4.0)\n",
      "Requirement already satisfied: decorator in /usr/local/lib/python3.6/site-packages (from traitlets>=4.2.1->notebook->livelossplot) (4.3.0)\n",
      "Requirement already satisfied: bleach in /usr/local/lib/python3.6/site-packages (from nbconvert->notebook->livelossplot) (1.5.0)\n",
      "Requirement already satisfied: pygments in /usr/local/lib/python3.6/site-packages (from nbconvert->notebook->livelossplot) (2.2.0)\n",
      "Requirement already satisfied: mistune>=0.7.4 in /usr/local/lib/python3.6/site-packages (from nbconvert->notebook->livelossplot) (0.8.3)\n",
      "Requirement already satisfied: entrypoints>=0.2.2 in /usr/local/lib/python3.6/site-packages (from nbconvert->notebook->livelossplot) (0.3)\n",
      "Requirement already satisfied: testpath in /usr/local/lib/python3.6/site-packages (from nbconvert->notebook->livelossplot) (0.3.1)\n",
      "Requirement already satisfied: pandocfilters>=1.4.1 in /usr/local/lib/python3.6/site-packages (from nbconvert->notebook->livelossplot) (1.4.2)\n",
      "Requirement already satisfied: MarkupSafe>=0.23 in /usr/local/lib/python3.6/site-packages (from jinja2->notebook->livelossplot) (1.0)\n",
      "Requirement already satisfied: setuptools in /usr/local/lib/python3.6/site-packages (from kiwisolver>=1.0.1->matplotlib->livelossplot) (39.0.1)\n",
      "Requirement already satisfied: pickleshare in /usr/local/lib/python3.6/site-packages (from ipython>=4.0.0->ipykernel->notebook->livelossplot) (0.7.4)\n",
      "Requirement already satisfied: backcall in /usr/local/lib/python3.6/site-packages (from ipython>=4.0.0->ipykernel->notebook->livelossplot) (0.1.0)\n",
      "Requirement already satisfied: pexpect; sys_platform != \"win32\" in /usr/local/lib/python3.6/site-packages (from ipython>=4.0.0->ipykernel->notebook->livelossplot) (4.6.0)\n",
      "Requirement already satisfied: simplegeneric>0.8 in /usr/local/lib/python3.6/site-packages (from ipython>=4.0.0->ipykernel->notebook->livelossplot) (0.8.1)\n",
      "Requirement already satisfied: jedi>=0.10 in /usr/local/lib/python3.6/site-packages (from ipython>=4.0.0->ipykernel->notebook->livelossplot) (0.12.0)\n",
      "Requirement already satisfied: prompt-toolkit<2.0.0,>=1.0.15 in /usr/local/lib/python3.6/site-packages (from ipython>=4.0.0->ipykernel->notebook->livelossplot) (1.0.15)\n",
      "Requirement already satisfied: html5lib!=0.9999,!=0.99999,<0.99999999,>=0.999 in /usr/local/lib/python3.6/site-packages (from bleach->nbconvert->notebook->livelossplot) (0.9999999)\n",
      "Requirement already satisfied: parso>=0.2.0 in /usr/local/lib/python3.6/site-packages (from jedi>=0.10->ipython>=4.0.0->ipykernel->notebook->livelossplot) (0.2.1)\n",
      "Requirement already satisfied: wcwidth in /usr/local/lib/python3.6/site-packages (from prompt-toolkit<2.0.0,>=1.0.15->ipython>=4.0.0->ipykernel->notebook->livelossplot) (0.1.7)\n",
      "\u001b[33mYou are using pip version 19.0.2, however version 19.0.3 is available.\n",
      "You should consider upgrading via the 'pip install --upgrade pip' command.\u001b[0m\n"
     ]
    }
   ],
   "source": [
    "!pip install livelossplot"
   ]
  },
  {
   "cell_type": "code",
   "execution_count": 6,
   "metadata": {
    "colab": {
     "base_uri": "https://localhost:8080/",
     "height": 34
    },
    "colab_type": "code",
    "id": "Gn14831a1_ez",
    "outputId": "84e24c11-97ea-4e37-cc56-eefad96780ae"
   },
   "outputs": [
    {
     "name": "stdout",
     "output_type": "stream",
     "text": [
      "fatal: destination path 'modis_utils' already exists and is not an empty directory.\r\n"
     ]
    }
   ],
   "source": [
    "!git clone https://github.com/lamductan/modis_utils"
   ]
  },
  {
   "cell_type": "code",
   "execution_count": 7,
   "metadata": {
    "colab": {},
    "colab_type": "code",
    "id": "exE_fQWg1JIh"
   },
   "outputs": [],
   "source": [
    "from livelossplot import PlotLosses\n",
    "from modis_utils.misc import cache_data, restore_data"
   ]
  },
  {
   "cell_type": "code",
   "execution_count": 9,
   "metadata": {
    "colab": {},
    "colab_type": "code",
    "id": "5r9tSawW1JIl"
   },
   "outputs": [],
   "source": [
    "data = restore_data(os.path.join('cache', 'boundary_vectors_ALL.h5'))"
   ]
  },
  {
   "cell_type": "code",
   "execution_count": 10,
   "metadata": {
    "colab": {},
    "colab_type": "code",
    "id": "cReEtZNI1JIn"
   },
   "outputs": [],
   "source": [
    "train_boundary_vectors = data[0]\n",
    "val_boundary_vectors = data[1]\n",
    "test_boundary_vectors = data[2]"
   ]
  },
  {
   "cell_type": "code",
   "execution_count": 11,
   "metadata": {
    "colab": {
     "base_uri": "https://localhost:8080/",
     "height": 34
    },
    "colab_type": "code",
    "id": "Evr_F7S31JIq",
    "outputId": "a05d7af0-96f1-4324-b4e4-bb01f1e713e4"
   },
   "outputs": [
    {
     "data": {
      "text/plain": [
       "1024"
      ]
     },
     "execution_count": 11,
     "metadata": {},
     "output_type": "execute_result"
    }
   ],
   "source": [
    "n_points = train_boundary_vectors.shape[1]\n",
    "n_points"
   ]
  },
  {
   "cell_type": "code",
   "execution_count": 12,
   "metadata": {
    "colab": {
     "base_uri": "https://localhost:8080/",
     "height": 34
    },
    "colab_type": "code",
    "id": "kcNKTrpr1JIu",
    "outputId": "76513dc6-8445-4f9e-e3e5-0b69d32ae833"
   },
   "outputs": [
    {
     "data": {
      "text/plain": [
       "((438, 1024, 2), (138, 1024, 2), (138, 1024, 2))"
      ]
     },
     "execution_count": 12,
     "metadata": {},
     "output_type": "execute_result"
    }
   ],
   "source": [
    "train_boundary_vectors.shape, val_boundary_vectors.shape, test_boundary_vectors.shape"
   ]
  },
  {
   "cell_type": "code",
   "execution_count": 13,
   "metadata": {
    "colab": {},
    "colab_type": "code",
    "id": "yoC45MTR1JIy"
   },
   "outputs": [],
   "source": [
    "def transform(data, scaler, flatten=True):\n",
    "    old_shape = data.shape\n",
    "    data = data.reshape(old_shape[0], -1)\n",
    "    data = scaler.transform(data.astype(np.float))\n",
    "    if not flatten:\n",
    "        return data.reshape(old_shape)\n",
    "    return data"
   ]
  },
  {
   "cell_type": "code",
   "execution_count": 14,
   "metadata": {
    "colab": {},
    "colab_type": "code",
    "id": "cLqx4tD-1JI0"
   },
   "outputs": [],
   "source": [
    "# normalize the dataset\n",
    "scaler = MinMaxScaler(feature_range=(0, 1))\n",
    "scaler.fit(train_boundary_vectors.reshape(train_boundary_vectors.shape[0], -1))\n",
    "train_boundary_vectors_scale = transform(train_boundary_vectors, scaler, flatten=True)\n",
    "val_boundary_vectors_scale = transform(val_boundary_vectors, scaler, flatten=True)\n",
    "test_boundary_vectors_scale = transform(test_boundary_vectors, scaler, flatten=True)"
   ]
  },
  {
   "cell_type": "code",
   "execution_count": 15,
   "metadata": {
    "colab": {},
    "colab_type": "code",
    "id": "fZvotXRA1JI3"
   },
   "outputs": [],
   "source": [
    "# normalize the dataset\n",
    "train_boundary_vectors_scale_1 = transform(train_boundary_vectors, scaler, flatten=False)\n",
    "val_boundary_vectors_scale_1 = transform(val_boundary_vectors, scaler, flatten=False)\n",
    "test_boundary_vectors_scale_1 = transform(test_boundary_vectors, scaler, flatten=False)"
   ]
  },
  {
   "cell_type": "code",
   "execution_count": 16,
   "metadata": {
    "colab": {
     "base_uri": "https://localhost:8080/",
     "height": 34
    },
    "colab_type": "code",
    "id": "XLY_Cuit1JI5",
    "outputId": "2258351d-7359-4b75-81ef-8de5fe2e36a0"
   },
   "outputs": [
    {
     "data": {
      "text/plain": [
       "(438, 1024, 2)"
      ]
     },
     "execution_count": 16,
     "metadata": {},
     "output_type": "execute_result"
    }
   ],
   "source": [
    "train_boundary_vectors_scale_1.shape"
   ]
  },
  {
   "cell_type": "code",
   "execution_count": 17,
   "metadata": {
    "colab": {},
    "colab_type": "code",
    "id": "H-u5aVh31JI9"
   },
   "outputs": [],
   "source": [
    "def create_dataset(boundary_vectors_scale, timesteps):\n",
    "    data_X = []\n",
    "    data_Y = []\n",
    "    for i in range(len(boundary_vectors_scale) - timesteps):\n",
    "        data_x = boundary_vectors_scale[i:(i+timesteps)]\n",
    "        data_y = boundary_vectors_scale[i + timesteps]\n",
    "        data_X.append(data_x)\n",
    "        data_Y.append(data_y)\n",
    "    return np.asarray(data_X), np.asarray(data_Y)"
   ]
  },
  {
   "cell_type": "code",
   "execution_count": 18,
   "metadata": {
    "colab": {},
    "colab_type": "code",
    "id": "GvuWC_3k1JI_"
   },
   "outputs": [],
   "source": [
    "timesteps = 50\n",
    "train_X, train_Y = create_dataset(train_boundary_vectors_scale, timesteps)\n",
    "val_X, val_Y = create_dataset(np.concatenate(\n",
    "    [train_boundary_vectors_scale[-timesteps:], val_boundary_vectors_scale]),\n",
    "                              timesteps)\n",
    "test_X, test_Y = create_dataset(np.concatenate(\n",
    "    [val_boundary_vectors_scale[-timesteps:], test_boundary_vectors_scale]),\n",
    "                                timesteps)"
   ]
  },
  {
   "cell_type": "code",
   "execution_count": 19,
   "metadata": {
    "colab": {},
    "colab_type": "code",
    "id": "1nKS8BBo1JJC"
   },
   "outputs": [],
   "source": [
    "timesteps = 50\n",
    "train_X_1, train_Y_1 = create_dataset(train_boundary_vectors_scale_1, timesteps)\n",
    "val_X_1, val_Y_1 = create_dataset(np.concatenate(\n",
    "    [train_boundary_vectors_scale_1[-timesteps:], val_boundary_vectors_scale_1]),\n",
    "                              timesteps)\n",
    "test_X_1, test_Y_1 = create_dataset(np.concatenate(\n",
    "    [val_boundary_vectors_scale_1[-timesteps:], test_boundary_vectors_scale_1]),\n",
    "                                timesteps)"
   ]
  },
  {
   "cell_type": "code",
   "execution_count": 20,
   "metadata": {
    "colab": {
     "base_uri": "https://localhost:8080/",
     "height": 118
    },
    "colab_type": "code",
    "id": "CILpLtpU1JJF",
    "outputId": "2af30de8-0b8c-4186-ab0d-4d6ff99b25f5"
   },
   "outputs": [
    {
     "data": {
      "text/plain": [
       "((388, 50, 2048),\n",
       " (388, 2048),\n",
       " (138, 50, 2048),\n",
       " (138, 2048),\n",
       " (138, 50, 2048),\n",
       " (138, 2048))"
      ]
     },
     "execution_count": 20,
     "metadata": {},
     "output_type": "execute_result"
    }
   ],
   "source": [
    "train_X.shape, train_Y.shape, val_X.shape, val_Y.shape, test_X.shape, test_Y.shape"
   ]
  },
  {
   "cell_type": "code",
   "execution_count": 21,
   "metadata": {
    "colab": {
     "base_uri": "https://localhost:8080/",
     "height": 118
    },
    "colab_type": "code",
    "id": "Bu1rUwhG1JJI",
    "outputId": "7dda609a-0d3e-4a78-eec6-a934867d97b1"
   },
   "outputs": [
    {
     "data": {
      "text/plain": [
       "((388, 50, 1024, 2),\n",
       " (388, 1024, 2),\n",
       " (138, 50, 1024, 2),\n",
       " (138, 1024, 2),\n",
       " (138, 50, 1024, 2),\n",
       " (138, 1024, 2))"
      ]
     },
     "execution_count": 21,
     "metadata": {},
     "output_type": "execute_result"
    }
   ],
   "source": [
    "train_X_1.shape, train_Y_1.shape, val_X_1.shape, val_Y_1.shape, test_X_1.shape, test_Y_1.shape"
   ]
  },
  {
   "cell_type": "code",
   "execution_count": 22,
   "metadata": {
    "colab": {},
    "colab_type": "code",
    "id": "EBL1WZ0B1JJN"
   },
   "outputs": [],
   "source": [
    "def create_graph_matrix(n_points_on_boundary):\n",
    "    def calc_arc_distance(a, b, n):\n",
    "        diff = np.abs(a-b)\n",
    "        if diff > n//2:\n",
    "            diff = n - diff\n",
    "        return diff\n",
    "    \n",
    "    n = n_points_on_boundary\n",
    "    mat = np.zeros((n, n))\n",
    "    for i in range(n):\n",
    "        for j in range(n):\n",
    "            mat[i,j] = calc_arc_distance(i, j, n)\n",
    "    return mat.astype(np.float32)\n",
    "\n",
    "def create_graph_matrix_1(n_points_on_boundary):\n",
    "    def calc_arc_distance(a, b, n):\n",
    "        diff = np.abs(a-b)\n",
    "        if diff > n//2:\n",
    "            diff = n - diff\n",
    "        return diff\n",
    "    \n",
    "    n = n_points_on_boundary\n",
    "    mat = np.zeros((2*n, 2*n))\n",
    "    for i in range(n):\n",
    "        for j in range(n):\n",
    "            mat[i,j] = calc_arc_distance(i, j, n)\n",
    "    mat[n:2*n, n:2*n] = mat[:n, :n]\n",
    "    for i in range(n):\n",
    "        for j in range(n, 2*n):\n",
    "            mat[i,j] = mat[i, j - n]\n",
    "    mat[n:2*n, :n] = mat[:n, n:2*n]\n",
    "    return mat.astype(np.float32)"
   ]
  },
  {
   "cell_type": "code",
   "execution_count": 23,
   "metadata": {
    "colab": {
     "base_uri": "https://localhost:8080/",
     "height": 34
    },
    "colab_type": "code",
    "id": "A_HxgB4J1JJQ",
    "outputId": "25202c70-6c2c-4da8-f193-7fb60fc30dd0"
   },
   "outputs": [
    {
     "data": {
      "text/plain": [
       "(1024, 1024)"
      ]
     },
     "execution_count": 23,
     "metadata": {},
     "output_type": "execute_result"
    }
   ],
   "source": [
    "mat = create_graph_matrix(n_points)\n",
    "mat.shape"
   ]
  },
  {
   "cell_type": "code",
   "execution_count": null,
   "metadata": {
    "colab": {},
    "colab_type": "code",
    "id": "uQvNkxc62bOP"
   },
   "outputs": [],
   "source": []
  },
  {
   "cell_type": "code",
   "execution_count": 24,
   "metadata": {
    "colab": {},
    "colab_type": "code",
    "id": "IbAOYMkh1JJZ"
   },
   "outputs": [],
   "source": [
    "class DotDict(dict):\n",
    "    \"\"\"dot.notation access to dictionary attributes\"\"\"\n",
    "    __getattr__ = dict.get\n",
    "    __setattr__ = dict.__setitem__\n",
    "    __delattr__ = dict.__delitem__\n",
    "    def __getstate__(self): return self.__dict__\n",
    "    def __setstate__(self, d): self.__dict__.update(d)"
   ]
  },
  {
   "cell_type": "code",
   "execution_count": null,
   "metadata": {
    "colab": {},
    "colab_type": "code",
    "id": "p0rpImRf1JJc"
   },
   "outputs": [],
   "source": [
    "import random\n",
    "import datetime\n",
    "\n",
    "import torch\n",
    "import torch.nn as nn\n",
    "import torch.optim as optim\n",
    "import torch.multiprocessing as mp\n",
    "\n",
    "from grnn.model import GRNN"
   ]
  },
  {
   "cell_type": "code",
   "execution_count": null,
   "metadata": {
    "colab": {},
    "colab_type": "code",
    "id": "JQYaoSDL1JJf"
   },
   "outputs": [],
   "source": [
    "opt = DotDict()\n",
    "opt.nNode = n_points\n",
    "opt.batchSize = 1\n",
    "opt.dimHidden = 32\n",
    "opt.dimFeature = 2\n",
    "opt.truncate = 50\n",
    "opt.nIter = 20\n",
    "opt.cuda = True\n",
    "opt.lr = 0.01"
   ]
  },
  {
   "cell_type": "code",
   "execution_count": null,
   "metadata": {
    "colab": {},
    "colab_type": "code",
    "id": "r5wT04kb1JJh"
   },
   "outputs": [],
   "source": [
    "def to_torch(data):\n",
    "    data_np = np.expand_dims(train_boundary_vectors_scale_1, axis=0)\n",
    "    return torch.from_numpy(data_np) "
   ]
  },
  {
   "cell_type": "code",
   "execution_count": null,
   "metadata": {
    "colab": {},
    "colab_type": "code",
    "id": "1uauISwBlWX9"
   },
   "outputs": [],
   "source": []
  },
  {
   "cell_type": "code",
   "execution_count": null,
   "metadata": {
    "colab": {},
    "colab_type": "code",
    "id": "Vm584opiCXWO"
   },
   "outputs": [],
   "source": [
    "mat = np.divide(mat, n_points)"
   ]
  },
  {
   "cell_type": "code",
   "execution_count": null,
   "metadata": {
    "colab": {},
    "colab_type": "code",
    "id": "C9Nd8boS1JJm"
   },
   "outputs": [],
   "source": [
    "#data = torch.from_numpy(data_np)\n",
    "A = torch.from_numpy(mat[np.newaxis, :, :]).double()"
   ]
  },
  {
   "cell_type": "code",
   "execution_count": null,
   "metadata": {
    "colab": {},
    "colab_type": "code",
    "id": "Ys7shce-1JJo"
   },
   "outputs": [],
   "source": [
    "net = GRNN(opt)\n",
    "net.double();"
   ]
  },
  {
   "cell_type": "code",
   "execution_count": null,
   "metadata": {
    "colab": {},
    "colab_type": "code",
    "id": "18z_Tgm71JJt"
   },
   "outputs": [],
   "source": [
    "criterion = nn.MSELoss()"
   ]
  },
  {
   "cell_type": "code",
   "execution_count": null,
   "metadata": {
    "colab": {
     "base_uri": "https://localhost:8080/",
     "height": 34
    },
    "colab_type": "code",
    "id": "m-a-7EbvIVd-",
    "outputId": "d9fe84c9-1eac-49db-ee21-6702ca165cc4"
   },
   "outputs": [],
   "source": [
    "device = torch.device(\"cuda:0\" if torch.cuda.is_available() else \"cpu\")\n",
    "print(device)"
   ]
  },
  {
   "cell_type": "code",
   "execution_count": null,
   "metadata": {
    "colab": {},
    "colab_type": "code",
    "id": "r61N6AXo1JJv"
   },
   "outputs": [],
   "source": [
    "if opt.cuda:\n",
    "    net = net.to(device)\n",
    "    criterion = criterion.cuda()\n",
    "    A = A.to(device)"
   ]
  },
  {
   "cell_type": "code",
   "execution_count": null,
   "metadata": {
    "colab": {},
    "colab_type": "code",
    "id": "QCMIMuv61JJ3"
   },
   "outputs": [],
   "source": [
    "def getTime(begin, end):\n",
    "    timeDelta = end - begin\n",
    "    return '%d h %d m %d.%ds' % (timeDelta.seconds // 3600, (timeDelta.seconds%3600) // 60, timeDelta.seconds % 60, timeDelta.microseconds)\n",
    "\n",
    "timStart = datetime.datetime.now()"
   ]
  },
  {
   "cell_type": "code",
   "execution_count": null,
   "metadata": {
    "colab": {},
    "colab_type": "code",
    "id": "IKjXq5q_1JJ6"
   },
   "outputs": [],
   "source": [
    "point_plot_idx = 0\n",
    "feature_plot_idx = 1"
   ]
  },
  {
   "cell_type": "code",
   "execution_count": null,
   "metadata": {
    "colab": {},
    "colab_type": "code",
    "id": "WZ_mGVAB5G-0"
   },
   "outputs": [],
   "source": [
    "def to_numpy(data):\n",
    "    if not opt.cuda:\n",
    "        data = data.cpu()\n",
    "    return data.numpy()"
   ]
  },
  {
   "cell_type": "code",
   "execution_count": null,
   "metadata": {
    "colab": {},
    "colab_type": "code",
    "id": "koTeZolO1JKB"
   },
   "outputs": [],
   "source": [
    "'''\n",
    "for t in range(data.size(1) - opt.truncate):\n",
    "    x = data[:, t:(t + opt.truncate), :, :]\n",
    "    y = data[:, (t + 1):(t + opt.truncate + 1), :, :]\n",
    "    prediction = 0\n",
    "\n",
    "    for i in range(opt.nIter):\n",
    "        process = '[Log] %d propogation, %d epoch. ' % (t + 1, i + 1)\n",
    "        timStamp = datetime.datetime.now()\n",
    "        prediction, hNew = net(x, hState, A)\n",
    "        #print(prediction)\n",
    "        print(process + 'Forward used: %s.' % getTime(timStamp, datetime.datetime.now()))\n",
    "        hState = hState.data\n",
    "\n",
    "        loss = criterion(prediction, y)\n",
    "        optimizer.zero_grad()\n",
    "        timStamp = datetime.datetime.now()\n",
    "        loss.backward()\n",
    "        \n",
    "        print(process + 'Backward used: %s.' % getTime(timStamp, datetime.datetime.now()))\n",
    "        \n",
    "        optimizer.step()\n",
    "\n",
    "    _, hState = net.propogator(x[:, 0, :, :], hState, A)\n",
    "    hState = hState.data\n",
    "\n",
    "    if t == 0:\n",
    "        plt.plot([v for v in range(opt.truncate)], \n",
    "                 x[:, :, point_plot_idx, feature_plot_idx].data.numpy().flatten(), 'r-')\n",
    "        plt.plot([v + 1 for v in range(opt.truncate)], \n",
    "                 to_numpy(prediction[:, :, point_plot_idx, feature_plot_idx].data).flatten(), 'b-')\n",
    "    else:\n",
    "        plt.plot([t + opt.truncate - 2, t + opt.truncate - 1], \n",
    "                 to_numpy(x[:, -2:, point_plot_idx, feature_plot_idx].data).flatten(), 'r-')\n",
    "        plt.plot([t + opt.truncate - 1, t + opt.truncate],\n",
    "                 [yLastPred, prediction[0, -1, point_plot_idx, feature_plot_idx]], 'b-')\n",
    "        plt.plot([t + opt.truncate - 1, t + opt.truncate], \n",
    "                 to_numpy(x[:, -2:, point_plot_idx, feature_plot_idx].data).flatten(), 'r-')\n",
    "    plt.draw()\n",
    "    plt.pause(0.5)\n",
    "    yLastPred = prediction[0, -1, point_plot_idx, feature_plot_idx]\n",
    "\n",
    "plt.ioff()\n",
    "plt.show()\n",
    "'''"
   ]
  },
  {
   "cell_type": "code",
   "execution_count": null,
   "metadata": {
    "colab": {},
    "colab_type": "code",
    "id": "dEyWZbYj4erx"
   },
   "outputs": [],
   "source": [
    "'''\n",
    "n_data = data.size(1) - opt.truncate\n",
    "losses = []\n",
    "visualize_data = False\n",
    "\n",
    "for i in range(opt.nIter):\n",
    "    running_loss = 0.0\n",
    "    for t in range(n_data):\n",
    "        x = data[:, t:(t + opt.truncate), :, :]\n",
    "        y = data[:, (t + 1):(t + opt.truncate + 1), :, :]\n",
    "        prediction = 0\n",
    "\n",
    "        timStamp = datetime.datetime.now()\n",
    "        prediction, hNew = net(x, hState, A)\n",
    "        #print(prediction)\n",
    "        hState = hState.data\n",
    "\n",
    "        loss = criterion(prediction, y)\n",
    "        optimizer.zero_grad()\n",
    "        timStamp = datetime.datetime.now()\n",
    "        loss.backward()\n",
    "        \n",
    "        running_loss += loss.item()\n",
    "        optimizer.step()\n",
    "\n",
    "    running_loss /= n_data\n",
    "    print('Epoch %d, mean loss = %.3f' % (i + 1, running_loss))\n",
    "    losses.append(running_loss)\n",
    "    plt.plot(losses)\n",
    "\n",
    "    if visualize_data:\n",
    "        _, hState = net.propogator(x[:, 0, :, :], hState, A)\n",
    "        hState = hState.data\n",
    "\n",
    "        if t == 0:\n",
    "            plt.plot([v for v in range(opt.truncate)], \n",
    "                     x[:, :, point_plot_idx, feature_plot_idx].data.numpy().flatten(), 'r-')\n",
    "            plt.plot([v + 1 for v in range(opt.truncate)], \n",
    "                     to_numpy(prediction[:, :, point_plot_idx, feature_plot_idx].data).flatten(), 'b-')\n",
    "        else:\n",
    "            plt.plot([t + opt.truncate - 2, t + opt.truncate - 1], \n",
    "                     to_numpy(x[:, -2:, point_plot_idx, feature_plot_idx].data).flatten(), 'r-')\n",
    "            plt.plot([t + opt.truncate - 1, t + opt.truncate],\n",
    "                     [yLastPred, prediction[0, -1, point_plot_idx, feature_plot_idx]], 'b-')\n",
    "            plt.plot([t + opt.truncate - 1, t + opt.truncate], \n",
    "                     to_numpy(x[:, -2:, point_plot_idx, feature_plot_idx].data).flatten(), 'r-')\n",
    "        plt.draw()\n",
    "        plt.pause(0.5)\n",
    "        yLastPred = prediction[0, -1, point_plot_idx, feature_plot_idx]\n",
    "\n",
    "plt.ioff()\n",
    "plt.show()\n",
    "'''"
   ]
  },
  {
   "cell_type": "code",
   "execution_count": null,
   "metadata": {
    "colab": {},
    "colab_type": "code",
    "id": "ItME4xjeQ4qT"
   },
   "outputs": [],
   "source": [
    "multi_processing = False\n",
    "if multi_processing:\n",
    "    net.share_memory()"
   ]
  },
  {
   "cell_type": "code",
   "execution_count": null,
   "metadata": {
    "colab": {},
    "colab_type": "code",
    "id": "bYAWH6ZHRj-t"
   },
   "outputs": [],
   "source": [
    "data_of_phase = {\n",
    "    \"train\": to_torch(train_boundary_vectors_scale_1),\n",
    "    \"validation\": to_torch(val_boundary_vectors_scale_1)\n",
    "}\n",
    "\n",
    "n_data_of_phase = {}\n",
    "for phase, data in data_of_phase.items():\n",
    "    n_data_of_phase[phase] = data.size(1) - opt.truncate\n",
    "\n",
    "liveloss = PlotLosses()"
   ]
  },
  {
   "cell_type": "code",
   "execution_count": null,
   "metadata": {
    "colab": {},
    "colab_type": "code",
    "id": "I6MlOCRWwm_C"
   },
   "outputs": [],
   "source": [
    "if opt.cuda:\n",
    "    for phase, data in data_of_phase.items():\n",
    "        data_of_phase[phase] = data.to(device)"
   ]
  },
  {
   "cell_type": "code",
   "execution_count": null,
   "metadata": {
    "colab": {
     "base_uri": "https://localhost:8080/",
     "height": 54
    },
    "colab_type": "code",
    "id": "5se6CuqFBl8a",
    "outputId": "f8311121-0a17-4de2-c9b7-e5b555fc8d03"
   },
   "outputs": [],
   "source": [
    "'''\n",
    "for i in range(opt.nIter):\n",
    "    logs = {}\n",
    "    for phase in ['train', 'validation']:\n",
    "        if phase == 'train':\n",
    "            net.train()\n",
    "        else:\n",
    "            net.eval()\n",
    "\n",
    "        running_loss = 0.0\n",
    "        n_data = n_data_of_phase[phase]\n",
    "        data = data_of_phase[phase]\n",
    "        for t in range(n_data):\n",
    "            x = data[:, t:(t + opt.truncate), :, :]\n",
    "            y = data[:, (t + 1):(t + opt.truncate + 1), :, :]\n",
    "            prediction = 0\n",
    "\n",
    "            timStamp = datetime.datetime.now()\n",
    "            prediction, hNew = net(x, hState, A)\n",
    "            hState = hState.data\n",
    "\n",
    "            loss = criterion(prediction, y)\n",
    "            optimizer.zero_grad()\n",
    "            timStamp = datetime.datetime.now()\n",
    "            loss.backward()\n",
    "\n",
    "            current_loss = loss.item()\n",
    "            running_loss += current_loss\n",
    "            if phase == 'train' and t % 30 == 0:\n",
    "                print(current_loss)\n",
    "            optimizer.step()\n",
    "\n",
    "        running_loss /= n_data\n",
    "        print('Epoch %d, mean loss = %.3f' % (i + 1, running_loss))\n",
    "        prefix = ''\n",
    "        if phase == 'validation':\n",
    "            prefix = 'val_'\n",
    "\n",
    "        logs[prefix + 'log loss'] = running_loss\n",
    "        liveloss.update(logs)\n",
    "        liveloss.draw()\n",
    "'''"
   ]
  },
  {
   "cell_type": "code",
   "execution_count": null,
   "metadata": {
    "colab": {
     "base_uri": "https://localhost:8080/",
     "height": 34
    },
    "colab_type": "code",
    "id": "jGR2g3v8zQO6",
    "outputId": "ff5b23eb-7c25-4877-aff4-83f4ee25afd3"
   },
   "outputs": [],
   "source": [
    "opt.batchSize, opt.dimHidden, opt.nNode"
   ]
  },
  {
   "cell_type": "code",
   "execution_count": null,
   "metadata": {
    "colab": {},
    "colab_type": "code",
    "id": "NF__coTPmejI"
   },
   "outputs": [],
   "source": [
    "def train(net, A, opt, data_of_phase, n_data_of_phase):\n",
    "    criterion = nn.MSELoss()\n",
    "    optimizer = optim.Adam(net.parameters(), lr=opt.lr)\n",
    "    hState = torch.randn(opt.batchSize, opt.dimHidden, opt.nNode).double().to(device)\n",
    "    for i in range(opt.nIter):\n",
    "        logs = {}\n",
    "        for phase in ['train', 'validation']:\n",
    "            if phase == 'train':\n",
    "                net.train()\n",
    "            else:\n",
    "                net.eval()\n",
    "\n",
    "            running_loss = 0.0\n",
    "            n_data = n_data_of_phase[phase]\n",
    "            data = data_of_phase[phase]\n",
    "            for t in range(n_data):\n",
    "                print('t =', t)\n",
    "                x = data[:, t:(t + opt.truncate), :, :]\n",
    "                y = data[:, (t + 1):(t + opt.truncate + 1), :, :]\n",
    "                prediction = 0\n",
    "\n",
    "                prediction, hNew = net(x, hState, A)\n",
    "                hState = hState.data\n",
    "\n",
    "                loss = criterion(prediction, y)\n",
    "                optimizer.zero_grad()\n",
    "                timStamp = datetime.datetime.now()\n",
    "                loss.backward()\n",
    "\n",
    "                current_loss = loss.item()\n",
    "                running_loss += current_loss\n",
    "                if phase == 'train' and t % 30 == 0:\n",
    "                    print(current_loss)\n",
    "                optimizer.step()\n",
    "\n",
    "            '''\n",
    "            running_loss /= n_data\n",
    "            print('Epoch %d, mean loss = %.3f' % (i + 1, running_loss))\n",
    "            prefix = ''\n",
    "            if phase == 'validation':\n",
    "                prefix = 'val_'\n",
    "\n",
    "            logs[prefix + 'log loss'] = running_loss\n",
    "            liveloss.update(logs)\n",
    "            liveloss.draw()\n",
    "            '''"
   ]
  },
  {
   "cell_type": "code",
   "execution_count": null,
   "metadata": {
    "colab": {
     "base_uri": "https://localhost:8080/",
     "height": 800
    },
    "colab_type": "code",
    "id": "A4Q1Dze3RZAC",
    "outputId": "87f4b51c-86c0-42e3-9a45-564baa635ae7"
   },
   "outputs": [],
   "source": [
    "if multi_processing:\n",
    "    num_processes = mp.cpu_count()\n",
    "    processes = []\n",
    "    for rank in range(num_processes):\n",
    "        p = mp.Process(target=train, args=(net, A, opt, data_of_phase, n_data_of_phase))\n",
    "        p.start()\n",
    "        processes.append(p)\n",
    "\n",
    "    for p in processes:\n",
    "        p.join()\n",
    "        \n",
    "else:\n",
    "    train(net, A, opt, data_of_phase, n_data_of_phase)"
   ]
  },
  {
   "cell_type": "code",
   "execution_count": null,
   "metadata": {
    "colab": {
     "base_uri": "https://localhost:8080/",
     "height": 34
    },
    "colab_type": "code",
    "id": "9SOVoOorw8fd",
    "outputId": "08143761-9320-4528-b12a-c28d1d4c1144"
   },
   "outputs": [],
   "source": [
    "A.shape"
   ]
  },
  {
   "cell_type": "code",
   "execution_count": null,
   "metadata": {
    "colab": {},
    "colab_type": "code",
    "id": "aYKOZtX8zIv4"
   },
   "outputs": [],
   "source": []
  }
 ],
 "metadata": {
  "accelerator": "GPU",
  "colab": {
   "name": "Test_GRNN.ipynb",
   "provenance": [],
   "version": "0.3.2"
  },
  "kernelspec": {
   "display_name": "Python 3",
   "language": "python",
   "name": "python3"
  },
  "language_info": {
   "codemirror_mode": {
    "name": "ipython",
    "version": 3
   },
   "file_extension": ".py",
   "mimetype": "text/x-python",
   "name": "python",
   "nbconvert_exporter": "python",
   "pygments_lexer": "ipython3",
   "version": "3.6.5"
  }
 },
 "nbformat": 4,
 "nbformat_minor": 1
}
