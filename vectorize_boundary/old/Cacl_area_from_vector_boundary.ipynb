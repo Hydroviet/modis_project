{
 "cells": [
  {
   "cell_type": "code",
   "execution_count": 1,
   "metadata": {},
   "outputs": [],
   "source": [
    "import os\n",
    "import numpy as np\n",
    "import matplotlib.pyplot as plt"
   ]
  },
  {
   "cell_type": "code",
   "execution_count": 24,
   "metadata": {},
   "outputs": [],
   "source": [
    "import keras\n",
    "from keras.models import Model, Input, Sequential\n",
    "from keras.layers import Dense, Dropout, Activation, Flatten"
   ]
  },
  {
   "cell_type": "code",
   "execution_count": 4,
   "metadata": {},
   "outputs": [],
   "source": [
    "from modis_utils.misc import restore_data, cache_data"
   ]
  },
  {
   "cell_type": "code",
   "execution_count": null,
   "metadata": {},
   "outputs": [],
   "source": []
  },
  {
   "cell_type": "code",
   "execution_count": 6,
   "metadata": {},
   "outputs": [],
   "source": [
    "plt.rcParams['figure.figsize'] = (20,8)\n",
    "\n",
    "train_years = list(range(2003,2016))\n",
    "test_years = list(range(2016,2018))\n",
    "\n",
    "data_dir = '../groundtruth_mask_lake/ALL/0'\n",
    "modis_product = 'ALL'\n",
    "day_period = 8 if modis_product == 'ALL' else 16"
   ]
  },
  {
   "cell_type": "code",
   "execution_count": 11,
   "metadata": {},
   "outputs": [],
   "source": [
    "percentile = restore_data('percentile_0.dat')\n",
    "permanent_water_pixels = np.where(percentile > 0.9, 1, 0)"
   ]
  },
  {
   "cell_type": "code",
   "execution_count": 7,
   "metadata": {},
   "outputs": [],
   "source": [
    "train_list_filenames = [os.path.join(data_dir, str(year), '{}{:03}'.format(year, day), 'masked.dat')\n",
    "                        for year in train_years for day in range(1,366, day_period)]\n",
    "\n",
    "test_list_filenames = [os.path.join(data_dir, str(year), '{}{:03}'.format(year, day), 'masked.dat')\n",
    "                       for year in test_years for day in range(1,366, day_period)]"
   ]
  },
  {
   "cell_type": "code",
   "execution_count": 8,
   "metadata": {},
   "outputs": [
    {
     "data": {
      "text/plain": [
       "((598, 1484, 2), (92, 1484, 2))"
      ]
     },
     "execution_count": 8,
     "metadata": {},
     "output_type": "execute_result"
    }
   ],
   "source": [
    "data = restore_data(os.path.join('cache', 'boundary_vectors_ALL_1.dat'))\n",
    "data_train = data[0]\n",
    "data_test = data[1]\n",
    "data_train.shape, data_test.shape"
   ]
  },
  {
   "cell_type": "code",
   "execution_count": 10,
   "metadata": {},
   "outputs": [],
   "source": [
    "data_train_X = data_train\n",
    "data_test_X = data_test"
   ]
  },
  {
   "cell_type": "code",
   "execution_count": 48,
   "metadata": {},
   "outputs": [],
   "source": [
    "data_train_Y = []\n",
    "for filename in train_list_filenames:\n",
    "    img = restore_data(filename)\n",
    "    img = np.bitwise_or(img, permanent_water_pixels)\n",
    "    data_train_Y.append(np.sum(img))\n",
    "data_train_Y = np.asarray(data_train_Y)\n",
    "\n",
    "data_test_Y = []\n",
    "for filename in test_list_filenames:\n",
    "    img = restore_data(filename)\n",
    "    img = np.bitwise_or(img, permanent_water_pixels)\n",
    "    data_test_Y.append(np.sum(img))\n",
    "data_test_Y = np.asarray(data_test_Y)"
   ]
  },
  {
   "cell_type": "code",
   "execution_count": 49,
   "metadata": {},
   "outputs": [
    {
     "data": {
      "text/plain": [
       "((598,), (92,))"
      ]
     },
     "execution_count": 49,
     "metadata": {},
     "output_type": "execute_result"
    }
   ],
   "source": [
    "data_train_Y.shape, data_test_Y.shape"
   ]
  },
  {
   "cell_type": "code",
   "execution_count": 29,
   "metadata": {},
   "outputs": [
    {
     "data": {
      "text/plain": [
       "1484"
      ]
     },
     "execution_count": 29,
     "metadata": {},
     "output_type": "execute_result"
    }
   ],
   "source": [
    "data_train_X.shape[1]"
   ]
  },
  {
   "cell_type": "code",
   "execution_count": 33,
   "metadata": {},
   "outputs": [],
   "source": [
    "inputs = Input(shape=(data_train_X.shape[1]*data_train_X.shape[2],))\n",
    "x = Dense(16)(inputs)\n",
    "x = Dropout(0.5)(x)\n",
    "x = Activation('tanh')(x)\n",
    "x = Dense(1)(x)\n",
    "model = Model(inputs=inputs, outputs=x)"
   ]
  },
  {
   "cell_type": "code",
   "execution_count": 34,
   "metadata": {},
   "outputs": [
    {
     "name": "stdout",
     "output_type": "stream",
     "text": [
      "_________________________________________________________________\n",
      "Layer (type)                 Output Shape              Param #   \n",
      "=================================================================\n",
      "input_9 (InputLayer)         (None, 2968)              0         \n",
      "_________________________________________________________________\n",
      "dense_13 (Dense)             (None, 16)                47504     \n",
      "_________________________________________________________________\n",
      "dropout_7 (Dropout)          (None, 16)                0         \n",
      "_________________________________________________________________\n",
      "activation_7 (Activation)    (None, 16)                0         \n",
      "_________________________________________________________________\n",
      "dense_14 (Dense)             (None, 1)                 17        \n",
      "=================================================================\n",
      "Total params: 47,521\n",
      "Trainable params: 47,521\n",
      "Non-trainable params: 0\n",
      "_________________________________________________________________\n"
     ]
    }
   ],
   "source": [
    "model.summary()"
   ]
  },
  {
   "cell_type": "code",
   "execution_count": 39,
   "metadata": {},
   "outputs": [],
   "source": [
    "model.compile(loss='mse', optimizer='adam')"
   ]
  },
  {
   "cell_type": "code",
   "execution_count": 50,
   "metadata": {},
   "outputs": [],
   "source": [
    "data_train_X = data_train.reshape(data_train.shape[0], -1)\n",
    "data_test_X = data_test.reshape(data_test.shape[0], -1)\n",
    "data_train_Y = data_train_Y.reshape(-1, 1)\n",
    "data_test_Y = data_test_Y.reshape(-1, 1)"
   ]
  },
  {
   "cell_type": "code",
   "execution_count": 51,
   "metadata": {},
   "outputs": [
    {
     "data": {
      "text/plain": [
       "((598, 2968), (598, 1), (92, 2968), (92, 1))"
      ]
     },
     "execution_count": 51,
     "metadata": {},
     "output_type": "execute_result"
    }
   ],
   "source": [
    "data_train_X.shape, data_train_Y.shape, data_test_X.shape, data_test_Y.shape"
   ]
  },
  {
   "cell_type": "code",
   "execution_count": 52,
   "metadata": {},
   "outputs": [
    {
     "name": "stdout",
     "output_type": "stream",
     "text": [
      "Train on 598 samples, validate on 92 samples\n",
      "Epoch 1/10\n",
      "598/598 [==============================] - 11s 18ms/step - loss: 2224132628.1204 - val_loss: 2047463151.3043\n",
      "Epoch 2/10\n",
      "598/598 [==============================] - 1s 2ms/step - loss: 2223743716.8161 - val_loss: 2046792144.6957\n",
      "Epoch 3/10\n",
      "598/598 [==============================] - 1s 2ms/step - loss: 2223382642.5151 - val_loss: 2046133591.6522\n",
      "Epoch 4/10\n",
      "598/598 [==============================] - 1s 2ms/step - loss: 2223031680.4281 - val_loss: 2045480793.0435\n",
      "Epoch 5/10\n",
      "598/598 [==============================] - 1s 2ms/step - loss: 2222652447.4649 - val_loss: 2044823501.9130\n",
      "Epoch 6/10\n",
      "598/598 [==============================] - 1s 2ms/step - loss: 2222300941.0569 - val_loss: 2044167394.7826\n",
      "Epoch 7/10\n",
      "598/598 [==============================] - 1s 2ms/step - loss: 2221898239.5719 - val_loss: 2043504325.5652\n",
      "Epoch 8/10\n",
      "598/598 [==============================] - 1s 2ms/step - loss: 2221552520.5619 - val_loss: 2042848428.5217\n",
      "Epoch 9/10\n",
      "598/598 [==============================] - 1s 2ms/step - loss: 2221165953.7124 - val_loss: 2042186624.0000\n",
      "Epoch 10/10\n",
      "598/598 [==============================] - 1s 2ms/step - loss: 2220830367.4649 - val_loss: 2041533757.2174\n"
     ]
    },
    {
     "data": {
      "text/plain": [
       "<keras.callbacks.History at 0x7fe02b5711d0>"
      ]
     },
     "execution_count": 52,
     "metadata": {},
     "output_type": "execute_result"
    }
   ],
   "source": [
    "model.fit(x=data_train_X, y=data_train_Y, batch_size=1, epochs=10, validation_data=(data_test_X, data_test_Y))"
   ]
  },
  {
   "cell_type": "code",
   "execution_count": 53,
   "metadata": {},
   "outputs": [],
   "source": [
    "from sklearn.preprocessing import PolynomialFeatures"
   ]
  },
  {
   "cell_type": "code",
   "execution_count": 54,
   "metadata": {},
   "outputs": [],
   "source": [
    "X = np.arange(6).reshape(3, 2)"
   ]
  },
  {
   "cell_type": "code",
   "execution_count": 55,
   "metadata": {},
   "outputs": [],
   "source": [
    "poly = PolynomialFeatures(2)"
   ]
  },
  {
   "cell_type": "code",
   "execution_count": 57,
   "metadata": {},
   "outputs": [
    {
     "data": {
      "text/plain": [
       "array([[ 1.,  0.,  1.,  0.,  0.,  1.],\n",
       "       [ 1.,  2.,  3.,  4.,  6.,  9.],\n",
       "       [ 1.,  4.,  5., 16., 20., 25.]])"
      ]
     },
     "execution_count": 57,
     "metadata": {},
     "output_type": "execute_result"
    }
   ],
   "source": [
    "poly.fit_transform(X)"
   ]
  },
  {
   "cell_type": "code",
   "execution_count": 58,
   "metadata": {},
   "outputs": [],
   "source": [
    "poly = PolynomialFeatures(interaction_only=True)"
   ]
  },
  {
   "cell_type": "code",
   "execution_count": null,
   "metadata": {},
   "outputs": [],
   "source": []
  }
 ],
 "metadata": {
  "kernelspec": {
   "display_name": "Python 3",
   "language": "python",
   "name": "python3"
  },
  "language_info": {
   "codemirror_mode": {
    "name": "ipython",
    "version": 3
   },
   "file_extension": ".py",
   "mimetype": "text/x-python",
   "name": "python",
   "nbconvert_exporter": "python",
   "pygments_lexer": "ipython3",
   "version": "3.6.8"
  }
 },
 "nbformat": 4,
 "nbformat_minor": 2
}
