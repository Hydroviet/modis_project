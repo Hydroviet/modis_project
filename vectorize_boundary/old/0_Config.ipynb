{
 "cells": [
  {
   "cell_type": "code",
   "execution_count": 1,
   "metadata": {},
   "outputs": [
    {
     "name": "stderr",
     "output_type": "stream",
     "text": [
      "/usr/local/lib/python3.6/site-packages/h5py/__init__.py:36: FutureWarning: Conversion of the second argument of issubdtype from `float` to `np.floating` is deprecated. In future, it will be treated as `np.float64 == np.dtype(float).type`.\n",
      "  from ._conv import register_converters as _register_converters\n"
     ]
    }
   ],
   "source": [
    "import tensorflow as tf"
   ]
  },
  {
   "cell_type": "code",
   "execution_count": 2,
   "metadata": {},
   "outputs": [],
   "source": [
    "from modis_utils.misc import cache_data\n",
    "from modis_utils.model.loss_function import PSNRLoss, lossSSIM, SSIM, step_decay\n",
    "from modis_utils.model.loss_function import mse_with_mask_tf, mse_with_mask_tf_1, mse_with_mask"
   ]
  },
  {
   "cell_type": "code",
   "execution_count": 3,
   "metadata": {},
   "outputs": [],
   "source": [
    "lr = 1e-3\n",
    "\n",
    "optimizer = tf.train.AdamOptimizer(learning_rate=lr)\n",
    "\n",
    "output_labels = [\"conv2d\", \"conv2d_1\"]\n",
    "losses = {\n",
    "    output_labels[0]: mse_with_mask,\n",
    "    output_labels[1]: mse_with_mask,\n",
    "}\n",
    "loss_weights = {output_labels[0]: 1.0, output_labels[1]: 1.0}\n",
    "metrics = {\n",
    "    output_labels[0]: mse_with_mask,\n",
    "    output_labels[1]: mse_with_mask,\n",
    "}\n",
    "\n",
    "# compile params\n",
    "compile_params_one_output = {\n",
    "    'optimizer': optimizer,\n",
    "    'loss': mse_with_mask_tf,\n",
    "    'metrics': [mse_with_mask_tf],\n",
    "}\n",
    "\n",
    "compile_params_multiple_output = {\n",
    "    'optimizer': optimizer,\n",
    "    'loss': losses,\n",
    "    'metrics': metrics,\n",
    "    'loss_weights': loss_weights,\n",
    "}"
   ]
  },
  {
   "cell_type": "code",
   "execution_count": 4,
   "metadata": {},
   "outputs": [],
   "source": [
    "compile_params = compile_params_one_output"
   ]
  },
  {
   "cell_type": "code",
   "execution_count": 5,
   "metadata": {},
   "outputs": [],
   "source": [
    "training = True\n",
    "crop_size = 63\n",
    "input_timesteps = 12\n",
    "output_timesteps = 1\n",
    "batch_size = 32\n",
    "compile_params = compile_params_one_output\n",
    "model_name = 'convlstm_simple'\n",
    "preprocessed_type = 'normalized_zero_one'\n",
    "modis_product = 'MOD13Q1'\n",
    "monitor = 'val_mse_with_mask'\n",
    "monitor_mode = 'min'\n",
    "\n",
    "raw_data_dir = '../raw_data'\n",
    "reservoir_index = 0\n",
    "used_band = 'NDVI'\n",
    "year_range = (2000, 2018)\n",
    "model_keras = True\n",
    "original_batch_size = 1024\n",
    "resize_input = 511\n",
    "\n",
    "colab = False\n",
    "TPU_FLAG = False"
   ]
  },
  {
   "cell_type": "code",
   "execution_count": 6,
   "metadata": {},
   "outputs": [],
   "source": [
    "config_path = 'config.dat'"
   ]
  },
  {
   "cell_type": "code",
   "execution_count": 7,
   "metadata": {},
   "outputs": [],
   "source": [
    "config_params = {}\n",
    "config_params['lr'] = lr\n",
    "config_params['compile_params'] = compile_params\n",
    "config_params['training'] = training\n",
    "config_params['crop_size'] = crop_size\n",
    "config_params['input_timesteps'] = input_timesteps\n",
    "config_params['output_timesteps'] = output_timesteps\n",
    "config_params['batch_size'] = batch_size\n",
    "config_params['model_name'] = model_name\n",
    "config_params['preprocessed_type'] = preprocessed_type\n",
    "config_params['modis_product'] = modis_product\n",
    "config_params['monitor'] = monitor\n",
    "config_params['monitor_mode'] = monitor_mode\n",
    "config_params['raw_data_dir'] = raw_data_dir\n",
    "config_params['reservoir_index'] = reservoir_index\n",
    "config_params['used_band'] = used_band\n",
    "config_params['resize_input'] = resize_input\n",
    "\n",
    "config_params['year_range'] = year_range\n",
    "config_params['model_keras'] = model_keras\n",
    "config_params['original_batch_size'] = original_batch_size\n",
    "config_params['colab'] = colab\n",
    "config_params['TPU_FLAG'] = TPU_FLAG"
   ]
  },
  {
   "cell_type": "code",
   "execution_count": 8,
   "metadata": {},
   "outputs": [],
   "source": [
    "cache_data(config_params, config_path)"
   ]
  },
  {
   "cell_type": "code",
   "execution_count": null,
   "metadata": {},
   "outputs": [],
   "source": []
  }
 ],
 "metadata": {
  "kernelspec": {
   "display_name": "Python 3",
   "language": "python",
   "name": "python3"
  },
  "language_info": {
   "codemirror_mode": {
    "name": "ipython",
    "version": 3
   },
   "file_extension": ".py",
   "mimetype": "text/x-python",
   "name": "python",
   "nbconvert_exporter": "python",
   "pygments_lexer": "ipython3",
   "version": "3.6.5"
  }
 },
 "nbformat": 4,
 "nbformat_minor": 2
}
