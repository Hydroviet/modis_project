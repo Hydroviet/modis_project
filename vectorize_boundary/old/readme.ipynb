{
 "cells": [
  {
   "cell_type": "markdown",
   "metadata": {},
   "source": [
    "# Steps"
   ]
  },
  {
   "cell_type": "markdown",
   "metadata": {},
   "source": [
    "0. <b>Config output</b> in `0_Config.ipynb` (Local)  \n",
    "\n",
    "\n",
    "1. <b>Prepair data</b>. Run `1_Gen_Data.ipynb`(Local)  \n",
    "\n",
    "\n",
    "2. </b>Upload/Clone</b> <b>8</b> files/folders to <b>gcloud/google drive</b>  \n",
    "      * `data_file.zip` \n",
    "      * `data_augment_merged.zip`\n",
    "      * `masked_data.zip`\n",
    "      * `preprocessed_data.zip`\n",
    "      * `config.dat`\n",
    "      * `2_train_gcloud.py`/`2_train.ipynb`\n",
    "      * `3_Inference.py`/`3_Inference.ipynb`\n",
    "      * `modis_utils`  \n",
    "   If use <b>gcloud</b>: just <b>run</b>: `bash upload_to_gcloud.sh` and <b>unzip</b> all `.zip` files.  \n",
    "\n",
    "\n",
    "3. <b>Training</b> on gcloud/google colab. If use gcloud:  \n",
    "       cd to work_dir\n",
    "       python 2_train_gcloud.py\n",
    "\n",
    "\n",
    "4. <b>Inference</b> (preferred Colab)\n",
    "   if use Colab: upload `<model_name>.h5` to Colab, then \n",
    "   run: `3_Inference.ipynb`\n",
    "\n",
    "\n",
    "5. <b>Eval</b> (Local)  \n",
    "   Download `predict_<model_name>.zip`  \n",
    "   Run `4_Eval.ipynb`"
   ]
  },
  {
   "cell_type": "markdown",
   "metadata": {},
   "source": []
  },
  {
   "cell_type": "markdown",
   "metadata": {},
   "source": [
    "# Implement new network"
   ]
  },
  {
   "cell_type": "markdown",
   "metadata": {},
   "source": [
    "1. Write a model class like `ConvLSTMSimpleOneTimeStepsOutput` in file `model/convlstm_simple.py`\n",
    "2. Name this network and Append to function `get_model_utils()` in file `model/model_utils_factory.py`\n",
    "3. Push to github\n",
    "4. Change `model_name`, `input_timesteps`, `output_timesteps` in `0_Config.ipynb`"
   ]
  },
  {
   "cell_type": "code",
   "execution_count": null,
   "metadata": {},
   "outputs": [],
   "source": []
  },
  {
   "cell_type": "markdown",
   "metadata": {},
   "source": [
    "# Implement new preprocess strategy"
   ]
  },
  {
   "cell_type": "markdown",
   "metadata": {},
   "source": [
    "1. Write a Strategy class inherent of class `PreprocessStrategy` in file `preprocessing/preprocess_strategy.py`\n",
    "2. Name this strategy and Append to `__init__()` function of class `PreprocessStrategyContext` in file `preprocessing/preprocess_strategy_context.py`\n",
    "3. Push to github\n",
    "4. Change `preprocessed_type` in `0_Config.ipynb`"
   ]
  },
  {
   "cell_type": "code",
   "execution_count": null,
   "metadata": {},
   "outputs": [],
   "source": []
  }
 ],
 "metadata": {
  "kernelspec": {
   "display_name": "Python 3",
   "language": "python",
   "name": "python3"
  },
  "language_info": {
   "codemirror_mode": {
    "name": "ipython",
    "version": 3
   },
   "file_extension": ".py",
   "mimetype": "text/x-python",
   "name": "python",
   "nbconvert_exporter": "python",
   "pygments_lexer": "ipython3",
   "version": "3.6.5"
  }
 },
 "nbformat": 4,
 "nbformat_minor": 2
}
