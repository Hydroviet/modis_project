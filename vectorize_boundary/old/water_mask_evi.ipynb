{
 "cells": [
  {
   "cell_type": "code",
   "execution_count": 1,
   "metadata": {},
   "outputs": [
    {
     "name": "stderr",
     "output_type": "stream",
     "text": [
      "/usr/local/lib/python3.6/site-packages/h5py/__init__.py:36: FutureWarning: Conversion of the second argument of issubdtype from `float` to `np.floating` is deprecated. In future, it will be treated as `np.float64 == np.dtype(float).type`.\n",
      "  from ._conv import register_converters as _register_converters\n"
     ]
    }
   ],
   "source": [
    "import os\n",
    "import numpy as np\n",
    "import rasterio as rio\n",
    "from matplotlib import pyplot as plt\n",
    "from modis_utils.misc import cache_data, restore_data"
   ]
  },
  {
   "cell_type": "code",
   "execution_count": 2,
   "metadata": {},
   "outputs": [],
   "source": [
    "reservoir_index = 0"
   ]
  },
  {
   "cell_type": "code",
   "execution_count": 4,
   "metadata": {},
   "outputs": [],
   "source": [
    "raw_dir = '../raw_data/ALL/' + str(reservoir_index)"
   ]
  },
  {
   "cell_type": "code",
   "execution_count": 6,
   "metadata": {},
   "outputs": [],
   "source": [
    "def get_band(day_dir, band='EVI'):\n",
    "    list_filenames = os.listdir(day_dir)\n",
    "    band_path = list(filter(lambda x: band in x, list_filenames))[0]\n",
    "    return band_path"
   ]
  },
  {
   "cell_type": "code",
   "execution_count": 7,
   "metadata": {},
   "outputs": [],
   "source": [
    "def read_tif_img(path):\n",
    "    with rio.open(path, 'r') as src:\n",
    "        return src.read(1)"
   ]
  },
  {
   "cell_type": "code",
   "execution_count": 9,
   "metadata": {},
   "outputs": [],
   "source": [
    "def create_binary_masks():\n",
    "    binary_masks = {}\n",
    "    year_range = (2002, 2017)\n",
    "    for year in range(year_range[0], year_range[1] + 1):\n",
    "        year_dir = os.path.join(raw_dir, str(year))\n",
    "        list_days = os.listdir(year_dir)\n",
    "        for day in list_days:\n",
    "            day_dir = os.path.join(year_dir, day)\n",
    "            band_path = get_band(day_dir, 'EVI')\n",
    "            band_path = os.path.join(day_dir, band_path)\n",
    "            band = read_tif_img(band_path)\n",
    "            mask = np.where(band < 0.04, 1, 0)\n",
    "            binary_masks[day] = mask\n",
    "    return binary_masks"
   ]
  },
  {
   "cell_type": "code",
   "execution_count": 10,
   "metadata": {},
   "outputs": [],
   "source": [
    "binary_masks = create_binary_masks()"
   ]
  },
  {
   "cell_type": "code",
   "execution_count": 11,
   "metadata": {},
   "outputs": [
    {
     "data": {
      "text/plain": [
       "<matplotlib.image.AxesImage at 0x7fca887d8668>"
      ]
     },
     "execution_count": 11,
     "metadata": {},
     "output_type": "execute_result"
    },
    {
     "data": {
      "image/png": "[encoded data removed]",
      "text/plain": [
       "<Figure size 432x288 with 1 Axes>"
      ]
     },
     "metadata": {},
     "output_type": "display_data"
    }
   ],
   "source": [
    "plt.imshow(binary_masks['2003001'])"
   ]
  },
  {
   "cell_type": "code",
   "execution_count": 18,
   "metadata": {},
   "outputs": [],
   "source": [
    "a = binary_masks['2003001'].copy()\n",
    "b = binary_masks['2003009'].copy()\n",
    "c = binary_masks['2003017'].copy()"
   ]
  },
  {
   "cell_type": "code",
   "execution_count": 32,
   "metadata": {},
   "outputs": [],
   "source": [
    "d = (a != b) & (c != b)\n",
    "d = d.astype(np.uint8)"
   ]
  },
  {
   "cell_type": "code",
   "execution_count": 35,
   "metadata": {},
   "outputs": [],
   "source": [
    "e = b*(1 - d) + (1 - b)*d"
   ]
  },
  {
   "cell_type": "code",
   "execution_count": 36,
   "metadata": {},
   "outputs": [
    {
     "data": {
      "text/plain": [
       "<matplotlib.image.AxesImage at 0x7fca87fd0a20>"
      ]
     },
     "execution_count": 36,
     "metadata": {},
     "output_type": "execute_result"
    },
    {
     "data": {
      "image/png": "[encoded data removed]",
      "text/plain": [
       "<Figure size 432x288 with 1 Axes>"
      ]
     },
     "metadata": {},
     "output_type": "display_data"
    }
   ],
   "source": [
    "plt.imshow(e)"
   ]
  },
  {
   "cell_type": "code",
   "execution_count": 37,
   "metadata": {},
   "outputs": [],
   "source": [
    "f = (a != e) & (c != e)"
   ]
  },
  {
   "cell_type": "code",
   "execution_count": 40,
   "metadata": {},
   "outputs": [],
   "source": [
    "def calc_day(day, shift):\n",
    "    assert shift % 8 == 0\n",
    "    year = int(day[:4])\n",
    "    day = int(day[4:])\n",
    "    shift_day = day + shift\n",
    "    if shift_day < 0:\n",
    "        shift_day = 361\n",
    "        year -= 1\n",
    "    elif shift_day > 361:\n",
    "        shift_day = 1\n",
    "        year += 1\n",
    "    return '{}{:03}'.format(year, shift_day)"
   ]
  },
  {
   "cell_type": "code",
   "execution_count": 41,
   "metadata": {},
   "outputs": [
    {
     "data": {
      "text/plain": [
       "('2002361', '2003009', '2003353', '2004001')"
      ]
     },
     "execution_count": 41,
     "metadata": {},
     "output_type": "execute_result"
    }
   ],
   "source": [
    "calc_day('2003001', -8), calc_day('2003001', 8), calc_day('2003361', -8), calc_day('2003361', 8)"
   ]
  },
  {
   "cell_type": "code",
   "execution_count": 42,
   "metadata": {},
   "outputs": [],
   "source": [
    "def smoothen_mask(binary_masks, day):\n",
    "    previous_day = calc_day(day, -8)\n",
    "    next_day = calc_day(day, 8)\n",
    "    current_mask = binary_masks[day]\n",
    "    previous_mask = binary_masks[previous_day]\n",
    "    next_mask = binary_masks[next_day]\n",
    "    d = (previous_mask != current_mask) & (next_mask != current_mask)\n",
    "    d = d.astype(np.uint8)\n",
    "    smoothed_current_mask = current_mask*(1 - d) + (1 - current_mask)*d\n",
    "    return smoothed_current_mask"
   ]
  },
  {
   "cell_type": "code",
   "execution_count": 47,
   "metadata": {},
   "outputs": [],
   "source": [
    "def smoothen(binary_masks):\n",
    "    days = sorted(binary_masks.keys())\n",
    "    for day in days[1 : -1]:\n",
    "        smoothed_mask = smoothen_mask(binary_masks, day)\n",
    "        binary_masks[day] = smoothed_mask\n",
    "    return binary_masks"
   ]
  },
  {
   "cell_type": "code",
   "execution_count": 48,
   "metadata": {},
   "outputs": [],
   "source": [
    "binary_masks_1 = smoothen(binary_masks)"
   ]
  },
  {
   "cell_type": "code",
   "execution_count": 55,
   "metadata": {},
   "outputs": [],
   "source": [
    "def check(binary_masks_1):\n",
    "    days = sorted(binary_masks.keys())\n",
    "    for i in range(1, len(days) - 1):\n",
    "        current_mask = binary_masks_1[days[i]]\n",
    "        previous_mask = binary_masks_1[days[i - 1]]\n",
    "        next_mask = binary_masks_1[days[i + 1]]\n",
    "        d = (previous_mask != current_mask) & (next_mask != current_mask)\n",
    "        d = np.where(d)\n",
    "        if len(d[0]) > 0:\n",
    "            print(i, days[i])\n",
    "            print(d)\n",
    "            return False\n",
    "    return True"
   ]
  },
  {
   "cell_type": "code",
   "execution_count": 56,
   "metadata": {},
   "outputs": [
    {
     "data": {
      "text/plain": [
       "True"
      ]
     },
     "execution_count": 56,
     "metadata": {},
     "output_type": "execute_result"
    }
   ],
   "source": [
    "check(binary_masks_1)"
   ]
  },
  {
   "cell_type": "code",
   "execution_count": 61,
   "metadata": {},
   "outputs": [],
   "source": [
    "from modis_utils.image_processing import mask_lake_img"
   ]
  },
  {
   "cell_type": "code",
   "execution_count": 62,
   "metadata": {},
   "outputs": [],
   "source": [
    "from scipy.ndimage import measurements"
   ]
  },
  {
   "cell_type": "code",
   "execution_count": 63,
   "metadata": {},
   "outputs": [],
   "source": [
    "def mask_lake_img(water_mask):\n",
    "    visited, label = measurements.label(water_mask)\n",
    "    area = measurements.sum(water_mask, visited,\n",
    "                            index = np.arange(label + 1))\n",
    "    largest_element = np.argmax(area)\n",
    "    return np.where(visited==largest_element, 1, 0)"
   ]
  },
  {
   "cell_type": "code",
   "execution_count": 64,
   "metadata": {},
   "outputs": [],
   "source": [
    "def create_groundtruth_mask_lake(data_dir, binary_masks):\n",
    "    lake_masks = {}\n",
    "    days = sorted(binary_masks.keys())\n",
    "    for day in days:\n",
    "        water_mask = binary_masks[day]\n",
    "        year = day[:4]\n",
    "        path = os.path.join(data_dir, year, day, 'masked.dat')\n",
    "        mask_lake = mask_lake_img(water_mask)\n",
    "        cache_data(mask_lake, path)\n",
    "        lake_masks[day] = mask_lake\n",
    "    return lake_masks"
   ]
  },
  {
   "cell_type": "code",
   "execution_count": 69,
   "metadata": {},
   "outputs": [
    {
     "data": {
      "text/plain": [
       "'../groundtruth_mask_lake_evi/ALL/0'"
      ]
     },
     "execution_count": 69,
     "metadata": {},
     "output_type": "execute_result"
    }
   ],
   "source": [
    "data_dir = raw_dir.replace('raw_data', 'groundtruth_mask_lake_evi')\n",
    "data_dir"
   ]
  },
  {
   "cell_type": "code",
   "execution_count": 66,
   "metadata": {},
   "outputs": [],
   "source": [
    "lake_masks = create_groundtruth_mask_lake(data_dir, binary_masks_1)"
   ]
  },
  {
   "cell_type": "code",
   "execution_count": null,
   "metadata": {},
   "outputs": [],
   "source": []
  },
  {
   "cell_type": "code",
   "execution_count": 70,
   "metadata": {},
   "outputs": [],
   "source": [
    "train_years = list(range(2002,2012))\n",
    "val_years = list(range(2012,2015))\n",
    "test_years = list(range(2015,2018))\n",
    "\n",
    "modis_product = 'ALL'\n",
    "day_period = 8 if modis_product == 'ALL' else 16"
   ]
  },
  {
   "cell_type": "code",
   "execution_count": 71,
   "metadata": {},
   "outputs": [],
   "source": [
    "train_list_filenames = [os.path.join(data_dir, str(year), '{}{:03}'.format(year, day), 'masked.dat')\n",
    "                        for year in train_years for day in range(1,366, day_period)]\n",
    "train_list_filenames = list(filter(lambda x: os.path.isfile(x), train_list_filenames))\n",
    "\n",
    "val_list_filenames = [os.path.join(data_dir, str(year), '{}{:03}'.format(year, day), 'masked.dat')\n",
    "                      for year in val_years for day in range(1,366, day_period)]\n",
    "\n",
    "test_list_filenames = [os.path.join(data_dir, str(year), '{}{:03}'.format(year, day), 'masked.dat')\n",
    "                       for year in test_years for day in range(1,366, day_period)]"
   ]
  },
  {
   "cell_type": "code",
   "execution_count": 85,
   "metadata": {},
   "outputs": [
    {
     "data": {
      "text/plain": [
       "<matplotlib.image.AxesImage at 0x7fcad72de7f0>"
      ]
     },
     "execution_count": 85,
     "metadata": {},
     "output_type": "execute_result"
    },
    {
     "data": {
      "image/png": "[encoded data removed]",
      "text/plain": [
       "<Figure size 432x288 with 1 Axes>"
      ]
     },
     "metadata": {},
     "output_type": "display_data"
    }
   ],
   "source": [
    "idx = 10\n",
    "plt.imshow(lake_masks[val_list_filenames[idx].split('/')[-2]])"
   ]
  },
  {
   "cell_type": "code",
   "execution_count": 86,
   "metadata": {},
   "outputs": [],
   "source": [
    "from skimage.segmentation import find_boundaries"
   ]
  },
  {
   "cell_type": "code",
   "execution_count": 87,
   "metadata": {},
   "outputs": [
    {
     "data": {
      "text/plain": [
       "<matplotlib.image.AxesImage at 0x7fcad24ea240>"
      ]
     },
     "execution_count": 87,
     "metadata": {},
     "output_type": "execute_result"
    },
    {
     "data": {
      "image/png": "[encoded data removed]",
      "text/plain": [
       "<Figure size 432x288 with 1 Axes>"
      ]
     },
     "metadata": {},
     "output_type": "display_data"
    }
   ],
   "source": [
    "boundary = find_boundaries(lake_masks[val_list_filenames[idx].split('/')[-2]])\n",
    "plt.imshow(boundary)"
   ]
  },
  {
   "cell_type": "code",
   "execution_count": null,
   "metadata": {},
   "outputs": [],
   "source": []
  }
 ],
 "metadata": {
  "kernelspec": {
   "display_name": "Python 3",
   "language": "python",
   "name": "python3"
  },
  "language_info": {
   "codemirror_mode": {
    "name": "ipython",
    "version": 3
   },
   "file_extension": ".py",
   "mimetype": "text/x-python",
   "name": "python",
   "nbconvert_exporter": "python",
   "pygments_lexer": "ipython3",
   "version": "3.6.5"
  }
 },
 "nbformat": 4,
 "nbformat_minor": 2
}
