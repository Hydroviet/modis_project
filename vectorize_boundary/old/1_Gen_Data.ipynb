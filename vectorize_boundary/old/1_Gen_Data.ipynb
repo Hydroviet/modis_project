{
 "cells": [
  {
   "cell_type": "code",
   "execution_count": 1,
   "metadata": {},
   "outputs": [
    {
     "name": "stderr",
     "output_type": "stream",
     "text": [
      "/usr/local/lib/python3.6/site-packages/h5py/__init__.py:36: FutureWarning: Conversion of the second argument of issubdtype from `float` to `np.floating` is deprecated. In future, it will be treated as `np.float64 == np.dtype(float).type`.\n",
      "  from ._conv import register_converters as _register_converters\n"
     ]
    }
   ],
   "source": [
    "import os\n",
    "import numpy as np\n",
    "from scipy import misc\n",
    "from shutil import make_archive\n",
    "from matplotlib import pyplot as plt\n",
    "\n",
    "import tensorflow as tf\n",
    "from tensorflow.python.keras import backend as K\n",
    "from tensorflow.python.keras.utils import plot_model\n",
    "from tensorflow.python.keras.callbacks import ModelCheckpoint\n",
    "from tensorflow.python.keras.callbacks import LearningRateScheduler, CSVLogger"
   ]
  },
  {
   "cell_type": "code",
   "execution_count": 2,
   "metadata": {},
   "outputs": [],
   "source": [
    "from modis_utils.misc import restore_data\n",
    "from modis_utils.model.loss_function import PSNRLoss, lossSSIM, SSIM, step_decay\n",
    "from modis_utils.model.loss_function import mse_with_mask_tf, mse_with_mask_tf_1, mse_with_mask"
   ]
  },
  {
   "cell_type": "markdown",
   "metadata": {},
   "source": [
    "# Parameters"
   ]
  },
  {
   "cell_type": "code",
   "execution_count": 3,
   "metadata": {},
   "outputs": [],
   "source": [
    "config_path = 'config.dat'\n",
    "config_params = restore_data(config_path)"
   ]
  },
  {
   "cell_type": "code",
   "execution_count": 4,
   "metadata": {},
   "outputs": [],
   "source": [
    "lr = config_params['lr']"
   ]
  },
  {
   "cell_type": "code",
   "execution_count": 5,
   "metadata": {},
   "outputs": [],
   "source": [
    "training = config_params['training']\n",
    "crop_size = config_params['crop_size']\n",
    "input_timesteps = config_params['input_timesteps']\n",
    "output_timesteps = config_params['output_timesteps']\n",
    "batch_size = config_params['batch_size']\n",
    "compile_params = config_params['compile_params']\n",
    "model_name = config_params['model_name']\n",
    "preprocessed_type = config_params['preprocessed_type']\n",
    "modis_product = config_params['modis_product']\n",
    "monitor = config_params['monitor']\n",
    "monitor_mode = config_params['monitor_mode']\n",
    "\n",
    "raw_data_dir = config_params['raw_data_dir']\n",
    "reservoir_index = config_params['reservoir_index']\n",
    "used_band = config_params['used_band']\n",
    "year_range = config_params['year_range']\n",
    "model_keras = config_params['model_keras']\n",
    "original_batch_size = config_params['original_batch_size']\n",
    "resize_input = config_params['resize_input']\n",
    "\n",
    "colab = config_params['colab']\n",
    "TPU_FLAG = config_params['TPU_FLAG']"
   ]
  },
  {
   "cell_type": "markdown",
   "metadata": {},
   "source": [
    "# End Parameters"
   ]
  },
  {
   "cell_type": "code",
   "execution_count": 6,
   "metadata": {},
   "outputs": [],
   "source": [
    "from modis_utils.modis_utils import ModisUtils"
   ]
  },
  {
   "cell_type": "code",
   "execution_count": 7,
   "metadata": {},
   "outputs": [],
   "source": [
    "modis_utils = ModisUtils(\n",
    "    raw_data_dir=raw_data_dir,\n",
    "    modis_product=modis_product,\n",
    "    reservoir_index=reservoir_index,\n",
    "    preprocessed_type=preprocessed_type,\n",
    "    used_band=used_band,\n",
    "    crop_size=crop_size,\n",
    "    input_timesteps=input_timesteps,\n",
    "    output_timesteps=output_timesteps,\n",
    "    year_range=year_range,\n",
    "    model_name=model_name,\n",
    "    batch_size=batch_size,\n",
    "    model_keras=model_keras,\n",
    "    compile_params=compile_params,\n",
    "    original_batch_size=original_batch_size,\n",
    "    TPU_FLAG=TPU_FLAG,\n",
    "    training=training,\n",
    "    monitor=monitor,\n",
    "    monitor_mode=monitor_mode,\n",
    "    resize_input=resize_input)"
   ]
  },
  {
   "cell_type": "code",
   "execution_count": 8,
   "metadata": {},
   "outputs": [
    {
     "data": {
      "text/plain": [
       "9996"
      ]
     },
     "execution_count": 8,
     "metadata": {},
     "output_type": "execute_result"
    }
   ],
   "source": [
    "modis_utils._preprocess_strategy_context.strategy.MAX"
   ]
  },
  {
   "cell_type": "code",
   "execution_count": 9,
   "metadata": {},
   "outputs": [
    {
     "name": "stdout",
     "output_type": "stream",
     "text": [
      "Not found band NDVI in 2000001 in ../raw_data/MOD13Q1/0/2000/2000001.\n",
      "Not found band NDVI in 2000017 in ../raw_data/MOD13Q1/0/2000/2000017.\n",
      "Not found band NDVI in 2000033 in ../raw_data/MOD13Q1/0/2000/2000033.\n"
     ]
    }
   ],
   "source": [
    "modis_utils.create_water_cloud_mask()\n",
    "modis_utils.make_archive_masked_data()"
   ]
  },
  {
   "cell_type": "code",
   "execution_count": 10,
   "metadata": {},
   "outputs": [
    {
     "data": {
      "text/plain": [
       "(511, 511)"
      ]
     },
     "execution_count": 10,
     "metadata": {},
     "output_type": "execute_result"
    }
   ],
   "source": [
    "a = restore_data('masked_data/MOD13Q1/0/NDVI/2000/2000049/masked.dat')\n",
    "a.shape"
   ]
  },
  {
   "cell_type": "code",
   "execution_count": 11,
   "metadata": {},
   "outputs": [
    {
     "name": "stdout",
     "output_type": "stream",
     "text": [
      "Not found band NDVI in 2000001 in ../raw_data/MOD13Q1/0/2000/2000001.\n",
      "Not found band NDVI in 2000017 in ../raw_data/MOD13Q1/0/2000/2000017.\n",
      "Not found band NDVI in 2000033 in ../raw_data/MOD13Q1/0/2000/2000033.\n",
      "Not found data 2000001 in preprocessed_data/MOD13Q1/0/NDVI/change_fill_value/2000/2000001.\n",
      "Not found data 2000017 in preprocessed_data/MOD13Q1/0/NDVI/change_fill_value/2000/2000017.\n",
      "Not found data 2000033 in preprocessed_data/MOD13Q1/0/NDVI/change_fill_value/2000/2000033.\n"
     ]
    }
   ],
   "source": [
    "modis_utils.preprocess_data()\n",
    "modis_utils.make_archive_preprocessed_data()"
   ]
  },
  {
   "cell_type": "code",
   "execution_count": 12,
   "metadata": {},
   "outputs": [],
   "source": [
    "a = restore_data(os.path.join(modis_utils._preprocessed_data_dir, '2000', '2000049', 'preprocessed.dat'))"
   ]
  },
  {
   "cell_type": "code",
   "execution_count": 13,
   "metadata": {},
   "outputs": [
    {
     "data": {
      "text/plain": [
       "(511, 511)"
      ]
     },
     "execution_count": 13,
     "metadata": {},
     "output_type": "execute_result"
    }
   ],
   "source": [
    "a.shape"
   ]
  },
  {
   "cell_type": "code",
   "execution_count": 14,
   "metadata": {},
   "outputs": [
    {
     "data": {
      "text/plain": [
       "0.9610736017337668"
      ]
     },
     "execution_count": 14,
     "metadata": {},
     "output_type": "execute_result"
    }
   ],
   "source": [
    "a.max()"
   ]
  },
  {
   "cell_type": "code",
   "execution_count": 9,
   "metadata": {},
   "outputs": [
    {
     "data": {
      "text/plain": [
       "{'train': {'data': 'data_file/preprocessed_data/MOD13Q1/0/NDVI/normalized_zero_one/12/1/train_data.csv',\n",
       "  'target': 'data_file/preprocessed_data/MOD13Q1/0/NDVI/normalized_zero_one/12/1/train_target.csv',\n",
       "  'mask': 'data_file/preprocessed_data/MOD13Q1/0/NDVI/normalized_zero_one/12/1/train_mask.csv'},\n",
       " 'val': {'data': 'data_file/preprocessed_data/MOD13Q1/0/NDVI/normalized_zero_one/12/1/val_data.csv',\n",
       "  'target': 'data_file/preprocessed_data/MOD13Q1/0/NDVI/normalized_zero_one/12/1/val_target.csv',\n",
       "  'mask': 'data_file/preprocessed_data/MOD13Q1/0/NDVI/normalized_zero_one/12/1/val_mask.csv'},\n",
       " 'test': {'data': 'data_file/preprocessed_data/MOD13Q1/0/NDVI/normalized_zero_one/12/1/test_data.csv',\n",
       "  'target': 'data_file/preprocessed_data/MOD13Q1/0/NDVI/normalized_zero_one/12/1/test_target.csv',\n",
       "  'mask': 'data_file/preprocessed_data/MOD13Q1/0/NDVI/normalized_zero_one/12/1/test_mask.csv'}}"
      ]
     },
     "execution_count": 9,
     "metadata": {},
     "output_type": "execute_result"
    }
   ],
   "source": [
    "modis_utils.create_data_file()"
   ]
  },
  {
   "cell_type": "code",
   "execution_count": 10,
   "metadata": {},
   "outputs": [],
   "source": [
    "modis_utils.augment_data()"
   ]
  },
  {
   "cell_type": "code",
   "execution_count": 11,
   "metadata": {},
   "outputs": [],
   "source": [
    "modis_utils.make_archive_augment_data()"
   ]
  },
  {
   "cell_type": "code",
   "execution_count": 12,
   "metadata": {},
   "outputs": [],
   "source": [
    "a = restore_data(os.path.join(modis_utils._data_augment_merged_dir, 'train', '0.dat'))"
   ]
  },
  {
   "cell_type": "code",
   "execution_count": 13,
   "metadata": {},
   "outputs": [
    {
     "data": {
      "text/plain": [
       "((1024, 12, 63, 63, 1), (1024, 63, 63, 2))"
      ]
     },
     "execution_count": 13,
     "metadata": {},
     "output_type": "execute_result"
    }
   ],
   "source": [
    "a[0].shape, a[1].shape"
   ]
  },
  {
   "cell_type": "code",
   "execution_count": null,
   "metadata": {},
   "outputs": [],
   "source": []
  }
 ],
 "metadata": {
  "kernelspec": {
   "display_name": "Python 3",
   "language": "python",
   "name": "python3"
  },
  "language_info": {
   "codemirror_mode": {
    "name": "ipython",
    "version": 3
   },
   "file_extension": ".py",
   "mimetype": "text/x-python",
   "name": "python",
   "nbconvert_exporter": "python",
   "pygments_lexer": "ipython3",
   "version": "3.6.5"
  }
 },
 "nbformat": 4,
 "nbformat_minor": 2
}
