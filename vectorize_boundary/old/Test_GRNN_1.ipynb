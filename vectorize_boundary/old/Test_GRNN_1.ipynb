{
 "cells": [
  {
   "cell_type": "code",
   "execution_count": 1,
   "metadata": {
    "colab": {
     "base_uri": "https://localhost:8080/",
     "height": 121
    },
    "colab_type": "code",
    "id": "9-Nn0CsF1L44",
    "outputId": "be0fbe43-bc00-4995-aab0-9e0933a2417c"
   },
   "outputs": [],
   "source": [
    "colab = False\n",
    "if colab:\n",
    "    from google.colab import drive\n",
    "    drive.mount('gdrive')\n",
    "    gdrive_dir = 'gdrive/My Drive/Colab'\n",
    "else:\n",
    "    gdrive_dir = '.'"
   ]
  },
  {
   "cell_type": "code",
   "execution_count": 2,
   "metadata": {
    "colab": {},
    "colab_type": "code",
    "id": "9_sIeTMQ1JIa"
   },
   "outputs": [
    {
     "name": "stderr",
     "output_type": "stream",
     "text": [
      "/usr/local/lib/python3.6/site-packages/h5py/__init__.py:36: FutureWarning: Conversion of the second argument of issubdtype from `float` to `np.floating` is deprecated. In future, it will be treated as `np.float64 == np.dtype(float).type`.\n",
      "  from ._conv import register_converters as _register_converters\n"
     ]
    }
   ],
   "source": [
    "import os\n",
    "import h5py\n",
    "import numpy as np\n",
    "from scipy import misc\n",
    "import matplotlib.pyplot as plt\n",
    "from sklearn.preprocessing import MinMaxScaler"
   ]
  },
  {
   "cell_type": "code",
   "execution_count": 3,
   "metadata": {
    "colab": {
     "base_uri": "https://localhost:8080/",
     "height": 742
    },
    "colab_type": "code",
    "id": "a9nT_GEPkuR6",
    "outputId": "43444a30-1b31-4bbc-bcab-6439290091b4"
   },
   "outputs": [],
   "source": [
    "#!pip install livelossplot"
   ]
  },
  {
   "cell_type": "code",
   "execution_count": 4,
   "metadata": {
    "colab": {
     "base_uri": "https://localhost:8080/",
     "height": 101
    },
    "colab_type": "code",
    "id": "Gn14831a1_ez",
    "outputId": "a2aae3cc-0872-4d24-b682-0a1878252bce"
   },
   "outputs": [],
   "source": [
    "#!git clone https://github.com/lamductan/modis_utils"
   ]
  },
  {
   "cell_type": "code",
   "execution_count": 5,
   "metadata": {
    "colab": {},
    "colab_type": "code",
    "id": "exE_fQWg1JIh"
   },
   "outputs": [],
   "source": [
    "from livelossplot import PlotLosses\n",
    "from modis_utils.misc import cache_data, restore_data"
   ]
  },
  {
   "cell_type": "code",
   "execution_count": 6,
   "metadata": {
    "colab": {},
    "colab_type": "code",
    "id": "5r9tSawW1JIl"
   },
   "outputs": [],
   "source": [
    "data = restore_data(os.path.join('cache', 'boundary_vectors_ALL.h5'))"
   ]
  },
  {
   "cell_type": "code",
   "execution_count": 7,
   "metadata": {
    "colab": {},
    "colab_type": "code",
    "id": "cReEtZNI1JIn"
   },
   "outputs": [],
   "source": [
    "train_boundary_vectors = data[0]\n",
    "val_boundary_vectors = data[1]\n",
    "test_boundary_vectors = data[2]"
   ]
  },
  {
   "cell_type": "code",
   "execution_count": 8,
   "metadata": {
    "colab": {
     "base_uri": "https://localhost:8080/",
     "height": 34
    },
    "colab_type": "code",
    "id": "Evr_F7S31JIq",
    "outputId": "f6c4ddf8-e87f-4063-ae47-32425dca2c7a"
   },
   "outputs": [
    {
     "data": {
      "text/plain": [
       "1024"
      ]
     },
     "execution_count": 8,
     "metadata": {},
     "output_type": "execute_result"
    }
   ],
   "source": [
    "n_points = train_boundary_vectors.shape[1]\n",
    "n_points"
   ]
  },
  {
   "cell_type": "code",
   "execution_count": 9,
   "metadata": {
    "colab": {
     "base_uri": "https://localhost:8080/",
     "height": 34
    },
    "colab_type": "code",
    "id": "kcNKTrpr1JIu",
    "outputId": "ae0d7924-1408-41cc-9cab-ab8ac267e3b6"
   },
   "outputs": [
    {
     "data": {
      "text/plain": [
       "((438, 1024, 2), (138, 1024, 2), (138, 1024, 2))"
      ]
     },
     "execution_count": 9,
     "metadata": {},
     "output_type": "execute_result"
    }
   ],
   "source": [
    "train_boundary_vectors.shape, val_boundary_vectors.shape, test_boundary_vectors.shape"
   ]
  },
  {
   "cell_type": "code",
   "execution_count": 10,
   "metadata": {
    "colab": {},
    "colab_type": "code",
    "id": "yoC45MTR1JIy"
   },
   "outputs": [],
   "source": [
    "def transform(data, scaler, flatten=True):\n",
    "    old_shape = data.shape\n",
    "    data = data.reshape(old_shape[0], -1)\n",
    "    data = scaler.transform(data.astype(np.float))\n",
    "    if not flatten:\n",
    "        return data.reshape(old_shape)\n",
    "    return data"
   ]
  },
  {
   "cell_type": "code",
   "execution_count": 11,
   "metadata": {
    "colab": {},
    "colab_type": "code",
    "id": "cLqx4tD-1JI0"
   },
   "outputs": [],
   "source": [
    "# normalize the dataset\n",
    "scaler = MinMaxScaler(feature_range=(0, 1))\n",
    "scaler.fit(train_boundary_vectors.reshape(train_boundary_vectors.shape[0], -1))\n",
    "train_boundary_vectors_scale = transform(train_boundary_vectors, scaler, flatten=True)\n",
    "val_boundary_vectors_scale = transform(val_boundary_vectors, scaler, flatten=True)\n",
    "test_boundary_vectors_scale = transform(test_boundary_vectors, scaler, flatten=True)"
   ]
  },
  {
   "cell_type": "code",
   "execution_count": 12,
   "metadata": {
    "colab": {},
    "colab_type": "code",
    "id": "fZvotXRA1JI3"
   },
   "outputs": [],
   "source": [
    "# normalize the dataset\n",
    "train_boundary_vectors_scale_1 = transform(train_boundary_vectors, scaler, flatten=False)\n",
    "val_boundary_vectors_scale_1 = transform(val_boundary_vectors, scaler, flatten=False)\n",
    "test_boundary_vectors_scale_1 = transform(test_boundary_vectors, scaler, flatten=False)"
   ]
  },
  {
   "cell_type": "code",
   "execution_count": 13,
   "metadata": {
    "colab": {
     "base_uri": "https://localhost:8080/",
     "height": 34
    },
    "colab_type": "code",
    "id": "XLY_Cuit1JI5",
    "outputId": "79c1d657-6dea-41ba-8545-44c058e9ba03"
   },
   "outputs": [
    {
     "data": {
      "text/plain": [
       "(438, 1024, 2)"
      ]
     },
     "execution_count": 13,
     "metadata": {},
     "output_type": "execute_result"
    }
   ],
   "source": [
    "train_boundary_vectors_scale_1.shape"
   ]
  },
  {
   "cell_type": "code",
   "execution_count": 14,
   "metadata": {
    "colab": {},
    "colab_type": "code",
    "id": "H-u5aVh31JI9"
   },
   "outputs": [],
   "source": [
    "def create_dataset(boundary_vectors_scale, timesteps):\n",
    "    data_X = []\n",
    "    data_Y = []\n",
    "    for i in range(len(boundary_vectors_scale) - timesteps):\n",
    "        data_x = boundary_vectors_scale[i:(i+timesteps)]\n",
    "        data_y = boundary_vectors_scale[i + timesteps]\n",
    "        data_X.append(data_x)\n",
    "        data_Y.append(data_y)\n",
    "    return np.asarray(data_X), np.asarray(data_Y)"
   ]
  },
  {
   "cell_type": "code",
   "execution_count": 15,
   "metadata": {
    "colab": {},
    "colab_type": "code",
    "id": "GvuWC_3k1JI_"
   },
   "outputs": [
    {
     "data": {
      "text/plain": [
       "'\\ntimesteps = 50\\ntrain_X, train_Y = create_dataset(train_boundary_vectors_scale, timesteps)\\nval_X, val_Y = create_dataset(np.concatenate(\\n    [train_boundary_vectors_scale[-timesteps:], val_boundary_vectors_scale]),\\n                              timesteps)\\ntest_X, test_Y = create_dataset(np.concatenate(\\n    [val_boundary_vectors_scale[-timesteps:], test_boundary_vectors_scale]),\\n                                timesteps)\\n'"
      ]
     },
     "execution_count": 15,
     "metadata": {},
     "output_type": "execute_result"
    }
   ],
   "source": [
    "'''\n",
    "timesteps = 50\n",
    "train_X, train_Y = create_dataset(train_boundary_vectors_scale, timesteps)\n",
    "val_X, val_Y = create_dataset(np.concatenate(\n",
    "    [train_boundary_vectors_scale[-timesteps:], val_boundary_vectors_scale]),\n",
    "                              timesteps)\n",
    "test_X, test_Y = create_dataset(np.concatenate(\n",
    "    [val_boundary_vectors_scale[-timesteps:], test_boundary_vectors_scale]),\n",
    "                                timesteps)\n",
    "'''"
   ]
  },
  {
   "cell_type": "code",
   "execution_count": 16,
   "metadata": {
    "colab": {},
    "colab_type": "code",
    "id": "1nKS8BBo1JJC"
   },
   "outputs": [
    {
     "data": {
      "text/plain": [
       "'\\ntimesteps = 50\\ntrain_X_1, train_Y_1 = create_dataset(train_boundary_vectors_scale_1, timesteps)\\nval_X_1, val_Y_1 = create_dataset(np.concatenate(\\n    [train_boundary_vectors_scale_1[-timesteps:], val_boundary_vectors_scale_1]),\\n                              timesteps)\\ntest_X_1, test_Y_1 = create_dataset(np.concatenate(\\n    [val_boundary_vectors_scale_1[-timesteps:], test_boundary_vectors_scale_1]),\\n                                timesteps)\\n'"
      ]
     },
     "execution_count": 16,
     "metadata": {},
     "output_type": "execute_result"
    }
   ],
   "source": [
    "'''\n",
    "timesteps = 50\n",
    "train_X_1, train_Y_1 = create_dataset(train_boundary_vectors_scale_1, timesteps)\n",
    "val_X_1, val_Y_1 = create_dataset(np.concatenate(\n",
    "    [train_boundary_vectors_scale_1[-timesteps:], val_boundary_vectors_scale_1]),\n",
    "                              timesteps)\n",
    "test_X_1, test_Y_1 = create_dataset(np.concatenate(\n",
    "    [val_boundary_vectors_scale_1[-timesteps:], test_boundary_vectors_scale_1]),\n",
    "                                timesteps)\n",
    "'''"
   ]
  },
  {
   "cell_type": "code",
   "execution_count": 17,
   "metadata": {
    "colab": {
     "base_uri": "https://localhost:8080/",
     "height": 118
    },
    "colab_type": "code",
    "id": "CILpLtpU1JJF",
    "outputId": "d6d8a06b-1662-451d-9167-28d0bd33ad1e"
   },
   "outputs": [],
   "source": [
    "#train_X.shape, train_Y.shape, val_X.shape, val_Y.shape, test_X.shape, test_Y.shape"
   ]
  },
  {
   "cell_type": "code",
   "execution_count": 18,
   "metadata": {
    "colab": {
     "base_uri": "https://localhost:8080/",
     "height": 118
    },
    "colab_type": "code",
    "id": "Bu1rUwhG1JJI",
    "outputId": "f62e23c8-d3a7-4fee-8194-05f0031fd734"
   },
   "outputs": [],
   "source": [
    "#train_X_1.shape, train_Y_1.shape, val_X_1.shape, val_Y_1.shape, test_X_1.shape, test_Y_1.shape"
   ]
  },
  {
   "cell_type": "code",
   "execution_count": 19,
   "metadata": {
    "colab": {},
    "colab_type": "code",
    "id": "EBL1WZ0B1JJN"
   },
   "outputs": [],
   "source": [
    "def create_graph_matrix(n_points_on_boundary):\n",
    "    def calc_arc_distance(a, b, n):\n",
    "        diff = np.abs(a-b)\n",
    "        if diff > n//2:\n",
    "            diff = n - diff\n",
    "        return diff\n",
    "    \n",
    "    n = n_points_on_boundary\n",
    "    mat = np.zeros((n, n))\n",
    "    for i in range(n):\n",
    "        for j in range(n):\n",
    "            mat[i,j] = calc_arc_distance(i, j, n)\n",
    "    return mat.astype(np.float32)\n",
    "\n",
    "def create_graph_matrix_1(n_points_on_boundary):\n",
    "    def calc_arc_distance(a, b, n):\n",
    "        diff = np.abs(a-b)\n",
    "        if diff > n//2:\n",
    "            diff = n - diff\n",
    "        return diff\n",
    "    \n",
    "    n = n_points_on_boundary\n",
    "    mat = np.zeros((2*n, 2*n))\n",
    "    for i in range(n):\n",
    "        for j in range(n):\n",
    "            mat[i,j] = calc_arc_distance(i, j, n)\n",
    "    mat[n:2*n, n:2*n] = mat[:n, :n]\n",
    "    for i in range(n):\n",
    "        for j in range(n, 2*n):\n",
    "            mat[i,j] = mat[i, j - n]\n",
    "    mat[n:2*n, :n] = mat[:n, n:2*n]\n",
    "    return mat.astype(np.float32)"
   ]
  },
  {
   "cell_type": "code",
   "execution_count": 20,
   "metadata": {
    "colab": {
     "base_uri": "https://localhost:8080/",
     "height": 34
    },
    "colab_type": "code",
    "id": "A_HxgB4J1JJQ",
    "outputId": "ea6c8f51-8842-4693-ef82-58feb28b3b5f"
   },
   "outputs": [
    {
     "data": {
      "text/plain": [
       "(1024, 1024)"
      ]
     },
     "execution_count": 20,
     "metadata": {},
     "output_type": "execute_result"
    }
   ],
   "source": [
    "mat = create_graph_matrix(n_points)\n",
    "mat.shape"
   ]
  },
  {
   "cell_type": "code",
   "execution_count": null,
   "metadata": {
    "colab": {},
    "colab_type": "code",
    "id": "uQvNkxc62bOP"
   },
   "outputs": [],
   "source": []
  },
  {
   "cell_type": "code",
   "execution_count": 21,
   "metadata": {
    "colab": {},
    "colab_type": "code",
    "id": "IbAOYMkh1JJZ"
   },
   "outputs": [],
   "source": [
    "class DotDict(dict):\n",
    "    \"\"\"dot.notation access to dictionary attributes\"\"\"\n",
    "    __getattr__ = dict.get\n",
    "    __setattr__ = dict.__setitem__\n",
    "    __delattr__ = dict.__delitem__\n",
    "    def __getstate__(self): return self.__dict__\n",
    "    def __setstate__(self, d): self.__dict__.update(d)"
   ]
  },
  {
   "cell_type": "code",
   "execution_count": 22,
   "metadata": {
    "colab": {},
    "colab_type": "code",
    "id": "p0rpImRf1JJc"
   },
   "outputs": [],
   "source": [
    "import random\n",
    "import datetime\n",
    "\n",
    "import torch\n",
    "import torch.nn as nn\n",
    "import torch.optim as optim\n",
    "import torch.multiprocessing as mp\n",
    "\n",
    "import sys\n",
    "from grnn.model import GRNN"
   ]
  },
  {
   "cell_type": "code",
   "execution_count": 23,
   "metadata": {
    "colab": {},
    "colab_type": "code",
    "id": "JQYaoSDL1JJf"
   },
   "outputs": [],
   "source": [
    "opt = DotDict()\n",
    "opt.nNode = n_points\n",
    "opt.batchSize = 1\n",
    "opt.dimHidden = 32\n",
    "opt.dimFeature = 2\n",
    "opt.truncate = 50\n",
    "opt.nIter = 20\n",
    "opt.cuda = False\n",
    "opt.lr = 0.01"
   ]
  },
  {
   "cell_type": "code",
   "execution_count": 24,
   "metadata": {
    "colab": {},
    "colab_type": "code",
    "id": "r5wT04kb1JJh"
   },
   "outputs": [],
   "source": [
    "def to_torch(data):\n",
    "    data_np = np.expand_dims(train_boundary_vectors_scale_1, axis=0)\n",
    "    return torch.from_numpy(data_np) "
   ]
  },
  {
   "cell_type": "code",
   "execution_count": null,
   "metadata": {
    "colab": {},
    "colab_type": "code",
    "id": "1uauISwBlWX9"
   },
   "outputs": [],
   "source": []
  },
  {
   "cell_type": "code",
   "execution_count": 25,
   "metadata": {
    "colab": {},
    "colab_type": "code",
    "id": "Vm584opiCXWO"
   },
   "outputs": [],
   "source": [
    "mat = np.divide(mat, n_points)"
   ]
  },
  {
   "cell_type": "code",
   "execution_count": 26,
   "metadata": {
    "colab": {},
    "colab_type": "code",
    "id": "C9Nd8boS1JJm"
   },
   "outputs": [],
   "source": [
    "#data = torch.from_numpy(data_np)\n",
    "#A = torch.from_numpy(mat[np.newaxis, :, :]).double()"
   ]
  },
  {
   "cell_type": "code",
   "execution_count": 27,
   "metadata": {
    "colab": {},
    "colab_type": "code",
    "id": "Ys7shce-1JJo"
   },
   "outputs": [],
   "source": []
  },
  {
   "cell_type": "code",
   "execution_count": 28,
   "metadata": {
    "colab": {},
    "colab_type": "code",
    "id": "18z_Tgm71JJt"
   },
   "outputs": [],
   "source": [
    "criterion = nn.MSELoss()"
   ]
  },
  {
   "cell_type": "code",
   "execution_count": 29,
   "metadata": {
    "colab": {},
    "colab_type": "code",
    "id": "m-a-7EbvIVd-"
   },
   "outputs": [],
   "source": [
    "#device = torch.device(\"cuda:0\" if torch.cuda.is_available() else \"cpu\")\n",
    "#print(device)"
   ]
  },
  {
   "cell_type": "code",
   "execution_count": 30,
   "metadata": {
    "colab": {},
    "colab_type": "code",
    "id": "r61N6AXo1JJv"
   },
   "outputs": [],
   "source": [
    "if opt.cuda:\n",
    "    net = net.to(device)\n",
    "    criterion = criterion.cuda()\n",
    "    data = data.to(device)\n",
    "    A = A.to(device)"
   ]
  },
  {
   "cell_type": "code",
   "execution_count": 31,
   "metadata": {
    "colab": {},
    "colab_type": "code",
    "id": "K0mWe4VB1JJy"
   },
   "outputs": [],
   "source": [
    "optimizer = optim.Adam(net.parameters(), lr=opt.lr)"
   ]
  },
  {
   "cell_type": "code",
   "execution_count": 32,
   "metadata": {
    "colab": {},
    "colab_type": "code",
    "id": "9ii7M8HV1JJ0"
   },
   "outputs": [],
   "source": [
    "#hState = torch.randn(opt.batchSize, opt.dimHidden, opt.nNode).double()\n",
    "yLastPred = 0"
   ]
  },
  {
   "cell_type": "code",
   "execution_count": 33,
   "metadata": {
    "colab": {},
    "colab_type": "code",
    "id": "QCMIMuv61JJ3"
   },
   "outputs": [],
   "source": [
    "def getTime(begin, end):\n",
    "    timeDelta = end - begin\n",
    "    return '%d h %d m %d.%ds' % (timeDelta.seconds // 3600, (timeDelta.seconds%3600) // 60, timeDelta.seconds % 60, timeDelta.microseconds)\n",
    "\n",
    "timStart = datetime.datetime.now()"
   ]
  },
  {
   "cell_type": "code",
   "execution_count": 34,
   "metadata": {
    "colab": {},
    "colab_type": "code",
    "id": "IKjXq5q_1JJ6"
   },
   "outputs": [],
   "source": [
    "point_plot_idx = 0\n",
    "feature_plot_idx = 1"
   ]
  },
  {
   "cell_type": "code",
   "execution_count": 35,
   "metadata": {
    "colab": {},
    "colab_type": "code",
    "id": "WZ_mGVAB5G-0"
   },
   "outputs": [],
   "source": [
    "def to_numpy(data):\n",
    "    if not opt.cuda:\n",
    "        data = data.cpu()\n",
    "    return data.numpy()"
   ]
  },
  {
   "cell_type": "code",
   "execution_count": 36,
   "metadata": {
    "colab": {
     "base_uri": "https://localhost:8080/",
     "height": 54
    },
    "colab_type": "code",
    "id": "koTeZolO1JKB",
    "outputId": "9b155ed7-d3d7-408c-a500-20c8baa0e412"
   },
   "outputs": [
    {
     "data": {
      "text/plain": [
       "\"\\nfor t in range(data.size(1) - opt.truncate):\\n    x = data[:, t:(t + opt.truncate), :, :]\\n    y = data[:, (t + 1):(t + opt.truncate + 1), :, :]\\n    prediction = 0\\n\\n    for i in range(opt.nIter):\\n        process = '[Log] %d propogation, %d epoch. ' % (t + 1, i + 1)\\n        timStamp = datetime.datetime.now()\\n        prediction, hNew = net(x, hState, A)\\n        #print(prediction)\\n        print(process + 'Forward used: %s.' % getTime(timStamp, datetime.datetime.now()))\\n        hState = hState.data\\n\\n        loss = criterion(prediction, y)\\n        optimizer.zero_grad()\\n        timStamp = datetime.datetime.now()\\n        loss.backward()\\n        \\n        print(process + 'Backward used: %s.' % getTime(timStamp, datetime.datetime.now()))\\n        \\n        optimizer.step()\\n\\n    _, hState = net.propogator(x[:, 0, :, :], hState, A)\\n    hState = hState.data\\n\\n    if t == 0:\\n        plt.plot([v for v in range(opt.truncate)], \\n                 x[:, :, point_plot_idx, feature_plot_idx].data.numpy().flatten(), 'r-')\\n        plt.plot([v + 1 for v in range(opt.truncate)], \\n                 to_numpy(prediction[:, :, point_plot_idx, feature_plot_idx].data).flatten(), 'b-')\\n    else:\\n        plt.plot([t + opt.truncate - 2, t + opt.truncate - 1], \\n                 to_numpy(x[:, -2:, point_plot_idx, feature_plot_idx].data).flatten(), 'r-')\\n        plt.plot([t + opt.truncate - 1, t + opt.truncate],\\n                 [yLastPred, prediction[0, -1, point_plot_idx, feature_plot_idx]], 'b-')\\n        plt.plot([t + opt.truncate - 1, t + opt.truncate], \\n                 to_numpy(x[:, -2:, point_plot_idx, feature_plot_idx].data).flatten(), 'r-')\\n    plt.draw()\\n    plt.pause(0.5)\\n    yLastPred = prediction[0, -1, point_plot_idx, feature_plot_idx]\\n\\nplt.ioff()\\nplt.show()\\n\""
      ]
     },
     "execution_count": 36,
     "metadata": {},
     "output_type": "execute_result"
    }
   ],
   "source": [
    "'''\n",
    "for t in range(data.size(1) - opt.truncate):\n",
    "    x = data[:, t:(t + opt.truncate), :, :]\n",
    "    y = data[:, (t + 1):(t + opt.truncate + 1), :, :]\n",
    "    prediction = 0\n",
    "\n",
    "    for i in range(opt.nIter):\n",
    "        process = '[Log] %d propogation, %d epoch. ' % (t + 1, i + 1)\n",
    "        timStamp = datetime.datetime.now()\n",
    "        prediction, hNew = net(x, hState, A)\n",
    "        #print(prediction)\n",
    "        print(process + 'Forward used: %s.' % getTime(timStamp, datetime.datetime.now()))\n",
    "        hState = hState.data\n",
    "\n",
    "        loss = criterion(prediction, y)\n",
    "        optimizer.zero_grad()\n",
    "        timStamp = datetime.datetime.now()\n",
    "        loss.backward()\n",
    "        \n",
    "        print(process + 'Backward used: %s.' % getTime(timStamp, datetime.datetime.now()))\n",
    "        \n",
    "        optimizer.step()\n",
    "\n",
    "    _, hState = net.propogator(x[:, 0, :, :], hState, A)\n",
    "    hState = hState.data\n",
    "\n",
    "    if t == 0:\n",
    "        plt.plot([v for v in range(opt.truncate)], \n",
    "                 x[:, :, point_plot_idx, feature_plot_idx].data.numpy().flatten(), 'r-')\n",
    "        plt.plot([v + 1 for v in range(opt.truncate)], \n",
    "                 to_numpy(prediction[:, :, point_plot_idx, feature_plot_idx].data).flatten(), 'b-')\n",
    "    else:\n",
    "        plt.plot([t + opt.truncate - 2, t + opt.truncate - 1], \n",
    "                 to_numpy(x[:, -2:, point_plot_idx, feature_plot_idx].data).flatten(), 'r-')\n",
    "        plt.plot([t + opt.truncate - 1, t + opt.truncate],\n",
    "                 [yLastPred, prediction[0, -1, point_plot_idx, feature_plot_idx]], 'b-')\n",
    "        plt.plot([t + opt.truncate - 1, t + opt.truncate], \n",
    "                 to_numpy(x[:, -2:, point_plot_idx, feature_plot_idx].data).flatten(), 'r-')\n",
    "    plt.draw()\n",
    "    plt.pause(0.5)\n",
    "    yLastPred = prediction[0, -1, point_plot_idx, feature_plot_idx]\n",
    "\n",
    "plt.ioff()\n",
    "plt.show()\n",
    "'''"
   ]
  },
  {
   "cell_type": "code",
   "execution_count": 37,
   "metadata": {
    "colab": {
     "base_uri": "https://localhost:8080/",
     "height": 54
    },
    "colab_type": "code",
    "id": "dEyWZbYj4erx",
    "outputId": "9173c94c-4edf-4139-a787-c162cdede4f2"
   },
   "outputs": [
    {
     "data": {
      "text/plain": [
       "\"\\nn_data = data.size(1) - opt.truncate\\nlosses = []\\nvisualize_data = False\\n\\nfor i in range(opt.nIter):\\n    running_loss = 0.0\\n    for t in range(n_data):\\n        x = data[:, t:(t + opt.truncate), :, :]\\n        y = data[:, (t + 1):(t + opt.truncate + 1), :, :]\\n        prediction = 0\\n\\n        timStamp = datetime.datetime.now()\\n        prediction, hNew = net(x, hState, A)\\n        #print(prediction)\\n        hState = hState.data\\n\\n        loss = criterion(prediction, y)\\n        optimizer.zero_grad()\\n        timStamp = datetime.datetime.now()\\n        loss.backward()\\n        \\n        running_loss += loss.item()\\n        optimizer.step()\\n\\n    running_loss /= n_data\\n    print('Epoch %d, mean loss = %.3f' % (i + 1, running_loss))\\n    losses.append(running_loss)\\n    plt.plot(losses)\\n\\n    if visualize_data:\\n        _, hState = net.propogator(x[:, 0, :, :], hState, A)\\n        hState = hState.data\\n\\n        if t == 0:\\n            plt.plot([v for v in range(opt.truncate)], \\n                     x[:, :, point_plot_idx, feature_plot_idx].data.numpy().flatten(), 'r-')\\n            plt.plot([v + 1 for v in range(opt.truncate)], \\n                     to_numpy(prediction[:, :, point_plot_idx, feature_plot_idx].data).flatten(), 'b-')\\n        else:\\n            plt.plot([t + opt.truncate - 2, t + opt.truncate - 1], \\n                     to_numpy(x[:, -2:, point_plot_idx, feature_plot_idx].data).flatten(), 'r-')\\n            plt.plot([t + opt.truncate - 1, t + opt.truncate],\\n                     [yLastPred, prediction[0, -1, point_plot_idx, feature_plot_idx]], 'b-')\\n            plt.plot([t + opt.truncate - 1, t + opt.truncate], \\n                     to_numpy(x[:, -2:, point_plot_idx, feature_plot_idx].data).flatten(), 'r-')\\n        plt.draw()\\n        plt.pause(0.5)\\n        yLastPred = prediction[0, -1, point_plot_idx, feature_plot_idx]\\n\\nplt.ioff()\\nplt.show()\\n\""
      ]
     },
     "execution_count": 37,
     "metadata": {},
     "output_type": "execute_result"
    }
   ],
   "source": [
    "'''\n",
    "n_data = data.size(1) - opt.truncate\n",
    "losses = []\n",
    "visualize_data = False\n",
    "\n",
    "for i in range(opt.nIter):\n",
    "    running_loss = 0.0\n",
    "    for t in range(n_data):\n",
    "        x = data[:, t:(t + opt.truncate), :, :]\n",
    "        y = data[:, (t + 1):(t + opt.truncate + 1), :, :]\n",
    "        prediction = 0\n",
    "\n",
    "        timStamp = datetime.datetime.now()\n",
    "        prediction, hNew = net(x, hState, A)\n",
    "        #print(prediction)\n",
    "        hState = hState.data\n",
    "\n",
    "        loss = criterion(prediction, y)\n",
    "        optimizer.zero_grad()\n",
    "        timStamp = datetime.datetime.now()\n",
    "        loss.backward()\n",
    "        \n",
    "        running_loss += loss.item()\n",
    "        optimizer.step()\n",
    "\n",
    "    running_loss /= n_data\n",
    "    print('Epoch %d, mean loss = %.3f' % (i + 1, running_loss))\n",
    "    losses.append(running_loss)\n",
    "    plt.plot(losses)\n",
    "\n",
    "    if visualize_data:\n",
    "        _, hState = net.propogator(x[:, 0, :, :], hState, A)\n",
    "        hState = hState.data\n",
    "\n",
    "        if t == 0:\n",
    "            plt.plot([v for v in range(opt.truncate)], \n",
    "                     x[:, :, point_plot_idx, feature_plot_idx].data.numpy().flatten(), 'r-')\n",
    "            plt.plot([v + 1 for v in range(opt.truncate)], \n",
    "                     to_numpy(prediction[:, :, point_plot_idx, feature_plot_idx].data).flatten(), 'b-')\n",
    "        else:\n",
    "            plt.plot([t + opt.truncate - 2, t + opt.truncate - 1], \n",
    "                     to_numpy(x[:, -2:, point_plot_idx, feature_plot_idx].data).flatten(), 'r-')\n",
    "            plt.plot([t + opt.truncate - 1, t + opt.truncate],\n",
    "                     [yLastPred, prediction[0, -1, point_plot_idx, feature_plot_idx]], 'b-')\n",
    "            plt.plot([t + opt.truncate - 1, t + opt.truncate], \n",
    "                     to_numpy(x[:, -2:, point_plot_idx, feature_plot_idx].data).flatten(), 'r-')\n",
    "        plt.draw()\n",
    "        plt.pause(0.5)\n",
    "        yLastPred = prediction[0, -1, point_plot_idx, feature_plot_idx]\n",
    "\n",
    "plt.ioff()\n",
    "plt.show()\n",
    "'''"
   ]
  },
  {
   "cell_type": "code",
   "execution_count": 38,
   "metadata": {},
   "outputs": [
    {
     "data": {
      "text/plain": [
       "6"
      ]
     },
     "execution_count": 38,
     "metadata": {},
     "output_type": "execute_result"
    }
   ],
   "source": [
    "num_processes = mp.cpu_count() - 2\n",
    "num_processes"
   ]
  },
  {
   "cell_type": "code",
   "execution_count": 43,
   "metadata": {
    "colab": {
     "base_uri": "https://localhost:8080/",
     "height": 355
    },
    "colab_type": "code",
    "id": "5se6CuqFBl8a",
    "outputId": "22e76a57-a1f7-412e-ac42-8029f82114d4"
   },
   "outputs": [
    {
     "ename": "RuntimeError",
     "evalue": "unable to open shared memory object </torch_14093_1522883633> in read-write mode at /pytorch/aten/src/TH/THAllocator.c:342",
     "output_type": "error",
     "traceback": [
      "\u001b[0;31m---------------------------------------------------------------------------\u001b[0m",
      "\u001b[0;31mRuntimeError\u001b[0m                              Traceback (most recent call last)",
      "\u001b[0;32m<ipython-input-43-4a529233a4bf>\u001b[0m in \u001b[0;36m<module>\u001b[0;34m()\u001b[0m\n\u001b[1;32m     13\u001b[0m \u001b[0mnet\u001b[0m \u001b[0;34m=\u001b[0m \u001b[0mGRNN\u001b[0m\u001b[0;34m(\u001b[0m\u001b[0mopt\u001b[0m\u001b[0;34m)\u001b[0m\u001b[0;34m\u001b[0m\u001b[0m\n\u001b[1;32m     14\u001b[0m \u001b[0;31m#net.double();\u001b[0m\u001b[0;34m\u001b[0m\u001b[0;34m\u001b[0m\u001b[0m\n\u001b[0;32m---> 15\u001b[0;31m \u001b[0mnet\u001b[0m\u001b[0;34m.\u001b[0m\u001b[0mshare_memory\u001b[0m\u001b[0;34m(\u001b[0m\u001b[0;34m)\u001b[0m\u001b[0;34m\u001b[0m\u001b[0m\n\u001b[0m\u001b[1;32m     16\u001b[0m \u001b[0mprocesses\u001b[0m \u001b[0;34m=\u001b[0m \u001b[0;34m[\u001b[0m\u001b[0;34m]\u001b[0m\u001b[0;34m\u001b[0m\u001b[0m\n",
      "\u001b[0;32m/usr/local/lib/python3.6/site-packages/torch/nn/modules/module.py\u001b[0m in \u001b[0;36mshare_memory\u001b[0;34m(self)\u001b[0m\n\u001b[1;32m    904\u001b[0m \u001b[0;34m\u001b[0m\u001b[0m\n\u001b[1;32m    905\u001b[0m     \u001b[0;32mdef\u001b[0m \u001b[0mshare_memory\u001b[0m\u001b[0;34m(\u001b[0m\u001b[0mself\u001b[0m\u001b[0;34m)\u001b[0m\u001b[0;34m:\u001b[0m\u001b[0;34m\u001b[0m\u001b[0m\n\u001b[0;32m--> 906\u001b[0;31m         \u001b[0;32mreturn\u001b[0m \u001b[0mself\u001b[0m\u001b[0;34m.\u001b[0m\u001b[0m_apply\u001b[0m\u001b[0;34m(\u001b[0m\u001b[0;32mlambda\u001b[0m \u001b[0mt\u001b[0m\u001b[0;34m:\u001b[0m \u001b[0mt\u001b[0m\u001b[0;34m.\u001b[0m\u001b[0mshare_memory_\u001b[0m\u001b[0;34m(\u001b[0m\u001b[0;34m)\u001b[0m\u001b[0;34m)\u001b[0m\u001b[0;34m\u001b[0m\u001b[0m\n\u001b[0m\u001b[1;32m    907\u001b[0m \u001b[0;34m\u001b[0m\u001b[0m\n\u001b[1;32m    908\u001b[0m     \u001b[0;32mdef\u001b[0m \u001b[0m_get_name\u001b[0m\u001b[0;34m(\u001b[0m\u001b[0mself\u001b[0m\u001b[0;34m)\u001b[0m\u001b[0;34m:\u001b[0m\u001b[0;34m\u001b[0m\u001b[0m\n",
      "\u001b[0;32m/usr/local/lib/python3.6/site-packages/torch/nn/modules/module.py\u001b[0m in \u001b[0;36m_apply\u001b[0;34m(self, fn)\u001b[0m\n\u001b[1;32m    174\u001b[0m     \u001b[0;32mdef\u001b[0m \u001b[0m_apply\u001b[0m\u001b[0;34m(\u001b[0m\u001b[0mself\u001b[0m\u001b[0;34m,\u001b[0m \u001b[0mfn\u001b[0m\u001b[0;34m)\u001b[0m\u001b[0;34m:\u001b[0m\u001b[0;34m\u001b[0m\u001b[0m\n\u001b[1;32m    175\u001b[0m         \u001b[0;32mfor\u001b[0m \u001b[0mmodule\u001b[0m \u001b[0;32min\u001b[0m \u001b[0mself\u001b[0m\u001b[0;34m.\u001b[0m\u001b[0mchildren\u001b[0m\u001b[0;34m(\u001b[0m\u001b[0;34m)\u001b[0m\u001b[0;34m:\u001b[0m\u001b[0;34m\u001b[0m\u001b[0m\n\u001b[0;32m--> 176\u001b[0;31m             \u001b[0mmodule\u001b[0m\u001b[0;34m.\u001b[0m\u001b[0m_apply\u001b[0m\u001b[0;34m(\u001b[0m\u001b[0mfn\u001b[0m\u001b[0;34m)\u001b[0m\u001b[0;34m\u001b[0m\u001b[0m\n\u001b[0m\u001b[1;32m    177\u001b[0m \u001b[0;34m\u001b[0m\u001b[0m\n\u001b[1;32m    178\u001b[0m         \u001b[0;32mfor\u001b[0m \u001b[0mparam\u001b[0m \u001b[0;32min\u001b[0m \u001b[0mself\u001b[0m\u001b[0;34m.\u001b[0m\u001b[0m_parameters\u001b[0m\u001b[0;34m.\u001b[0m\u001b[0mvalues\u001b[0m\u001b[0;34m(\u001b[0m\u001b[0;34m)\u001b[0m\u001b[0;34m:\u001b[0m\u001b[0;34m\u001b[0m\u001b[0m\n",
      "\u001b[0;32m/usr/local/lib/python3.6/site-packages/torch/nn/modules/module.py\u001b[0m in \u001b[0;36m_apply\u001b[0;34m(self, fn)\u001b[0m\n\u001b[1;32m    174\u001b[0m     \u001b[0;32mdef\u001b[0m \u001b[0m_apply\u001b[0m\u001b[0;34m(\u001b[0m\u001b[0mself\u001b[0m\u001b[0;34m,\u001b[0m \u001b[0mfn\u001b[0m\u001b[0;34m)\u001b[0m\u001b[0;34m:\u001b[0m\u001b[0;34m\u001b[0m\u001b[0m\n\u001b[1;32m    175\u001b[0m         \u001b[0;32mfor\u001b[0m \u001b[0mmodule\u001b[0m \u001b[0;32min\u001b[0m \u001b[0mself\u001b[0m\u001b[0;34m.\u001b[0m\u001b[0mchildren\u001b[0m\u001b[0;34m(\u001b[0m\u001b[0;34m)\u001b[0m\u001b[0;34m:\u001b[0m\u001b[0;34m\u001b[0m\u001b[0m\n\u001b[0;32m--> 176\u001b[0;31m             \u001b[0mmodule\u001b[0m\u001b[0;34m.\u001b[0m\u001b[0m_apply\u001b[0m\u001b[0;34m(\u001b[0m\u001b[0mfn\u001b[0m\u001b[0;34m)\u001b[0m\u001b[0;34m\u001b[0m\u001b[0m\n\u001b[0m\u001b[1;32m    177\u001b[0m \u001b[0;34m\u001b[0m\u001b[0m\n\u001b[1;32m    178\u001b[0m         \u001b[0;32mfor\u001b[0m \u001b[0mparam\u001b[0m \u001b[0;32min\u001b[0m \u001b[0mself\u001b[0m\u001b[0;34m.\u001b[0m\u001b[0m_parameters\u001b[0m\u001b[0;34m.\u001b[0m\u001b[0mvalues\u001b[0m\u001b[0;34m(\u001b[0m\u001b[0;34m)\u001b[0m\u001b[0;34m:\u001b[0m\u001b[0;34m\u001b[0m\u001b[0m\n",
      "\u001b[0;32m/usr/local/lib/python3.6/site-packages/torch/nn/modules/module.py\u001b[0m in \u001b[0;36m_apply\u001b[0;34m(self, fn)\u001b[0m\n\u001b[1;32m    174\u001b[0m     \u001b[0;32mdef\u001b[0m \u001b[0m_apply\u001b[0m\u001b[0;34m(\u001b[0m\u001b[0mself\u001b[0m\u001b[0;34m,\u001b[0m \u001b[0mfn\u001b[0m\u001b[0;34m)\u001b[0m\u001b[0;34m:\u001b[0m\u001b[0;34m\u001b[0m\u001b[0m\n\u001b[1;32m    175\u001b[0m         \u001b[0;32mfor\u001b[0m \u001b[0mmodule\u001b[0m \u001b[0;32min\u001b[0m \u001b[0mself\u001b[0m\u001b[0;34m.\u001b[0m\u001b[0mchildren\u001b[0m\u001b[0;34m(\u001b[0m\u001b[0;34m)\u001b[0m\u001b[0;34m:\u001b[0m\u001b[0;34m\u001b[0m\u001b[0m\n\u001b[0;32m--> 176\u001b[0;31m             \u001b[0mmodule\u001b[0m\u001b[0;34m.\u001b[0m\u001b[0m_apply\u001b[0m\u001b[0;34m(\u001b[0m\u001b[0mfn\u001b[0m\u001b[0;34m)\u001b[0m\u001b[0;34m\u001b[0m\u001b[0m\n\u001b[0m\u001b[1;32m    177\u001b[0m \u001b[0;34m\u001b[0m\u001b[0m\n\u001b[1;32m    178\u001b[0m         \u001b[0;32mfor\u001b[0m \u001b[0mparam\u001b[0m \u001b[0;32min\u001b[0m \u001b[0mself\u001b[0m\u001b[0;34m.\u001b[0m\u001b[0m_parameters\u001b[0m\u001b[0;34m.\u001b[0m\u001b[0mvalues\u001b[0m\u001b[0;34m(\u001b[0m\u001b[0;34m)\u001b[0m\u001b[0;34m:\u001b[0m\u001b[0;34m\u001b[0m\u001b[0m\n",
      "\u001b[0;32m/usr/local/lib/python3.6/site-packages/torch/nn/modules/module.py\u001b[0m in \u001b[0;36m_apply\u001b[0;34m(self, fn)\u001b[0m\n\u001b[1;32m    174\u001b[0m     \u001b[0;32mdef\u001b[0m \u001b[0m_apply\u001b[0m\u001b[0;34m(\u001b[0m\u001b[0mself\u001b[0m\u001b[0;34m,\u001b[0m \u001b[0mfn\u001b[0m\u001b[0;34m)\u001b[0m\u001b[0;34m:\u001b[0m\u001b[0;34m\u001b[0m\u001b[0m\n\u001b[1;32m    175\u001b[0m         \u001b[0;32mfor\u001b[0m \u001b[0mmodule\u001b[0m \u001b[0;32min\u001b[0m \u001b[0mself\u001b[0m\u001b[0;34m.\u001b[0m\u001b[0mchildren\u001b[0m\u001b[0;34m(\u001b[0m\u001b[0;34m)\u001b[0m\u001b[0;34m:\u001b[0m\u001b[0;34m\u001b[0m\u001b[0m\n\u001b[0;32m--> 176\u001b[0;31m             \u001b[0mmodule\u001b[0m\u001b[0;34m.\u001b[0m\u001b[0m_apply\u001b[0m\u001b[0;34m(\u001b[0m\u001b[0mfn\u001b[0m\u001b[0;34m)\u001b[0m\u001b[0;34m\u001b[0m\u001b[0m\n\u001b[0m\u001b[1;32m    177\u001b[0m \u001b[0;34m\u001b[0m\u001b[0m\n\u001b[1;32m    178\u001b[0m         \u001b[0;32mfor\u001b[0m \u001b[0mparam\u001b[0m \u001b[0;32min\u001b[0m \u001b[0mself\u001b[0m\u001b[0;34m.\u001b[0m\u001b[0m_parameters\u001b[0m\u001b[0;34m.\u001b[0m\u001b[0mvalues\u001b[0m\u001b[0;34m(\u001b[0m\u001b[0;34m)\u001b[0m\u001b[0;34m:\u001b[0m\u001b[0;34m\u001b[0m\u001b[0m\n",
      "\u001b[0;32m/usr/local/lib/python3.6/site-packages/torch/nn/modules/module.py\u001b[0m in \u001b[0;36m_apply\u001b[0;34m(self, fn)\u001b[0m\n\u001b[1;32m    180\u001b[0m                 \u001b[0;31m# Tensors stored in modules are graph leaves, and we don't\u001b[0m\u001b[0;34m\u001b[0m\u001b[0;34m\u001b[0m\u001b[0m\n\u001b[1;32m    181\u001b[0m                 \u001b[0;31m# want to create copy nodes, so we have to unpack the data.\u001b[0m\u001b[0;34m\u001b[0m\u001b[0;34m\u001b[0m\u001b[0m\n\u001b[0;32m--> 182\u001b[0;31m                 \u001b[0mparam\u001b[0m\u001b[0;34m.\u001b[0m\u001b[0mdata\u001b[0m \u001b[0;34m=\u001b[0m \u001b[0mfn\u001b[0m\u001b[0;34m(\u001b[0m\u001b[0mparam\u001b[0m\u001b[0;34m.\u001b[0m\u001b[0mdata\u001b[0m\u001b[0;34m)\u001b[0m\u001b[0;34m\u001b[0m\u001b[0m\n\u001b[0m\u001b[1;32m    183\u001b[0m                 \u001b[0;32mif\u001b[0m \u001b[0mparam\u001b[0m\u001b[0;34m.\u001b[0m\u001b[0m_grad\u001b[0m \u001b[0;32mis\u001b[0m \u001b[0;32mnot\u001b[0m \u001b[0;32mNone\u001b[0m\u001b[0;34m:\u001b[0m\u001b[0;34m\u001b[0m\u001b[0m\n\u001b[1;32m    184\u001b[0m                     \u001b[0mparam\u001b[0m\u001b[0;34m.\u001b[0m\u001b[0m_grad\u001b[0m\u001b[0;34m.\u001b[0m\u001b[0mdata\u001b[0m \u001b[0;34m=\u001b[0m \u001b[0mfn\u001b[0m\u001b[0;34m(\u001b[0m\u001b[0mparam\u001b[0m\u001b[0;34m.\u001b[0m\u001b[0m_grad\u001b[0m\u001b[0;34m.\u001b[0m\u001b[0mdata\u001b[0m\u001b[0;34m)\u001b[0m\u001b[0;34m\u001b[0m\u001b[0m\n",
      "\u001b[0;32m/usr/local/lib/python3.6/site-packages/torch/nn/modules/module.py\u001b[0m in \u001b[0;36m<lambda>\u001b[0;34m(t)\u001b[0m\n\u001b[1;32m    904\u001b[0m \u001b[0;34m\u001b[0m\u001b[0m\n\u001b[1;32m    905\u001b[0m     \u001b[0;32mdef\u001b[0m \u001b[0mshare_memory\u001b[0m\u001b[0;34m(\u001b[0m\u001b[0mself\u001b[0m\u001b[0;34m)\u001b[0m\u001b[0;34m:\u001b[0m\u001b[0;34m\u001b[0m\u001b[0m\n\u001b[0;32m--> 906\u001b[0;31m         \u001b[0;32mreturn\u001b[0m \u001b[0mself\u001b[0m\u001b[0;34m.\u001b[0m\u001b[0m_apply\u001b[0m\u001b[0;34m(\u001b[0m\u001b[0;32mlambda\u001b[0m \u001b[0mt\u001b[0m\u001b[0;34m:\u001b[0m \u001b[0mt\u001b[0m\u001b[0;34m.\u001b[0m\u001b[0mshare_memory_\u001b[0m\u001b[0;34m(\u001b[0m\u001b[0;34m)\u001b[0m\u001b[0;34m)\u001b[0m\u001b[0;34m\u001b[0m\u001b[0m\n\u001b[0m\u001b[1;32m    907\u001b[0m \u001b[0;34m\u001b[0m\u001b[0m\n\u001b[1;32m    908\u001b[0m     \u001b[0;32mdef\u001b[0m \u001b[0m_get_name\u001b[0m\u001b[0;34m(\u001b[0m\u001b[0mself\u001b[0m\u001b[0;34m)\u001b[0m\u001b[0;34m:\u001b[0m\u001b[0;34m\u001b[0m\u001b[0m\n",
      "\u001b[0;32m/usr/local/lib/python3.6/site-packages/torch/tensor.py\u001b[0m in \u001b[0;36mshare_memory_\u001b[0;34m(self)\u001b[0m\n\u001b[1;32m    215\u001b[0m         \u001b[0;32mand\u001b[0m \u001b[0;32mfor\u001b[0m \u001b[0mCUDA\u001b[0m \u001b[0mtensors\u001b[0m\u001b[0;34m.\u001b[0m \u001b[0mTensors\u001b[0m \u001b[0;32min\u001b[0m \u001b[0mshared\u001b[0m \u001b[0mmemory\u001b[0m \u001b[0mcannot\u001b[0m \u001b[0mbe\u001b[0m \u001b[0mresized\u001b[0m\u001b[0;34m.\u001b[0m\u001b[0;34m\u001b[0m\u001b[0m\n\u001b[1;32m    216\u001b[0m         \"\"\"\n\u001b[0;32m--> 217\u001b[0;31m         \u001b[0mself\u001b[0m\u001b[0;34m.\u001b[0m\u001b[0mstorage\u001b[0m\u001b[0;34m(\u001b[0m\u001b[0;34m)\u001b[0m\u001b[0;34m.\u001b[0m\u001b[0mshare_memory_\u001b[0m\u001b[0;34m(\u001b[0m\u001b[0;34m)\u001b[0m\u001b[0;34m\u001b[0m\u001b[0m\n\u001b[0m\u001b[1;32m    218\u001b[0m         \u001b[0;32mreturn\u001b[0m \u001b[0mself\u001b[0m\u001b[0;34m\u001b[0m\u001b[0m\n\u001b[1;32m    219\u001b[0m \u001b[0;34m\u001b[0m\u001b[0m\n",
      "\u001b[0;32m/usr/local/lib/python3.6/site-packages/torch/storage.py\u001b[0m in \u001b[0;36mshare_memory_\u001b[0;34m(self)\u001b[0m\n\u001b[1;32m    102\u001b[0m             \u001b[0mself\u001b[0m\u001b[0;34m.\u001b[0m\u001b[0m_share_filename_\u001b[0m\u001b[0;34m(\u001b[0m\u001b[0;34m)\u001b[0m\u001b[0;34m\u001b[0m\u001b[0m\n\u001b[1;32m    103\u001b[0m         \u001b[0;32melse\u001b[0m\u001b[0;34m:\u001b[0m\u001b[0;34m\u001b[0m\u001b[0m\n\u001b[0;32m--> 104\u001b[0;31m             \u001b[0mself\u001b[0m\u001b[0;34m.\u001b[0m\u001b[0m_share_fd_\u001b[0m\u001b[0;34m(\u001b[0m\u001b[0;34m)\u001b[0m\u001b[0;34m\u001b[0m\u001b[0m\n\u001b[0m\u001b[1;32m    105\u001b[0m         \u001b[0;32mreturn\u001b[0m \u001b[0mself\u001b[0m\u001b[0;34m\u001b[0m\u001b[0m\n\u001b[1;32m    106\u001b[0m \u001b[0;34m\u001b[0m\u001b[0m\n",
      "\u001b[0;31mRuntimeError\u001b[0m: unable to open shared memory object </torch_14093_1522883633> in read-write mode at /pytorch/aten/src/TH/THAllocator.c:342"
     ]
    }
   ],
   "source": [
    "data_of_phase = {\n",
    "    \"train\": to_torch(train_boundary_vectors_scale_1),\n",
    "    \"validation\": to_torch(val_boundary_vectors_scale_1)\n",
    "}\n",
    "\n",
    "n_data_of_phase = {}\n",
    "for phase, data in data_of_phase.items():\n",
    "    n_data_of_phase[phase] = data.size(1) - opt.truncate\n",
    "\n",
    "liveloss = PlotLosses()\n",
    "\n",
    "mp.set_start_method('spawn')\n",
    "net = GRNN(opt)\n",
    "#net.double();\n",
    "net.share_memory()\n",
    "processes = []"
   ]
  },
  {
   "cell_type": "code",
   "execution_count": 45,
   "metadata": {
    "colab": {},
    "colab_type": "code",
    "id": "NF__coTPmejI"
   },
   "outputs": [],
   "source": [
    "def train(net, A, opt, data_of_phase, n_data_of_phase):\n",
    "    criterion = nn.MSELoss()\n",
    "    optimizer = optim.Adam(net.parameters(), lr=opt.lr)\n",
    "    hState = torch.randn(opt.batchSize, opt.dimHidden, opt.nNode).double()\n",
    "    for i in range(opt.nIter):\n",
    "        logs = {}\n",
    "        for phase in ['train', 'validation']:\n",
    "            if phase == 'train':\n",
    "                net.train()\n",
    "            else:\n",
    "                net.eval()\n",
    "\n",
    "            running_loss = 0.0\n",
    "            n_data = n_data_of_phase[phase]\n",
    "            data = data_of_phase[phase]\n",
    "            for t in range(n_data):\n",
    "                x = data[:, t:(t + opt.truncate), :, :]\n",
    "                y = data[:, (t + 1):(t + opt.truncate + 1), :, :]\n",
    "                prediction = 0\n",
    "\n",
    "                prediction, hNew = net(x, hState, A)\n",
    "                hState = hState.data\n",
    "\n",
    "                loss = criterion(prediction, y)\n",
    "                optimizer.zero_grad()\n",
    "                timStamp = datetime.datetime.now()\n",
    "                loss.backward()\n",
    "\n",
    "                current_loss = loss.item()\n",
    "                running_loss += current_loss\n",
    "                if phase == 'train' and t % 30 == 0:\n",
    "                    print(current_loss)\n",
    "                optimizer.step()\n",
    "\n",
    "            '''\n",
    "            running_loss /= n_data\n",
    "            print('Epoch %d, mean loss = %.3f' % (i + 1, running_loss))\n",
    "            prefix = ''\n",
    "            if phase == 'validation':\n",
    "                prefix = 'val_'\n",
    "\n",
    "            logs[prefix + 'log loss'] = running_loss\n",
    "            liveloss.update(logs)\n",
    "            liveloss.draw()\n",
    "            '''"
   ]
  },
  {
   "cell_type": "code",
   "execution_count": 47,
   "metadata": {},
   "outputs": [
    {
     "ename": "NameError",
     "evalue": "name 'data_of_phase' is not defined",
     "output_type": "error",
     "traceback": [
      "\u001b[0;31m---------------------------------------------------------------------------\u001b[0m",
      "\u001b[0;31mNameError\u001b[0m                                 Traceback (most recent call last)",
      "\u001b[0;32m<ipython-input-47-eb8759264d9b>\u001b[0m in \u001b[0;36m<module>\u001b[0;34m()\u001b[0m\n\u001b[1;32m      1\u001b[0m \u001b[0;32mfor\u001b[0m \u001b[0mrank\u001b[0m \u001b[0;32min\u001b[0m \u001b[0mrange\u001b[0m\u001b[0;34m(\u001b[0m\u001b[0mnum_processes\u001b[0m\u001b[0;34m)\u001b[0m\u001b[0;34m:\u001b[0m\u001b[0;34m\u001b[0m\u001b[0m\n\u001b[0;32m----> 2\u001b[0;31m     \u001b[0mp\u001b[0m \u001b[0;34m=\u001b[0m \u001b[0mmp\u001b[0m\u001b[0;34m.\u001b[0m\u001b[0mProcess\u001b[0m\u001b[0;34m(\u001b[0m\u001b[0mtarget\u001b[0m\u001b[0;34m=\u001b[0m\u001b[0mtrain\u001b[0m\u001b[0;34m,\u001b[0m \u001b[0margs\u001b[0m\u001b[0;34m=\u001b[0m\u001b[0;34m(\u001b[0m\u001b[0mnet\u001b[0m\u001b[0;34m,\u001b[0m \u001b[0mA\u001b[0m\u001b[0;34m,\u001b[0m \u001b[0mopt\u001b[0m\u001b[0;34m,\u001b[0m \u001b[0mdata_of_phase\u001b[0m\u001b[0;34m,\u001b[0m \u001b[0mn_data_of_phase\u001b[0m\u001b[0;34m)\u001b[0m\u001b[0;34m)\u001b[0m\u001b[0;34m\u001b[0m\u001b[0m\n\u001b[0m\u001b[1;32m      3\u001b[0m     \u001b[0mp\u001b[0m\u001b[0;34m.\u001b[0m\u001b[0mstart\u001b[0m\u001b[0;34m(\u001b[0m\u001b[0;34m)\u001b[0m\u001b[0;34m\u001b[0m\u001b[0m\n\u001b[1;32m      4\u001b[0m     \u001b[0mprocesses\u001b[0m\u001b[0;34m.\u001b[0m\u001b[0mappend\u001b[0m\u001b[0;34m(\u001b[0m\u001b[0mp\u001b[0m\u001b[0;34m)\u001b[0m\u001b[0;34m\u001b[0m\u001b[0m\n\u001b[1;32m      5\u001b[0m \u001b[0;34m\u001b[0m\u001b[0m\n",
      "\u001b[0;31mNameError\u001b[0m: name 'data_of_phase' is not defined"
     ]
    }
   ],
   "source": [
    "for rank in range(num_processes):\n",
    "    p = mp.Process(target=train, args=(net, A, opt, data_of_phase, n_data_of_phase))\n",
    "    p.start()\n",
    "    processes.append(p)\n",
    "\n",
    "for p in processes:\n",
    "    p.join()"
   ]
  },
  {
   "cell_type": "code",
   "execution_count": null,
   "metadata": {},
   "outputs": [],
   "source": []
  }
 ],
 "metadata": {
  "accelerator": "GPU",
  "colab": {
   "name": "Test_GRNN.ipynb",
   "provenance": [],
   "version": "0.3.2"
  },
  "kernelspec": {
   "display_name": "Python 3",
   "language": "python",
   "name": "python3"
  },
  "language_info": {
   "codemirror_mode": {
    "name": "ipython",
    "version": 3
   },
   "file_extension": ".py",
   "mimetype": "text/x-python",
   "name": "python",
   "nbconvert_exporter": "python",
   "pygments_lexer": "ipython3",
   "version": "3.6.5"
  }
 },
 "nbformat": 4,
 "nbformat_minor": 1
}
