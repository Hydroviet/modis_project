{
 "cells": [
  {
   "cell_type": "code",
   "execution_count": 1,
   "metadata": {},
   "outputs": [
    {
     "name": "stderr",
     "output_type": "stream",
     "text": [
      "/usr/local/lib/python3.6/site-packages/h5py/__init__.py:36: FutureWarning: Conversion of the second argument of issubdtype from `float` to `np.floating` is deprecated. In future, it will be treated as `np.float64 == np.dtype(float).type`.\n",
      "  from ._conv import register_converters as _register_converters\n"
     ]
    }
   ],
   "source": [
    "import os\n",
    "import h5py\n",
    "import numpy as np\n",
    "import rasterio as rio\n",
    "import matplotlib.pyplot as plt\n",
    "from skimage.segmentation import find_boundaries\n",
    "from matplotlib.collections import PatchCollection\n",
    "from descartes import PolygonPatch\n",
    "from shapely.geometry import shape, LineString\n",
    "from scipy.ndimage import measurements\n",
    "\n",
    "from modis_utils.misc import restore_data, cache_data"
   ]
  },
  {
   "cell_type": "code",
   "execution_count": 2,
   "metadata": {},
   "outputs": [],
   "source": [
    "data = restore_data('cache/boundary_vectors_ALL.h5')"
   ]
  },
  {
   "cell_type": "code",
   "execution_count": 3,
   "metadata": {},
   "outputs": [
    {
     "data": {
      "text/plain": [
       "(438, 1024, 2)"
      ]
     },
     "execution_count": 3,
     "metadata": {},
     "output_type": "execute_result"
    }
   ],
   "source": [
    "data[0].shape"
   ]
  },
  {
   "cell_type": "code",
   "execution_count": 4,
   "metadata": {},
   "outputs": [
    {
     "data": {
      "text/plain": [
       "(138, 1024, 2)"
      ]
     },
     "execution_count": 4,
     "metadata": {},
     "output_type": "execute_result"
    }
   ],
   "source": [
    "data[1].shape"
   ]
  },
  {
   "cell_type": "code",
   "execution_count": 5,
   "metadata": {},
   "outputs": [
    {
     "data": {
      "text/plain": [
       "(138, 1024, 2)"
      ]
     },
     "execution_count": 5,
     "metadata": {},
     "output_type": "execute_result"
    }
   ],
   "source": [
    "data[2].shape"
   ]
  },
  {
   "cell_type": "code",
   "execution_count": 6,
   "metadata": {},
   "outputs": [],
   "source": [
    "def reduce_size(data):\n",
    "    n = data.shape[1]\n",
    "    res = np.zeros((data.shape[0], data.shape[1]))\n",
    "    stable_coordinates = []\n",
    "    for i in range(n):\n",
    "        x = data[:, i, :]\n",
    "        unique0, counts0 = np.unique(x[:, :1], return_counts=True)\n",
    "        unique1, counts1 = np.unique(x[:, 1:], return_counts=True)\n",
    "        if len(unique0) <= len(unique1):\n",
    "            stable_coordinates.append((0, unique0[np.argmax(counts0)]))\n",
    "            res[:, i] = x[:, 1]\n",
    "        else:\n",
    "            stable_coordinates.append((0, unique1[np.argmax(counts1)]))\n",
    "            res[:, i] = x[:, 0]\n",
    "        \n",
    "    return res, stable_coordinates"
   ]
  },
  {
   "cell_type": "code",
   "execution_count": 7,
   "metadata": {},
   "outputs": [],
   "source": [
    "train_data, stable_coordinates = reduce_size(data[0])"
   ]
  },
  {
   "cell_type": "code",
   "execution_count": 8,
   "metadata": {},
   "outputs": [
    {
     "data": {
      "text/plain": [
       "array([361., 371., 374., 489., 495., 499., 502., 505., 512.])"
      ]
     },
     "execution_count": 8,
     "metadata": {},
     "output_type": "execute_result"
    }
   ],
   "source": [
    "np.unique(data[0][:, 99, 1])"
   ]
  },
  {
   "cell_type": "code",
   "execution_count": 9,
   "metadata": {},
   "outputs": [
    {
     "data": {
      "text/plain": [
       "array([361., 371., 374., 489., 495., 499., 502., 505., 512.])"
      ]
     },
     "execution_count": 9,
     "metadata": {},
     "output_type": "execute_result"
    }
   ],
   "source": [
    "np.unique(train_data[:, 99])"
   ]
  },
  {
   "cell_type": "code",
   "execution_count": 10,
   "metadata": {},
   "outputs": [],
   "source": [
    "x = data[0][0]"
   ]
  },
  {
   "cell_type": "code",
   "execution_count": 11,
   "metadata": {},
   "outputs": [
    {
     "data": {
      "text/plain": [
       "(1024, 2)"
      ]
     },
     "execution_count": 11,
     "metadata": {},
     "output_type": "execute_result"
    }
   ],
   "source": [
    "x.shape"
   ]
  },
  {
   "cell_type": "code",
   "execution_count": 12,
   "metadata": {},
   "outputs": [
    {
     "data": {
      "text/plain": [
       "<matplotlib.collections.PathCollection at 0x7f94c263f1d0>"
      ]
     },
     "execution_count": 12,
     "metadata": {},
     "output_type": "execute_result"
    },
    {
     "data": {
      "image/png": "[encoded data removed]",
      "text/plain": [
       "<Figure size 432x288 with 1 Axes>"
      ]
     },
     "metadata": {},
     "output_type": "display_data"
    }
   ],
   "source": [
    "plt.scatter(x[:,0], x[:,1])"
   ]
  },
  {
   "cell_type": "code",
   "execution_count": 7,
   "metadata": {},
   "outputs": [],
   "source": [
    "train_years = list(range(2002,2012))\n",
    "val_years = list(range(2012,2015))\n",
    "test_years = list(range(2015,2018))\n",
    "\n",
    "data_dir = '../groundtruth_mask_lake/ALL/0'\n",
    "modis_product = 'ALL'\n",
    "day_period = 8 if modis_product == 'ALL' else 16"
   ]
  },
  {
   "cell_type": "code",
   "execution_count": 8,
   "metadata": {},
   "outputs": [],
   "source": [
    "train_list_filenames = [os.path.join(data_dir, str(year), '{}{:03}'.format(year, day), 'masked.dat')\n",
    "                        for year in train_years for day in range(1,366, day_period)]\n",
    "train_list_filenames = list(filter(lambda x: os.path.isfile(x), train_list_filenames))\n",
    "\n",
    "val_list_filenames = [os.path.join(data_dir, str(year), '{}{:03}'.format(year, day), 'masked.dat')\n",
    "                      for year in val_years for day in range(1,366, day_period)]\n",
    "\n",
    "test_list_filenames = [os.path.join(data_dir, str(year), '{}{:03}'.format(year, day), 'masked.dat')\n",
    "                       for year in test_years for day in range(1,366, day_period)]"
   ]
  },
  {
   "cell_type": "code",
   "execution_count": 9,
   "metadata": {},
   "outputs": [],
   "source": [
    "def find_boundaries_1(img):\n",
    "    img1 = np.zeros((img.shape[0] + 2, img.shape[1] + 2))\n",
    "    img1[1:-1, 1:-1] = img\n",
    "    boundary = find_boundaries(img1)\n",
    "    return boundary[1:-1, 1:-1]\n",
    "\n",
    "def find_largest_connected_element(lake_boundary):\n",
    "    visited, label = measurements.label(lake_boundary)\n",
    "    area = measurements.sum(lake_boundary, visited,\n",
    "                            index = np.arange(label + 1))\n",
    "    largest_element = np.argmax(area)\n",
    "    return np.where(visited==largest_element, 1, 0)"
   ]
  },
  {
   "cell_type": "code",
   "execution_count": 10,
   "metadata": {},
   "outputs": [],
   "source": [
    "percentile = restore_data('percentile_0.dat')\n",
    "permanent_water_pixels = np.where(percentile > 0.9, 1, 0)"
   ]
  },
  {
   "cell_type": "code",
   "execution_count": 11,
   "metadata": {},
   "outputs": [],
   "source": [
    "class FindBoundary:\n",
    "    def __init__(self, list_filenames):\n",
    "        self.list_filenames = list_filenames\n",
    "        img = restore_data(self.list_filenames[0])\n",
    "        self.len = len(list_filenames)\n",
    "        self.boundary = [None]*self.len\n",
    "    \n",
    "    \n",
    "    def __len__(self):\n",
    "        return self.len\n",
    "    \n",
    "    \n",
    "    def __getitem__(self, idx):\n",
    "        if self.boundary[idx] is not None:\n",
    "            return self.boundary[idx]\n",
    "        \n",
    "        boundary = self.find_boundary(idx)\n",
    "        self.boundary[idx] = boundary\n",
    "        return boundary\n",
    "    \n",
    "    \n",
    "    def find_boundary(self, idx):\n",
    "        img = restore_data(self.list_filenames[idx])\n",
    "        try:\n",
    "            img = np.bitwise_or(img, permanent_water_pixels)\n",
    "        except:\n",
    "            print(self.list_filenames[idx])\n",
    "            exit()\n",
    "        boundary = find_boundaries_1(img)\n",
    "        boundary = find_largest_connected_element(boundary)\n",
    "        boundary = np.where(boundary)\n",
    "        list_coordinates = []\n",
    "        for x, y in zip(*boundary):\n",
    "            list_coordinates.append([x, y])\n",
    "        return np.asarray(list_coordinates)\n",
    "    \n",
    "    def get_boundaries(self):\n",
    "        for i in range(len(self.boundary)):\n",
    "            if self.boundary[i] is None:\n",
    "                self.boundary[i] = self.__getitem__(i)\n",
    "        return np.asarray(self.boundary)"
   ]
  },
  {
   "cell_type": "code",
   "execution_count": 28,
   "metadata": {},
   "outputs": [],
   "source": [
    "find_boundaries_train = FindBoundary(train_list_filenames)"
   ]
  },
  {
   "cell_type": "code",
   "execution_count": 29,
   "metadata": {},
   "outputs": [],
   "source": [
    "boundaries_train = find_boundaries_train.get_boundaries()"
   ]
  },
  {
   "cell_type": "code",
   "execution_count": 30,
   "metadata": {},
   "outputs": [
    {
     "data": {
      "text/plain": [
       "(438,)"
      ]
     },
     "execution_count": 30,
     "metadata": {},
     "output_type": "execute_result"
    }
   ],
   "source": [
    "boundaries_train.shape"
   ]
  },
  {
   "cell_type": "code",
   "execution_count": 31,
   "metadata": {},
   "outputs": [
    {
     "name": "stdout",
     "output_type": "stream",
     "text": [
      "(3257, 2)\n",
      "(3423, 2)\n",
      "(3565, 2)\n",
      "(3652, 2)\n",
      "(4585, 2)\n",
      "(6541, 2)\n",
      "(5410, 2)\n",
      "(5129, 2)\n",
      "(10405, 2)\n",
      "(9671, 2)\n",
      "(8743, 2)\n",
      "(8752, 2)\n",
      "(7231, 2)\n",
      "(7865, 2)\n",
      "(5157, 2)\n",
      "(8133, 2)\n",
      "(7826, 2)\n",
      "(6491, 2)\n",
      "(5965, 2)\n",
      "(5765, 2)\n",
      "(3727, 2)\n",
      "(3551, 2)\n",
      "(3619, 2)\n",
      "(3403, 2)\n",
      "(3577, 2)\n",
      "(3612, 2)\n",
      "(3232, 2)\n",
      "(3087, 2)\n",
      "(3241, 2)\n",
      "(3186, 2)\n",
      "(3154, 2)\n",
      "(3161, 2)\n",
      "(3147, 2)\n",
      "(2995, 2)\n",
      "(3119, 2)\n",
      "(3033, 2)\n",
      "(3200, 2)\n",
      "(2894, 2)\n",
      "(2893, 2)\n",
      "(3003, 2)\n",
      "(2948, 2)\n",
      "(2928, 2)\n",
      "(3117, 2)\n",
      "(2931, 2)\n",
      "(2979, 2)\n",
      "(2998, 2)\n",
      "(3005, 2)\n",
      "(3023, 2)\n",
      "(2975, 2)\n",
      "(3156, 2)\n",
      "(3488, 2)\n",
      "(3290, 2)\n",
      "(4168, 2)\n",
      "(4623, 2)\n",
      "(4122, 2)\n",
      "(4739, 2)\n",
      "(4737, 2)\n",
      "(5208, 2)\n",
      "(4437, 2)\n",
      "(4857, 2)\n",
      "(3871, 2)\n",
      "(4600, 2)\n",
      "(3998, 2)\n",
      "(3654, 2)\n",
      "(3952, 2)\n",
      "(3439, 2)\n",
      "(3418, 2)\n",
      "(3310, 2)\n",
      "(3176, 2)\n",
      "(3126, 2)\n",
      "(3117, 2)\n",
      "(3123, 2)\n",
      "(3335, 2)\n",
      "(3162, 2)\n",
      "(3226, 2)\n",
      "(3273, 2)\n",
      "(3090, 2)\n",
      "(3056, 2)\n",
      "(2964, 2)\n",
      "(2925, 2)\n",
      "(2964, 2)\n",
      "(2923, 2)\n",
      "(2906, 2)\n",
      "(2944, 2)\n",
      "(2851, 2)\n",
      "(2771, 2)\n",
      "(2857, 2)\n",
      "(2752, 2)\n",
      "(2818, 2)\n",
      "(2811, 2)\n",
      "(3090, 2)\n",
      "(3136, 2)\n",
      "(3070, 2)\n",
      "(3247, 2)\n",
      "(3271, 2)\n",
      "(3340, 2)\n",
      "(3670, 2)\n",
      "(4016, 2)\n",
      "(5847, 2)\n",
      "(5467, 2)\n",
      "(6570, 2)\n",
      "(6003, 2)\n",
      "(7459, 2)\n",
      "(8005, 2)\n",
      "(5839, 2)\n",
      "(7086, 2)\n",
      "(6598, 2)\n",
      "(6643, 2)\n",
      "(6382, 2)\n",
      "(4686, 2)\n",
      "(4733, 2)\n",
      "(4511, 2)\n",
      "(3540, 2)\n",
      "(3599, 2)\n",
      "(3811, 2)\n",
      "(3057, 2)\n",
      "(3178, 2)\n",
      "(3116, 2)\n",
      "(3059, 2)\n",
      "(3243, 2)\n",
      "(3148, 2)\n",
      "(3314, 2)\n",
      "(3055, 2)\n",
      "(3114, 2)\n",
      "(3072, 2)\n",
      "(2912, 2)\n",
      "(3070, 2)\n",
      "(2858, 2)\n",
      "(2919, 2)\n",
      "(2857, 2)\n",
      "(2787, 2)\n",
      "(2794, 2)\n",
      "(2697, 2)\n",
      "(2683, 2)\n",
      "(2664, 2)\n",
      "(2710, 2)\n",
      "(2705, 2)\n",
      "(2724, 2)\n",
      "(2920, 2)\n",
      "(3357, 2)\n",
      "(3036, 2)\n",
      "(3350, 2)\n",
      "(4581, 2)\n",
      "(6742, 2)\n",
      "(6845, 2)\n",
      "(6415, 2)\n",
      "(6063, 2)\n",
      "(6627, 2)\n",
      "(10702, 2)\n",
      "(8513, 2)\n",
      "(7133, 2)\n",
      "(6420, 2)\n",
      "(6578, 2)\n",
      "(7004, 2)\n",
      "(7021, 2)\n",
      "(6133, 2)\n",
      "(6133, 2)\n",
      "(5832, 2)\n",
      "(5572, 2)\n",
      "(5243, 2)\n",
      "(3498, 2)\n",
      "(3469, 2)\n",
      "(3377, 2)\n",
      "(3679, 2)\n",
      "(3154, 2)\n",
      "(3057, 2)\n",
      "(3239, 2)\n",
      "(3206, 2)\n",
      "(3092, 2)\n",
      "(3006, 2)\n",
      "(3177, 2)\n",
      "(3186, 2)\n",
      "(2994, 2)\n",
      "(2891, 2)\n",
      "(2951, 2)\n",
      "(2865, 2)\n",
      "(2911, 2)\n",
      "(2896, 2)\n",
      "(3016, 2)\n",
      "(2905, 2)\n",
      "(3007, 2)\n",
      "(2908, 2)\n",
      "(2932, 2)\n",
      "(3092, 2)\n",
      "(2971, 2)\n",
      "(2939, 2)\n",
      "(3273, 2)\n",
      "(3582, 2)\n",
      "(4320, 2)\n",
      "(4612, 2)\n",
      "(5820, 2)\n",
      "(5072, 2)\n",
      "(4670, 2)\n",
      "(5662, 2)\n",
      "(5753, 2)\n",
      "(7068, 2)\n",
      "(6645, 2)\n",
      "(4429, 2)\n",
      "(3771, 2)\n",
      "(7316, 2)\n",
      "(6927, 2)\n",
      "(6211, 2)\n",
      "(4790, 2)\n",
      "(4154, 2)\n",
      "(4685, 2)\n",
      "(3802, 2)\n",
      "(4202, 2)\n",
      "(3297, 2)\n",
      "(3379, 2)\n",
      "(3260, 2)\n",
      "(3054, 2)\n",
      "(3026, 2)\n",
      "(3358, 2)\n",
      "(3284, 2)\n",
      "(3439, 2)\n",
      "(2956, 2)\n",
      "(3098, 2)\n",
      "(2980, 2)\n",
      "(3331, 2)\n",
      "(2993, 2)\n",
      "(2866, 2)\n",
      "(2885, 2)\n",
      "(2916, 2)\n",
      "(2947, 2)\n",
      "(3033, 2)\n",
      "(2905, 2)\n",
      "(2982, 2)\n",
      "(2895, 2)\n",
      "(3045, 2)\n",
      "(2877, 2)\n",
      "(3261, 2)\n",
      "(3312, 2)\n",
      "(3272, 2)\n",
      "(3112, 2)\n",
      "(2950, 2)\n",
      "(3822, 2)\n",
      "(4553, 2)\n",
      "(4737, 2)\n",
      "(4983, 2)\n",
      "(5492, 2)\n",
      "(4968, 2)\n",
      "(5603, 2)\n",
      "(6158, 2)\n",
      "(7259, 2)\n",
      "(7712, 2)\n",
      "(4985, 2)\n",
      "(4177, 2)\n",
      "(4478, 2)\n",
      "(4540, 2)\n",
      "(4329, 2)\n",
      "(3456, 2)\n",
      "(3372, 2)\n",
      "(3324, 2)\n",
      "(3372, 2)\n",
      "(3589, 2)\n",
      "(3110, 2)\n",
      "(3140, 2)\n",
      "(3115, 2)\n",
      "(3234, 2)\n",
      "(3136, 2)\n",
      "(3240, 2)\n",
      "(3182, 2)\n",
      "(3266, 2)\n",
      "(3031, 2)\n",
      "(3019, 2)\n",
      "(2967, 2)\n",
      "(2884, 2)\n",
      "(2827, 2)\n",
      "(2880, 2)\n",
      "(2916, 2)\n",
      "(2983, 2)\n",
      "(3047, 2)\n",
      "(2997, 2)\n",
      "(2873, 2)\n",
      "(3288, 2)\n",
      "(3316, 2)\n",
      "(3082, 2)\n",
      "(2965, 2)\n",
      "(3093, 2)\n",
      "(3223, 2)\n",
      "(3713, 2)\n",
      "(3438, 2)\n",
      "(3554, 2)\n",
      "(4128, 2)\n",
      "(4481, 2)\n",
      "(5052, 2)\n",
      "(4329, 2)\n",
      "(3868, 2)\n",
      "(3911, 2)\n",
      "(3679, 2)\n",
      "(4083, 2)\n",
      "(3638, 2)\n",
      "(4023, 2)\n",
      "(4015, 2)\n",
      "(3751, 2)\n",
      "(3976, 2)\n",
      "(3545, 2)\n",
      "(3399, 2)\n",
      "(3524, 2)\n",
      "(3265, 2)\n",
      "(3432, 2)\n",
      "(3578, 2)\n",
      "(3127, 2)\n",
      "(3038, 2)\n",
      "(3184, 2)\n",
      "(3204, 2)\n",
      "(3317, 2)\n",
      "(3176, 2)\n",
      "(3151, 2)\n",
      "(3100, 2)\n",
      "(3196, 2)\n",
      "(3143, 2)\n",
      "(3012, 2)\n",
      "(2926, 2)\n",
      "(2948, 2)\n",
      "(2947, 2)\n",
      "(3036, 2)\n",
      "(2959, 2)\n",
      "(2940, 2)\n",
      "(2871, 2)\n",
      "(3055, 2)\n",
      "(3100, 2)\n",
      "(3259, 2)\n",
      "(3122, 2)\n",
      "(3602, 2)\n",
      "(3579, 2)\n",
      "(3965, 2)\n",
      "(5594, 2)\n",
      "(4899, 2)\n",
      "(4741, 2)\n",
      "(3903, 2)\n",
      "(4525, 2)\n",
      "(4226, 2)\n",
      "(3933, 2)\n",
      "(4446, 2)\n",
      "(5572, 2)\n",
      "(4073, 2)\n",
      "(3833, 2)\n",
      "(5590, 2)\n",
      "(4348, 2)\n",
      "(3743, 2)\n",
      "(3811, 2)\n",
      "(3361, 2)\n",
      "(3222, 2)\n",
      "(3329, 2)\n",
      "(3320, 2)\n",
      "(3437, 2)\n",
      "(3217, 2)\n",
      "(3048, 2)\n",
      "(3335, 2)\n",
      "(3237, 2)\n",
      "(3377, 2)\n",
      "(3152, 2)\n",
      "(3175, 2)\n",
      "(3005, 2)\n",
      "(3085, 2)\n",
      "(2956, 2)\n",
      "(2855, 2)\n",
      "(2964, 2)\n",
      "(2869, 2)\n",
      "(2907, 2)\n",
      "(2873, 2)\n",
      "(2887, 2)\n",
      "(2728, 2)\n",
      "(2742, 2)\n",
      "(2676, 2)\n",
      "(2770, 2)\n",
      "(2827, 2)\n",
      "(2863, 2)\n",
      "(2780, 2)\n",
      "(2793, 2)\n",
      "(2891, 2)\n",
      "(3270, 2)\n",
      "(3236, 2)\n",
      "(3553, 2)\n",
      "(3639, 2)\n",
      "(3388, 2)\n",
      "(3535, 2)\n",
      "(3878, 2)\n",
      "(4272, 2)\n",
      "(4335, 2)\n",
      "(3920, 2)\n",
      "(3964, 2)\n",
      "(3897, 2)\n",
      "(3955, 2)\n",
      "(3640, 2)\n",
      "(3589, 2)\n",
      "(3542, 2)\n",
      "(3391, 2)\n",
      "(3372, 2)\n",
      "(3139, 2)\n",
      "(2882, 2)\n",
      "(3103, 2)\n",
      "(3115, 2)\n",
      "(3156, 2)\n",
      "(3203, 2)\n",
      "(3225, 2)\n",
      "(3256, 2)\n",
      "(3044, 2)\n",
      "(3024, 2)\n",
      "(2961, 2)\n",
      "(2969, 2)\n",
      "(2830, 2)\n",
      "(2854, 2)\n",
      "(2874, 2)\n",
      "(2804, 2)\n",
      "(2800, 2)\n",
      "(2781, 2)\n",
      "(2767, 2)\n",
      "(2807, 2)\n",
      "(2847, 2)\n",
      "(2959, 2)\n",
      "(2830, 2)\n",
      "(3005, 2)\n",
      "(3423, 2)\n",
      "(3095, 2)\n",
      "(3727, 2)\n",
      "(3577, 2)\n",
      "(3826, 2)\n",
      "(4158, 2)\n",
      "(4619, 2)\n",
      "(4024, 2)\n",
      "(7905, 2)\n",
      "(5462, 2)\n",
      "(7665, 2)\n",
      "(12341, 2)\n",
      "(15659, 2)\n",
      "(12301, 2)\n",
      "(7788, 2)\n",
      "(7945, 2)\n",
      "(7492, 2)\n",
      "(7317, 2)\n",
      "(7002, 2)\n",
      "(6931, 2)\n",
      "(6585, 2)\n",
      "(4430, 2)\n",
      "(4172, 2)\n",
      "(3333, 2)\n"
     ]
    }
   ],
   "source": [
    "for boundary in boundaries_train:\n",
    "    print(boundary.shape)"
   ]
  },
  {
   "cell_type": "code",
   "execution_count": 32,
   "metadata": {},
   "outputs": [],
   "source": [
    "class FindBoundary1:\n",
    "    def __init__(self, list_filenames):\n",
    "        self.list_filenames = list_filenames\n",
    "        img = restore_data(self.list_filenames[0])\n",
    "        self.len = len(list_filenames)\n",
    "        self.boundary = [None]*self.len\n",
    "    \n",
    "    \n",
    "    def __len__(self):\n",
    "        return self.len\n",
    "    \n",
    "    \n",
    "    def __getitem__(self, idx):\n",
    "        if self.boundary[idx] is not None:\n",
    "            return self.boundary[idx]\n",
    "        \n",
    "        boundary = self.find_boundary(idx)\n",
    "        self.boundary[idx] = boundary\n",
    "        return boundary\n",
    "    \n",
    "    \n",
    "    def find_boundary(self, idx):\n",
    "        img = restore_data(self.list_filenames[idx])\n",
    "        try:\n",
    "            img = np.bitwise_or(img, permanent_water_pixels)\n",
    "        except:\n",
    "            print(self.list_filenames[idx])\n",
    "            exit()\n",
    "        boundary = find_boundaries_1(img)\n",
    "        boundary = find_largest_connected_element(boundary)\n",
    "        return boundary\n",
    "    \n",
    "    def get_boundaries(self):\n",
    "        for i in range(len(self.boundary)):\n",
    "            if self.boundary[i] is None:\n",
    "                self.boundary[i] = self.__getitem__(i)\n",
    "        return np.asarray(self.boundary)"
   ]
  },
  {
   "cell_type": "code",
   "execution_count": 33,
   "metadata": {},
   "outputs": [],
   "source": [
    "find_boundaries_1_train = FindBoundary1(train_list_filenames)\n",
    "find_boundaries_1_val = FindBoundary1(val_list_filenames)\n",
    "find_boundaries_1_test = FindBoundary1(test_list_filenames)"
   ]
  },
  {
   "cell_type": "code",
   "execution_count": 38,
   "metadata": {},
   "outputs": [],
   "source": [
    "boundaries_matrix_dir = 'boundaries_matrix' \n",
    "if not os.path.exists(boundaries_matrix_dir):\n",
    "    os.makedirs(boundaries_matrix_dir)\n",
    "\n",
    "list_train_boundaries = []\n",
    "for i in range(len(train_list_filenames)):\n",
    "    boundary = find_boundaries_1_train[i]\n",
    "    list_train_boundaries.append(np.expand_dims(boundary, axis=0))\n",
    "list_train_boundaries = np.concatenate(list_train_boundaries)\n",
    "cache_data(list_train_boundaries, os.path.join(boundaries_matrix_dir, 'train.dat'))"
   ]
  },
  {
   "cell_type": "code",
   "execution_count": 39,
   "metadata": {},
   "outputs": [],
   "source": [
    "list_val_boundaries = []\n",
    "for i in range(len(val_list_filenames)):\n",
    "    boundary = find_boundaries_1_val[i]\n",
    "    list_val_boundaries.append(np.expand_dims(boundary, axis=0))\n",
    "list_val_boundaries = np.concatenate(list_val_boundaries)\n",
    "cache_data(list_val_boundaries, os.path.join(boundaries_matrix_dir, 'val.dat'))"
   ]
  },
  {
   "cell_type": "code",
   "execution_count": 43,
   "metadata": {},
   "outputs": [],
   "source": [
    "list_test_boundaries = []\n",
    "for i in range(len(test_list_filenames)):\n",
    "    boundary = find_boundaries_1_test[i]\n",
    "    list_test_boundaries.append(np.expand_dims(boundary, axis=0))\n",
    "list_test_boundaries = np.concatenate(list_test_boundaries)\n",
    "cache_data(list_test_boundaries, os.path.join(boundaries_matrix_dir, 'test.dat'))"
   ]
  },
  {
   "cell_type": "code",
   "execution_count": 12,
   "metadata": {},
   "outputs": [],
   "source": [
    "def convert_boundaries_to_image(boundary, img_width, img_height):\n",
    "    img = np.zeros((img_width, img_height))\n",
    "    for i in range(boundary.shape[0]):\n",
    "        x = boundary[i][0].astype(np.int32)\n",
    "        y = boundary[i][1].astype(np.int32)\n",
    "        img[x, y] = 1\n",
    "    return img"
   ]
  },
  {
   "cell_type": "code",
   "execution_count": null,
   "metadata": {},
   "outputs": [],
   "source": []
  },
  {
   "cell_type": "code",
   "execution_count": 67,
   "metadata": {},
   "outputs": [
    {
     "data": {
      "text/plain": [
       "<matplotlib.image.AxesImage at 0x7f94184884e0>"
      ]
     },
     "execution_count": 67,
     "metadata": {},
     "output_type": "execute_result"
    },
    {
     "data": {
      "image/png": "[encoded data removed]",
      "text/plain": [
       "<Figure size 432x288 with 1 Axes>"
      ]
     },
     "metadata": {},
     "output_type": "display_data"
    }
   ],
   "source": [
    "plt.imshow(list_test_boundaries[0])"
   ]
  },
  {
   "cell_type": "code",
   "execution_count": 53,
   "metadata": {},
   "outputs": [
    {
     "data": {
      "text/plain": [
       "<matplotlib.image.AxesImage at 0x7f949e1a3ef0>"
      ]
     },
     "execution_count": 53,
     "metadata": {},
     "output_type": "execute_result"
    },
    {
     "data": {
      "image/png": "[encoded data removed]",
      "text/plain": [
       "<Figure size 432x288 with 1 Axes>"
      ]
     },
     "metadata": {},
     "output_type": "display_data"
    }
   ],
   "source": [
    "img1 = convert_boundaries_to_image(x, 513, 513)\n",
    "plt.imshow(img1)"
   ]
  },
  {
   "cell_type": "code",
   "execution_count": 63,
   "metadata": {},
   "outputs": [],
   "source": [
    "from keras.models import Model\n",
    "from keras.layers import Input, Add, PReLU, Conv2DTranspose, Concatenate, MaxPooling2D, UpSampling2D, Dropout\n",
    "from keras.layers.convolutional import Conv2D\n",
    "from keras.layers.normalization import BatchNormalization\n",
    "from keras.callbacks import Callback\n",
    "from keras import backend as K\n",
    "import tensorflow as tf\n",
    "\n",
    "\n",
    "class L0Loss:\n",
    "    def __init__(self):\n",
    "        self.gamma = K.variable(2.)\n",
    "\n",
    "    def __call__(self):\n",
    "        def calc_loss(y_true, y_pred):\n",
    "            loss = K.pow(K.abs(y_true - y_pred) + 1e-8, self.gamma)\n",
    "            return loss\n",
    "        return calc_loss\n",
    "\n",
    "\n",
    "class UpdateAnnealingParameter(Callback):\n",
    "    def __init__(self, gamma, nb_epochs, verbose=0):\n",
    "        super(UpdateAnnealingParameter, self).__init__()\n",
    "        self.gamma = gamma\n",
    "        self.nb_epochs = nb_epochs\n",
    "        self.verbose = verbose\n",
    "\n",
    "    def on_epoch_begin(self, epoch, logs=None):\n",
    "        new_gamma = 2.0 * (self.nb_epochs - epoch) / self.nb_epochs\n",
    "        K.set_value(self.gamma, new_gamma)\n",
    "\n",
    "        if self.verbose > 0:\n",
    "            print('\\nEpoch %05d: UpdateAnnealingParameter reducing gamma to %s.' % (epoch + 1, new_gamma))\n",
    "\n",
    "\n",
    "def tf_log10(x):\n",
    "    numerator = tf.log(x)\n",
    "    denominator = tf.log(tf.constant(10, dtype=numerator.dtype))\n",
    "    return numerator / denominator\n",
    "\n",
    "\n",
    "def PSNR(y_true, y_pred):\n",
    "    max_pixel = 255.0\n",
    "    y_pred = K.clip(y_pred, 0.0, 255.0)\n",
    "    return 10.0 * tf_log10((max_pixel ** 2) / (K.mean(K.square(y_pred - y_true))))\n",
    "\n",
    "\n",
    "def get_model(input_shape, model_name=\"srresnet\"):\n",
    "    if model_name == \"srresnet\":\n",
    "        return get_srresnet_model(input_shape)\n",
    "    elif model_name == \"unet\":\n",
    "        return get_unet_model(input_shape)\n",
    "    else:\n",
    "        raise ValueError(\"model_name should be 'srresnet'or 'unet'\")\n",
    "\n",
    "\n",
    "# SRResNet\n",
    "def get_srresnet_model(input_shape, input_channel_num=1, feature_dim=64, resunit_num=16):\n",
    "    def _residual_block(inputs):\n",
    "        x = Conv2D(feature_dim, (3, 3), padding=\"same\", kernel_initializer=\"he_normal\")(inputs)\n",
    "        x = BatchNormalization()(x)\n",
    "        x = PReLU(shared_axes=[1, 2])(x)\n",
    "        x = Conv2D(feature_dim, (3, 3), padding=\"same\", kernel_initializer=\"he_normal\")(x)\n",
    "        x = BatchNormalization()(x)\n",
    "        m = Add()([x, inputs])\n",
    "\n",
    "        return m\n",
    "\n",
    "    inputs = Input(shape=(input_shape[0], input_shape[1], input_channel_num))\n",
    "    x = Conv2D(feature_dim, (3, 3), padding=\"same\", kernel_initializer=\"he_normal\")(inputs)\n",
    "    x = PReLU(shared_axes=[1, 2])(x)\n",
    "    x0 = x\n",
    "\n",
    "    for i in range(resunit_num):\n",
    "        x = _residual_block(x)\n",
    "\n",
    "    x = Conv2D(feature_dim, (3, 3), padding=\"same\", kernel_initializer=\"he_normal\")(x)\n",
    "    x = BatchNormalization()(x)\n",
    "    x = Add()([x, x0])\n",
    "    x = Conv2D(input_channel_num, (3, 3), padding=\"same\", kernel_initializer=\"he_normal\")(x)\n",
    "    model = Model(inputs=inputs, outputs=x)\n",
    "\n",
    "    return model\n",
    "\n",
    "\n",
    "# UNet: code from https://github.com/pietz/unet-keras\n",
    "def get_unet_model(input_shape, input_channel_num=1, out_ch=1, start_ch=64, depth=4, inc_rate=2., activation='relu',\n",
    "         dropout=0.5, batchnorm=False, maxpool=True, upconv=True, residual=False):\n",
    "    def _conv_block(m, dim, acti, bn, res, do=0):\n",
    "        n = Conv2D(dim, 3, activation=acti, padding='same')(m)\n",
    "        n = BatchNormalization()(n) if bn else n\n",
    "        n = Dropout(do)(n) if do else n\n",
    "        n = Conv2D(dim, 3, activation=acti, padding='same')(n)\n",
    "        n = BatchNormalization()(n) if bn else n\n",
    "\n",
    "        return Concatenate()([m, n]) if res else n\n",
    "\n",
    "    def _level_block(m, dim, depth, inc, acti, do, bn, mp, up, res):\n",
    "        if depth > 0:\n",
    "            n = _conv_block(m, dim, acti, bn, res)\n",
    "            m = MaxPooling2D()(n) if mp else Conv2D(dim, 3, strides=2, padding='same')(n)\n",
    "            m = _level_block(m, int(inc * dim), depth - 1, inc, acti, do, bn, mp, up, res)\n",
    "            if up:\n",
    "                m = UpSampling2D()(m)\n",
    "                m = Conv2D(dim, 2, activation=acti, padding='same')(m)\n",
    "            else:\n",
    "                m = Conv2DTranspose(dim, 3, strides=2, activation=acti, padding='same')(m)\n",
    "            n = Concatenate()([n, m])\n",
    "            m = _conv_block(n, dim, acti, bn, res)\n",
    "        else:\n",
    "            m = _conv_block(m, dim, acti, bn, res, do)\n",
    "\n",
    "        return m\n",
    "\n",
    "    i = Input(shape=(input_shape[0], input_shape[1], input_channel_num))\n",
    "    o = _level_block(i, start_ch, depth, inc_rate, activation, dropout, batchnorm, maxpool, upconv, residual)\n",
    "    o = Conv2D(out_ch, 1)(o)\n",
    "    model = Model(inputs=i, outputs=o)\n",
    "\n",
    "    return model"
   ]
  },
  {
   "cell_type": "code",
   "execution_count": 64,
   "metadata": {},
   "outputs": [],
   "source": [
    "input_shape = (513, 513)\n",
    "model = get_model(input_shape)"
   ]
  },
  {
   "cell_type": "code",
   "execution_count": 65,
   "metadata": {},
   "outputs": [
    {
     "name": "stdout",
     "output_type": "stream",
     "text": [
      "__________________________________________________________________________________________________\n",
      "Layer (type)                    Output Shape         Param #     Connected to                     \n",
      "==================================================================================================\n",
      "input_3 (InputLayer)            (None, 513, 513, 1)  0                                            \n",
      "__________________________________________________________________________________________________\n",
      "conv2d_71 (Conv2D)              (None, 513, 513, 64) 640         input_3[0][0]                    \n",
      "__________________________________________________________________________________________________\n",
      "p_re_lu_35 (PReLU)              (None, 513, 513, 64) 64          conv2d_71[0][0]                  \n",
      "__________________________________________________________________________________________________\n",
      "conv2d_72 (Conv2D)              (None, 513, 513, 64) 36928       p_re_lu_35[0][0]                 \n",
      "__________________________________________________________________________________________________\n",
      "batch_normalization_67 (BatchNo (None, 513, 513, 64) 256         conv2d_72[0][0]                  \n",
      "__________________________________________________________________________________________________\n",
      "p_re_lu_36 (PReLU)              (None, 513, 513, 64) 64          batch_normalization_67[0][0]     \n",
      "__________________________________________________________________________________________________\n",
      "conv2d_73 (Conv2D)              (None, 513, 513, 64) 36928       p_re_lu_36[0][0]                 \n",
      "__________________________________________________________________________________________________\n",
      "batch_normalization_68 (BatchNo (None, 513, 513, 64) 256         conv2d_73[0][0]                  \n",
      "__________________________________________________________________________________________________\n",
      "add_35 (Add)                    (None, 513, 513, 64) 0           batch_normalization_68[0][0]     \n",
      "                                                                 p_re_lu_35[0][0]                 \n",
      "__________________________________________________________________________________________________\n",
      "conv2d_74 (Conv2D)              (None, 513, 513, 64) 36928       add_35[0][0]                     \n",
      "__________________________________________________________________________________________________\n",
      "batch_normalization_69 (BatchNo (None, 513, 513, 64) 256         conv2d_74[0][0]                  \n",
      "__________________________________________________________________________________________________\n",
      "p_re_lu_37 (PReLU)              (None, 513, 513, 64) 64          batch_normalization_69[0][0]     \n",
      "__________________________________________________________________________________________________\n",
      "conv2d_75 (Conv2D)              (None, 513, 513, 64) 36928       p_re_lu_37[0][0]                 \n",
      "__________________________________________________________________________________________________\n",
      "batch_normalization_70 (BatchNo (None, 513, 513, 64) 256         conv2d_75[0][0]                  \n",
      "__________________________________________________________________________________________________\n",
      "add_36 (Add)                    (None, 513, 513, 64) 0           batch_normalization_70[0][0]     \n",
      "                                                                 add_35[0][0]                     \n",
      "__________________________________________________________________________________________________\n",
      "conv2d_76 (Conv2D)              (None, 513, 513, 64) 36928       add_36[0][0]                     \n",
      "__________________________________________________________________________________________________\n",
      "batch_normalization_71 (BatchNo (None, 513, 513, 64) 256         conv2d_76[0][0]                  \n",
      "__________________________________________________________________________________________________\n",
      "p_re_lu_38 (PReLU)              (None, 513, 513, 64) 64          batch_normalization_71[0][0]     \n",
      "__________________________________________________________________________________________________\n",
      "conv2d_77 (Conv2D)              (None, 513, 513, 64) 36928       p_re_lu_38[0][0]                 \n",
      "__________________________________________________________________________________________________\n",
      "batch_normalization_72 (BatchNo (None, 513, 513, 64) 256         conv2d_77[0][0]                  \n",
      "__________________________________________________________________________________________________\n",
      "add_37 (Add)                    (None, 513, 513, 64) 0           batch_normalization_72[0][0]     \n",
      "                                                                 add_36[0][0]                     \n",
      "__________________________________________________________________________________________________\n",
      "conv2d_78 (Conv2D)              (None, 513, 513, 64) 36928       add_37[0][0]                     \n",
      "__________________________________________________________________________________________________\n",
      "batch_normalization_73 (BatchNo (None, 513, 513, 64) 256         conv2d_78[0][0]                  \n",
      "__________________________________________________________________________________________________\n",
      "p_re_lu_39 (PReLU)              (None, 513, 513, 64) 64          batch_normalization_73[0][0]     \n",
      "__________________________________________________________________________________________________\n",
      "conv2d_79 (Conv2D)              (None, 513, 513, 64) 36928       p_re_lu_39[0][0]                 \n",
      "__________________________________________________________________________________________________\n",
      "batch_normalization_74 (BatchNo (None, 513, 513, 64) 256         conv2d_79[0][0]                  \n",
      "__________________________________________________________________________________________________\n",
      "add_38 (Add)                    (None, 513, 513, 64) 0           batch_normalization_74[0][0]     \n",
      "                                                                 add_37[0][0]                     \n",
      "__________________________________________________________________________________________________\n",
      "conv2d_80 (Conv2D)              (None, 513, 513, 64) 36928       add_38[0][0]                     \n",
      "__________________________________________________________________________________________________\n",
      "batch_normalization_75 (BatchNo (None, 513, 513, 64) 256         conv2d_80[0][0]                  \n",
      "__________________________________________________________________________________________________\n",
      "p_re_lu_40 (PReLU)              (None, 513, 513, 64) 64          batch_normalization_75[0][0]     \n",
      "__________________________________________________________________________________________________\n",
      "conv2d_81 (Conv2D)              (None, 513, 513, 64) 36928       p_re_lu_40[0][0]                 \n",
      "__________________________________________________________________________________________________\n",
      "batch_normalization_76 (BatchNo (None, 513, 513, 64) 256         conv2d_81[0][0]                  \n",
      "__________________________________________________________________________________________________\n",
      "add_39 (Add)                    (None, 513, 513, 64) 0           batch_normalization_76[0][0]     \n",
      "                                                                 add_38[0][0]                     \n",
      "__________________________________________________________________________________________________\n",
      "conv2d_82 (Conv2D)              (None, 513, 513, 64) 36928       add_39[0][0]                     \n",
      "__________________________________________________________________________________________________\n",
      "batch_normalization_77 (BatchNo (None, 513, 513, 64) 256         conv2d_82[0][0]                  \n",
      "__________________________________________________________________________________________________\n",
      "p_re_lu_41 (PReLU)              (None, 513, 513, 64) 64          batch_normalization_77[0][0]     \n",
      "__________________________________________________________________________________________________\n",
      "conv2d_83 (Conv2D)              (None, 513, 513, 64) 36928       p_re_lu_41[0][0]                 \n",
      "__________________________________________________________________________________________________\n",
      "batch_normalization_78 (BatchNo (None, 513, 513, 64) 256         conv2d_83[0][0]                  \n",
      "__________________________________________________________________________________________________\n",
      "add_40 (Add)                    (None, 513, 513, 64) 0           batch_normalization_78[0][0]     \n",
      "                                                                 add_39[0][0]                     \n",
      "__________________________________________________________________________________________________\n",
      "conv2d_84 (Conv2D)              (None, 513, 513, 64) 36928       add_40[0][0]                     \n",
      "__________________________________________________________________________________________________\n",
      "batch_normalization_79 (BatchNo (None, 513, 513, 64) 256         conv2d_84[0][0]                  \n",
      "__________________________________________________________________________________________________\n",
      "p_re_lu_42 (PReLU)              (None, 513, 513, 64) 64          batch_normalization_79[0][0]     \n",
      "__________________________________________________________________________________________________\n",
      "conv2d_85 (Conv2D)              (None, 513, 513, 64) 36928       p_re_lu_42[0][0]                 \n",
      "__________________________________________________________________________________________________\n",
      "batch_normalization_80 (BatchNo (None, 513, 513, 64) 256         conv2d_85[0][0]                  \n",
      "__________________________________________________________________________________________________\n",
      "add_41 (Add)                    (None, 513, 513, 64) 0           batch_normalization_80[0][0]     \n",
      "                                                                 add_40[0][0]                     \n",
      "__________________________________________________________________________________________________\n",
      "conv2d_86 (Conv2D)              (None, 513, 513, 64) 36928       add_41[0][0]                     \n",
      "__________________________________________________________________________________________________\n",
      "batch_normalization_81 (BatchNo (None, 513, 513, 64) 256         conv2d_86[0][0]                  \n",
      "__________________________________________________________________________________________________\n",
      "p_re_lu_43 (PReLU)              (None, 513, 513, 64) 64          batch_normalization_81[0][0]     \n",
      "__________________________________________________________________________________________________\n",
      "conv2d_87 (Conv2D)              (None, 513, 513, 64) 36928       p_re_lu_43[0][0]                 \n",
      "__________________________________________________________________________________________________\n",
      "batch_normalization_82 (BatchNo (None, 513, 513, 64) 256         conv2d_87[0][0]                  \n",
      "__________________________________________________________________________________________________\n",
      "add_42 (Add)                    (None, 513, 513, 64) 0           batch_normalization_82[0][0]     \n",
      "                                                                 add_41[0][0]                     \n",
      "__________________________________________________________________________________________________\n",
      "conv2d_88 (Conv2D)              (None, 513, 513, 64) 36928       add_42[0][0]                     \n",
      "__________________________________________________________________________________________________\n",
      "batch_normalization_83 (BatchNo (None, 513, 513, 64) 256         conv2d_88[0][0]                  \n",
      "__________________________________________________________________________________________________\n",
      "p_re_lu_44 (PReLU)              (None, 513, 513, 64) 64          batch_normalization_83[0][0]     \n",
      "__________________________________________________________________________________________________\n",
      "conv2d_89 (Conv2D)              (None, 513, 513, 64) 36928       p_re_lu_44[0][0]                 \n",
      "__________________________________________________________________________________________________\n",
      "batch_normalization_84 (BatchNo (None, 513, 513, 64) 256         conv2d_89[0][0]                  \n",
      "__________________________________________________________________________________________________\n",
      "add_43 (Add)                    (None, 513, 513, 64) 0           batch_normalization_84[0][0]     \n",
      "                                                                 add_42[0][0]                     \n",
      "__________________________________________________________________________________________________\n",
      "conv2d_90 (Conv2D)              (None, 513, 513, 64) 36928       add_43[0][0]                     \n",
      "__________________________________________________________________________________________________\n",
      "batch_normalization_85 (BatchNo (None, 513, 513, 64) 256         conv2d_90[0][0]                  \n",
      "__________________________________________________________________________________________________\n",
      "p_re_lu_45 (PReLU)              (None, 513, 513, 64) 64          batch_normalization_85[0][0]     \n",
      "__________________________________________________________________________________________________\n",
      "conv2d_91 (Conv2D)              (None, 513, 513, 64) 36928       p_re_lu_45[0][0]                 \n",
      "__________________________________________________________________________________________________\n",
      "batch_normalization_86 (BatchNo (None, 513, 513, 64) 256         conv2d_91[0][0]                  \n",
      "__________________________________________________________________________________________________\n",
      "add_44 (Add)                    (None, 513, 513, 64) 0           batch_normalization_86[0][0]     \n",
      "                                                                 add_43[0][0]                     \n",
      "__________________________________________________________________________________________________\n",
      "conv2d_92 (Conv2D)              (None, 513, 513, 64) 36928       add_44[0][0]                     \n",
      "__________________________________________________________________________________________________\n",
      "batch_normalization_87 (BatchNo (None, 513, 513, 64) 256         conv2d_92[0][0]                  \n",
      "__________________________________________________________________________________________________\n",
      "p_re_lu_46 (PReLU)              (None, 513, 513, 64) 64          batch_normalization_87[0][0]     \n",
      "__________________________________________________________________________________________________\n",
      "conv2d_93 (Conv2D)              (None, 513, 513, 64) 36928       p_re_lu_46[0][0]                 \n",
      "__________________________________________________________________________________________________\n",
      "batch_normalization_88 (BatchNo (None, 513, 513, 64) 256         conv2d_93[0][0]                  \n",
      "__________________________________________________________________________________________________\n",
      "add_45 (Add)                    (None, 513, 513, 64) 0           batch_normalization_88[0][0]     \n",
      "                                                                 add_44[0][0]                     \n",
      "__________________________________________________________________________________________________\n",
      "conv2d_94 (Conv2D)              (None, 513, 513, 64) 36928       add_45[0][0]                     \n",
      "__________________________________________________________________________________________________\n",
      "batch_normalization_89 (BatchNo (None, 513, 513, 64) 256         conv2d_94[0][0]                  \n",
      "__________________________________________________________________________________________________\n",
      "p_re_lu_47 (PReLU)              (None, 513, 513, 64) 64          batch_normalization_89[0][0]     \n",
      "__________________________________________________________________________________________________\n",
      "conv2d_95 (Conv2D)              (None, 513, 513, 64) 36928       p_re_lu_47[0][0]                 \n",
      "__________________________________________________________________________________________________\n",
      "batch_normalization_90 (BatchNo (None, 513, 513, 64) 256         conv2d_95[0][0]                  \n",
      "__________________________________________________________________________________________________\n",
      "add_46 (Add)                    (None, 513, 513, 64) 0           batch_normalization_90[0][0]     \n",
      "                                                                 add_45[0][0]                     \n",
      "__________________________________________________________________________________________________\n",
      "conv2d_96 (Conv2D)              (None, 513, 513, 64) 36928       add_46[0][0]                     \n",
      "__________________________________________________________________________________________________\n",
      "batch_normalization_91 (BatchNo (None, 513, 513, 64) 256         conv2d_96[0][0]                  \n",
      "__________________________________________________________________________________________________\n",
      "p_re_lu_48 (PReLU)              (None, 513, 513, 64) 64          batch_normalization_91[0][0]     \n",
      "__________________________________________________________________________________________________\n",
      "conv2d_97 (Conv2D)              (None, 513, 513, 64) 36928       p_re_lu_48[0][0]                 \n",
      "__________________________________________________________________________________________________\n",
      "batch_normalization_92 (BatchNo (None, 513, 513, 64) 256         conv2d_97[0][0]                  \n",
      "__________________________________________________________________________________________________\n",
      "add_47 (Add)                    (None, 513, 513, 64) 0           batch_normalization_92[0][0]     \n",
      "                                                                 add_46[0][0]                     \n",
      "__________________________________________________________________________________________________\n",
      "conv2d_98 (Conv2D)              (None, 513, 513, 64) 36928       add_47[0][0]                     \n",
      "__________________________________________________________________________________________________\n",
      "batch_normalization_93 (BatchNo (None, 513, 513, 64) 256         conv2d_98[0][0]                  \n",
      "__________________________________________________________________________________________________\n",
      "p_re_lu_49 (PReLU)              (None, 513, 513, 64) 64          batch_normalization_93[0][0]     \n",
      "__________________________________________________________________________________________________\n",
      "conv2d_99 (Conv2D)              (None, 513, 513, 64) 36928       p_re_lu_49[0][0]                 \n",
      "__________________________________________________________________________________________________\n",
      "batch_normalization_94 (BatchNo (None, 513, 513, 64) 256         conv2d_99[0][0]                  \n",
      "__________________________________________________________________________________________________\n",
      "add_48 (Add)                    (None, 513, 513, 64) 0           batch_normalization_94[0][0]     \n",
      "                                                                 add_47[0][0]                     \n",
      "__________________________________________________________________________________________________\n",
      "conv2d_100 (Conv2D)             (None, 513, 513, 64) 36928       add_48[0][0]                     \n",
      "__________________________________________________________________________________________________\n",
      "batch_normalization_95 (BatchNo (None, 513, 513, 64) 256         conv2d_100[0][0]                 \n",
      "__________________________________________________________________________________________________\n",
      "p_re_lu_50 (PReLU)              (None, 513, 513, 64) 64          batch_normalization_95[0][0]     \n",
      "__________________________________________________________________________________________________\n",
      "conv2d_101 (Conv2D)             (None, 513, 513, 64) 36928       p_re_lu_50[0][0]                 \n",
      "__________________________________________________________________________________________________\n",
      "batch_normalization_96 (BatchNo (None, 513, 513, 64) 256         conv2d_101[0][0]                 \n",
      "__________________________________________________________________________________________________\n",
      "add_49 (Add)                    (None, 513, 513, 64) 0           batch_normalization_96[0][0]     \n",
      "                                                                 add_48[0][0]                     \n",
      "__________________________________________________________________________________________________\n",
      "conv2d_102 (Conv2D)             (None, 513, 513, 64) 36928       add_49[0][0]                     \n",
      "__________________________________________________________________________________________________\n",
      "batch_normalization_97 (BatchNo (None, 513, 513, 64) 256         conv2d_102[0][0]                 \n",
      "__________________________________________________________________________________________________\n",
      "p_re_lu_51 (PReLU)              (None, 513, 513, 64) 64          batch_normalization_97[0][0]     \n",
      "__________________________________________________________________________________________________\n",
      "conv2d_103 (Conv2D)             (None, 513, 513, 64) 36928       p_re_lu_51[0][0]                 \n",
      "__________________________________________________________________________________________________\n",
      "batch_normalization_98 (BatchNo (None, 513, 513, 64) 256         conv2d_103[0][0]                 \n",
      "__________________________________________________________________________________________________\n",
      "add_50 (Add)                    (None, 513, 513, 64) 0           batch_normalization_98[0][0]     \n",
      "                                                                 add_49[0][0]                     \n",
      "__________________________________________________________________________________________________\n",
      "conv2d_104 (Conv2D)             (None, 513, 513, 64) 36928       add_50[0][0]                     \n",
      "__________________________________________________________________________________________________\n",
      "batch_normalization_99 (BatchNo (None, 513, 513, 64) 256         conv2d_104[0][0]                 \n",
      "__________________________________________________________________________________________________\n",
      "add_51 (Add)                    (None, 513, 513, 64) 0           batch_normalization_99[0][0]     \n",
      "                                                                 p_re_lu_35[0][0]                 \n",
      "__________________________________________________________________________________________________\n",
      "conv2d_105 (Conv2D)             (None, 513, 513, 1)  577         add_51[0][0]                     \n",
      "==================================================================================================\n",
      "Total params: 1,229,377\n",
      "Trainable params: 1,225,153\n",
      "Non-trainable params: 4,224\n",
      "__________________________________________________________________________________________________\n"
     ]
    }
   ],
   "source": [
    "model.summary()"
   ]
  },
  {
   "cell_type": "code",
   "execution_count": 66,
   "metadata": {},
   "outputs": [],
   "source": [
    "def boundary_loss(groundtruth, predict):\n",
    "    square_error = (groundtruth - predict)**2\n",
    "    square_error = tf.reduce_sum(square_error, axis=0)\n",
    "    s = tf.reduce_sum(groundtruth, axis=0)\n",
    "    return tf.divide(square_error, s)"
   ]
  },
  {
   "cell_type": "code",
   "execution_count": null,
   "metadata": {},
   "outputs": [],
   "source": []
  },
  {
   "cell_type": "code",
   "execution_count": 13,
   "metadata": {},
   "outputs": [],
   "source": [
    "data_train = data[0]\n",
    "data_val = data[1]\n",
    "data_test = data[2]"
   ]
  },
  {
   "cell_type": "code",
   "execution_count": 14,
   "metadata": {},
   "outputs": [],
   "source": [
    "data_boundaries_dir = 'data_boundary_matrix'\n",
    "if not os.path.exists(data_boundaries_dir):\n",
    "    os.makedirs(data_boundaries_dir)\n",
    "\n",
    "train_dir = os.path.join(data_boundaries_dir, 'train.dat')\n",
    "train_boundaries = []\n",
    "for i in range(len(data_train)):\n",
    "    img = convert_boundaries_to_image(data_train[i], 513, 513)\n",
    "    train_boundaries.append(np.expand_dims(img, axis=0))\n",
    "cache_data(np.asarray(train_boundaries), train_dir)\n",
    "\n",
    "val_dir = os.path.join(data_boundaries_dir, 'val.dat')\n",
    "val_boundaries = []\n",
    "for data in data_val:\n",
    "    img = convert_boundaries_to_image(data, 513, 513)\n",
    "    val_boundaries.append(np.expand_dims(img, axis=0))\n",
    "cache_data(np.asarray(val_boundaries), val_dir)\n",
    "\n",
    "test_dir = os.path.join(data_boundaries_dir, 'test.dat')\n",
    "test_boundaries = []\n",
    "for i in range(len(data_test)):\n",
    "    img = convert_boundaries_to_image(data_test[i], 513, 513)\n",
    "    test_boundaries.append(np.expand_dims(img, axis=0))\n",
    "\n",
    "cache_data(np.asarray(test_boundaries), test_dir)"
   ]
  },
  {
   "cell_type": "code",
   "execution_count": 15,
   "metadata": {},
   "outputs": [],
   "source": [
    "data_train = np.asarray(train_boundaries)\n",
    "data_val = np.asarray(val_boundaries)\n",
    "data_test = np.asarray(test_boundaries)"
   ]
  },
  {
   "cell_type": "code",
   "execution_count": 17,
   "metadata": {},
   "outputs": [],
   "source": [
    "data_train = np.expand_dims(data_train.squeeze(axis=1), axis=-1)"
   ]
  },
  {
   "cell_type": "code",
   "execution_count": 21,
   "metadata": {},
   "outputs": [],
   "source": [
    "data_val = np.expand_dims(data_val.squeeze(axis=1), axis=-1)\n",
    "data_test = np.expand_dims(data_test.squeeze(axis=1), axis=-1)"
   ]
  },
  {
   "cell_type": "code",
   "execution_count": 22,
   "metadata": {},
   "outputs": [
    {
     "data": {
      "text/plain": [
       "((438, 513, 513, 1), (138, 513, 513, 1), (138, 513, 513, 1))"
      ]
     },
     "execution_count": 22,
     "metadata": {},
     "output_type": "execute_result"
    }
   ],
   "source": [
    "data_train.shape, data_val.shape, data_test.shape"
   ]
  },
  {
   "cell_type": "code",
   "execution_count": null,
   "metadata": {},
   "outputs": [],
   "source": []
  },
  {
   "cell_type": "code",
   "execution_count": 30,
   "metadata": {},
   "outputs": [
    {
     "data": {
      "text/plain": [
       "<matplotlib.image.AxesImage at 0x7fc6e97cdac8>"
      ]
     },
     "execution_count": 30,
     "metadata": {},
     "output_type": "execute_result"
    },
    {
     "data": {
      "image/png": "[encoded data removed]",
      "text/plain": [
       "<Figure size 432x288 with 1 Axes>"
      ]
     },
     "metadata": {},
     "output_type": "display_data"
    }
   ],
   "source": [
    "plt.imshow(data_test[13,:,:,0])"
   ]
  },
  {
   "cell_type": "code",
   "execution_count": 26,
   "metadata": {},
   "outputs": [],
   "source": [
    "cache_data(data_train, train_dir)\n",
    "cache_data(data_val, val_dir)\n",
    "cache_data(data_test, test_dir)"
   ]
  },
  {
   "cell_type": "code",
   "execution_count": 77,
   "metadata": {},
   "outputs": [],
   "source": [
    "groundtruth_train = list_train_boundaries\n",
    "groundtruth_val = list_val_boundaries\n",
    "groundtruth_test = list_test_boundaries"
   ]
  },
  {
   "cell_type": "code",
   "execution_count": 82,
   "metadata": {},
   "outputs": [
    {
     "data": {
      "text/plain": [
       "((438, 513, 513), (138, 513, 513), (138, 513, 513))"
      ]
     },
     "execution_count": 82,
     "metadata": {},
     "output_type": "execute_result"
    }
   ],
   "source": [
    "data_train.shape, data_val.shape, data_test.shape"
   ]
  },
  {
   "cell_type": "code",
   "execution_count": 83,
   "metadata": {},
   "outputs": [
    {
     "data": {
      "text/plain": [
       "((438, 513, 513), (138, 513, 513), (138, 513, 513))"
      ]
     },
     "execution_count": 83,
     "metadata": {},
     "output_type": "execute_result"
    }
   ],
   "source": [
    "groundtruth_train.shape, groundtruth_val.shape, groundtruth_test.shape"
   ]
  },
  {
   "cell_type": "code",
   "execution_count": 79,
   "metadata": {},
   "outputs": [],
   "source": [
    "data_train = np.squeeze(data_train, axis=1)\n",
    "data_val = np.squeeze(data_val, axis=1)\n",
    "data_test = np.squeeze(data_test, axis=1)"
   ]
  },
  {
   "cell_type": "code",
   "execution_count": null,
   "metadata": {},
   "outputs": [],
   "source": []
  },
  {
   "cell_type": "code",
   "execution_count": 69,
   "metadata": {},
   "outputs": [],
   "source": [
    "model.compile(loss=boundary_loss, optimizer='adam')"
   ]
  },
  {
   "cell_type": "code",
   "execution_count": 70,
   "metadata": {},
   "outputs": [
    {
     "ename": "ValueError",
     "evalue": "Error when checking input: expected input_3 to have 4 dimensions, but got array with shape (438, 1024, 2)",
     "output_type": "error",
     "traceback": [
      "\u001b[0;31m---------------------------------------------------------------------------\u001b[0m",
      "\u001b[0;31mValueError\u001b[0m                                Traceback (most recent call last)",
      "\u001b[0;32m<ipython-input-70-e764912cc765>\u001b[0m in \u001b[0;36m<module>\u001b[0;34m()\u001b[0m\n\u001b[1;32m      1\u001b[0m model.fit(data_train, groundtruth_train, batch_size=8, epochs=2, verbose=1,\n\u001b[0;32m----> 2\u001b[0;31m           validation_data=(data_val, groundtruth_val))\n\u001b[0m",
      "\u001b[0;32m/usr/local/lib/python3.6/site-packages/keras/engine/training.py\u001b[0m in \u001b[0;36mfit\u001b[0;34m(self, x, y, batch_size, epochs, verbose, callbacks, validation_split, validation_data, shuffle, class_weight, sample_weight, initial_epoch, steps_per_epoch, validation_steps, **kwargs)\u001b[0m\n\u001b[1;32m   1628\u001b[0m             \u001b[0msample_weight\u001b[0m\u001b[0;34m=\u001b[0m\u001b[0msample_weight\u001b[0m\u001b[0;34m,\u001b[0m\u001b[0;34m\u001b[0m\u001b[0m\n\u001b[1;32m   1629\u001b[0m             \u001b[0mclass_weight\u001b[0m\u001b[0;34m=\u001b[0m\u001b[0mclass_weight\u001b[0m\u001b[0;34m,\u001b[0m\u001b[0;34m\u001b[0m\u001b[0m\n\u001b[0;32m-> 1630\u001b[0;31m             batch_size=batch_size)\n\u001b[0m\u001b[1;32m   1631\u001b[0m         \u001b[0;31m# Prepare validation data.\u001b[0m\u001b[0;34m\u001b[0m\u001b[0;34m\u001b[0m\u001b[0m\n\u001b[1;32m   1632\u001b[0m         \u001b[0mdo_validation\u001b[0m \u001b[0;34m=\u001b[0m \u001b[0;32mFalse\u001b[0m\u001b[0;34m\u001b[0m\u001b[0m\n",
      "\u001b[0;32m/usr/local/lib/python3.6/site-packages/keras/engine/training.py\u001b[0m in \u001b[0;36m_standardize_user_data\u001b[0;34m(self, x, y, sample_weight, class_weight, check_array_lengths, batch_size)\u001b[0m\n\u001b[1;32m   1474\u001b[0m                                     \u001b[0mself\u001b[0m\u001b[0;34m.\u001b[0m\u001b[0m_feed_input_shapes\u001b[0m\u001b[0;34m,\u001b[0m\u001b[0;34m\u001b[0m\u001b[0m\n\u001b[1;32m   1475\u001b[0m                                     \u001b[0mcheck_batch_axis\u001b[0m\u001b[0;34m=\u001b[0m\u001b[0;32mFalse\u001b[0m\u001b[0;34m,\u001b[0m\u001b[0;34m\u001b[0m\u001b[0m\n\u001b[0;32m-> 1476\u001b[0;31m                                     exception_prefix='input')\n\u001b[0m\u001b[1;32m   1477\u001b[0m         y = _standardize_input_data(y, self._feed_output_names,\n\u001b[1;32m   1478\u001b[0m                                     \u001b[0moutput_shapes\u001b[0m\u001b[0;34m,\u001b[0m\u001b[0;34m\u001b[0m\u001b[0m\n",
      "\u001b[0;32m/usr/local/lib/python3.6/site-packages/keras/engine/training.py\u001b[0m in \u001b[0;36m_standardize_input_data\u001b[0;34m(data, names, shapes, check_batch_axis, exception_prefix)\u001b[0m\n\u001b[1;32m    111\u001b[0m                         \u001b[0;34m': expected '\u001b[0m \u001b[0;34m+\u001b[0m \u001b[0mnames\u001b[0m\u001b[0;34m[\u001b[0m\u001b[0mi\u001b[0m\u001b[0;34m]\u001b[0m \u001b[0;34m+\u001b[0m \u001b[0;34m' to have '\u001b[0m \u001b[0;34m+\u001b[0m\u001b[0;34m\u001b[0m\u001b[0m\n\u001b[1;32m    112\u001b[0m                         \u001b[0mstr\u001b[0m\u001b[0;34m(\u001b[0m\u001b[0mlen\u001b[0m\u001b[0;34m(\u001b[0m\u001b[0mshape\u001b[0m\u001b[0;34m)\u001b[0m\u001b[0;34m)\u001b[0m \u001b[0;34m+\u001b[0m \u001b[0;34m' dimensions, but got array '\u001b[0m\u001b[0;34m\u001b[0m\u001b[0m\n\u001b[0;32m--> 113\u001b[0;31m                         'with shape ' + str(data_shape))\n\u001b[0m\u001b[1;32m    114\u001b[0m                 \u001b[0;32mif\u001b[0m \u001b[0;32mnot\u001b[0m \u001b[0mcheck_batch_axis\u001b[0m\u001b[0;34m:\u001b[0m\u001b[0;34m\u001b[0m\u001b[0m\n\u001b[1;32m    115\u001b[0m                     \u001b[0mdata_shape\u001b[0m \u001b[0;34m=\u001b[0m \u001b[0mdata_shape\u001b[0m\u001b[0;34m[\u001b[0m\u001b[0;36m1\u001b[0m\u001b[0;34m:\u001b[0m\u001b[0;34m]\u001b[0m\u001b[0;34m\u001b[0m\u001b[0m\n",
      "\u001b[0;31mValueError\u001b[0m: Error when checking input: expected input_3 to have 4 dimensions, but got array with shape (438, 1024, 2)"
     ]
    }
   ],
   "source": [
    "model.fit(data_train, groundtruth_train, batch_size=8, epochs=2, verbose=1,\n",
    "          validation_data=(data_val, groundtruth_val))"
   ]
  },
  {
   "cell_type": "code",
   "execution_count": null,
   "metadata": {},
   "outputs": [],
   "source": []
  }
 ],
 "metadata": {
  "kernelspec": {
   "display_name": "Python 3",
   "language": "python",
   "name": "python3"
  },
  "language_info": {
   "codemirror_mode": {
    "name": "ipython",
    "version": 3
   },
   "file_extension": ".py",
   "mimetype": "text/x-python",
   "name": "python",
   "nbconvert_exporter": "python",
   "pygments_lexer": "ipython3",
   "version": "3.6.8"
  }
 },
 "nbformat": 4,
 "nbformat_minor": 2
}
