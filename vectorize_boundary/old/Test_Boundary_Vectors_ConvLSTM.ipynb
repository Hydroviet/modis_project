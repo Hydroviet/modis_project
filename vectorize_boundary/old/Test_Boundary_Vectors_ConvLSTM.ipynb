{
 "cells": [
  {
   "cell_type": "code",
   "execution_count": 3,
   "metadata": {},
   "outputs": [
    {
     "name": "stderr",
     "output_type": "stream",
     "text": [
      "/usr/local/lib/python3.6/site-packages/h5py/__init__.py:36: FutureWarning: Conversion of the second argument of issubdtype from `float` to `np.floating` is deprecated. In future, it will be treated as `np.float64 == np.dtype(float).type`.\n",
      "  from ._conv import register_converters as _register_converters\n"
     ]
    }
   ],
   "source": [
    "import os\n",
    "import sys\n",
    "import h5py\n",
    "import pickle\n",
    "import numpy as np\n",
    "import pandas as pd\n",
    "import matplotlib.pyplot as plt"
   ]
  },
  {
   "cell_type": "code",
   "execution_count": 4,
   "metadata": {},
   "outputs": [],
   "source": [
    "from modis_utils.misc import cache_data, restore_data"
   ]
  },
  {
   "cell_type": "code",
   "execution_count": null,
   "metadata": {},
   "outputs": [],
   "source": []
  },
  {
   "cell_type": "code",
   "execution_count": 5,
   "metadata": {},
   "outputs": [
    {
     "data": {
      "text/plain": [
       "((598, 1484, 2), (92, 1484, 2))"
      ]
     },
     "execution_count": 5,
     "metadata": {},
     "output_type": "execute_result"
    }
   ],
   "source": [
    "data = restore_data(os.path.join('cache', 'boundary_vectors_ALL_1.dat'))\n",
    "data_train = data[0]\n",
    "data_test = data[1]\n",
    "data_train.shape, data_test.shape"
   ]
  },
  {
   "cell_type": "code",
   "execution_count": 6,
   "metadata": {},
   "outputs": [],
   "source": [
    "def mse(x, y):\n",
    "    if isinstance(x, pd.Series) or isinstance(x, pd.DataFrame):\n",
    "        x = x.values\n",
    "    if isinstance(y, pd.Series) or isinstance(y, pd.DataFrame):\n",
    "        y = y.values\n",
    "    return np.mean((x - y)**2)\n",
    "\n",
    "def mse_1(x, y):\n",
    "    a = (x - y)**2\n",
    "    return np.mean(a, axis=0)\n",
    "\n",
    "def mse_2(x, y):\n",
    "    a = (x - y)**2\n",
    "    b = np.where(a > 30, 0, 1)\n",
    "    c = a*b\n",
    "    return np.sum(c)/np.sum(b)\n",
    "\n",
    "def save_data_pickle(data, path):\n",
    "    with open(path, 'wb') as f:\n",
    "        pickle.dump(data, f)\n",
    "\n",
    "def load_data_pickle(path):\n",
    "    with open(path, 'rb') as f:\n",
    "        return pickle.load(f)"
   ]
  },
  {
   "cell_type": "code",
   "execution_count": null,
   "metadata": {},
   "outputs": [],
   "source": []
  },
  {
   "cell_type": "code",
   "execution_count": 7,
   "metadata": {},
   "outputs": [],
   "source": [
    "convlstm_inference = restore_data('../simple_63/convlstm_predict_boundary_vectors.dat')"
   ]
  },
  {
   "cell_type": "code",
   "execution_count": 8,
   "metadata": {},
   "outputs": [
    {
     "data": {
      "text/plain": [
       "(138, 1657, 2)"
      ]
     },
     "execution_count": 8,
     "metadata": {},
     "output_type": "execute_result"
    }
   ],
   "source": [
    "convlstm_inference.shape"
   ]
  },
  {
   "cell_type": "code",
   "execution_count": 9,
   "metadata": {},
   "outputs": [
    {
     "data": {
      "text/plain": [
       "(92, 1657, 2)"
      ]
     },
     "execution_count": 9,
     "metadata": {},
     "output_type": "execute_result"
    }
   ],
   "source": [
    "convlstm_predict = convlstm_inference[-92:]\n",
    "convlstm_predict.shape"
   ]
  },
  {
   "cell_type": "code",
   "execution_count": 10,
   "metadata": {},
   "outputs": [],
   "source": [
    "pos = [  41,   42,   47,   48,  105,  109,  120,  121,  122,  123,  124,\n",
    "         140,  141,  142,  146,  147,  153,  154,  167,  168,  172,  173,\n",
    "         179,  180,  181,  182,  191,  192,  193,  194,  198,  205,  206,\n",
    "         207,  219,  223,  228,  229,  230,  231,  243,  244,  248,  249,\n",
    "         252,  253,  254,  265,  266,  270,  271,  275,  276,  287,  306,\n",
    "         316,  317,  318,  319,  325,  326,  330,  334,  335,  336,  337,\n",
    "         338,  352,  353,  396,  415,  424,  425,  480,  481,  482,  483,\n",
    "         484,  485,  486,  505,  506,  507,  508,  523,  525,  526,  527,\n",
    "         528,  529,  530,  531,  532,  533,  534,  535,  550,  566,  581,\n",
    "         607,  608,  609,  610,  611,  837,  843,  844,  845,  846,  847,\n",
    "         848,  849,  850,  851,  852,  855,  856,  905,  906,  907,  933,\n",
    "        1184, 1186, 1188, 1267, 1268, 1272, 1273, 1274, 1276, 1277, 1278,\n",
    "        1279, 1473, 1475, 1476, 1477, 1479, 1480, 1481, 1482, 1483, 1484,\n",
    "        1485, 1486, 1487, 1488, 1489, 1490, 1491, 1492, 1493, 1494, 1495,\n",
    "        1496, 1497, 1498, 1499, 1500, 1501, 1502, 1503, 1504, 1505, 1506,\n",
    "        1507, 1508, 1510, 1511, 1515, 1519, 1523, 1535]"
   ]
  },
  {
   "cell_type": "code",
   "execution_count": 11,
   "metadata": {},
   "outputs": [],
   "source": [
    "a = np.zeros(convlstm_predict.shape[1])\n",
    "for x in pos:\n",
    "    a[x] = 1"
   ]
  },
  {
   "cell_type": "code",
   "execution_count": 12,
   "metadata": {},
   "outputs": [
    {
     "data": {
      "text/plain": [
       "(1484, 92, 2)"
      ]
     },
     "execution_count": 12,
     "metadata": {},
     "output_type": "execute_result"
    }
   ],
   "source": [
    "convlstm_predict_1 = []\n",
    "for i in range(convlstm_predict.shape[1]):\n",
    "    if a[i] == 0:\n",
    "        convlstm_predict_1.append(convlstm_predict[:, i, :])\n",
    "convlstm_predict_1 = np.asarray(convlstm_predict_1)\n",
    "convlstm_predict_1.shape"
   ]
  },
  {
   "cell_type": "code",
   "execution_count": 13,
   "metadata": {},
   "outputs": [
    {
     "data": {
      "text/plain": [
       "(92, 1484, 2)"
      ]
     },
     "execution_count": 13,
     "metadata": {},
     "output_type": "execute_result"
    }
   ],
   "source": [
    "convlstm_predict_1 = convlstm_predict_1.transpose((1,0,2))\n",
    "convlstm_predict_1.shape"
   ]
  },
  {
   "cell_type": "code",
   "execution_count": null,
   "metadata": {},
   "outputs": [],
   "source": []
  },
  {
   "cell_type": "code",
   "execution_count": 14,
   "metadata": {},
   "outputs": [
    {
     "data": {
      "text/plain": [
       "15.88795704910348"
      ]
     },
     "execution_count": 14,
     "metadata": {},
     "output_type": "execute_result"
    }
   ],
   "source": [
    "mse(convlstm_predict_1, data_test)"
   ]
  },
  {
   "cell_type": "code",
   "execution_count": 15,
   "metadata": {},
   "outputs": [
    {
     "data": {
      "text/plain": [
       "2.599238867746326"
      ]
     },
     "execution_count": 15,
     "metadata": {},
     "output_type": "execute_result"
    }
   ],
   "source": [
    "mse_2(convlstm_predict_1, data_test)"
   ]
  },
  {
   "cell_type": "code",
   "execution_count": 16,
   "metadata": {},
   "outputs": [
    {
     "data": {
      "text/plain": [
       "92"
      ]
     },
     "execution_count": 16,
     "metadata": {},
     "output_type": "execute_result"
    }
   ],
   "source": [
    "n_tests = convlstm_predict_1.shape[0]\n",
    "n_tests"
   ]
  },
  {
   "cell_type": "code",
   "execution_count": 17,
   "metadata": {},
   "outputs": [],
   "source": [
    "mse_convlstm = []"
   ]
  },
  {
   "cell_type": "code",
   "execution_count": null,
   "metadata": {},
   "outputs": [],
   "source": []
  },
  {
   "cell_type": "code",
   "execution_count": 18,
   "metadata": {},
   "outputs": [],
   "source": [
    "for i in range(n_tests):\n",
    "    mse_convlstm.append(mse(data_test[i], convlstm_predict_1[i]))"
   ]
  },
  {
   "cell_type": "code",
   "execution_count": 19,
   "metadata": {},
   "outputs": [],
   "source": [
    "if not os.path.exists('result'):\n",
    "    os.makedirs('result')"
   ]
  },
  {
   "cell_type": "code",
   "execution_count": 21,
   "metadata": {},
   "outputs": [],
   "source": [
    "def save_data_pickle(data, path):\n",
    "    with open(path, 'wb') as f:\n",
    "        pickle.dump(data, f)\n",
    "\n",
    "def load_data_pickle(path):\n",
    "    with open(path, 'rb') as f:\n",
    "        return pickle.load(f)"
   ]
  },
  {
   "cell_type": "code",
   "execution_count": 23,
   "metadata": {},
   "outputs": [],
   "source": [
    "save_data_pickle(mse_convlstm, 'result/convlstm.dat')"
   ]
  },
  {
   "cell_type": "code",
   "execution_count": 24,
   "metadata": {},
   "outputs": [],
   "source": [
    "save_data_pickle(convlstm_predict_1, 'result/convlstm_predict_1.dat')"
   ]
  },
  {
   "cell_type": "code",
   "execution_count": null,
   "metadata": {},
   "outputs": [],
   "source": []
  }
 ],
 "metadata": {
  "kernelspec": {
   "display_name": "Python 3",
   "language": "python",
   "name": "python3"
  },
  "language_info": {
   "codemirror_mode": {
    "name": "ipython",
    "version": 3
   },
   "file_extension": ".py",
   "mimetype": "text/x-python",
   "name": "python",
   "nbconvert_exporter": "python",
   "pygments_lexer": "ipython3",
   "version": "3.6.5"
  }
 },
 "nbformat": 4,
 "nbformat_minor": 2
}
