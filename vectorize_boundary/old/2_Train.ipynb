{
 "cells": [
  {
   "cell_type": "code",
   "execution_count": 1,
   "metadata": {
    "colab": {
     "base_uri": "https://localhost:8080/",
     "height": 34
    },
    "colab_type": "code",
    "id": "QZTxJ43jjNy7",
    "outputId": "53f1283f-6791-45bb-e868-ef8e93d044c5"
   },
   "outputs": [
    {
     "name": "stdout",
     "output_type": "stream",
     "text": [
      "Drive already mounted at gdrive; to attempt to forcibly remount, call drive.mount(\"gdrive\", force_remount=True).\n"
     ]
    }
   ],
   "source": [
    "from google.colab import drive\n",
    "drive.mount('gdrive')"
   ]
  },
  {
   "cell_type": "code",
   "execution_count": 2,
   "metadata": {
    "colab": {
     "base_uri": "https://localhost:8080/",
     "height": 134
    },
    "colab_type": "code",
    "id": "JzoY9AGdjXGP",
    "outputId": "4e0e33ce-a93e-4857-cad4-9ab002e2dd47"
   },
   "outputs": [
    {
     "name": "stdout",
     "output_type": "stream",
     "text": [
      "Cloning into 'modis_utils'...\n",
      "remote: Enumerating objects: 81, done.\u001b[K\n",
      "remote: Counting objects:   1% (1/81)   \u001b[K\r",
      "remote: Counting objects:   2% (2/81)   \u001b[K\r",
      "remote: Counting objects:   3% (3/81)   \u001b[K\r",
      "remote: Counting objects:   4% (4/81)   \u001b[K\r",
      "remote: Counting objects:   6% (5/81)   \u001b[K\r",
      "remote: Counting objects:   7% (6/81)   \u001b[K\r",
      "remote: Counting objects:   8% (7/81)   \u001b[K\r",
      "remote: Counting objects:   9% (8/81)   \u001b[K\r",
      "remote: Counting objects:  11% (9/81)   \u001b[K\r",
      "remote: Counting objects:  12% (10/81)   \u001b[K\r",
      "remote: Counting objects:  13% (11/81)   \u001b[K\r",
      "remote: Counting objects:  14% (12/81)   \u001b[K\r",
      "remote: Counting objects:  16% (13/81)   \u001b[K\r",
      "remote: Counting objects:  17% (14/81)   \u001b[K\r",
      "remote: Counting objects:  18% (15/81)   \u001b[K\r",
      "remote: Counting objects:  19% (16/81)   \u001b[K\r",
      "remote: Counting objects:  20% (17/81)   \u001b[K\r",
      "remote: Counting objects:  22% (18/81)   \u001b[K\r",
      "remote: Counting objects:  23% (19/81)   \u001b[K\r",
      "remote: Counting objects:  24% (20/81)   \u001b[K\r",
      "remote: Counting objects:  25% (21/81)   \u001b[K\r",
      "remote: Counting objects:  27% (22/81)   \u001b[K\r",
      "remote: Counting objects:  28% (23/81)   \u001b[K\r",
      "remote: Counting objects:  29% (24/81)   \u001b[K\r",
      "remote: Counting objects:  30% (25/81)   \u001b[K\r",
      "remote: Counting objects:  32% (26/81)   \u001b[K\r",
      "remote: Counting objects:  33% (27/81)   \u001b[K\r",
      "remote: Counting objects:  34% (28/81)   \u001b[K\r",
      "remote: Counting objects:  35% (29/81)   \u001b[K\r",
      "remote: Counting objects:  37% (30/81)   \u001b[K\r",
      "remote: Counting objects:  38% (31/81)   \u001b[K\r",
      "remote: Counting objects:  39% (32/81)   \u001b[K\r",
      "remote: Counting objects:  40% (33/81)   \u001b[K\r",
      "remote: Counting objects:  41% (34/81)   \u001b[K\r",
      "remote: Counting objects:  43% (35/81)   \u001b[K\r",
      "remote: Counting objects:  44% (36/81)   \u001b[K\r",
      "remote: Counting objects:  45% (37/81)   \u001b[K\r",
      "remote: Counting objects:  46% (38/81)   \u001b[K\r",
      "remote: Counting objects:  48% (39/81)   \u001b[K\r",
      "remote: Counting objects:  49% (40/81)   \u001b[K\r",
      "remote: Counting objects:  50% (41/81)   \u001b[K\r",
      "remote: Counting objects:  51% (42/81)   \u001b[K\r",
      "remote: Counting objects:  53% (43/81)   \u001b[K\r",
      "remote: Counting objects:  54% (44/81)   \u001b[K\r",
      "remote: Counting objects:  55% (45/81)   \u001b[K\r",
      "remote: Counting objects:  56% (46/81)   \u001b[K\r",
      "remote: Counting objects:  58% (47/81)   \u001b[K\r",
      "remote: Counting objects:  59% (48/81)   \u001b[K\r",
      "remote: Counting objects:  60% (49/81)   \u001b[K\r",
      "remote: Counting objects:  61% (50/81)   \u001b[K\r",
      "remote: Counting objects:  62% (51/81)   \u001b[K\r",
      "remote: Counting objects:  64% (52/81)   \u001b[K\r",
      "remote: Counting objects:  65% (53/81)   \u001b[K\r",
      "remote: Counting objects:  66% (54/81)   \u001b[K\r",
      "remote: Counting objects:  67% (55/81)   \u001b[K\r",
      "remote: Counting objects:  69% (56/81)   \u001b[K\r",
      "remote: Counting objects:  70% (57/81)   \u001b[K\r",
      "remote: Counting objects:  71% (58/81)   \u001b[K\r",
      "remote: Counting objects:  72% (59/81)   \u001b[K\r",
      "remote: Counting objects:  74% (60/81)   \u001b[K\r",
      "remote: Counting objects:  75% (61/81)   \u001b[K\r",
      "remote: Counting objects:  76% (62/81)   \u001b[K\r",
      "remote: Counting objects:  77% (63/81)   \u001b[K\r",
      "remote: Counting objects:  79% (64/81)   \u001b[K\r",
      "remote: Counting objects:  80% (65/81)   \u001b[K\r",
      "remote: Counting objects:  81% (66/81)   \u001b[K\r",
      "remote: Counting objects:  82% (67/81)   \u001b[K\r",
      "remote: Counting objects:  83% (68/81)   \u001b[K\r",
      "remote: Counting objects:  85% (69/81)   \u001b[K\r",
      "remote: Counting objects:  86% (70/81)   \u001b[K\r",
      "remote: Counting objects:  87% (71/81)   \u001b[K\r",
      "remote: Counting objects:  88% (72/81)   \u001b[K\r",
      "remote: Counting objects:  90% (73/81)   \u001b[K\r",
      "remote: Counting objects:  91% (74/81)   \u001b[K\r",
      "remote: Counting objects:  92% (75/81)   \u001b[K\r",
      "remote: Counting objects:  93% (76/81)   \u001b[K\r",
      "remote: Counting objects:  95% (77/81)   \u001b[K\r",
      "remote: Counting objects:  96% (78/81)   \u001b[K\r",
      "remote: Counting objects:  97% (79/81)   \u001b[K\r",
      "remote: Counting objects:  98% (80/81)   \u001b[K\r",
      "remote: Counting objects: 100% (81/81)   \u001b[K\r",
      "remote: Counting objects: 100% (81/81), done.\u001b[K\n",
      "remote: Compressing objects:   1% (1/58)   \u001b[K\r",
      "remote: Compressing objects:   3% (2/58)   \u001b[K\r",
      "remote: Compressing objects:   5% (3/58)   \u001b[K\r",
      "remote: Compressing objects:   6% (4/58)   \u001b[K\r",
      "remote: Compressing objects:   8% (5/58)   \u001b[K\r",
      "remote: Compressing objects:  10% (6/58)   \u001b[K\r",
      "remote: Compressing objects:  12% (7/58)   \u001b[K\r",
      "remote: Compressing objects:  13% (8/58)   \u001b[K\r",
      "remote: Compressing objects:  15% (9/58)   \u001b[K\r",
      "remote: Compressing objects:  17% (10/58)   \u001b[K\r",
      "remote: Compressing objects:  18% (11/58)   \u001b[K\r",
      "remote: Compressing objects:  20% (12/58)   \u001b[K\r",
      "remote: Compressing objects:  22% (13/58)   \u001b[K\r",
      "remote: Compressing objects:  24% (14/58)   \u001b[K\r",
      "remote: Compressing objects:  25% (15/58)   \u001b[K\r",
      "remote: Compressing objects:  27% (16/58)   \u001b[K\r",
      "remote: Compressing objects:  29% (17/58)   \u001b[K\r",
      "remote: Compressing objects:  31% (18/58)   \u001b[K\r",
      "remote: Compressing objects:  32% (19/58)   \u001b[K\r",
      "remote: Compressing objects:  34% (20/58)   \u001b[K\r",
      "remote: Compressing objects:  36% (21/58)   \u001b[K\r",
      "remote: Compressing objects:  37% (22/58)   \u001b[K\r",
      "remote: Compressing objects:  39% (23/58)   \u001b[K\r",
      "remote: Compressing objects:  41% (24/58)   \u001b[K\r",
      "remote: Compressing objects:  43% (25/58)   \u001b[K\r",
      "remote: Compressing objects:  44% (26/58)   \u001b[K\r",
      "remote: Compressing objects:  46% (27/58)   \u001b[K\r",
      "remote: Compressing objects:  48% (28/58)   \u001b[K\r",
      "remote: Compressing objects:  50% (29/58)   \u001b[K\r",
      "remote: Compressing objects:  51% (30/58)   \u001b[K\r",
      "remote: Compressing objects:  53% (31/58)   \u001b[K\r",
      "remote: Compressing objects:  55% (32/58)   \u001b[K\r",
      "remote: Compressing objects:  56% (33/58)   \u001b[K\r",
      "remote: Compressing objects:  58% (34/58)   \u001b[K\r",
      "remote: Compressing objects:  60% (35/58)   \u001b[K\r",
      "remote: Compressing objects:  62% (36/58)   \u001b[K\r",
      "remote: Compressing objects:  63% (37/58)   \u001b[K\r",
      "remote: Compressing objects:  65% (38/58)   \u001b[K\r",
      "remote: Compressing objects:  67% (39/58)   \u001b[K\r",
      "remote: Compressing objects:  68% (40/58)   \u001b[K\r",
      "remote: Compressing objects:  70% (41/58)   \u001b[K\r",
      "remote: Compressing objects:  72% (42/58)   \u001b[K\r",
      "remote: Compressing objects:  74% (43/58)   \u001b[K\r",
      "remote: Compressing objects:  75% (44/58)   \u001b[K\r",
      "remote: Compressing objects:  77% (45/58)   \u001b[K\r",
      "remote: Compressing objects:  79% (46/58)   \u001b[K\r",
      "remote: Compressing objects:  81% (47/58)   \u001b[K\r",
      "remote: Compressing objects:  82% (48/58)   \u001b[K\r",
      "remote: Compressing objects:  84% (49/58)   \u001b[K\r",
      "remote: Compressing objects:  86% (50/58)   \u001b[K\r",
      "remote: Compressing objects:  87% (51/58)   \u001b[K\r",
      "remote: Compressing objects:  89% (52/58)   \u001b[K\r",
      "remote: Compressing objects:  91% (53/58)   \u001b[K\r",
      "remote: Compressing objects:  93% (54/58)   \u001b[K\r",
      "remote: Compressing objects:  94% (55/58)   \u001b[K\r",
      "remote: Compressing objects:  96% (56/58)   \u001b[K\r",
      "remote: Compressing objects:  98% (57/58)   \u001b[K\r",
      "remote: Compressing objects: 100% (58/58)   \u001b[K\r",
      "remote: Compressing objects: 100% (58/58), done.\u001b[K\n",
      "Receiving objects:   0% (1/564)   \r",
      "Receiving objects:   1% (6/564)   \r",
      "Receiving objects:   2% (12/564)   \r",
      "Receiving objects:   3% (17/564)   \r",
      "Receiving objects:   4% (23/564)   \r",
      "Receiving objects:   5% (29/564)   \r",
      "Receiving objects:   6% (34/564)   \r",
      "Receiving objects:   7% (40/564)   \r",
      "Receiving objects:   8% (46/564)   \r",
      "Receiving objects:   9% (51/564)   \r",
      "Receiving objects:  10% (57/564)   \r",
      "Receiving objects:  11% (63/564)   \r",
      "Receiving objects:  12% (68/564)   \r",
      "Receiving objects:  13% (74/564)   \r",
      "Receiving objects:  14% (79/564)   \r",
      "Receiving objects:  15% (85/564)   \r",
      "Receiving objects:  16% (91/564)   \r",
      "Receiving objects:  17% (96/564)   \r",
      "Receiving objects:  18% (102/564)   \r",
      "Receiving objects:  19% (108/564)   \r",
      "Receiving objects:  20% (113/564)   \r",
      "Receiving objects:  21% (119/564)   \r",
      "Receiving objects:  22% (125/564)   \r",
      "Receiving objects:  23% (130/564)   \r",
      "Receiving objects:  24% (136/564)   \r",
      "Receiving objects:  25% (141/564)   \r",
      "Receiving objects:  26% (147/564)   \r",
      "Receiving objects:  27% (153/564)   \r",
      "Receiving objects:  28% (158/564)   \r",
      "Receiving objects:  29% (164/564)   \r",
      "Receiving objects:  30% (170/564)   \r",
      "Receiving objects:  31% (175/564)   \r",
      "Receiving objects:  32% (181/564)   \r",
      "Receiving objects:  33% (187/564)   \r",
      "Receiving objects:  34% (192/564)   \r",
      "Receiving objects:  35% (198/564)   \r",
      "Receiving objects:  36% (204/564)   \r",
      "Receiving objects:  37% (209/564)   \r",
      "Receiving objects:  38% (215/564)   \r",
      "Receiving objects:  39% (220/564)   \r",
      "Receiving objects:  40% (226/564)   \r",
      "Receiving objects:  41% (232/564)   \r",
      "Receiving objects:  42% (237/564)   \r",
      "Receiving objects:  43% (243/564)   \r",
      "Receiving objects:  44% (249/564)   \r",
      "Receiving objects:  45% (254/564)   \r",
      "Receiving objects:  46% (260/564)   \r",
      "Receiving objects:  47% (266/564)   \r",
      "Receiving objects:  48% (271/564)   \r",
      "Receiving objects:  49% (277/564)   \r",
      "Receiving objects:  50% (282/564)   \r",
      "Receiving objects:  51% (288/564)   \r",
      "Receiving objects:  52% (294/564)   \r",
      "Receiving objects:  53% (299/564)   \r",
      "Receiving objects:  54% (305/564)   \r",
      "Receiving objects:  55% (311/564)   \r",
      "Receiving objects:  56% (316/564)   \r",
      "Receiving objects:  57% (322/564)   \r",
      "Receiving objects:  58% (328/564)   \r",
      "Receiving objects:  59% (333/564)   \r",
      "Receiving objects:  60% (339/564)   \r",
      "Receiving objects:  61% (345/564)   \r",
      "Receiving objects:  62% (350/564)   \r",
      "Receiving objects:  63% (356/564)   \r",
      "Receiving objects:  64% (361/564)   \r",
      "Receiving objects:  65% (367/564)   \r",
      "Receiving objects:  66% (373/564)   \r",
      "Receiving objects:  67% (378/564)   \r",
      "Receiving objects:  68% (384/564)   \r",
      "Receiving objects:  69% (390/564)   \r",
      "Receiving objects:  70% (395/564)   \r",
      "Receiving objects:  71% (401/564)   \r",
      "Receiving objects:  72% (407/564)   \r",
      "Receiving objects:  73% (412/564)   \r",
      "Receiving objects:  74% (418/564)   \r",
      "Receiving objects:  75% (423/564)   \r",
      "Receiving objects:  76% (429/564)   \r",
      "Receiving objects:  77% (435/564)   \r",
      "Receiving objects:  78% (440/564)   \r",
      "Receiving objects:  79% (446/564)   \r",
      "Receiving objects:  80% (452/564)   \r",
      "Receiving objects:  81% (457/564)   \r",
      "Receiving objects:  82% (463/564)   \r",
      "Receiving objects:  83% (469/564)   \r",
      "Receiving objects:  84% (474/564)   \r",
      "Receiving objects:  85% (480/564)   \r",
      "Receiving objects:  86% (486/564)   \r",
      "Receiving objects:  87% (491/564)   \r",
      "Receiving objects:  88% (497/564)   \r",
      "Receiving objects:  89% (502/564)   \r",
      "remote: Total 564 (delta 45), reused 52 (delta 23), pack-reused 483\u001b[K\n",
      "Receiving objects:  90% (508/564)   \r",
      "Receiving objects:  91% (514/564)   \r",
      "Receiving objects:  92% (519/564)   \r",
      "Receiving objects:  93% (525/564)   \r",
      "Receiving objects:  94% (531/564)   \r",
      "Receiving objects:  95% (536/564)   \r",
      "Receiving objects:  96% (542/564)   \r",
      "Receiving objects:  97% (548/564)   \r",
      "Receiving objects:  98% (553/564)   \r",
      "Receiving objects:  99% (559/564)   \r",
      "Receiving objects: 100% (564/564)   \r",
      "Receiving objects: 100% (564/564), 137.53 KiB | 3.20 MiB/s, done.\n",
      "Resolving deltas:   0% (0/369)   \r",
      "Resolving deltas:   1% (5/369)   \r",
      "Resolving deltas:   7% (26/369)   \r",
      "Resolving deltas:  12% (45/369)   \r",
      "Resolving deltas:  13% (51/369)   \r",
      "Resolving deltas:  20% (75/369)   \r",
      "Resolving deltas:  33% (124/369)   \r",
      "Resolving deltas:  34% (126/369)   \r",
      "Resolving deltas:  35% (132/369)   \r",
      "Resolving deltas:  39% (147/369)   \r",
      "Resolving deltas:  44% (164/369)   \r",
      "Resolving deltas:  45% (167/369)   \r",
      "Resolving deltas:  51% (190/369)   \r",
      "Resolving deltas:  56% (207/369)   \r",
      "Resolving deltas:  57% (213/369)   \r",
      "Resolving deltas:  70% (261/369)   \r",
      "Resolving deltas:  71% (264/369)   \r",
      "Resolving deltas:  81% (299/369)   \r",
      "Resolving deltas:  82% (306/369)   \r",
      "Resolving deltas:  85% (314/369)   \r",
      "Resolving deltas:  86% (319/369)   \r",
      "Resolving deltas:  87% (322/369)   \r",
      "Resolving deltas:  91% (339/369)   \r",
      "Resolving deltas:  92% (340/369)   \r",
      "Resolving deltas:  93% (346/369)   \r",
      "Resolving deltas:  94% (348/369)   \r",
      "Resolving deltas:  95% (353/369)   \r",
      "Resolving deltas:  96% (355/369)   \r",
      "Resolving deltas: 100% (369/369)   \r",
      "Resolving deltas: 100% (369/369), done.\n"
     ]
    }
   ],
   "source": [
    "gdrive_dir = 'gdrive/My Drive/Colab'\n",
    "!rm -rf modis_utils\n",
    "!git clone https://github.com/lamductan/modis_utils.git"
   ]
  },
  {
   "cell_type": "code",
   "execution_count": 3,
   "metadata": {
    "colab": {
     "base_uri": "https://localhost:8080/",
     "height": 168
    },
    "colab_type": "code",
    "id": "h22tLkssjbmJ",
    "outputId": "0957c21b-1e3f-4131-fccd-8cdda3a29673"
   },
   "outputs": [
    {
     "name": "stdout",
     "output_type": "stream",
     "text": [
      "Requirement already satisfied: rasterio in /usr/local/lib/python3.6/dist-packages (1.0.21)\n",
      "Requirement already satisfied: affine in /usr/local/lib/python3.6/dist-packages (from rasterio) (2.2.2)\n",
      "Requirement already satisfied: attrs in /usr/local/lib/python3.6/dist-packages (from rasterio) (18.2.0)\n",
      "Requirement already satisfied: snuggs>=1.4.1 in /usr/local/lib/python3.6/dist-packages (from rasterio) (1.4.3)\n",
      "Requirement already satisfied: cligj>=0.5 in /usr/local/lib/python3.6/dist-packages (from rasterio) (0.5.0)\n",
      "Requirement already satisfied: click-plugins in /usr/local/lib/python3.6/dist-packages (from rasterio) (1.0.4)\n",
      "Requirement already satisfied: numpy in /usr/local/lib/python3.6/dist-packages (from rasterio) (1.14.6)\n",
      "Requirement already satisfied: click<8,>=4.0 in /usr/local/lib/python3.6/dist-packages (from rasterio) (7.0)\n",
      "Requirement already satisfied: pyparsing in /usr/local/lib/python3.6/dist-packages (from snuggs>=1.4.1->rasterio) (2.3.1)\n"
     ]
    }
   ],
   "source": [
    "!pip install rasterio"
   ]
  },
  {
   "cell_type": "code",
   "execution_count": 0,
   "metadata": {
    "colab": {},
    "colab_type": "code",
    "id": "jXN8C3CIi5Cv"
   },
   "outputs": [],
   "source": [
    "import os\n",
    "from scipy import misc\n",
    "from matplotlib import pyplot as plt\n",
    "from shutil import make_archive, unpack_archive, copy\n",
    "\n",
    "import tensorflow as tf\n",
    "from tensorflow.python.keras import backend as K\n",
    "from tensorflow.python.keras.utils import plot_model\n",
    "from tensorflow.python.keras.callbacks import ModelCheckpoint\n",
    "from tensorflow.python.keras.callbacks import LearningRateScheduler, CSVLogger\n",
    "\n",
    "from modis_utils.misc import restore_data\n",
    "from modis_utils.model.loss_function import PSNRLoss, lossSSIM, SSIM, step_decay\n",
    "from modis_utils.model.loss_function import mse_with_mask_tf, mse_with_mask_tf_1, mse_with_mask"
   ]
  },
  {
   "cell_type": "code",
   "execution_count": 0,
   "metadata": {
    "colab": {},
    "colab_type": "code",
    "id": "xG7qKsyGjkJE"
   },
   "outputs": [],
   "source": [
    "if not os.path.exists('data_file'):\n",
    "    unpack_archive(os.path.join(gdrive_dir, 'data_file.zip'), '.')\n",
    "if not os.path.exists('masked_data'):\n",
    "    unpack_archive(os.path.join(gdrive_dir, 'masked_data.zip'), '.')\n",
    "if not os.path.exists('preprocessed_data'):\n",
    "    unpack_archive(os.path.join(gdrive_dir, 'preprocessed_data.zip'), '.')\n",
    "if not os.path.exists('data_augment_merged'):\n",
    "    unpack_archive(os.path.join(gdrive_dir, 'data_augment_merged.zip'), '.')"
   ]
  },
  {
   "cell_type": "markdown",
   "metadata": {
    "colab_type": "text",
    "id": "UkCtHChoi5C1"
   },
   "source": [
    "# Parameters"
   ]
  },
  {
   "cell_type": "code",
   "execution_count": 0,
   "metadata": {
    "colab": {},
    "colab_type": "code",
    "id": "6yX5KJ1si5C2"
   },
   "outputs": [],
   "source": [
    "config_path = 'config.dat'\n",
    "config_params = restore_data(os.path.join(gdrive_dir, config_path))"
   ]
  },
  {
   "cell_type": "code",
   "execution_count": 0,
   "metadata": {
    "colab": {},
    "colab_type": "code",
    "id": "GMR7kK2Xi5C5"
   },
   "outputs": [],
   "source": [
    "lr = config_params['lr']"
   ]
  },
  {
   "cell_type": "code",
   "execution_count": 0,
   "metadata": {
    "colab": {},
    "colab_type": "code",
    "id": "aJ7ysg91i5C8"
   },
   "outputs": [],
   "source": [
    "training = True\n",
    "crop_size = config_params['crop_size']\n",
    "input_timesteps = config_params['input_timesteps']\n",
    "output_timesteps = config_params['output_timesteps']\n",
    "batch_size = config_params['batch_size']\n",
    "compile_params = config_params['compile_params']\n",
    "model_name = config_params['model_name']\n",
    "preprocessed_type = config_params['preprocessed_type']\n",
    "modis_product = config_params['modis_product']\n",
    "monitor = config_params['monitor']\n",
    "monitor_mode = config_params['monitor_mode']\n",
    "resize_input = config_params['resize_input']\n",
    "\n",
    "raw_data_dir = config_params['raw_data_dir']\n",
    "reservoir_index = config_params['reservoir_index']\n",
    "used_band = config_params['used_band']\n",
    "year_range = config_params['year_range']\n",
    "model_keras = config_params['model_keras']\n",
    "original_batch_size = config_params['original_batch_size']\n",
    "\n",
    "colab = True\n",
    "TPU_FLAG = True\n",
    "\n",
    "epochs = 20"
   ]
  },
  {
   "cell_type": "code",
   "execution_count": 17,
   "metadata": {
    "colab": {
     "base_uri": "https://localhost:8080/",
     "height": 50
    },
    "colab_type": "code",
    "id": "XSzt5OXBvr0f",
    "outputId": "fa642f6d-de63-40c1-aa85-57c69ffcc36b"
   },
   "outputs": [
    {
     "name": "stdout",
     "output_type": "stream",
     "text": [
      "Use TPU\n",
      "grpc://10.106.249.138:8470\n"
     ]
    }
   ],
   "source": [
    "try:\n",
    "    TPU_WORKER = 'grpc://' + os.environ['COLAB_TPU_ADDR']\n",
    "    print('Use TPU')\n",
    "    print(TPU_WORKER)\n",
    "    TPU_FLAG = True\n",
    "except:\n",
    "    TPU_FLAG = False\n",
    "    TPU_WORKER = None\n",
    "    print('Use GPU')"
   ]
  },
  {
   "cell_type": "markdown",
   "metadata": {
    "colab_type": "text",
    "id": "YbWqFmh_i5C_"
   },
   "source": [
    "# End Parameters"
   ]
  },
  {
   "cell_type": "code",
   "execution_count": 0,
   "metadata": {
    "colab": {},
    "colab_type": "code",
    "id": "JI2B28m7i5C_"
   },
   "outputs": [],
   "source": [
    "from modis_utils.modis_utils import ModisUtils"
   ]
  },
  {
   "cell_type": "code",
   "execution_count": 0,
   "metadata": {
    "colab": {},
    "colab_type": "code",
    "id": "ogGXvnDOi5DD"
   },
   "outputs": [],
   "source": [
    "modis_utils = ModisUtils(\n",
    "    raw_data_dir=raw_data_dir,\n",
    "    modis_product=modis_product,\n",
    "    reservoir_index=reservoir_index,\n",
    "    preprocessed_type=preprocessed_type,\n",
    "    used_band=used_band,\n",
    "    crop_size=crop_size,\n",
    "    input_timesteps=input_timesteps,\n",
    "    output_timesteps=output_timesteps,\n",
    "    year_range=year_range,\n",
    "    model_name=model_name,\n",
    "    batch_size=batch_size,\n",
    "    model_keras=model_keras,\n",
    "    compile_params=compile_params,\n",
    "    original_batch_size=original_batch_size,\n",
    "    TPU_FLAG=TPU_FLAG,\n",
    "    training=training,\n",
    "    monitor=monitor,\n",
    "    monitor_mode=monitor_mode,\n",
    "    resize_input=resize_input)"
   ]
  },
  {
   "cell_type": "code",
   "execution_count": 12,
   "metadata": {
    "colab": {
     "base_uri": "https://localhost:8080/",
     "height": 34
    },
    "colab_type": "code",
    "id": "8gEqzhTFsXRK",
    "outputId": "1c01f930-8ad4-4d23-cafe-b62b5e987c63"
   },
   "outputs": [
    {
     "data": {
      "text/plain": [
       "12288"
      ]
     },
     "execution_count": 12,
     "metadata": {
      "tags": []
     },
     "output_type": "execute_result"
    }
   ],
   "source": [
    "modis_utils._num_training_samples"
   ]
  },
  {
   "cell_type": "code",
   "execution_count": 13,
   "metadata": {
    "colab": {
     "base_uri": "https://localhost:8080/",
     "height": 138
    },
    "colab_type": "code",
    "id": "FmNFqbgni5DF",
    "outputId": "735c3199-4918-4147-da12-ef5df1c5d5ff"
   },
   "outputs": [
    {
     "name": "stdout",
     "output_type": "stream",
     "text": [
      "WARNING:tensorflow:From /usr/local/lib/python3.6/dist-packages/tensorflow/python/ops/resource_variable_ops.py:435: colocate_with (from tensorflow.python.framework.ops) is deprecated and will be removed in a future version.\n",
      "Instructions for updating:\n",
      "Colocations handled automatically by placer.\n",
      "WARNING:tensorflow:From /content/modis_utils/model/loss_function.py:45: to_float (from tensorflow.python.ops.math_ops) is deprecated and will be removed in a future version.\n",
      "Instructions for updating:\n",
      "Use tf.cast instead.\n"
     ]
    }
   ],
   "source": [
    "model = modis_utils.create_model()"
   ]
  },
  {
   "cell_type": "code",
   "execution_count": 14,
   "metadata": {
    "colab": {
     "base_uri": "https://localhost:8080/",
     "height": 538
    },
    "colab_type": "code",
    "id": "wjv0YATWi5DI",
    "outputId": "ad06f475-35d3-4766-c3e6-9116940f10dd"
   },
   "outputs": [
    {
     "name": "stdout",
     "output_type": "stream",
     "text": [
      "_________________________________________________________________\n",
      "Layer (type)                 Output Shape              Param #   \n",
      "=================================================================\n",
      "seed (InputLayer)            (None, 12, 32, 32, 1)     0         \n",
      "_________________________________________________________________\n",
      "conv_lst_m2d (ConvLSTM2D)    (None, 12, 32, 32, 128)   594944    \n",
      "_________________________________________________________________\n",
      "batch_normalization_v1 (Batc (None, 12, 32, 32, 128)   512       \n",
      "_________________________________________________________________\n",
      "conv_lst_m2d_1 (ConvLSTM2D)  (None, 12, 32, 32, 128)   1180160   \n",
      "_________________________________________________________________\n",
      "batch_normalization_v1_1 (Ba (None, 12, 32, 32, 128)   512       \n",
      "_________________________________________________________________\n",
      "conv_lst_m2d_2 (ConvLSTM2D)  (None, 12, 32, 32, 128)   1180160   \n",
      "_________________________________________________________________\n",
      "batch_normalization_v1_2 (Ba (None, 12, 32, 32, 128)   512       \n",
      "_________________________________________________________________\n",
      "conv_lst_m2d_3 (ConvLSTM2D)  (None, 12, 32, 32, 128)   1180160   \n",
      "_________________________________________________________________\n",
      "batch_normalization_v1_3 (Ba (None, 12, 32, 32, 128)   512       \n",
      "_________________________________________________________________\n",
      "conv_lst_m2d_4 (ConvLSTM2D)  (None, 12, 32, 32, 128)   1180160   \n",
      "_________________________________________________________________\n",
      "batch_normalization_v1_4 (Ba (None, 12, 32, 32, 128)   512       \n",
      "_________________________________________________________________\n",
      "time_distributed (TimeDistri (None, 12, 32, 32, 1)     1153      \n",
      "=================================================================\n",
      "Total params: 5,319,297\n",
      "Trainable params: 5,318,017\n",
      "Non-trainable params: 1,280\n",
      "_________________________________________________________________\n"
     ]
    }
   ],
   "source": [
    "modis_utils.summary_model()"
   ]
  },
  {
   "cell_type": "code",
   "execution_count": 15,
   "metadata": {
    "colab": {
     "base_uri": "https://localhost:8080/",
     "height": 867
    },
    "colab_type": "code",
    "id": "56_Nbb2vi5DN",
    "outputId": "478d74e1-4c57-40f2-a77c-56321e48be22"
   },
   "outputs": [
    {
     "data": {
      "image/png": "[encoded data removed]",
      "text/plain": [
       "<Figure size 1080x1080 with 1 Axes>"
      ]
     },
     "metadata": {
      "tags": []
     },
     "output_type": "display_data"
    }
   ],
   "source": [
    "modis_utils.plot_model()"
   ]
  },
  {
   "cell_type": "code",
   "execution_count": 0,
   "metadata": {
    "colab": {},
    "colab_type": "code",
    "id": "yxMYHrm4i5DP"
   },
   "outputs": [],
   "source": [
    "modis_utils.train(epochs=epochs, TPU_WORKER=TPU_WORKER)"
   ]
  },
  {
   "cell_type": "code",
   "execution_count": 24,
   "metadata": {
    "colab": {
     "base_uri": "https://localhost:8080/",
     "height": 34
    },
    "colab_type": "code",
    "id": "6E1BeQbcsLwb",
    "outputId": "5aa83d39-0ef2-4f8d-8455-796ce5aaf14a"
   },
   "outputs": [
    {
     "data": {
      "text/plain": [
       "'gdrive/My Drive/Colab/weights-02.h5'"
      ]
     },
     "execution_count": 24,
     "metadata": {
      "tags": []
     },
     "output_type": "execute_result"
    }
   ],
   "source": [
    "copy(modis_utils.model_path, gdrive_dir)"
   ]
  },
  {
   "cell_type": "code",
   "execution_count": 0,
   "metadata": {
    "colab": {},
    "colab_type": "code",
    "id": "S-ZGgSrXy2Gh"
   },
   "outputs": [],
   "source": []
  }
 ],
 "metadata": {
  "accelerator": "TPU",
  "colab": {
   "collapsed_sections": [],
   "name": "2_Train.ipynb",
   "provenance": [],
   "toc_visible": true,
   "version": "0.3.2"
  },
  "kernelspec": {
   "display_name": "Python 3",
   "language": "python",
   "name": "python3"
  },
  "language_info": {
   "codemirror_mode": {
    "name": "ipython",
    "version": 3
   },
   "file_extension": ".py",
   "mimetype": "text/x-python",
   "name": "python",
   "nbconvert_exporter": "python",
   "pygments_lexer": "ipython3",
   "version": "3.6.5"
  }
 },
 "nbformat": 4,
 "nbformat_minor": 1
}
